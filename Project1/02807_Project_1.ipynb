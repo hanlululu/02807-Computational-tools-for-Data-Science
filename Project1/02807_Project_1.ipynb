{
 "cells": [
  {
   "cell_type": "markdown",
   "source": [
    "<a href=\"https://colab.research.google.com/github/hanlululu/02807-Computational-tools-for-Data-Science/blob/main/Project1/02807_Project_1.ipynb\" target=\"_parent\"><img src=\"https://colab.research.google.com/assets/colab-badge.svg\" alt=\"Open In Colab\"/></a>"
   ],
   "metadata": {
    "colab_type": "text",
    "id": "view-in-github"
   }
  },
  {
   "cell_type": "markdown",
   "source": [
    "# 02807: Project 1\r\n",
    " \r\n",
    "## Practical information\r\n",
    " \r\n",
    "* This project must be completed in groups of 3 students.\r\n",
    "    * The group must be registered on the course site on DTU Learn: My Course > Groups\r\n",
    "* This project must be handed in as a jupyter notebook to the course site on DTU Learn. \r\n",
    "    * Go to the Course Content > Assignments tab to upload your submission. \r\n",
    "* This project is due on Monday, November 1, 20:00.\r\n",
    "\r\n",
    "## Submission rules\r\n",
    "\r\n",
    "* Each group has to hand in *one* notebook (`.ipynb`) with their solutions, including a filled out Contribution table (see below).\r\n",
    "* Your solution must be written in Python.\r\n",
    "* For each question you should use the cells provided (\"`# your code goes here`\") for your solution\r\n",
    "    * It is allowed to add code cells within a question block, but consider if it's really necessary.\r\n",
    "* You should not remove the problem statements, and you should not modify the structure of the notebook.\r\n",
    "* Your notebook should be runnable and readable from top to bottom.\r\n",
    "    * Meaning that your code cells work when run in order (from top to bottom).\r\n",
    "    * Output of any cell depends only on itself and cells above it.\r\n",
    "* Your notebook should be submitted after having been run from top to bottom.\r\n",
    "    * This means outputs are interpretable without necessarily running your cells.\r\n",
    "    * The simplest way to achieve this is using the jupyter menu item Kernel > Restart & Run All just prior to submission. If any cell fails when you do this, your notebook is not ready for submission.\r\n",
    "* Failure to comply may make it impossible for us to evaluate your submission properly, which will likely negatively impact the points awarded.\r\n",
    "    \r\n",
    " \r\n",
    "## Colaboration policy\r\n",
    " \r\n",
    "* It is not allowed to collaborate on the exercises with students outside your group, except for discussing the text of the exercise with teachers and fellow students enrolled on the course in the same semester. \r\n",
    "* It is not allowed to exchange, hand-over or in any other way communicate solutions or parts of solutions to the exercises. \r\n",
    "* It is not allowed to use solutions from similar courses, or solutions found elsewhere."
   ],
   "metadata": {
    "id": "PlsPJUw7wCWZ"
   }
  },
  {
   "cell_type": "markdown",
   "source": [
    "## Contribution table and grading\r\n",
    "\r\n",
    "* The total amount of points in the project is 110.\r\n",
    "* You have to indicate who has solved each part of each exercise in a **contribution table**. \r\n",
    "* The following is an example of a contributions table:\r\n",
    "\r\n",
    "|        | Exercise 1 | Exercise 2 | Exercise 3 | Exercise 4 |\r\n",
    "|--------|------------|------------|------------|------------|\r\n",
    "| **Part 1** | John       |    Mary        |     Ann       |   Mary, Ann         |\r\n",
    "| **Part 2** |     Mary       |    Mary        |   Ann         |    John, Ann        |\r\n",
    "| **Part 3** |     John, Mary, Ann       |      John, Ann      |   John         | **n.a.**      |\r\n",
    "| **Part 4** | **n.a.**       |  Ann          |     John, Mary       | **n.a.**       |\r\n",
    "| **Part 5** | **n.a.**     | John, Mary, Ann           | John       | **n.a.**       |\r\n",
    "\r\n",
    "* A group member can take credit for solving a part of an exercise only if they have contributed **substantially** to the solution. \r\n",
    "    * Simple contributions, such as correcting a small bug or double-checking the results of functions, are not sufficient for taking credit for a solution.\r\n",
    "    * Several group members can take credit for the same solution if they all have contributed substantially to it.\r\n",
    "* Each group member must contribute **at least 50 points**. \r\n",
    "    * If no name is provided for an exercise's part, **all group members** are considered contributors to it.\r\n",
    "* Group members should decide amongst themselves how to collaborate on the project to meet the above-mentioned constraints.  \r\n",
    "* Scores are individual. The score $\\text{score}(m)$ for a group member $m$ ranges from 0 to 10 and is calculated as follows: \r\n",
    "\r\n",
    "  * $\\text{individual-score}(m) = \\frac{\\text{total number of points for the parts correctly solved by }m}{\\text{total number of points for the parts contributed by }m}$\r\n",
    "\r\n",
    "  * $\\text{group-score} = \\frac{\\text{total number of points correctly solved by any group member}}{\\text{total number of points in the project}}$\r\n",
    "\r\n",
    "  * $\\text{score}(m) =  7.5 \\cdot \\text{individual-score}(m) + 2.5 \\cdot \\text{group-score}$\r\n",
    "\r\n",
    "* **Example**: in the contribution table above, suppose that all parts are solved correctly except for those of Exercise 4, which are both wrong. Then Ann's score is calculated as follows:\r\n",
    "\r\n",
    "  * $\\text{individual-score}(Ann) = \\frac{2.5+12.5+12.5+2.5+15+5}{2.5+12.5+12.5+2.5+15+5 + 10 + 10} = \\frac{50}{70} = 0.714$\r\n",
    "\r\n",
    "  * $\\text{group-score} = \\frac{90}{110} = 0.818$\r\n",
    "\r\n",
    "  * $\\text{score}(Ann) = 7.5\\cdot 0.714 + 2.5 \\cdot 0.818 = 7.4$\r\n"
   ],
   "metadata": {
    "id": "ZP30rwxHDQyG"
   }
  },
  {
   "cell_type": "markdown",
   "source": [
    "# Group declaration table \r\n",
    "\r\n",
    "This table must be filled before submission.\r\n",
    "\r\n"
   ],
   "metadata": {
    "id": "vklet8XdRGVV"
   }
  },
  {
   "cell_type": "code",
   "execution_count": 1,
   "source": [
    "import pandas as pd\r\n",
    "\r\n",
    "d = {'Exercise 1' : [\"\", \"\", \"\", \"\", \"\"], \r\n",
    "     'Exercise 2' : [\"\", \"\", \"\", \"\", \"\"],\r\n",
    "     'Exercise 3' : [\"\", \"\", \"\", \"\", \"\"], \r\n",
    "     'Exercise 4' : [\"\", \"\", \"\", \"\", \"\"],\r\n",
    "     } \r\n",
    "  \r\n",
    "ct = pd.DataFrame(d, index =['Part 1','Part 2','Part 3','Part 4','Part 5']) \r\n",
    "\r\n",
    "ct"
   ],
   "outputs": [
    {
     "output_type": "execute_result",
     "data": {
      "text/html": [
       "<div>\n",
       "<style scoped>\n",
       "    .dataframe tbody tr th:only-of-type {\n",
       "        vertical-align: middle;\n",
       "    }\n",
       "\n",
       "    .dataframe tbody tr th {\n",
       "        vertical-align: top;\n",
       "    }\n",
       "\n",
       "    .dataframe thead th {\n",
       "        text-align: right;\n",
       "    }\n",
       "</style>\n",
       "<table border=\"1\" class=\"dataframe\">\n",
       "  <thead>\n",
       "    <tr style=\"text-align: right;\">\n",
       "      <th></th>\n",
       "      <th>Exercise 1</th>\n",
       "      <th>Exercise 2</th>\n",
       "      <th>Exercise 3</th>\n",
       "      <th>Exercise 4</th>\n",
       "    </tr>\n",
       "  </thead>\n",
       "  <tbody>\n",
       "    <tr>\n",
       "      <th>Part 1</th>\n",
       "      <td></td>\n",
       "      <td></td>\n",
       "      <td></td>\n",
       "      <td></td>\n",
       "    </tr>\n",
       "    <tr>\n",
       "      <th>Part 2</th>\n",
       "      <td></td>\n",
       "      <td></td>\n",
       "      <td></td>\n",
       "      <td></td>\n",
       "    </tr>\n",
       "    <tr>\n",
       "      <th>Part 3</th>\n",
       "      <td></td>\n",
       "      <td></td>\n",
       "      <td></td>\n",
       "      <td></td>\n",
       "    </tr>\n",
       "    <tr>\n",
       "      <th>Part 4</th>\n",
       "      <td></td>\n",
       "      <td></td>\n",
       "      <td></td>\n",
       "      <td></td>\n",
       "    </tr>\n",
       "    <tr>\n",
       "      <th>Part 5</th>\n",
       "      <td></td>\n",
       "      <td></td>\n",
       "      <td></td>\n",
       "      <td></td>\n",
       "    </tr>\n",
       "  </tbody>\n",
       "</table>\n",
       "</div>"
      ],
      "text/plain": [
       "       Exercise 1 Exercise 2 Exercise 3 Exercise 4\n",
       "Part 1                                            \n",
       "Part 2                                            \n",
       "Part 3                                            \n",
       "Part 4                                            \n",
       "Part 5                                            "
      ]
     },
     "metadata": {},
     "execution_count": 1
    }
   ],
   "metadata": {
    "ExecuteTime": {
     "end_time": "2021-09-27T15:03:19.791917Z",
     "start_time": "2021-09-27T15:03:19.764408Z"
    },
    "id": "chiXA3CzRSA1"
   }
  },
  {
   "cell_type": "markdown",
   "source": [
    "# Introduction to the Datasets"
   ],
   "metadata": {
    "_uuid": "d7aa1b0ad6979877450f9cd89e1e37289b51cf6e",
    "id": "CF8tC7Z8CgbW"
   }
  },
  {
   "cell_type": "markdown",
   "source": [
    "![link text](https://ph-files.imgix.net/069dd825-cddf-4048-adde-8e81396c2c68?auto=format)\r\n",
    "\r\n",
    "\r\n",
    "You will be working with datasets obtained through the [The Movie Database (TMDb) API](https://developers.themoviedb.org/3/getting-started/introduction). The first dataset is part of the MovieLens Latest Full Dataset, comprising 26 million ratings on 45.000 movies from 27.000 users. Let's look at the features in this dataset.\r\n",
    "\r\n",
    "**Features**\r\n",
    "\r\n",
    "* **adult**: Indicates if the movie is X-Rated.\r\n",
    "* **belongs_to_collection**: A stringified dictionary with info on the movie series a particular film belongs to (e.g.: Lord of the Rings).\r\n",
    "* **budget**: The movie budget in dollars.\r\n",
    "* **genres**: A stringified list of dictionaries describing all genres associated with the movie.\r\n",
    "* **homepage**: The movie's official homepage.\r\n",
    "* **id**: An identifier for the movie.\r\n",
    "* **imdb_id**: IMDB's identifier for the movie.\r\n",
    "* **original_language**: The language in which the movie was shot.\r\n",
    "* **original_title**: The original title of the movie.\r\n",
    "* **overview**: A brief text about the movie.\r\n",
    "* **popularity**: A Popularity Score given by TMDb.\r\n",
    "* **poster_path**: The URL of the poster image.\r\n",
    "* **production_companies**: A stringified list of production companies involved with making of the movie.\r\n",
    "* **production_countries**: A stringified list of countries in which the movie was produced.\r\n",
    "* **release_date**: Release date of the movie in theaters.\r\n",
    "* **revenue**: The total revenue of the movie in dollars.\r\n",
    "* **runtime**: The runtime of the movie in minutes.\r\n",
    "* **spoken_languages**: A stringified list of languages spoken in the film.\r\n",
    "* **status**: The status of the movie (Released, To Be Released, etc.)\r\n",
    "* **tagline**: The movie's tagline.\r\n",
    "* **title**: The official title of the movie.\r\n",
    "* **video**: Indicates whether there is a video of the movie in TMDb.\r\n",
    "* **vote_average**: The average rating of the movie, on a 0-10 scale.\r\n",
    "* **vote_count**: The number of votes by users, as counted by TMDb."
   ],
   "metadata": {
    "id": "pO8N4lj29u9w"
   }
  },
  {
   "cell_type": "markdown",
   "source": [
    "# Imports\r\n",
    "\r\n",
    "First, let's make sure to import Pandas and NumPy. "
   ],
   "metadata": {
    "_uuid": "6b418588e3f9139f74cb3a9546f5dca49729579b",
    "id": "2Clue5Z_Cgbc"
   }
  },
  {
   "cell_type": "code",
   "execution_count": 2,
   "source": [
    "#data analysis libraries \r\n",
    "import numpy as np\r\n",
    "import pandas as pd\r\n",
    "\r\n",
    "from pandas_profiling import ProfileReport\r\n",
    "\r\n",
    "#visualization libraries\r\n",
    "import matplotlib.pyplot as plt\r\n",
    "import seaborn as sns\r\n",
    "%matplotlib inline\r\n",
    "\r\n",
    "#ignore warnings\r\n",
    "import warnings\r\n",
    "warnings.filterwarnings('ignore')"
   ],
   "outputs": [],
   "metadata": {
    "ExecuteTime": {
     "end_time": "2021-09-27T10:09:32.802462Z",
     "start_time": "2021-09-27T10:09:30.598648Z"
    },
    "id": "A0K3Aw3eAf2B"
   }
  },
  {
   "cell_type": "markdown",
   "source": [
    "# Exercise 1: Loading, preprocessing and cleaning the data (15 points)"
   ],
   "metadata": {
    "id": "PFlHk-e0BZME"
   }
  },
  {
   "cell_type": "markdown",
   "source": [
    "Read the movie dataset from the following URL."
   ],
   "metadata": {
    "id": "mGJnqtQD1BOs"
   }
  },
  {
   "cell_type": "code",
   "execution_count": 3,
   "source": [
    "url = 'http://courses.compute.dtu.dk/02807/2021/projects/project1/movies_metadata.csv'"
   ],
   "outputs": [],
   "metadata": {
    "ExecuteTime": {
     "end_time": "2021-09-27T10:09:34.147572Z",
     "start_time": "2021-09-27T10:09:34.145160Z"
    },
    "id": "sQb46KRIAkOB"
   }
  },
  {
   "cell_type": "markdown",
   "source": [
    "## Part 1: Reading and preprocessing the data (10 pts)\n",
    "\n",
    "Pandas infers a data type for raw data from a `.csv`, defaulting to string type when no other `dtype` could be established. For example, the `genres` column in our dataset is read as a string with a *stringified* list of dictionaries as cell content. \n",
    "\n",
    "Some preprocessing steps are therefore needed, to convert the columns into their proper data types.\n",
    "\n",
    "Write a function `load_movies_data()` that reads the URL into a Pandas DataFrame and preprocesses its columns to ensure that:\n",
    "\n",
    "1. Data in the `release_date` column consists of Pandas `Timestamp` objects, except for missing values. For example, executing a code cell with `df.release_date[0]` should display the output `Timestamp('1995-10-30 00:00:00')`.\n",
    "\n",
    "2. Data in `belongs_to_collection` consists of dictionaries, except for missing values.\n",
    "\n",
    "3. Data in `genres`, `production_companies` and `production_countries` consists of lists of dictionaries, except for missing values. \n",
    "\n",
    "For example, executing a code cell with `df.genres[0]` should display the output \n",
    "```\n",
    "[{'id': 16, 'name': 'Animation'},\n",
    " {'id': 35, 'name': 'Comedy'},\n",
    " {'id': 10751, 'name': 'Family'}]\n",
    "```\n",
    "which is a list type, not a string. The elements of the list are dictionaries (executing `df.genres[0][0]['name']` returns `'Animation'`). \n",
    "\n",
    "**Hint**: for items 2 and 3, you should use `ast.literal_eval`.\n",
    "\n",
    "These conversions can be performed using Pandas' built-in functions and/or calling Pandas' `apply()` with appropriate arguments. Avoid explicit looping. You'll be asked below to time the loading and preprocessing step. "
   ],
   "metadata": {
    "id": "jQrm5PleClKz"
   }
  },
  {
   "cell_type": "code",
   "execution_count": 4,
   "source": [
    "def load_movies_data(url):\r\n",
    "    #import the movie ratings dataset and test CSV files\r\n",
    "    df = pd.read_csv(url)\r\n",
    "    ## fill NaN values with None for easier handling\r\n",
    "    df = df.fillna('None')\r\n",
    "    ## convert column release_date from str to timestamp format\r\n",
    "    df['release_date'] = pd.to_datetime(df['release_date'], format='%Y-%m-%d %H:%M:%S', errors = 'coerce')\r\n",
    "    ## convert selected columns to dict format \r\n",
    "    cols = ['belongs_to_collection','genres','production_companies','production_countries']\r\n",
    "    for col in cols:\r\n",
    "        df[col] = [eval(x) for x in df[col]]\r\n",
    "    return df"
   ],
   "outputs": [],
   "metadata": {
    "id": "2mC5hjGXJTZ0"
   }
  },
  {
   "cell_type": "markdown",
   "source": [
    "Now call `load_movies_data()` and load the data into a DataFrame `df`."
   ],
   "metadata": {
    "id": "oZvSPPdzfScL"
   }
  },
  {
   "cell_type": "code",
   "execution_count": 5,
   "source": [
    "df = load_movies_data(url)"
   ],
   "outputs": [],
   "metadata": {
    "id": "4-eOSqlhD-8J"
   }
  },
  {
   "cell_type": "markdown",
   "source": [
    "Display the DataFrame. You should check that it looks correct."
   ],
   "metadata": {
    "id": "bnelY1bZzj-J"
   }
  },
  {
   "cell_type": "code",
   "execution_count": 6,
   "source": [
    "df.info()"
   ],
   "outputs": [
    {
     "output_type": "stream",
     "name": "stdout",
     "text": [
      "<class 'pandas.core.frame.DataFrame'>\n",
      "RangeIndex: 45466 entries, 0 to 45465\n",
      "Data columns (total 24 columns):\n",
      " #   Column                 Non-Null Count  Dtype         \n",
      "---  ------                 --------------  -----         \n",
      " 0   adult                  45466 non-null  object        \n",
      " 1   belongs_to_collection  4494 non-null   object        \n",
      " 2   budget                 45466 non-null  object        \n",
      " 3   genres                 45466 non-null  object        \n",
      " 4   homepage               45466 non-null  object        \n",
      " 5   id                     45466 non-null  object        \n",
      " 6   imdb_id                45466 non-null  object        \n",
      " 7   original_language      45466 non-null  object        \n",
      " 8   original_title         45466 non-null  object        \n",
      " 9   overview               45466 non-null  object        \n",
      " 10  popularity             45466 non-null  object        \n",
      " 11  poster_path            45466 non-null  object        \n",
      " 12  production_companies   45463 non-null  object        \n",
      " 13  production_countries   45463 non-null  object        \n",
      " 14  release_date           45376 non-null  datetime64[ns]\n",
      " 15  revenue                45466 non-null  object        \n",
      " 16  runtime                45466 non-null  object        \n",
      " 17  spoken_languages       45466 non-null  object        \n",
      " 18  status                 45466 non-null  object        \n",
      " 19  tagline                45466 non-null  object        \n",
      " 20  title                  45466 non-null  object        \n",
      " 21  video                  45466 non-null  object        \n",
      " 22  vote_average           45466 non-null  object        \n",
      " 23  vote_count             45466 non-null  object        \n",
      "dtypes: datetime64[ns](1), object(23)\n",
      "memory usage: 8.3+ MB\n"
     ]
    }
   ],
   "metadata": {
    "id": "tP6zpeLxu4J-"
   }
  },
  {
   "cell_type": "markdown",
   "source": [
    "## Part 2: Timing your function (2.5 pts)\r\n",
    "\r\n",
    "Time the performance of your function. To get the points for this part, the time reported below must not exceed 40 seconds."
   ],
   "metadata": {
    "id": "PuzjOV7ffbpR"
   }
  },
  {
   "cell_type": "code",
   "execution_count": 7,
   "source": [
    "load_time = %timeit -o -r 3 load_movies_data(url)\r\n",
    "print(\"Time (s):\", load_time.best)"
   ],
   "outputs": [
    {
     "output_type": "stream",
     "name": "stdout",
     "text": [
      "5.56 s ± 457 ms per loop (mean ± std. dev. of 3 runs, 1 loop each)\n",
      "Time (s): 5.006559299999992\n"
     ]
    }
   ],
   "metadata": {
    "id": "aIYWL17bO2Ih"
   }
  },
  {
   "cell_type": "markdown",
   "source": [
    "## Part 3: Cleaning the data (2.5 pts)"
   ],
   "metadata": {
    "id": "7sVQeTkLYI2b"
   }
  },
  {
   "cell_type": "markdown",
   "source": [
    "Filter/drop all rows in `df` meeting any of these conditions:\r\n",
    "* The `adult` value is not `'False'`\r\n",
    "* The `vote_count` value is missing\r\n",
    "* The `vote_average` value is missing\r\n",
    "\r\n",
    "Do not loop over rows to perform these checks. Use Pandas' built-in functionality to do so. "
   ],
   "metadata": {
    "id": "6ydbZ-KFYlRX"
   }
  },
  {
   "cell_type": "code",
   "execution_count": 8,
   "source": [
    "## drop rows where adult value is not 'False'\r\n",
    "df = df[(df['adult'] == 'False') & (df['vote_count'] != 'None') & (df['vote_average'] != 'None')].reset_index(drop=True)"
   ],
   "outputs": [],
   "metadata": {
    "id": "Qtb7AaaVY5nm"
   }
  },
  {
   "cell_type": "code",
   "execution_count": 9,
   "source": [
    "df.head(5)"
   ],
   "outputs": [
    {
     "output_type": "execute_result",
     "data": {
      "text/html": [
       "<div>\n",
       "<style scoped>\n",
       "    .dataframe tbody tr th:only-of-type {\n",
       "        vertical-align: middle;\n",
       "    }\n",
       "\n",
       "    .dataframe tbody tr th {\n",
       "        vertical-align: top;\n",
       "    }\n",
       "\n",
       "    .dataframe thead th {\n",
       "        text-align: right;\n",
       "    }\n",
       "</style>\n",
       "<table border=\"1\" class=\"dataframe\">\n",
       "  <thead>\n",
       "    <tr style=\"text-align: right;\">\n",
       "      <th></th>\n",
       "      <th>adult</th>\n",
       "      <th>belongs_to_collection</th>\n",
       "      <th>budget</th>\n",
       "      <th>genres</th>\n",
       "      <th>homepage</th>\n",
       "      <th>id</th>\n",
       "      <th>imdb_id</th>\n",
       "      <th>original_language</th>\n",
       "      <th>original_title</th>\n",
       "      <th>overview</th>\n",
       "      <th>...</th>\n",
       "      <th>release_date</th>\n",
       "      <th>revenue</th>\n",
       "      <th>runtime</th>\n",
       "      <th>spoken_languages</th>\n",
       "      <th>status</th>\n",
       "      <th>tagline</th>\n",
       "      <th>title</th>\n",
       "      <th>video</th>\n",
       "      <th>vote_average</th>\n",
       "      <th>vote_count</th>\n",
       "    </tr>\n",
       "  </thead>\n",
       "  <tbody>\n",
       "    <tr>\n",
       "      <th>0</th>\n",
       "      <td>False</td>\n",
       "      <td>{'id': 10194, 'name': 'Toy Story Collection', ...</td>\n",
       "      <td>30000000</td>\n",
       "      <td>[{'id': 16, 'name': 'Animation'}, {'id': 35, '...</td>\n",
       "      <td>http://toystory.disney.com/toy-story</td>\n",
       "      <td>862</td>\n",
       "      <td>tt0114709</td>\n",
       "      <td>en</td>\n",
       "      <td>Toy Story</td>\n",
       "      <td>Led by Woody, Andy's toys live happily in his ...</td>\n",
       "      <td>...</td>\n",
       "      <td>1995-10-30</td>\n",
       "      <td>373554033.0</td>\n",
       "      <td>81.0</td>\n",
       "      <td>[{'iso_639_1': 'en', 'name': 'English'}]</td>\n",
       "      <td>Released</td>\n",
       "      <td>None</td>\n",
       "      <td>Toy Story</td>\n",
       "      <td>False</td>\n",
       "      <td>7.7</td>\n",
       "      <td>5415.0</td>\n",
       "    </tr>\n",
       "    <tr>\n",
       "      <th>1</th>\n",
       "      <td>False</td>\n",
       "      <td>None</td>\n",
       "      <td>65000000</td>\n",
       "      <td>[{'id': 12, 'name': 'Adventure'}, {'id': 14, '...</td>\n",
       "      <td>None</td>\n",
       "      <td>8844</td>\n",
       "      <td>tt0113497</td>\n",
       "      <td>en</td>\n",
       "      <td>Jumanji</td>\n",
       "      <td>When siblings Judy and Peter discover an encha...</td>\n",
       "      <td>...</td>\n",
       "      <td>1995-12-15</td>\n",
       "      <td>262797249.0</td>\n",
       "      <td>104.0</td>\n",
       "      <td>[{'iso_639_1': 'en', 'name': 'English'}, {'iso...</td>\n",
       "      <td>Released</td>\n",
       "      <td>Roll the dice and unleash the excitement!</td>\n",
       "      <td>Jumanji</td>\n",
       "      <td>False</td>\n",
       "      <td>6.9</td>\n",
       "      <td>2413.0</td>\n",
       "    </tr>\n",
       "    <tr>\n",
       "      <th>2</th>\n",
       "      <td>False</td>\n",
       "      <td>{'id': 119050, 'name': 'Grumpy Old Men Collect...</td>\n",
       "      <td>0</td>\n",
       "      <td>[{'id': 10749, 'name': 'Romance'}, {'id': 35, ...</td>\n",
       "      <td>None</td>\n",
       "      <td>15602</td>\n",
       "      <td>tt0113228</td>\n",
       "      <td>en</td>\n",
       "      <td>Grumpier Old Men</td>\n",
       "      <td>A family wedding reignites the ancient feud be...</td>\n",
       "      <td>...</td>\n",
       "      <td>1995-12-22</td>\n",
       "      <td>0.0</td>\n",
       "      <td>101.0</td>\n",
       "      <td>[{'iso_639_1': 'en', 'name': 'English'}]</td>\n",
       "      <td>Released</td>\n",
       "      <td>Still Yelling. Still Fighting. Still Ready for...</td>\n",
       "      <td>Grumpier Old Men</td>\n",
       "      <td>False</td>\n",
       "      <td>6.5</td>\n",
       "      <td>92.0</td>\n",
       "    </tr>\n",
       "    <tr>\n",
       "      <th>3</th>\n",
       "      <td>False</td>\n",
       "      <td>None</td>\n",
       "      <td>16000000</td>\n",
       "      <td>[{'id': 35, 'name': 'Comedy'}, {'id': 18, 'nam...</td>\n",
       "      <td>None</td>\n",
       "      <td>31357</td>\n",
       "      <td>tt0114885</td>\n",
       "      <td>en</td>\n",
       "      <td>Waiting to Exhale</td>\n",
       "      <td>Cheated on, mistreated and stepped on, the wom...</td>\n",
       "      <td>...</td>\n",
       "      <td>1995-12-22</td>\n",
       "      <td>81452156.0</td>\n",
       "      <td>127.0</td>\n",
       "      <td>[{'iso_639_1': 'en', 'name': 'English'}]</td>\n",
       "      <td>Released</td>\n",
       "      <td>Friends are the people who let you be yourself...</td>\n",
       "      <td>Waiting to Exhale</td>\n",
       "      <td>False</td>\n",
       "      <td>6.1</td>\n",
       "      <td>34.0</td>\n",
       "    </tr>\n",
       "    <tr>\n",
       "      <th>4</th>\n",
       "      <td>False</td>\n",
       "      <td>{'id': 96871, 'name': 'Father of the Bride Col...</td>\n",
       "      <td>0</td>\n",
       "      <td>[{'id': 35, 'name': 'Comedy'}]</td>\n",
       "      <td>None</td>\n",
       "      <td>11862</td>\n",
       "      <td>tt0113041</td>\n",
       "      <td>en</td>\n",
       "      <td>Father of the Bride Part II</td>\n",
       "      <td>Just when George Banks has recovered from his ...</td>\n",
       "      <td>...</td>\n",
       "      <td>1995-02-10</td>\n",
       "      <td>76578911.0</td>\n",
       "      <td>106.0</td>\n",
       "      <td>[{'iso_639_1': 'en', 'name': 'English'}]</td>\n",
       "      <td>Released</td>\n",
       "      <td>Just When His World Is Back To Normal... He's ...</td>\n",
       "      <td>Father of the Bride Part II</td>\n",
       "      <td>False</td>\n",
       "      <td>5.7</td>\n",
       "      <td>173.0</td>\n",
       "    </tr>\n",
       "  </tbody>\n",
       "</table>\n",
       "<p>5 rows × 24 columns</p>\n",
       "</div>"
      ],
      "text/plain": [
       "   adult                              belongs_to_collection    budget  \\\n",
       "0  False  {'id': 10194, 'name': 'Toy Story Collection', ...  30000000   \n",
       "1  False                                               None  65000000   \n",
       "2  False  {'id': 119050, 'name': 'Grumpy Old Men Collect...         0   \n",
       "3  False                                               None  16000000   \n",
       "4  False  {'id': 96871, 'name': 'Father of the Bride Col...         0   \n",
       "\n",
       "                                              genres  \\\n",
       "0  [{'id': 16, 'name': 'Animation'}, {'id': 35, '...   \n",
       "1  [{'id': 12, 'name': 'Adventure'}, {'id': 14, '...   \n",
       "2  [{'id': 10749, 'name': 'Romance'}, {'id': 35, ...   \n",
       "3  [{'id': 35, 'name': 'Comedy'}, {'id': 18, 'nam...   \n",
       "4                     [{'id': 35, 'name': 'Comedy'}]   \n",
       "\n",
       "                               homepage     id    imdb_id original_language  \\\n",
       "0  http://toystory.disney.com/toy-story    862  tt0114709                en   \n",
       "1                                  None   8844  tt0113497                en   \n",
       "2                                  None  15602  tt0113228                en   \n",
       "3                                  None  31357  tt0114885                en   \n",
       "4                                  None  11862  tt0113041                en   \n",
       "\n",
       "                original_title  \\\n",
       "0                    Toy Story   \n",
       "1                      Jumanji   \n",
       "2             Grumpier Old Men   \n",
       "3            Waiting to Exhale   \n",
       "4  Father of the Bride Part II   \n",
       "\n",
       "                                            overview  ... release_date  \\\n",
       "0  Led by Woody, Andy's toys live happily in his ...  ...   1995-10-30   \n",
       "1  When siblings Judy and Peter discover an encha...  ...   1995-12-15   \n",
       "2  A family wedding reignites the ancient feud be...  ...   1995-12-22   \n",
       "3  Cheated on, mistreated and stepped on, the wom...  ...   1995-12-22   \n",
       "4  Just when George Banks has recovered from his ...  ...   1995-02-10   \n",
       "\n",
       "       revenue runtime                                   spoken_languages  \\\n",
       "0  373554033.0    81.0           [{'iso_639_1': 'en', 'name': 'English'}]   \n",
       "1  262797249.0   104.0  [{'iso_639_1': 'en', 'name': 'English'}, {'iso...   \n",
       "2          0.0   101.0           [{'iso_639_1': 'en', 'name': 'English'}]   \n",
       "3   81452156.0   127.0           [{'iso_639_1': 'en', 'name': 'English'}]   \n",
       "4   76578911.0   106.0           [{'iso_639_1': 'en', 'name': 'English'}]   \n",
       "\n",
       "     status                                            tagline  \\\n",
       "0  Released                                               None   \n",
       "1  Released          Roll the dice and unleash the excitement!   \n",
       "2  Released  Still Yelling. Still Fighting. Still Ready for...   \n",
       "3  Released  Friends are the people who let you be yourself...   \n",
       "4  Released  Just When His World Is Back To Normal... He's ...   \n",
       "\n",
       "                         title  video vote_average vote_count  \n",
       "0                    Toy Story  False          7.7     5415.0  \n",
       "1                      Jumanji  False          6.9     2413.0  \n",
       "2             Grumpier Old Men  False          6.5       92.0  \n",
       "3            Waiting to Exhale  False          6.1       34.0  \n",
       "4  Father of the Bride Part II  False          5.7      173.0  \n",
       "\n",
       "[5 rows x 24 columns]"
      ]
     },
     "metadata": {},
     "execution_count": 9
    }
   ],
   "metadata": {}
  },
  {
   "cell_type": "markdown",
   "source": [
    "# Exercise 2: Computing IMDb's ratings (35 points)"
   ],
   "metadata": {
    "id": "mT8jdILukiBF"
   }
  },
  {
   "cell_type": "markdown",
   "source": [
    "The Top Rated 250 titles in IMDb are calculated using [a formula](https://help.imdb.com/article/imdb/track-movies-tv/ratings-faq/G67Y87TFYYP6TWAV#calculatetop) that takes into account the number of votes that a title has received, the minimum votes required to be on the list, and the mean vote for all titles. The rating for a title is given as follows:\n",
    "\n",
    "$$ \\text{weighted rating } = \\left(\\frac{v}{v+m} \\cdot R\\right) + \\left(\\frac{m}{v+m} \\cdot C\\right)$$\n",
    "\n",
    "Where:\n",
    "\n",
    "$m$ = the minimum number of votes required to be listed in the Top Rated ranking. We'll let $m=1000$.\n",
    "\n",
    "$v$ = the number of votes received by the title (the title's **`vote_count`** value)\n",
    "\n",
    "$R$ = the average rating for the title (the title's **`vote_average`** value)\n",
    "\n",
    "$C$ = the mean vote across the whole list (the mean over the **`vote_average`** column)"
   ],
   "metadata": {
    "id": "84SE_eMzkyC1"
   }
  },
  {
   "cell_type": "markdown",
   "source": [
    "We are going to compute the ratings for movies that could be listed in IMDb's Top Rated 250 ranking.  We want to do this as efficiently as possible. As a baseline for benchmarking, we'll use an approach that explicitly loops and indexes over the rows of the dataset and computes the weighted rating for the corresponding movie (if the movie has more than 1000 votes). "
   ],
   "metadata": {
    "id": "85J4HDO2rieA"
   }
  },
  {
   "cell_type": "code",
   "execution_count": 10,
   "source": [
    "C = df['vote_average'].mean()\r\n",
    "m = 1000\r\n",
    "\r\n",
    "def weighted_rating(row):\r\n",
    "    if row['vote_count'] > m:\r\n",
    "        v = row['vote_count']\r\n",
    "        R = row['vote_average']\r\n",
    "        return (v/(v+m) * R) + (m/(v+m) * C)\r\n",
    "    else:\r\n",
    "        return np.nan\r\n",
    "\r\n",
    "def weighted_rating_loop(df):\r\n",
    "    rating_list = []\r\n",
    "    for i in range(len(df)):\r\n",
    "        rating = weighted_rating(df.iloc[i])\r\n",
    "        rating_list.append(rating)\r\n",
    "    df['imdb_rating'] = rating_list"
   ],
   "outputs": [],
   "metadata": {
    "ExecuteTime": {
     "end_time": "2021-09-27T10:27:52.905697Z",
     "start_time": "2021-09-27T10:27:52.800529Z"
    },
    "id": "MyYhLdBksTec"
   }
  },
  {
   "cell_type": "code",
   "execution_count": 11,
   "source": [
    "weighted_rating_loop(df)\r\n",
    "\r\n",
    "columns_to_show = ['id', 'original_title'] + \\\r\n",
    "                  list(df.columns[df.columns.str.startswith('imdb_rating')])\r\n",
    "df[columns_to_show].head()"
   ],
   "outputs": [
    {
     "output_type": "execute_result",
     "data": {
      "text/html": [
       "<div>\n",
       "<style scoped>\n",
       "    .dataframe tbody tr th:only-of-type {\n",
       "        vertical-align: middle;\n",
       "    }\n",
       "\n",
       "    .dataframe tbody tr th {\n",
       "        vertical-align: top;\n",
       "    }\n",
       "\n",
       "    .dataframe thead th {\n",
       "        text-align: right;\n",
       "    }\n",
       "</style>\n",
       "<table border=\"1\" class=\"dataframe\">\n",
       "  <thead>\n",
       "    <tr style=\"text-align: right;\">\n",
       "      <th></th>\n",
       "      <th>id</th>\n",
       "      <th>original_title</th>\n",
       "      <th>imdb_rating</th>\n",
       "    </tr>\n",
       "  </thead>\n",
       "  <tbody>\n",
       "    <tr>\n",
       "      <th>0</th>\n",
       "      <td>862</td>\n",
       "      <td>Toy Story</td>\n",
       "      <td>7.375533</td>\n",
       "    </tr>\n",
       "    <tr>\n",
       "      <th>1</th>\n",
       "      <td>8844</td>\n",
       "      <td>Jumanji</td>\n",
       "      <td>6.524536</td>\n",
       "    </tr>\n",
       "    <tr>\n",
       "      <th>2</th>\n",
       "      <td>15602</td>\n",
       "      <td>Grumpier Old Men</td>\n",
       "      <td>NaN</td>\n",
       "    </tr>\n",
       "    <tr>\n",
       "      <th>3</th>\n",
       "      <td>31357</td>\n",
       "      <td>Waiting to Exhale</td>\n",
       "      <td>NaN</td>\n",
       "    </tr>\n",
       "    <tr>\n",
       "      <th>4</th>\n",
       "      <td>11862</td>\n",
       "      <td>Father of the Bride Part II</td>\n",
       "      <td>NaN</td>\n",
       "    </tr>\n",
       "  </tbody>\n",
       "</table>\n",
       "</div>"
      ],
      "text/plain": [
       "      id               original_title  imdb_rating\n",
       "0    862                    Toy Story     7.375533\n",
       "1   8844                      Jumanji     6.524536\n",
       "2  15602             Grumpier Old Men          NaN\n",
       "3  31357            Waiting to Exhale          NaN\n",
       "4  11862  Father of the Bride Part II          NaN"
      ]
     },
     "metadata": {},
     "execution_count": 11
    }
   ],
   "metadata": {
    "id": "JIsei1w4r9Jz"
   }
  },
  {
   "cell_type": "markdown",
   "source": [
    "Let's look at the average performance of this function:"
   ],
   "metadata": {
    "id": "JdlffrsJyHvI"
   }
  },
  {
   "cell_type": "code",
   "execution_count": 12,
   "source": [
    "basic_time = %timeit -r 3 -o weighted_rating_loop(df)\r\n",
    "print(\"Best time:\", basic_time.best)"
   ],
   "outputs": [
    {
     "output_type": "stream",
     "name": "stdout",
     "text": [
      "4.19 s ± 9.79 ms per loop (mean ± std. dev. of 3 runs, 1 loop each)\n",
      "Best time: 4.179331300000001\n"
     ]
    }
   ],
   "metadata": {
    "id": "su__dMpZyX5W"
   }
  },
  {
   "cell_type": "markdown",
   "source": [
    "In the remaining parts of the exercise, you are going to be asked to come up with alternative ways to compute the ratings, using various methodologies. Let's create a score board to keep track of performance. Here's a description of the rows:\r\n",
    "\r\n",
    "*   **Best single run time (s)**:  The best time used by your solution, in seconds.\r\n",
    "*   **Marginal performance improvement**: The time improvement of your current solution over its immediately preceding solution. Given by: $\\frac{\\text{best single run time (s) of previous solution}}{\\text{best single run time (s) of current solution}}$\r\n",
    "*   **Performance improvement over basic looping**:  The time improvement over our baseline solution. Given by: $\\frac{\\text{best single run time (s) of weighted_rating_loop}}{\\text{best single run time (s) of current solution}}$\r\n",
    "*   **Best single run time (s, teacher)**: The time of a solution provided by the teacher. \r\n",
    "*   **Marginal performance improvement (teacher)**: The time improvement of the teacher's solution over its immediately preceding solution. \r\n",
    "*   **Performance improvement over basic looping (teacher)**:  The teacher's solution improvement over the baseline solution.\r\n",
    "\r\n"
   ],
   "metadata": {
    "id": "HPjyKJ2zzPoQ"
   }
  },
  {
   "cell_type": "code",
   "execution_count": 13,
   "source": [
    "timing_data = {\r\n",
    "    'Best single run time (s)': [basic_time.best, np.nan, np.nan, np.nan,np.nan],\r\n",
    "    'Marginal performance improvement': [np.nan,np.nan, np.nan, np.nan,np.nan],\r\n",
    "    'Performance improvement over basic looping': np.nan,\r\n",
    "    'Best single run time (s, teacher)': [9.37, 3.87, 0.562, 0.0054, 0.00084],\r\n",
    "    'Marginal performance improvement (teacher)': [np.nan, 'x2.42', 'x6.88', 'x103.8', 'x6.45'],\r\n",
    "    'Performance improvement over basic looping (teacher)': [np.nan, 'x2.42', 'x16.69', 'x1732.17','x11172.98']\r\n",
    "}\r\n",
    "\r\n",
    "indices = ['Basic looping', 'Iterrows looping', 'apply()', 'Pandas vectorisation', 'NumPy vectorisation']\r\n",
    "timings = pd.DataFrame(timing_data, index=indices)\r\n",
    "timings"
   ],
   "outputs": [
    {
     "output_type": "execute_result",
     "data": {
      "text/html": [
       "<div>\n",
       "<style scoped>\n",
       "    .dataframe tbody tr th:only-of-type {\n",
       "        vertical-align: middle;\n",
       "    }\n",
       "\n",
       "    .dataframe tbody tr th {\n",
       "        vertical-align: top;\n",
       "    }\n",
       "\n",
       "    .dataframe thead th {\n",
       "        text-align: right;\n",
       "    }\n",
       "</style>\n",
       "<table border=\"1\" class=\"dataframe\">\n",
       "  <thead>\n",
       "    <tr style=\"text-align: right;\">\n",
       "      <th></th>\n",
       "      <th>Best single run time (s)</th>\n",
       "      <th>Marginal performance improvement</th>\n",
       "      <th>Performance improvement over basic looping</th>\n",
       "      <th>Best single run time (s, teacher)</th>\n",
       "      <th>Marginal performance improvement (teacher)</th>\n",
       "      <th>Performance improvement over basic looping (teacher)</th>\n",
       "    </tr>\n",
       "  </thead>\n",
       "  <tbody>\n",
       "    <tr>\n",
       "      <th>Basic looping</th>\n",
       "      <td>4.179331</td>\n",
       "      <td>NaN</td>\n",
       "      <td>NaN</td>\n",
       "      <td>9.37000</td>\n",
       "      <td>NaN</td>\n",
       "      <td>NaN</td>\n",
       "    </tr>\n",
       "    <tr>\n",
       "      <th>Iterrows looping</th>\n",
       "      <td>NaN</td>\n",
       "      <td>NaN</td>\n",
       "      <td>NaN</td>\n",
       "      <td>3.87000</td>\n",
       "      <td>x2.42</td>\n",
       "      <td>x2.42</td>\n",
       "    </tr>\n",
       "    <tr>\n",
       "      <th>apply()</th>\n",
       "      <td>NaN</td>\n",
       "      <td>NaN</td>\n",
       "      <td>NaN</td>\n",
       "      <td>0.56200</td>\n",
       "      <td>x6.88</td>\n",
       "      <td>x16.69</td>\n",
       "    </tr>\n",
       "    <tr>\n",
       "      <th>Pandas vectorisation</th>\n",
       "      <td>NaN</td>\n",
       "      <td>NaN</td>\n",
       "      <td>NaN</td>\n",
       "      <td>0.00540</td>\n",
       "      <td>x103.8</td>\n",
       "      <td>x1732.17</td>\n",
       "    </tr>\n",
       "    <tr>\n",
       "      <th>NumPy vectorisation</th>\n",
       "      <td>NaN</td>\n",
       "      <td>NaN</td>\n",
       "      <td>NaN</td>\n",
       "      <td>0.00084</td>\n",
       "      <td>x6.45</td>\n",
       "      <td>x11172.98</td>\n",
       "    </tr>\n",
       "  </tbody>\n",
       "</table>\n",
       "</div>"
      ],
      "text/plain": [
       "                      Best single run time (s)  \\\n",
       "Basic looping                         4.179331   \n",
       "Iterrows looping                           NaN   \n",
       "apply()                                    NaN   \n",
       "Pandas vectorisation                       NaN   \n",
       "NumPy vectorisation                        NaN   \n",
       "\n",
       "                      Marginal performance improvement  \\\n",
       "Basic looping                                      NaN   \n",
       "Iterrows looping                                   NaN   \n",
       "apply()                                            NaN   \n",
       "Pandas vectorisation                               NaN   \n",
       "NumPy vectorisation                                NaN   \n",
       "\n",
       "                      Performance improvement over basic looping  \\\n",
       "Basic looping                                                NaN   \n",
       "Iterrows looping                                             NaN   \n",
       "apply()                                                      NaN   \n",
       "Pandas vectorisation                                         NaN   \n",
       "NumPy vectorisation                                          NaN   \n",
       "\n",
       "                      Best single run time (s, teacher)  \\\n",
       "Basic looping                                   9.37000   \n",
       "Iterrows looping                                3.87000   \n",
       "apply()                                         0.56200   \n",
       "Pandas vectorisation                            0.00540   \n",
       "NumPy vectorisation                             0.00084   \n",
       "\n",
       "                     Marginal performance improvement (teacher)  \\\n",
       "Basic looping                                               NaN   \n",
       "Iterrows looping                                          x2.42   \n",
       "apply()                                                   x6.88   \n",
       "Pandas vectorisation                                     x103.8   \n",
       "NumPy vectorisation                                       x6.45   \n",
       "\n",
       "                     Performance improvement over basic looping (teacher)  \n",
       "Basic looping                                                       NaN    \n",
       "Iterrows looping                                                  x2.42    \n",
       "apply()                                                          x16.69    \n",
       "Pandas vectorisation                                           x1732.17    \n",
       "NumPy vectorisation                                           x11172.98    "
      ]
     },
     "metadata": {},
     "execution_count": 13
    }
   ],
   "metadata": {
    "ExecuteTime": {
     "end_time": "2021-09-27T11:03:14.455052Z",
     "start_time": "2021-09-27T11:03:14.442251Z"
    },
    "id": "fV-xfrs53NBF"
   }
  },
  {
   "cell_type": "markdown",
   "source": [
    "**The grading for the following parts works as follows.**\n",
    "\n",
    "Let $m$ be the marginal performance improvement for the teacher's solution over basic looping, and let $m'$ be the marginal performance improvement for your solution over `basic_time`. If a part gives $n$ points, then you will get the $n$ points if $m' \\geq 0.4 m$, and 0 points otherwise.\n",
    "\n",
    "You don't get extra points for performing faster than the teacher's solution. But this is of course possible and you should feel free to optimise away as much as you want!"
   ],
   "metadata": {
    "id": "ZfD0eUlHgz3l"
   }
  },
  {
   "cell_type": "markdown",
   "source": [
    "## Part 1: Looping with `iterrows` (2.5 pts)"
   ],
   "metadata": {
    "id": "JkiLI2QT7oNY"
   }
  },
  {
   "cell_type": "markdown",
   "source": [
    "Define a function `weighted_rating_iterrows(df)` that computes the ratings by looping over rows with the built-in iterator `iterrows`, and stores the results in a new column of the DataFrame called called `imdb_rating_iter`."
   ],
   "metadata": {
    "id": "bmZIqPIf743q"
   }
  },
  {
   "cell_type": "code",
   "execution_count": 14,
   "source": [
    "# define function for weighted rating by lopping over rows\r\n",
    "def weighted_rating_iterrows(df):\r\n",
    "    # Creating empty list to append the ratings \r\n",
    "    imdb_rating_iter = []\r\n",
    "    # run over the dataframe \r\n",
    "    for index, row in df.iterrows(): \r\n",
    "        #calls the function to compute rating \r\n",
    "        imdb_rating_iter.append(weighted_rating(row)) \r\n",
    "    # Add rating to dataframe\r\n",
    "    df['imdb_rating_iter'] = imdb_rating_iter \r\n",
    "    return df"
   ],
   "outputs": [],
   "metadata": {
    "id": "m4dTxRfW6Gc4"
   }
  },
  {
   "cell_type": "markdown",
   "source": [
    "Call the function and make sure that it works as intended."
   ],
   "metadata": {
    "id": "rsvOtN6y8Ycg"
   }
  },
  {
   "cell_type": "code",
   "execution_count": 15,
   "source": [
    "weighted_rating_iterrows(df)\r\n",
    "\r\n",
    "pd.testing.assert_series_equal(\r\n",
    "    df.imdb_rating, df.imdb_rating_iter, check_names=False\r\n",
    ")\r\n",
    "\r\n",
    "columns_to_show = ['id', 'original_title'] + \\\r\n",
    "                  list(df.columns[df.columns.str.startswith('imdb_rating')])\r\n",
    "df[columns_to_show].head()"
   ],
   "outputs": [
    {
     "output_type": "execute_result",
     "data": {
      "text/html": [
       "<div>\n",
       "<style scoped>\n",
       "    .dataframe tbody tr th:only-of-type {\n",
       "        vertical-align: middle;\n",
       "    }\n",
       "\n",
       "    .dataframe tbody tr th {\n",
       "        vertical-align: top;\n",
       "    }\n",
       "\n",
       "    .dataframe thead th {\n",
       "        text-align: right;\n",
       "    }\n",
       "</style>\n",
       "<table border=\"1\" class=\"dataframe\">\n",
       "  <thead>\n",
       "    <tr style=\"text-align: right;\">\n",
       "      <th></th>\n",
       "      <th>id</th>\n",
       "      <th>original_title</th>\n",
       "      <th>imdb_rating</th>\n",
       "      <th>imdb_rating_iter</th>\n",
       "    </tr>\n",
       "  </thead>\n",
       "  <tbody>\n",
       "    <tr>\n",
       "      <th>0</th>\n",
       "      <td>862</td>\n",
       "      <td>Toy Story</td>\n",
       "      <td>7.375533</td>\n",
       "      <td>7.375533</td>\n",
       "    </tr>\n",
       "    <tr>\n",
       "      <th>1</th>\n",
       "      <td>8844</td>\n",
       "      <td>Jumanji</td>\n",
       "      <td>6.524536</td>\n",
       "      <td>6.524536</td>\n",
       "    </tr>\n",
       "    <tr>\n",
       "      <th>2</th>\n",
       "      <td>15602</td>\n",
       "      <td>Grumpier Old Men</td>\n",
       "      <td>NaN</td>\n",
       "      <td>NaN</td>\n",
       "    </tr>\n",
       "    <tr>\n",
       "      <th>3</th>\n",
       "      <td>31357</td>\n",
       "      <td>Waiting to Exhale</td>\n",
       "      <td>NaN</td>\n",
       "      <td>NaN</td>\n",
       "    </tr>\n",
       "    <tr>\n",
       "      <th>4</th>\n",
       "      <td>11862</td>\n",
       "      <td>Father of the Bride Part II</td>\n",
       "      <td>NaN</td>\n",
       "      <td>NaN</td>\n",
       "    </tr>\n",
       "  </tbody>\n",
       "</table>\n",
       "</div>"
      ],
      "text/plain": [
       "      id               original_title  imdb_rating  imdb_rating_iter\n",
       "0    862                    Toy Story     7.375533          7.375533\n",
       "1   8844                      Jumanji     6.524536          6.524536\n",
       "2  15602             Grumpier Old Men          NaN               NaN\n",
       "3  31357            Waiting to Exhale          NaN               NaN\n",
       "4  11862  Father of the Bride Part II          NaN               NaN"
      ]
     },
     "metadata": {},
     "execution_count": 15
    }
   ],
   "metadata": {
    "id": "sLKzzVP86bza"
   }
  },
  {
   "cell_type": "markdown",
   "source": [
    "Time the performance of the function."
   ],
   "metadata": {
    "id": "AC-m0iR48jM6"
   }
  },
  {
   "cell_type": "code",
   "execution_count": 16,
   "source": [
    "iterrows_time = %timeit -r 3 -o weighted_rating_iterrows(df)\r\n",
    "print(\"Best time:\", iterrows_time.best)"
   ],
   "outputs": [
    {
     "output_type": "stream",
     "name": "stdout",
     "text": [
      "1.65 s ± 5.54 ms per loop (mean ± std. dev. of 3 runs, 1 loop each)\n",
      "Best time: 1.6378945999999814\n"
     ]
    }
   ],
   "metadata": {
    "id": "9y3BWusJ8y70"
   }
  },
  {
   "cell_type": "markdown",
   "source": [
    "Update the score board with the best time, marginal and overall performance change you have obtained. Display the updated table below. "
   ],
   "metadata": {
    "id": "HexMOOCB82e_"
   }
  },
  {
   "cell_type": "code",
   "execution_count": 17,
   "source": [
    "# your code goes here\r\n",
    "timings.iloc[1:2,0:3]= [iterrows_time.best, basic_time.best/iterrows_time.best, basic_time.best/iterrows_time.best]\r\n",
    "timings\r\n"
   ],
   "outputs": [
    {
     "output_type": "execute_result",
     "data": {
      "text/html": [
       "<div>\n",
       "<style scoped>\n",
       "    .dataframe tbody tr th:only-of-type {\n",
       "        vertical-align: middle;\n",
       "    }\n",
       "\n",
       "    .dataframe tbody tr th {\n",
       "        vertical-align: top;\n",
       "    }\n",
       "\n",
       "    .dataframe thead th {\n",
       "        text-align: right;\n",
       "    }\n",
       "</style>\n",
       "<table border=\"1\" class=\"dataframe\">\n",
       "  <thead>\n",
       "    <tr style=\"text-align: right;\">\n",
       "      <th></th>\n",
       "      <th>Best single run time (s)</th>\n",
       "      <th>Marginal performance improvement</th>\n",
       "      <th>Performance improvement over basic looping</th>\n",
       "      <th>Best single run time (s, teacher)</th>\n",
       "      <th>Marginal performance improvement (teacher)</th>\n",
       "      <th>Performance improvement over basic looping (teacher)</th>\n",
       "    </tr>\n",
       "  </thead>\n",
       "  <tbody>\n",
       "    <tr>\n",
       "      <th>Basic looping</th>\n",
       "      <td>4.179331</td>\n",
       "      <td>NaN</td>\n",
       "      <td>NaN</td>\n",
       "      <td>9.37000</td>\n",
       "      <td>NaN</td>\n",
       "      <td>NaN</td>\n",
       "    </tr>\n",
       "    <tr>\n",
       "      <th>Iterrows looping</th>\n",
       "      <td>1.637895</td>\n",
       "      <td>2.551649</td>\n",
       "      <td>2.551649</td>\n",
       "      <td>3.87000</td>\n",
       "      <td>x2.42</td>\n",
       "      <td>x2.42</td>\n",
       "    </tr>\n",
       "    <tr>\n",
       "      <th>apply()</th>\n",
       "      <td>NaN</td>\n",
       "      <td>NaN</td>\n",
       "      <td>NaN</td>\n",
       "      <td>0.56200</td>\n",
       "      <td>x6.88</td>\n",
       "      <td>x16.69</td>\n",
       "    </tr>\n",
       "    <tr>\n",
       "      <th>Pandas vectorisation</th>\n",
       "      <td>NaN</td>\n",
       "      <td>NaN</td>\n",
       "      <td>NaN</td>\n",
       "      <td>0.00540</td>\n",
       "      <td>x103.8</td>\n",
       "      <td>x1732.17</td>\n",
       "    </tr>\n",
       "    <tr>\n",
       "      <th>NumPy vectorisation</th>\n",
       "      <td>NaN</td>\n",
       "      <td>NaN</td>\n",
       "      <td>NaN</td>\n",
       "      <td>0.00084</td>\n",
       "      <td>x6.45</td>\n",
       "      <td>x11172.98</td>\n",
       "    </tr>\n",
       "  </tbody>\n",
       "</table>\n",
       "</div>"
      ],
      "text/plain": [
       "                      Best single run time (s)  \\\n",
       "Basic looping                         4.179331   \n",
       "Iterrows looping                      1.637895   \n",
       "apply()                                    NaN   \n",
       "Pandas vectorisation                       NaN   \n",
       "NumPy vectorisation                        NaN   \n",
       "\n",
       "                      Marginal performance improvement  \\\n",
       "Basic looping                                      NaN   \n",
       "Iterrows looping                              2.551649   \n",
       "apply()                                            NaN   \n",
       "Pandas vectorisation                               NaN   \n",
       "NumPy vectorisation                                NaN   \n",
       "\n",
       "                      Performance improvement over basic looping  \\\n",
       "Basic looping                                                NaN   \n",
       "Iterrows looping                                        2.551649   \n",
       "apply()                                                      NaN   \n",
       "Pandas vectorisation                                         NaN   \n",
       "NumPy vectorisation                                          NaN   \n",
       "\n",
       "                      Best single run time (s, teacher)  \\\n",
       "Basic looping                                   9.37000   \n",
       "Iterrows looping                                3.87000   \n",
       "apply()                                         0.56200   \n",
       "Pandas vectorisation                            0.00540   \n",
       "NumPy vectorisation                             0.00084   \n",
       "\n",
       "                     Marginal performance improvement (teacher)  \\\n",
       "Basic looping                                               NaN   \n",
       "Iterrows looping                                          x2.42   \n",
       "apply()                                                   x6.88   \n",
       "Pandas vectorisation                                     x103.8   \n",
       "NumPy vectorisation                                       x6.45   \n",
       "\n",
       "                     Performance improvement over basic looping (teacher)  \n",
       "Basic looping                                                       NaN    \n",
       "Iterrows looping                                                  x2.42    \n",
       "apply()                                                          x16.69    \n",
       "Pandas vectorisation                                           x1732.17    \n",
       "NumPy vectorisation                                           x11172.98    "
      ]
     },
     "metadata": {},
     "execution_count": 17
    }
   ],
   "metadata": {
    "id": "_SQRS_gdJCbM"
   }
  },
  {
   "cell_type": "markdown",
   "source": [
    "## Part 2: Using `apply()`. (5 pts)"
   ],
   "metadata": {
    "id": "7-FhuhB99em4"
   }
  },
  {
   "cell_type": "markdown",
   "source": [
    "Define a function `weighted_rating_apply(df)` that computes the ratings using Pandas' `apply()` function, and stores the results in a new column of the DataFrame called `imdb_rating_apply`."
   ],
   "metadata": {
    "id": "iZ294FYn9qhO"
   }
  },
  {
   "cell_type": "code",
   "execution_count": 18,
   "source": [
    "# Compute ratings using apply function \r\n",
    "def weighted_rating_apply(df):\r\n",
    "    df['imdb_rating_apply'] = df.apply(weighted_rating, axis= 1)\r\n",
    "    return df\r\n",
    "weighted_rating_apply(df)"
   ],
   "outputs": [
    {
     "output_type": "execute_result",
     "data": {
      "text/html": [
       "<div>\n",
       "<style scoped>\n",
       "    .dataframe tbody tr th:only-of-type {\n",
       "        vertical-align: middle;\n",
       "    }\n",
       "\n",
       "    .dataframe tbody tr th {\n",
       "        vertical-align: top;\n",
       "    }\n",
       "\n",
       "    .dataframe thead th {\n",
       "        text-align: right;\n",
       "    }\n",
       "</style>\n",
       "<table border=\"1\" class=\"dataframe\">\n",
       "  <thead>\n",
       "    <tr style=\"text-align: right;\">\n",
       "      <th></th>\n",
       "      <th>adult</th>\n",
       "      <th>belongs_to_collection</th>\n",
       "      <th>budget</th>\n",
       "      <th>genres</th>\n",
       "      <th>homepage</th>\n",
       "      <th>id</th>\n",
       "      <th>imdb_id</th>\n",
       "      <th>original_language</th>\n",
       "      <th>original_title</th>\n",
       "      <th>overview</th>\n",
       "      <th>...</th>\n",
       "      <th>spoken_languages</th>\n",
       "      <th>status</th>\n",
       "      <th>tagline</th>\n",
       "      <th>title</th>\n",
       "      <th>video</th>\n",
       "      <th>vote_average</th>\n",
       "      <th>vote_count</th>\n",
       "      <th>imdb_rating</th>\n",
       "      <th>imdb_rating_iter</th>\n",
       "      <th>imdb_rating_apply</th>\n",
       "    </tr>\n",
       "  </thead>\n",
       "  <tbody>\n",
       "    <tr>\n",
       "      <th>0</th>\n",
       "      <td>False</td>\n",
       "      <td>{'id': 10194, 'name': 'Toy Story Collection', ...</td>\n",
       "      <td>30000000</td>\n",
       "      <td>[{'id': 16, 'name': 'Animation'}, {'id': 35, '...</td>\n",
       "      <td>http://toystory.disney.com/toy-story</td>\n",
       "      <td>862</td>\n",
       "      <td>tt0114709</td>\n",
       "      <td>en</td>\n",
       "      <td>Toy Story</td>\n",
       "      <td>Led by Woody, Andy's toys live happily in his ...</td>\n",
       "      <td>...</td>\n",
       "      <td>[{'iso_639_1': 'en', 'name': 'English'}]</td>\n",
       "      <td>Released</td>\n",
       "      <td>None</td>\n",
       "      <td>Toy Story</td>\n",
       "      <td>False</td>\n",
       "      <td>7.7</td>\n",
       "      <td>5415.0</td>\n",
       "      <td>7.375533</td>\n",
       "      <td>7.375533</td>\n",
       "      <td>7.375533</td>\n",
       "    </tr>\n",
       "    <tr>\n",
       "      <th>1</th>\n",
       "      <td>False</td>\n",
       "      <td>None</td>\n",
       "      <td>65000000</td>\n",
       "      <td>[{'id': 12, 'name': 'Adventure'}, {'id': 14, '...</td>\n",
       "      <td>None</td>\n",
       "      <td>8844</td>\n",
       "      <td>tt0113497</td>\n",
       "      <td>en</td>\n",
       "      <td>Jumanji</td>\n",
       "      <td>When siblings Judy and Peter discover an encha...</td>\n",
       "      <td>...</td>\n",
       "      <td>[{'iso_639_1': 'en', 'name': 'English'}, {'iso...</td>\n",
       "      <td>Released</td>\n",
       "      <td>Roll the dice and unleash the excitement!</td>\n",
       "      <td>Jumanji</td>\n",
       "      <td>False</td>\n",
       "      <td>6.9</td>\n",
       "      <td>2413.0</td>\n",
       "      <td>6.524536</td>\n",
       "      <td>6.524536</td>\n",
       "      <td>6.524536</td>\n",
       "    </tr>\n",
       "    <tr>\n",
       "      <th>2</th>\n",
       "      <td>False</td>\n",
       "      <td>{'id': 119050, 'name': 'Grumpy Old Men Collect...</td>\n",
       "      <td>0</td>\n",
       "      <td>[{'id': 10749, 'name': 'Romance'}, {'id': 35, ...</td>\n",
       "      <td>None</td>\n",
       "      <td>15602</td>\n",
       "      <td>tt0113228</td>\n",
       "      <td>en</td>\n",
       "      <td>Grumpier Old Men</td>\n",
       "      <td>A family wedding reignites the ancient feud be...</td>\n",
       "      <td>...</td>\n",
       "      <td>[{'iso_639_1': 'en', 'name': 'English'}]</td>\n",
       "      <td>Released</td>\n",
       "      <td>Still Yelling. Still Fighting. Still Ready for...</td>\n",
       "      <td>Grumpier Old Men</td>\n",
       "      <td>False</td>\n",
       "      <td>6.5</td>\n",
       "      <td>92.0</td>\n",
       "      <td>NaN</td>\n",
       "      <td>NaN</td>\n",
       "      <td>NaN</td>\n",
       "    </tr>\n",
       "    <tr>\n",
       "      <th>3</th>\n",
       "      <td>False</td>\n",
       "      <td>None</td>\n",
       "      <td>16000000</td>\n",
       "      <td>[{'id': 35, 'name': 'Comedy'}, {'id': 18, 'nam...</td>\n",
       "      <td>None</td>\n",
       "      <td>31357</td>\n",
       "      <td>tt0114885</td>\n",
       "      <td>en</td>\n",
       "      <td>Waiting to Exhale</td>\n",
       "      <td>Cheated on, mistreated and stepped on, the wom...</td>\n",
       "      <td>...</td>\n",
       "      <td>[{'iso_639_1': 'en', 'name': 'English'}]</td>\n",
       "      <td>Released</td>\n",
       "      <td>Friends are the people who let you be yourself...</td>\n",
       "      <td>Waiting to Exhale</td>\n",
       "      <td>False</td>\n",
       "      <td>6.1</td>\n",
       "      <td>34.0</td>\n",
       "      <td>NaN</td>\n",
       "      <td>NaN</td>\n",
       "      <td>NaN</td>\n",
       "    </tr>\n",
       "    <tr>\n",
       "      <th>4</th>\n",
       "      <td>False</td>\n",
       "      <td>{'id': 96871, 'name': 'Father of the Bride Col...</td>\n",
       "      <td>0</td>\n",
       "      <td>[{'id': 35, 'name': 'Comedy'}]</td>\n",
       "      <td>None</td>\n",
       "      <td>11862</td>\n",
       "      <td>tt0113041</td>\n",
       "      <td>en</td>\n",
       "      <td>Father of the Bride Part II</td>\n",
       "      <td>Just when George Banks has recovered from his ...</td>\n",
       "      <td>...</td>\n",
       "      <td>[{'iso_639_1': 'en', 'name': 'English'}]</td>\n",
       "      <td>Released</td>\n",
       "      <td>Just When His World Is Back To Normal... He's ...</td>\n",
       "      <td>Father of the Bride Part II</td>\n",
       "      <td>False</td>\n",
       "      <td>5.7</td>\n",
       "      <td>173.0</td>\n",
       "      <td>NaN</td>\n",
       "      <td>NaN</td>\n",
       "      <td>NaN</td>\n",
       "    </tr>\n",
       "    <tr>\n",
       "      <th>...</th>\n",
       "      <td>...</td>\n",
       "      <td>...</td>\n",
       "      <td>...</td>\n",
       "      <td>...</td>\n",
       "      <td>...</td>\n",
       "      <td>...</td>\n",
       "      <td>...</td>\n",
       "      <td>...</td>\n",
       "      <td>...</td>\n",
       "      <td>...</td>\n",
       "      <td>...</td>\n",
       "      <td>...</td>\n",
       "      <td>...</td>\n",
       "      <td>...</td>\n",
       "      <td>...</td>\n",
       "      <td>...</td>\n",
       "      <td>...</td>\n",
       "      <td>...</td>\n",
       "      <td>...</td>\n",
       "      <td>...</td>\n",
       "      <td>...</td>\n",
       "    </tr>\n",
       "    <tr>\n",
       "      <th>45446</th>\n",
       "      <td>False</td>\n",
       "      <td>None</td>\n",
       "      <td>0</td>\n",
       "      <td>[{'id': 18, 'name': 'Drama'}, {'id': 10751, 'n...</td>\n",
       "      <td>http://www.imdb.com/title/tt6209470/</td>\n",
       "      <td>439050</td>\n",
       "      <td>tt6209470</td>\n",
       "      <td>fa</td>\n",
       "      <td>رگ خواب</td>\n",
       "      <td>Rising and falling between a man and woman.</td>\n",
       "      <td>...</td>\n",
       "      <td>[{'iso_639_1': 'fa', 'name': 'فارسی'}]</td>\n",
       "      <td>Released</td>\n",
       "      <td>Rising and falling between a man and woman</td>\n",
       "      <td>Subdue</td>\n",
       "      <td>False</td>\n",
       "      <td>4.0</td>\n",
       "      <td>1.0</td>\n",
       "      <td>NaN</td>\n",
       "      <td>NaN</td>\n",
       "      <td>NaN</td>\n",
       "    </tr>\n",
       "    <tr>\n",
       "      <th>45447</th>\n",
       "      <td>False</td>\n",
       "      <td>None</td>\n",
       "      <td>0</td>\n",
       "      <td>[{'id': 18, 'name': 'Drama'}]</td>\n",
       "      <td>None</td>\n",
       "      <td>111109</td>\n",
       "      <td>tt2028550</td>\n",
       "      <td>tl</td>\n",
       "      <td>Siglo ng Pagluluwal</td>\n",
       "      <td>An artist struggles to finish his work while a...</td>\n",
       "      <td>...</td>\n",
       "      <td>[{'iso_639_1': 'tl', 'name': ''}]</td>\n",
       "      <td>Released</td>\n",
       "      <td>None</td>\n",
       "      <td>Century of Birthing</td>\n",
       "      <td>False</td>\n",
       "      <td>9.0</td>\n",
       "      <td>3.0</td>\n",
       "      <td>NaN</td>\n",
       "      <td>NaN</td>\n",
       "      <td>NaN</td>\n",
       "    </tr>\n",
       "    <tr>\n",
       "      <th>45448</th>\n",
       "      <td>False</td>\n",
       "      <td>None</td>\n",
       "      <td>0</td>\n",
       "      <td>[{'id': 28, 'name': 'Action'}, {'id': 18, 'nam...</td>\n",
       "      <td>None</td>\n",
       "      <td>67758</td>\n",
       "      <td>tt0303758</td>\n",
       "      <td>en</td>\n",
       "      <td>Betrayal</td>\n",
       "      <td>When one of her hits goes wrong, a professiona...</td>\n",
       "      <td>...</td>\n",
       "      <td>[{'iso_639_1': 'en', 'name': 'English'}]</td>\n",
       "      <td>Released</td>\n",
       "      <td>A deadly game of wits.</td>\n",
       "      <td>Betrayal</td>\n",
       "      <td>False</td>\n",
       "      <td>3.8</td>\n",
       "      <td>6.0</td>\n",
       "      <td>NaN</td>\n",
       "      <td>NaN</td>\n",
       "      <td>NaN</td>\n",
       "    </tr>\n",
       "    <tr>\n",
       "      <th>45449</th>\n",
       "      <td>False</td>\n",
       "      <td>None</td>\n",
       "      <td>0</td>\n",
       "      <td>[]</td>\n",
       "      <td>None</td>\n",
       "      <td>227506</td>\n",
       "      <td>tt0008536</td>\n",
       "      <td>en</td>\n",
       "      <td>Satana likuyushchiy</td>\n",
       "      <td>In a small town live two brothers, one a minis...</td>\n",
       "      <td>...</td>\n",
       "      <td>[]</td>\n",
       "      <td>Released</td>\n",
       "      <td>None</td>\n",
       "      <td>Satan Triumphant</td>\n",
       "      <td>False</td>\n",
       "      <td>0.0</td>\n",
       "      <td>0.0</td>\n",
       "      <td>NaN</td>\n",
       "      <td>NaN</td>\n",
       "      <td>NaN</td>\n",
       "    </tr>\n",
       "    <tr>\n",
       "      <th>45450</th>\n",
       "      <td>False</td>\n",
       "      <td>None</td>\n",
       "      <td>0</td>\n",
       "      <td>[]</td>\n",
       "      <td>None</td>\n",
       "      <td>461257</td>\n",
       "      <td>tt6980792</td>\n",
       "      <td>en</td>\n",
       "      <td>Queerama</td>\n",
       "      <td>50 years after decriminalisation of homosexual...</td>\n",
       "      <td>...</td>\n",
       "      <td>[{'iso_639_1': 'en', 'name': 'English'}]</td>\n",
       "      <td>Released</td>\n",
       "      <td>None</td>\n",
       "      <td>Queerama</td>\n",
       "      <td>False</td>\n",
       "      <td>0.0</td>\n",
       "      <td>0.0</td>\n",
       "      <td>NaN</td>\n",
       "      <td>NaN</td>\n",
       "      <td>NaN</td>\n",
       "    </tr>\n",
       "  </tbody>\n",
       "</table>\n",
       "<p>45451 rows × 27 columns</p>\n",
       "</div>"
      ],
      "text/plain": [
       "       adult                              belongs_to_collection    budget  \\\n",
       "0      False  {'id': 10194, 'name': 'Toy Story Collection', ...  30000000   \n",
       "1      False                                               None  65000000   \n",
       "2      False  {'id': 119050, 'name': 'Grumpy Old Men Collect...         0   \n",
       "3      False                                               None  16000000   \n",
       "4      False  {'id': 96871, 'name': 'Father of the Bride Col...         0   \n",
       "...      ...                                                ...       ...   \n",
       "45446  False                                               None         0   \n",
       "45447  False                                               None         0   \n",
       "45448  False                                               None         0   \n",
       "45449  False                                               None         0   \n",
       "45450  False                                               None         0   \n",
       "\n",
       "                                                  genres  \\\n",
       "0      [{'id': 16, 'name': 'Animation'}, {'id': 35, '...   \n",
       "1      [{'id': 12, 'name': 'Adventure'}, {'id': 14, '...   \n",
       "2      [{'id': 10749, 'name': 'Romance'}, {'id': 35, ...   \n",
       "3      [{'id': 35, 'name': 'Comedy'}, {'id': 18, 'nam...   \n",
       "4                         [{'id': 35, 'name': 'Comedy'}]   \n",
       "...                                                  ...   \n",
       "45446  [{'id': 18, 'name': 'Drama'}, {'id': 10751, 'n...   \n",
       "45447                      [{'id': 18, 'name': 'Drama'}]   \n",
       "45448  [{'id': 28, 'name': 'Action'}, {'id': 18, 'nam...   \n",
       "45449                                                 []   \n",
       "45450                                                 []   \n",
       "\n",
       "                                   homepage      id    imdb_id  \\\n",
       "0      http://toystory.disney.com/toy-story     862  tt0114709   \n",
       "1                                      None    8844  tt0113497   \n",
       "2                                      None   15602  tt0113228   \n",
       "3                                      None   31357  tt0114885   \n",
       "4                                      None   11862  tt0113041   \n",
       "...                                     ...     ...        ...   \n",
       "45446  http://www.imdb.com/title/tt6209470/  439050  tt6209470   \n",
       "45447                                  None  111109  tt2028550   \n",
       "45448                                  None   67758  tt0303758   \n",
       "45449                                  None  227506  tt0008536   \n",
       "45450                                  None  461257  tt6980792   \n",
       "\n",
       "      original_language               original_title  \\\n",
       "0                    en                    Toy Story   \n",
       "1                    en                      Jumanji   \n",
       "2                    en             Grumpier Old Men   \n",
       "3                    en            Waiting to Exhale   \n",
       "4                    en  Father of the Bride Part II   \n",
       "...                 ...                          ...   \n",
       "45446                fa                      رگ خواب   \n",
       "45447                tl          Siglo ng Pagluluwal   \n",
       "45448                en                     Betrayal   \n",
       "45449                en          Satana likuyushchiy   \n",
       "45450                en                     Queerama   \n",
       "\n",
       "                                                overview  ...  \\\n",
       "0      Led by Woody, Andy's toys live happily in his ...  ...   \n",
       "1      When siblings Judy and Peter discover an encha...  ...   \n",
       "2      A family wedding reignites the ancient feud be...  ...   \n",
       "3      Cheated on, mistreated and stepped on, the wom...  ...   \n",
       "4      Just when George Banks has recovered from his ...  ...   \n",
       "...                                                  ...  ...   \n",
       "45446        Rising and falling between a man and woman.  ...   \n",
       "45447  An artist struggles to finish his work while a...  ...   \n",
       "45448  When one of her hits goes wrong, a professiona...  ...   \n",
       "45449  In a small town live two brothers, one a minis...  ...   \n",
       "45450  50 years after decriminalisation of homosexual...  ...   \n",
       "\n",
       "                                        spoken_languages    status  \\\n",
       "0               [{'iso_639_1': 'en', 'name': 'English'}]  Released   \n",
       "1      [{'iso_639_1': 'en', 'name': 'English'}, {'iso...  Released   \n",
       "2               [{'iso_639_1': 'en', 'name': 'English'}]  Released   \n",
       "3               [{'iso_639_1': 'en', 'name': 'English'}]  Released   \n",
       "4               [{'iso_639_1': 'en', 'name': 'English'}]  Released   \n",
       "...                                                  ...       ...   \n",
       "45446             [{'iso_639_1': 'fa', 'name': 'فارسی'}]  Released   \n",
       "45447                  [{'iso_639_1': 'tl', 'name': ''}]  Released   \n",
       "45448           [{'iso_639_1': 'en', 'name': 'English'}]  Released   \n",
       "45449                                                 []  Released   \n",
       "45450           [{'iso_639_1': 'en', 'name': 'English'}]  Released   \n",
       "\n",
       "                                                 tagline  \\\n",
       "0                                                   None   \n",
       "1              Roll the dice and unleash the excitement!   \n",
       "2      Still Yelling. Still Fighting. Still Ready for...   \n",
       "3      Friends are the people who let you be yourself...   \n",
       "4      Just When His World Is Back To Normal... He's ...   \n",
       "...                                                  ...   \n",
       "45446         Rising and falling between a man and woman   \n",
       "45447                                               None   \n",
       "45448                             A deadly game of wits.   \n",
       "45449                                               None   \n",
       "45450                                               None   \n",
       "\n",
       "                             title  video vote_average vote_count imdb_rating  \\\n",
       "0                        Toy Story  False          7.7     5415.0    7.375533   \n",
       "1                          Jumanji  False          6.9     2413.0    6.524536   \n",
       "2                 Grumpier Old Men  False          6.5       92.0         NaN   \n",
       "3                Waiting to Exhale  False          6.1       34.0         NaN   \n",
       "4      Father of the Bride Part II  False          5.7      173.0         NaN   \n",
       "...                            ...    ...          ...        ...         ...   \n",
       "45446                       Subdue  False          4.0        1.0         NaN   \n",
       "45447          Century of Birthing  False          9.0        3.0         NaN   \n",
       "45448                     Betrayal  False          3.8        6.0         NaN   \n",
       "45449             Satan Triumphant  False          0.0        0.0         NaN   \n",
       "45450                     Queerama  False          0.0        0.0         NaN   \n",
       "\n",
       "      imdb_rating_iter imdb_rating_apply  \n",
       "0             7.375533          7.375533  \n",
       "1             6.524536          6.524536  \n",
       "2                  NaN               NaN  \n",
       "3                  NaN               NaN  \n",
       "4                  NaN               NaN  \n",
       "...                ...               ...  \n",
       "45446              NaN               NaN  \n",
       "45447              NaN               NaN  \n",
       "45448              NaN               NaN  \n",
       "45449              NaN               NaN  \n",
       "45450              NaN               NaN  \n",
       "\n",
       "[45451 rows x 27 columns]"
      ]
     },
     "metadata": {},
     "execution_count": 18
    }
   ],
   "metadata": {
    "id": "Gk3SdbQs8ghG"
   }
  },
  {
   "cell_type": "markdown",
   "source": [
    "Call the function and make sure that it works as intended."
   ],
   "metadata": {
    "id": "jBgP1e1uCMlF"
   }
  },
  {
   "cell_type": "code",
   "execution_count": 19,
   "source": [
    "weighted_rating_apply(df)\r\n",
    "\r\n",
    "pd.testing.assert_series_equal(\r\n",
    "    df.imdb_rating, df.imdb_rating_apply, check_names=False\r\n",
    ")\r\n",
    "\r\n",
    "columns_to_show = ['id', 'original_title'] + \\\r\n",
    "                  list(df.columns[df.columns.str.startswith('imdb_rating')])\r\n",
    "df[columns_to_show].head()"
   ],
   "outputs": [
    {
     "output_type": "execute_result",
     "data": {
      "text/html": [
       "<div>\n",
       "<style scoped>\n",
       "    .dataframe tbody tr th:only-of-type {\n",
       "        vertical-align: middle;\n",
       "    }\n",
       "\n",
       "    .dataframe tbody tr th {\n",
       "        vertical-align: top;\n",
       "    }\n",
       "\n",
       "    .dataframe thead th {\n",
       "        text-align: right;\n",
       "    }\n",
       "</style>\n",
       "<table border=\"1\" class=\"dataframe\">\n",
       "  <thead>\n",
       "    <tr style=\"text-align: right;\">\n",
       "      <th></th>\n",
       "      <th>id</th>\n",
       "      <th>original_title</th>\n",
       "      <th>imdb_rating</th>\n",
       "      <th>imdb_rating_iter</th>\n",
       "      <th>imdb_rating_apply</th>\n",
       "    </tr>\n",
       "  </thead>\n",
       "  <tbody>\n",
       "    <tr>\n",
       "      <th>0</th>\n",
       "      <td>862</td>\n",
       "      <td>Toy Story</td>\n",
       "      <td>7.375533</td>\n",
       "      <td>7.375533</td>\n",
       "      <td>7.375533</td>\n",
       "    </tr>\n",
       "    <tr>\n",
       "      <th>1</th>\n",
       "      <td>8844</td>\n",
       "      <td>Jumanji</td>\n",
       "      <td>6.524536</td>\n",
       "      <td>6.524536</td>\n",
       "      <td>6.524536</td>\n",
       "    </tr>\n",
       "    <tr>\n",
       "      <th>2</th>\n",
       "      <td>15602</td>\n",
       "      <td>Grumpier Old Men</td>\n",
       "      <td>NaN</td>\n",
       "      <td>NaN</td>\n",
       "      <td>NaN</td>\n",
       "    </tr>\n",
       "    <tr>\n",
       "      <th>3</th>\n",
       "      <td>31357</td>\n",
       "      <td>Waiting to Exhale</td>\n",
       "      <td>NaN</td>\n",
       "      <td>NaN</td>\n",
       "      <td>NaN</td>\n",
       "    </tr>\n",
       "    <tr>\n",
       "      <th>4</th>\n",
       "      <td>11862</td>\n",
       "      <td>Father of the Bride Part II</td>\n",
       "      <td>NaN</td>\n",
       "      <td>NaN</td>\n",
       "      <td>NaN</td>\n",
       "    </tr>\n",
       "  </tbody>\n",
       "</table>\n",
       "</div>"
      ],
      "text/plain": [
       "      id               original_title  imdb_rating  imdb_rating_iter  \\\n",
       "0    862                    Toy Story     7.375533          7.375533   \n",
       "1   8844                      Jumanji     6.524536          6.524536   \n",
       "2  15602             Grumpier Old Men          NaN               NaN   \n",
       "3  31357            Waiting to Exhale          NaN               NaN   \n",
       "4  11862  Father of the Bride Part II          NaN               NaN   \n",
       "\n",
       "   imdb_rating_apply  \n",
       "0           7.375533  \n",
       "1           6.524536  \n",
       "2                NaN  \n",
       "3                NaN  \n",
       "4                NaN  "
      ]
     },
     "metadata": {},
     "execution_count": 19
    }
   ],
   "metadata": {
    "id": "wUaYXC_RCMlK"
   }
  },
  {
   "cell_type": "markdown",
   "source": [
    "Time the performance of the function."
   ],
   "metadata": {
    "id": "C9jjZI14CMlO"
   }
  },
  {
   "cell_type": "code",
   "execution_count": 20,
   "source": [
    "apply_time = %timeit -r 3 -o weighted_rating_apply(df)\r\n",
    "print(\"Best time:\", apply_time.best)"
   ],
   "outputs": [
    {
     "output_type": "stream",
     "name": "stdout",
     "text": [
      "431 ms ± 2.98 ms per loop (mean ± std. dev. of 3 runs, 1 loop each)\n",
      "Best time: 0.42748949999997876\n"
     ]
    }
   ],
   "metadata": {
    "id": "jqggBfTMCMlP"
   }
  },
  {
   "cell_type": "markdown",
   "source": [
    "Update the score board with the best time, marginal and overall performance change you have obtained. Display the updated table below. "
   ],
   "metadata": {
    "id": "9DzMnzf4CMlS"
   }
  },
  {
   "cell_type": "code",
   "execution_count": 21,
   "source": [
    "# your code goes here\r\n",
    "timings.iloc[2:3,0:3]= [apply_time.best, iterrows_time.best/apply_time.best, basic_time.best/apply_time.best]\r\n",
    "timings"
   ],
   "outputs": [
    {
     "output_type": "execute_result",
     "data": {
      "text/html": [
       "<div>\n",
       "<style scoped>\n",
       "    .dataframe tbody tr th:only-of-type {\n",
       "        vertical-align: middle;\n",
       "    }\n",
       "\n",
       "    .dataframe tbody tr th {\n",
       "        vertical-align: top;\n",
       "    }\n",
       "\n",
       "    .dataframe thead th {\n",
       "        text-align: right;\n",
       "    }\n",
       "</style>\n",
       "<table border=\"1\" class=\"dataframe\">\n",
       "  <thead>\n",
       "    <tr style=\"text-align: right;\">\n",
       "      <th></th>\n",
       "      <th>Best single run time (s)</th>\n",
       "      <th>Marginal performance improvement</th>\n",
       "      <th>Performance improvement over basic looping</th>\n",
       "      <th>Best single run time (s, teacher)</th>\n",
       "      <th>Marginal performance improvement (teacher)</th>\n",
       "      <th>Performance improvement over basic looping (teacher)</th>\n",
       "    </tr>\n",
       "  </thead>\n",
       "  <tbody>\n",
       "    <tr>\n",
       "      <th>Basic looping</th>\n",
       "      <td>4.179331</td>\n",
       "      <td>NaN</td>\n",
       "      <td>NaN</td>\n",
       "      <td>9.37000</td>\n",
       "      <td>NaN</td>\n",
       "      <td>NaN</td>\n",
       "    </tr>\n",
       "    <tr>\n",
       "      <th>Iterrows looping</th>\n",
       "      <td>1.637895</td>\n",
       "      <td>2.551649</td>\n",
       "      <td>2.551649</td>\n",
       "      <td>3.87000</td>\n",
       "      <td>x2.42</td>\n",
       "      <td>x2.42</td>\n",
       "    </tr>\n",
       "    <tr>\n",
       "      <th>apply()</th>\n",
       "      <td>0.427489</td>\n",
       "      <td>3.831427</td>\n",
       "      <td>9.776454</td>\n",
       "      <td>0.56200</td>\n",
       "      <td>x6.88</td>\n",
       "      <td>x16.69</td>\n",
       "    </tr>\n",
       "    <tr>\n",
       "      <th>Pandas vectorisation</th>\n",
       "      <td>NaN</td>\n",
       "      <td>NaN</td>\n",
       "      <td>NaN</td>\n",
       "      <td>0.00540</td>\n",
       "      <td>x103.8</td>\n",
       "      <td>x1732.17</td>\n",
       "    </tr>\n",
       "    <tr>\n",
       "      <th>NumPy vectorisation</th>\n",
       "      <td>NaN</td>\n",
       "      <td>NaN</td>\n",
       "      <td>NaN</td>\n",
       "      <td>0.00084</td>\n",
       "      <td>x6.45</td>\n",
       "      <td>x11172.98</td>\n",
       "    </tr>\n",
       "  </tbody>\n",
       "</table>\n",
       "</div>"
      ],
      "text/plain": [
       "                      Best single run time (s)  \\\n",
       "Basic looping                         4.179331   \n",
       "Iterrows looping                      1.637895   \n",
       "apply()                               0.427489   \n",
       "Pandas vectorisation                       NaN   \n",
       "NumPy vectorisation                        NaN   \n",
       "\n",
       "                      Marginal performance improvement  \\\n",
       "Basic looping                                      NaN   \n",
       "Iterrows looping                              2.551649   \n",
       "apply()                                       3.831427   \n",
       "Pandas vectorisation                               NaN   \n",
       "NumPy vectorisation                                NaN   \n",
       "\n",
       "                      Performance improvement over basic looping  \\\n",
       "Basic looping                                                NaN   \n",
       "Iterrows looping                                        2.551649   \n",
       "apply()                                                 9.776454   \n",
       "Pandas vectorisation                                         NaN   \n",
       "NumPy vectorisation                                          NaN   \n",
       "\n",
       "                      Best single run time (s, teacher)  \\\n",
       "Basic looping                                   9.37000   \n",
       "Iterrows looping                                3.87000   \n",
       "apply()                                         0.56200   \n",
       "Pandas vectorisation                            0.00540   \n",
       "NumPy vectorisation                             0.00084   \n",
       "\n",
       "                     Marginal performance improvement (teacher)  \\\n",
       "Basic looping                                               NaN   \n",
       "Iterrows looping                                          x2.42   \n",
       "apply()                                                   x6.88   \n",
       "Pandas vectorisation                                     x103.8   \n",
       "NumPy vectorisation                                       x6.45   \n",
       "\n",
       "                     Performance improvement over basic looping (teacher)  \n",
       "Basic looping                                                       NaN    \n",
       "Iterrows looping                                                  x2.42    \n",
       "apply()                                                          x16.69    \n",
       "Pandas vectorisation                                           x1732.17    \n",
       "NumPy vectorisation                                           x11172.98    "
      ]
     },
     "metadata": {},
     "execution_count": 21
    }
   ],
   "metadata": {
    "id": "-4RSuVOYV0JZ"
   }
  },
  {
   "cell_type": "markdown",
   "source": [
    "## Part 3: Vectorised solution with Pandas (12.5 pts)"
   ],
   "metadata": {
    "id": "TZHPgFMsED_6"
   }
  },
  {
   "cell_type": "markdown",
   "source": [
    "Let's find a vectorised solution using Pandas. You have to define a function `weighted_rating_pandas(df)` that computes the ratings in a vectorised way and stores them in a new column of the DataFrame called `imdb_rating_pandas`. Use Pandas operations only: don't transform your data into NumPy arrays."
   ],
   "metadata": {
    "id": "CI7zQxGNGZnX"
   }
  },
  {
   "cell_type": "code",
   "execution_count": 22,
   "source": [
    "temp = df[df['vote_count'] > m]\r\n",
    "v = temp['vote_count']\r\n",
    "R = temp['vote_average']\r\n",
    "def weighted_rating_pandas(df,v,R):\r\n",
    "    df['imdb_rating_pandas'] = pd.Series((v/(v+m) * R) + (m/(v+m) * C)).astype(float)\r\n",
    "    return df\r\n",
    "\r\n",
    "weighted_rating_pandas(df,v,R)"
   ],
   "outputs": [
    {
     "output_type": "execute_result",
     "data": {
      "text/html": [
       "<div>\n",
       "<style scoped>\n",
       "    .dataframe tbody tr th:only-of-type {\n",
       "        vertical-align: middle;\n",
       "    }\n",
       "\n",
       "    .dataframe tbody tr th {\n",
       "        vertical-align: top;\n",
       "    }\n",
       "\n",
       "    .dataframe thead th {\n",
       "        text-align: right;\n",
       "    }\n",
       "</style>\n",
       "<table border=\"1\" class=\"dataframe\">\n",
       "  <thead>\n",
       "    <tr style=\"text-align: right;\">\n",
       "      <th></th>\n",
       "      <th>adult</th>\n",
       "      <th>belongs_to_collection</th>\n",
       "      <th>budget</th>\n",
       "      <th>genres</th>\n",
       "      <th>homepage</th>\n",
       "      <th>id</th>\n",
       "      <th>imdb_id</th>\n",
       "      <th>original_language</th>\n",
       "      <th>original_title</th>\n",
       "      <th>overview</th>\n",
       "      <th>...</th>\n",
       "      <th>status</th>\n",
       "      <th>tagline</th>\n",
       "      <th>title</th>\n",
       "      <th>video</th>\n",
       "      <th>vote_average</th>\n",
       "      <th>vote_count</th>\n",
       "      <th>imdb_rating</th>\n",
       "      <th>imdb_rating_iter</th>\n",
       "      <th>imdb_rating_apply</th>\n",
       "      <th>imdb_rating_pandas</th>\n",
       "    </tr>\n",
       "  </thead>\n",
       "  <tbody>\n",
       "    <tr>\n",
       "      <th>0</th>\n",
       "      <td>False</td>\n",
       "      <td>{'id': 10194, 'name': 'Toy Story Collection', ...</td>\n",
       "      <td>30000000</td>\n",
       "      <td>[{'id': 16, 'name': 'Animation'}, {'id': 35, '...</td>\n",
       "      <td>http://toystory.disney.com/toy-story</td>\n",
       "      <td>862</td>\n",
       "      <td>tt0114709</td>\n",
       "      <td>en</td>\n",
       "      <td>Toy Story</td>\n",
       "      <td>Led by Woody, Andy's toys live happily in his ...</td>\n",
       "      <td>...</td>\n",
       "      <td>Released</td>\n",
       "      <td>None</td>\n",
       "      <td>Toy Story</td>\n",
       "      <td>False</td>\n",
       "      <td>7.7</td>\n",
       "      <td>5415.0</td>\n",
       "      <td>7.375533</td>\n",
       "      <td>7.375533</td>\n",
       "      <td>7.375533</td>\n",
       "      <td>7.375533</td>\n",
       "    </tr>\n",
       "    <tr>\n",
       "      <th>1</th>\n",
       "      <td>False</td>\n",
       "      <td>None</td>\n",
       "      <td>65000000</td>\n",
       "      <td>[{'id': 12, 'name': 'Adventure'}, {'id': 14, '...</td>\n",
       "      <td>None</td>\n",
       "      <td>8844</td>\n",
       "      <td>tt0113497</td>\n",
       "      <td>en</td>\n",
       "      <td>Jumanji</td>\n",
       "      <td>When siblings Judy and Peter discover an encha...</td>\n",
       "      <td>...</td>\n",
       "      <td>Released</td>\n",
       "      <td>Roll the dice and unleash the excitement!</td>\n",
       "      <td>Jumanji</td>\n",
       "      <td>False</td>\n",
       "      <td>6.9</td>\n",
       "      <td>2413.0</td>\n",
       "      <td>6.524536</td>\n",
       "      <td>6.524536</td>\n",
       "      <td>6.524536</td>\n",
       "      <td>6.524536</td>\n",
       "    </tr>\n",
       "    <tr>\n",
       "      <th>2</th>\n",
       "      <td>False</td>\n",
       "      <td>{'id': 119050, 'name': 'Grumpy Old Men Collect...</td>\n",
       "      <td>0</td>\n",
       "      <td>[{'id': 10749, 'name': 'Romance'}, {'id': 35, ...</td>\n",
       "      <td>None</td>\n",
       "      <td>15602</td>\n",
       "      <td>tt0113228</td>\n",
       "      <td>en</td>\n",
       "      <td>Grumpier Old Men</td>\n",
       "      <td>A family wedding reignites the ancient feud be...</td>\n",
       "      <td>...</td>\n",
       "      <td>Released</td>\n",
       "      <td>Still Yelling. Still Fighting. Still Ready for...</td>\n",
       "      <td>Grumpier Old Men</td>\n",
       "      <td>False</td>\n",
       "      <td>6.5</td>\n",
       "      <td>92.0</td>\n",
       "      <td>NaN</td>\n",
       "      <td>NaN</td>\n",
       "      <td>NaN</td>\n",
       "      <td>NaN</td>\n",
       "    </tr>\n",
       "    <tr>\n",
       "      <th>3</th>\n",
       "      <td>False</td>\n",
       "      <td>None</td>\n",
       "      <td>16000000</td>\n",
       "      <td>[{'id': 35, 'name': 'Comedy'}, {'id': 18, 'nam...</td>\n",
       "      <td>None</td>\n",
       "      <td>31357</td>\n",
       "      <td>tt0114885</td>\n",
       "      <td>en</td>\n",
       "      <td>Waiting to Exhale</td>\n",
       "      <td>Cheated on, mistreated and stepped on, the wom...</td>\n",
       "      <td>...</td>\n",
       "      <td>Released</td>\n",
       "      <td>Friends are the people who let you be yourself...</td>\n",
       "      <td>Waiting to Exhale</td>\n",
       "      <td>False</td>\n",
       "      <td>6.1</td>\n",
       "      <td>34.0</td>\n",
       "      <td>NaN</td>\n",
       "      <td>NaN</td>\n",
       "      <td>NaN</td>\n",
       "      <td>NaN</td>\n",
       "    </tr>\n",
       "    <tr>\n",
       "      <th>4</th>\n",
       "      <td>False</td>\n",
       "      <td>{'id': 96871, 'name': 'Father of the Bride Col...</td>\n",
       "      <td>0</td>\n",
       "      <td>[{'id': 35, 'name': 'Comedy'}]</td>\n",
       "      <td>None</td>\n",
       "      <td>11862</td>\n",
       "      <td>tt0113041</td>\n",
       "      <td>en</td>\n",
       "      <td>Father of the Bride Part II</td>\n",
       "      <td>Just when George Banks has recovered from his ...</td>\n",
       "      <td>...</td>\n",
       "      <td>Released</td>\n",
       "      <td>Just When His World Is Back To Normal... He's ...</td>\n",
       "      <td>Father of the Bride Part II</td>\n",
       "      <td>False</td>\n",
       "      <td>5.7</td>\n",
       "      <td>173.0</td>\n",
       "      <td>NaN</td>\n",
       "      <td>NaN</td>\n",
       "      <td>NaN</td>\n",
       "      <td>NaN</td>\n",
       "    </tr>\n",
       "    <tr>\n",
       "      <th>...</th>\n",
       "      <td>...</td>\n",
       "      <td>...</td>\n",
       "      <td>...</td>\n",
       "      <td>...</td>\n",
       "      <td>...</td>\n",
       "      <td>...</td>\n",
       "      <td>...</td>\n",
       "      <td>...</td>\n",
       "      <td>...</td>\n",
       "      <td>...</td>\n",
       "      <td>...</td>\n",
       "      <td>...</td>\n",
       "      <td>...</td>\n",
       "      <td>...</td>\n",
       "      <td>...</td>\n",
       "      <td>...</td>\n",
       "      <td>...</td>\n",
       "      <td>...</td>\n",
       "      <td>...</td>\n",
       "      <td>...</td>\n",
       "      <td>...</td>\n",
       "    </tr>\n",
       "    <tr>\n",
       "      <th>45446</th>\n",
       "      <td>False</td>\n",
       "      <td>None</td>\n",
       "      <td>0</td>\n",
       "      <td>[{'id': 18, 'name': 'Drama'}, {'id': 10751, 'n...</td>\n",
       "      <td>http://www.imdb.com/title/tt6209470/</td>\n",
       "      <td>439050</td>\n",
       "      <td>tt6209470</td>\n",
       "      <td>fa</td>\n",
       "      <td>رگ خواب</td>\n",
       "      <td>Rising and falling between a man and woman.</td>\n",
       "      <td>...</td>\n",
       "      <td>Released</td>\n",
       "      <td>Rising and falling between a man and woman</td>\n",
       "      <td>Subdue</td>\n",
       "      <td>False</td>\n",
       "      <td>4.0</td>\n",
       "      <td>1.0</td>\n",
       "      <td>NaN</td>\n",
       "      <td>NaN</td>\n",
       "      <td>NaN</td>\n",
       "      <td>NaN</td>\n",
       "    </tr>\n",
       "    <tr>\n",
       "      <th>45447</th>\n",
       "      <td>False</td>\n",
       "      <td>None</td>\n",
       "      <td>0</td>\n",
       "      <td>[{'id': 18, 'name': 'Drama'}]</td>\n",
       "      <td>None</td>\n",
       "      <td>111109</td>\n",
       "      <td>tt2028550</td>\n",
       "      <td>tl</td>\n",
       "      <td>Siglo ng Pagluluwal</td>\n",
       "      <td>An artist struggles to finish his work while a...</td>\n",
       "      <td>...</td>\n",
       "      <td>Released</td>\n",
       "      <td>None</td>\n",
       "      <td>Century of Birthing</td>\n",
       "      <td>False</td>\n",
       "      <td>9.0</td>\n",
       "      <td>3.0</td>\n",
       "      <td>NaN</td>\n",
       "      <td>NaN</td>\n",
       "      <td>NaN</td>\n",
       "      <td>NaN</td>\n",
       "    </tr>\n",
       "    <tr>\n",
       "      <th>45448</th>\n",
       "      <td>False</td>\n",
       "      <td>None</td>\n",
       "      <td>0</td>\n",
       "      <td>[{'id': 28, 'name': 'Action'}, {'id': 18, 'nam...</td>\n",
       "      <td>None</td>\n",
       "      <td>67758</td>\n",
       "      <td>tt0303758</td>\n",
       "      <td>en</td>\n",
       "      <td>Betrayal</td>\n",
       "      <td>When one of her hits goes wrong, a professiona...</td>\n",
       "      <td>...</td>\n",
       "      <td>Released</td>\n",
       "      <td>A deadly game of wits.</td>\n",
       "      <td>Betrayal</td>\n",
       "      <td>False</td>\n",
       "      <td>3.8</td>\n",
       "      <td>6.0</td>\n",
       "      <td>NaN</td>\n",
       "      <td>NaN</td>\n",
       "      <td>NaN</td>\n",
       "      <td>NaN</td>\n",
       "    </tr>\n",
       "    <tr>\n",
       "      <th>45449</th>\n",
       "      <td>False</td>\n",
       "      <td>None</td>\n",
       "      <td>0</td>\n",
       "      <td>[]</td>\n",
       "      <td>None</td>\n",
       "      <td>227506</td>\n",
       "      <td>tt0008536</td>\n",
       "      <td>en</td>\n",
       "      <td>Satana likuyushchiy</td>\n",
       "      <td>In a small town live two brothers, one a minis...</td>\n",
       "      <td>...</td>\n",
       "      <td>Released</td>\n",
       "      <td>None</td>\n",
       "      <td>Satan Triumphant</td>\n",
       "      <td>False</td>\n",
       "      <td>0.0</td>\n",
       "      <td>0.0</td>\n",
       "      <td>NaN</td>\n",
       "      <td>NaN</td>\n",
       "      <td>NaN</td>\n",
       "      <td>NaN</td>\n",
       "    </tr>\n",
       "    <tr>\n",
       "      <th>45450</th>\n",
       "      <td>False</td>\n",
       "      <td>None</td>\n",
       "      <td>0</td>\n",
       "      <td>[]</td>\n",
       "      <td>None</td>\n",
       "      <td>461257</td>\n",
       "      <td>tt6980792</td>\n",
       "      <td>en</td>\n",
       "      <td>Queerama</td>\n",
       "      <td>50 years after decriminalisation of homosexual...</td>\n",
       "      <td>...</td>\n",
       "      <td>Released</td>\n",
       "      <td>None</td>\n",
       "      <td>Queerama</td>\n",
       "      <td>False</td>\n",
       "      <td>0.0</td>\n",
       "      <td>0.0</td>\n",
       "      <td>NaN</td>\n",
       "      <td>NaN</td>\n",
       "      <td>NaN</td>\n",
       "      <td>NaN</td>\n",
       "    </tr>\n",
       "  </tbody>\n",
       "</table>\n",
       "<p>45451 rows × 28 columns</p>\n",
       "</div>"
      ],
      "text/plain": [
       "       adult                              belongs_to_collection    budget  \\\n",
       "0      False  {'id': 10194, 'name': 'Toy Story Collection', ...  30000000   \n",
       "1      False                                               None  65000000   \n",
       "2      False  {'id': 119050, 'name': 'Grumpy Old Men Collect...         0   \n",
       "3      False                                               None  16000000   \n",
       "4      False  {'id': 96871, 'name': 'Father of the Bride Col...         0   \n",
       "...      ...                                                ...       ...   \n",
       "45446  False                                               None         0   \n",
       "45447  False                                               None         0   \n",
       "45448  False                                               None         0   \n",
       "45449  False                                               None         0   \n",
       "45450  False                                               None         0   \n",
       "\n",
       "                                                  genres  \\\n",
       "0      [{'id': 16, 'name': 'Animation'}, {'id': 35, '...   \n",
       "1      [{'id': 12, 'name': 'Adventure'}, {'id': 14, '...   \n",
       "2      [{'id': 10749, 'name': 'Romance'}, {'id': 35, ...   \n",
       "3      [{'id': 35, 'name': 'Comedy'}, {'id': 18, 'nam...   \n",
       "4                         [{'id': 35, 'name': 'Comedy'}]   \n",
       "...                                                  ...   \n",
       "45446  [{'id': 18, 'name': 'Drama'}, {'id': 10751, 'n...   \n",
       "45447                      [{'id': 18, 'name': 'Drama'}]   \n",
       "45448  [{'id': 28, 'name': 'Action'}, {'id': 18, 'nam...   \n",
       "45449                                                 []   \n",
       "45450                                                 []   \n",
       "\n",
       "                                   homepage      id    imdb_id  \\\n",
       "0      http://toystory.disney.com/toy-story     862  tt0114709   \n",
       "1                                      None    8844  tt0113497   \n",
       "2                                      None   15602  tt0113228   \n",
       "3                                      None   31357  tt0114885   \n",
       "4                                      None   11862  tt0113041   \n",
       "...                                     ...     ...        ...   \n",
       "45446  http://www.imdb.com/title/tt6209470/  439050  tt6209470   \n",
       "45447                                  None  111109  tt2028550   \n",
       "45448                                  None   67758  tt0303758   \n",
       "45449                                  None  227506  tt0008536   \n",
       "45450                                  None  461257  tt6980792   \n",
       "\n",
       "      original_language               original_title  \\\n",
       "0                    en                    Toy Story   \n",
       "1                    en                      Jumanji   \n",
       "2                    en             Grumpier Old Men   \n",
       "3                    en            Waiting to Exhale   \n",
       "4                    en  Father of the Bride Part II   \n",
       "...                 ...                          ...   \n",
       "45446                fa                      رگ خواب   \n",
       "45447                tl          Siglo ng Pagluluwal   \n",
       "45448                en                     Betrayal   \n",
       "45449                en          Satana likuyushchiy   \n",
       "45450                en                     Queerama   \n",
       "\n",
       "                                                overview  ...    status  \\\n",
       "0      Led by Woody, Andy's toys live happily in his ...  ...  Released   \n",
       "1      When siblings Judy and Peter discover an encha...  ...  Released   \n",
       "2      A family wedding reignites the ancient feud be...  ...  Released   \n",
       "3      Cheated on, mistreated and stepped on, the wom...  ...  Released   \n",
       "4      Just when George Banks has recovered from his ...  ...  Released   \n",
       "...                                                  ...  ...       ...   \n",
       "45446        Rising and falling between a man and woman.  ...  Released   \n",
       "45447  An artist struggles to finish his work while a...  ...  Released   \n",
       "45448  When one of her hits goes wrong, a professiona...  ...  Released   \n",
       "45449  In a small town live two brothers, one a minis...  ...  Released   \n",
       "45450  50 years after decriminalisation of homosexual...  ...  Released   \n",
       "\n",
       "                                                 tagline  \\\n",
       "0                                                   None   \n",
       "1              Roll the dice and unleash the excitement!   \n",
       "2      Still Yelling. Still Fighting. Still Ready for...   \n",
       "3      Friends are the people who let you be yourself...   \n",
       "4      Just When His World Is Back To Normal... He's ...   \n",
       "...                                                  ...   \n",
       "45446         Rising and falling between a man and woman   \n",
       "45447                                               None   \n",
       "45448                             A deadly game of wits.   \n",
       "45449                                               None   \n",
       "45450                                               None   \n",
       "\n",
       "                             title  video vote_average vote_count imdb_rating  \\\n",
       "0                        Toy Story  False          7.7     5415.0    7.375533   \n",
       "1                          Jumanji  False          6.9     2413.0    6.524536   \n",
       "2                 Grumpier Old Men  False          6.5       92.0         NaN   \n",
       "3                Waiting to Exhale  False          6.1       34.0         NaN   \n",
       "4      Father of the Bride Part II  False          5.7      173.0         NaN   \n",
       "...                            ...    ...          ...        ...         ...   \n",
       "45446                       Subdue  False          4.0        1.0         NaN   \n",
       "45447          Century of Birthing  False          9.0        3.0         NaN   \n",
       "45448                     Betrayal  False          3.8        6.0         NaN   \n",
       "45449             Satan Triumphant  False          0.0        0.0         NaN   \n",
       "45450                     Queerama  False          0.0        0.0         NaN   \n",
       "\n",
       "      imdb_rating_iter imdb_rating_apply imdb_rating_pandas  \n",
       "0             7.375533          7.375533           7.375533  \n",
       "1             6.524536          6.524536           6.524536  \n",
       "2                  NaN               NaN                NaN  \n",
       "3                  NaN               NaN                NaN  \n",
       "4                  NaN               NaN                NaN  \n",
       "...                ...               ...                ...  \n",
       "45446              NaN               NaN                NaN  \n",
       "45447              NaN               NaN                NaN  \n",
       "45448              NaN               NaN                NaN  \n",
       "45449              NaN               NaN                NaN  \n",
       "45450              NaN               NaN                NaN  \n",
       "\n",
       "[45451 rows x 28 columns]"
      ]
     },
     "metadata": {},
     "execution_count": 22
    }
   ],
   "metadata": {
    "id": "WqIXsMGFGZnY"
   }
  },
  {
   "cell_type": "markdown",
   "source": [
    "Call the function and make sure it works as intended."
   ],
   "metadata": {
    "id": "qKVGubslGZna"
   }
  },
  {
   "cell_type": "code",
   "execution_count": 23,
   "source": [
    "weighted_rating_pandas(df,v,R)\r\n",
    "\r\n",
    "pd.testing.assert_series_equal(\r\n",
    "    df.imdb_rating, df.imdb_rating_pandas, check_names=False\r\n",
    ")\r\n",
    "\r\n",
    "columns_to_show = ['id', 'original_title'] + \\\r\n",
    "                  list(df.columns[df.columns.str.startswith('imdb_rating')])\r\n",
    "df[columns_to_show].head()"
   ],
   "outputs": [
    {
     "output_type": "execute_result",
     "data": {
      "text/html": [
       "<div>\n",
       "<style scoped>\n",
       "    .dataframe tbody tr th:only-of-type {\n",
       "        vertical-align: middle;\n",
       "    }\n",
       "\n",
       "    .dataframe tbody tr th {\n",
       "        vertical-align: top;\n",
       "    }\n",
       "\n",
       "    .dataframe thead th {\n",
       "        text-align: right;\n",
       "    }\n",
       "</style>\n",
       "<table border=\"1\" class=\"dataframe\">\n",
       "  <thead>\n",
       "    <tr style=\"text-align: right;\">\n",
       "      <th></th>\n",
       "      <th>id</th>\n",
       "      <th>original_title</th>\n",
       "      <th>imdb_rating</th>\n",
       "      <th>imdb_rating_iter</th>\n",
       "      <th>imdb_rating_apply</th>\n",
       "      <th>imdb_rating_pandas</th>\n",
       "    </tr>\n",
       "  </thead>\n",
       "  <tbody>\n",
       "    <tr>\n",
       "      <th>0</th>\n",
       "      <td>862</td>\n",
       "      <td>Toy Story</td>\n",
       "      <td>7.375533</td>\n",
       "      <td>7.375533</td>\n",
       "      <td>7.375533</td>\n",
       "      <td>7.375533</td>\n",
       "    </tr>\n",
       "    <tr>\n",
       "      <th>1</th>\n",
       "      <td>8844</td>\n",
       "      <td>Jumanji</td>\n",
       "      <td>6.524536</td>\n",
       "      <td>6.524536</td>\n",
       "      <td>6.524536</td>\n",
       "      <td>6.524536</td>\n",
       "    </tr>\n",
       "    <tr>\n",
       "      <th>2</th>\n",
       "      <td>15602</td>\n",
       "      <td>Grumpier Old Men</td>\n",
       "      <td>NaN</td>\n",
       "      <td>NaN</td>\n",
       "      <td>NaN</td>\n",
       "      <td>NaN</td>\n",
       "    </tr>\n",
       "    <tr>\n",
       "      <th>3</th>\n",
       "      <td>31357</td>\n",
       "      <td>Waiting to Exhale</td>\n",
       "      <td>NaN</td>\n",
       "      <td>NaN</td>\n",
       "      <td>NaN</td>\n",
       "      <td>NaN</td>\n",
       "    </tr>\n",
       "    <tr>\n",
       "      <th>4</th>\n",
       "      <td>11862</td>\n",
       "      <td>Father of the Bride Part II</td>\n",
       "      <td>NaN</td>\n",
       "      <td>NaN</td>\n",
       "      <td>NaN</td>\n",
       "      <td>NaN</td>\n",
       "    </tr>\n",
       "  </tbody>\n",
       "</table>\n",
       "</div>"
      ],
      "text/plain": [
       "      id               original_title  imdb_rating  imdb_rating_iter  \\\n",
       "0    862                    Toy Story     7.375533          7.375533   \n",
       "1   8844                      Jumanji     6.524536          6.524536   \n",
       "2  15602             Grumpier Old Men          NaN               NaN   \n",
       "3  31357            Waiting to Exhale          NaN               NaN   \n",
       "4  11862  Father of the Bride Part II          NaN               NaN   \n",
       "\n",
       "   imdb_rating_apply  imdb_rating_pandas  \n",
       "0           7.375533            7.375533  \n",
       "1           6.524536            6.524536  \n",
       "2                NaN                 NaN  \n",
       "3                NaN                 NaN  \n",
       "4                NaN                 NaN  "
      ]
     },
     "metadata": {},
     "execution_count": 23
    }
   ],
   "metadata": {
    "id": "yXf4KAj1GZna"
   }
  },
  {
   "cell_type": "markdown",
   "source": [
    "Time the performance of the function."
   ],
   "metadata": {
    "id": "scNFR7X8GZnc"
   }
  },
  {
   "cell_type": "code",
   "execution_count": 24,
   "source": [
    "pandas_time = %timeit -r 3 -o weighted_rating_pandas(df,v,R)\r\n",
    "print(\"Best time:\", pandas_time.best)"
   ],
   "outputs": [
    {
     "output_type": "stream",
     "name": "stdout",
     "text": [
      "1.57 ms ± 3.64 µs per loop (mean ± std. dev. of 3 runs, 1000 loops each)\n",
      "Best time: 0.0015623132000000056\n"
     ]
    }
   ],
   "metadata": {
    "id": "TbhwZZ0mGZnf"
   }
  },
  {
   "cell_type": "markdown",
   "source": [
    "Update the score board with the best time, marginal and overall performance change you have obtained. Display the updated table below. "
   ],
   "metadata": {
    "id": "Xsqz0kUJGZnh"
   }
  },
  {
   "cell_type": "code",
   "execution_count": 25,
   "source": [
    "timings.iloc[3:4,0:3]= [pandas_time.best, apply_time.best/pandas_time.best, basic_time.best/pandas_time.best]\r\n",
    "timings"
   ],
   "outputs": [
    {
     "output_type": "execute_result",
     "data": {
      "text/html": [
       "<div>\n",
       "<style scoped>\n",
       "    .dataframe tbody tr th:only-of-type {\n",
       "        vertical-align: middle;\n",
       "    }\n",
       "\n",
       "    .dataframe tbody tr th {\n",
       "        vertical-align: top;\n",
       "    }\n",
       "\n",
       "    .dataframe thead th {\n",
       "        text-align: right;\n",
       "    }\n",
       "</style>\n",
       "<table border=\"1\" class=\"dataframe\">\n",
       "  <thead>\n",
       "    <tr style=\"text-align: right;\">\n",
       "      <th></th>\n",
       "      <th>Best single run time (s)</th>\n",
       "      <th>Marginal performance improvement</th>\n",
       "      <th>Performance improvement over basic looping</th>\n",
       "      <th>Best single run time (s, teacher)</th>\n",
       "      <th>Marginal performance improvement (teacher)</th>\n",
       "      <th>Performance improvement over basic looping (teacher)</th>\n",
       "    </tr>\n",
       "  </thead>\n",
       "  <tbody>\n",
       "    <tr>\n",
       "      <th>Basic looping</th>\n",
       "      <td>4.179331</td>\n",
       "      <td>NaN</td>\n",
       "      <td>NaN</td>\n",
       "      <td>9.37000</td>\n",
       "      <td>NaN</td>\n",
       "      <td>NaN</td>\n",
       "    </tr>\n",
       "    <tr>\n",
       "      <th>Iterrows looping</th>\n",
       "      <td>1.637895</td>\n",
       "      <td>2.551649</td>\n",
       "      <td>2.551649</td>\n",
       "      <td>3.87000</td>\n",
       "      <td>x2.42</td>\n",
       "      <td>x2.42</td>\n",
       "    </tr>\n",
       "    <tr>\n",
       "      <th>apply()</th>\n",
       "      <td>0.427489</td>\n",
       "      <td>3.831427</td>\n",
       "      <td>9.776454</td>\n",
       "      <td>0.56200</td>\n",
       "      <td>x6.88</td>\n",
       "      <td>x16.69</td>\n",
       "    </tr>\n",
       "    <tr>\n",
       "      <th>Pandas vectorisation</th>\n",
       "      <td>0.001562</td>\n",
       "      <td>273.625993</td>\n",
       "      <td>2675.091845</td>\n",
       "      <td>0.00540</td>\n",
       "      <td>x103.8</td>\n",
       "      <td>x1732.17</td>\n",
       "    </tr>\n",
       "    <tr>\n",
       "      <th>NumPy vectorisation</th>\n",
       "      <td>NaN</td>\n",
       "      <td>NaN</td>\n",
       "      <td>NaN</td>\n",
       "      <td>0.00084</td>\n",
       "      <td>x6.45</td>\n",
       "      <td>x11172.98</td>\n",
       "    </tr>\n",
       "  </tbody>\n",
       "</table>\n",
       "</div>"
      ],
      "text/plain": [
       "                      Best single run time (s)  \\\n",
       "Basic looping                         4.179331   \n",
       "Iterrows looping                      1.637895   \n",
       "apply()                               0.427489   \n",
       "Pandas vectorisation                  0.001562   \n",
       "NumPy vectorisation                        NaN   \n",
       "\n",
       "                      Marginal performance improvement  \\\n",
       "Basic looping                                      NaN   \n",
       "Iterrows looping                              2.551649   \n",
       "apply()                                       3.831427   \n",
       "Pandas vectorisation                        273.625993   \n",
       "NumPy vectorisation                                NaN   \n",
       "\n",
       "                      Performance improvement over basic looping  \\\n",
       "Basic looping                                                NaN   \n",
       "Iterrows looping                                        2.551649   \n",
       "apply()                                                 9.776454   \n",
       "Pandas vectorisation                                 2675.091845   \n",
       "NumPy vectorisation                                          NaN   \n",
       "\n",
       "                      Best single run time (s, teacher)  \\\n",
       "Basic looping                                   9.37000   \n",
       "Iterrows looping                                3.87000   \n",
       "apply()                                         0.56200   \n",
       "Pandas vectorisation                            0.00540   \n",
       "NumPy vectorisation                             0.00084   \n",
       "\n",
       "                     Marginal performance improvement (teacher)  \\\n",
       "Basic looping                                               NaN   \n",
       "Iterrows looping                                          x2.42   \n",
       "apply()                                                   x6.88   \n",
       "Pandas vectorisation                                     x103.8   \n",
       "NumPy vectorisation                                       x6.45   \n",
       "\n",
       "                     Performance improvement over basic looping (teacher)  \n",
       "Basic looping                                                       NaN    \n",
       "Iterrows looping                                                  x2.42    \n",
       "apply()                                                          x16.69    \n",
       "Pandas vectorisation                                           x1732.17    \n",
       "NumPy vectorisation                                           x11172.98    "
      ]
     },
     "metadata": {},
     "execution_count": 25
    }
   ],
   "metadata": {
    "id": "SxCI0nUXV3Lk"
   }
  },
  {
   "cell_type": "markdown",
   "source": [
    "Time to reflect on your solution. Do the following: \n",
    " \n",
    "* Explain in words what your function does and why it is a vectorised solution. In particular, break down each step involving ufuncs, broadcasting and other vectorized calls. \n",
    "    * If your explanation has major errors, we will substract points for this part.\n",
    " \n",
    "* Display profiler output and give an analysis of what you see."
   ],
   "metadata": {
    "id": "HvwaE7pIjzEa"
   }
  },
  {
   "cell_type": "code",
   "execution_count": 26,
   "source": [
    "# your code goes here"
   ],
   "outputs": [],
   "metadata": {
    "id": "bQHB_JqeV52E"
   }
  },
  {
   "cell_type": "markdown",
   "source": [
    "*Your explanation goes here*"
   ],
   "metadata": {
    "id": "DngbQA2eV770"
   }
  },
  {
   "cell_type": "markdown",
   "source": [
    "## Part 4: Vectorised solution with NumPy (12.5 pts)"
   ],
   "metadata": {
    "id": "QLwJEzATEKwi"
   }
  },
  {
   "cell_type": "markdown",
   "source": [
    "Let's find a vectorised solution that uses NumPy to speed up the calculations. You have to define a function `weighted_rating_numpy(df)` that computes the ratings in a vectorised way and stores them in a new column of the DataFrame called `imdb_rating_numpy`."
   ],
   "metadata": {
    "id": "GrAZ4OI2EPk8"
   }
  },
  {
   "cell_type": "code",
   "execution_count": 27,
   "source": [
    "# filter the dataframe to only keep rows with vote_count value > m \r\n",
    "temp = df[df['vote_count'] > m]\r\n",
    "## create two arrays of v and R for vectorised arithmetics\r\n",
    "v = temp['vote_count'].values\r\n",
    "R = temp['vote_average'].values\r\n",
    "# create a ratings array to store calculated values\r\n",
    "ratings = np.array([np.nan]*len(df))\r\n",
    "\r\n",
    "def weighted_rating_numpy(temp,v,R,ratings):\r\n",
    "    ## place the values in the indexes that correspond to the original dataframe \r\n",
    "    ratings[[temp.index]]=  (v/(v+m) * R) + (m/(v+m) * C) \r\n",
    "    ## add a new column called 'imdb_rating_numpy'\r\n",
    "    df['imdb_rating_numpy'] = ratings\r\n",
    "    return df\r\n",
    "\r\n",
    "weighted_rating_numpy(temp,v,R,ratings)"
   ],
   "outputs": [
    {
     "output_type": "execute_result",
     "data": {
      "text/html": [
       "<div>\n",
       "<style scoped>\n",
       "    .dataframe tbody tr th:only-of-type {\n",
       "        vertical-align: middle;\n",
       "    }\n",
       "\n",
       "    .dataframe tbody tr th {\n",
       "        vertical-align: top;\n",
       "    }\n",
       "\n",
       "    .dataframe thead th {\n",
       "        text-align: right;\n",
       "    }\n",
       "</style>\n",
       "<table border=\"1\" class=\"dataframe\">\n",
       "  <thead>\n",
       "    <tr style=\"text-align: right;\">\n",
       "      <th></th>\n",
       "      <th>adult</th>\n",
       "      <th>belongs_to_collection</th>\n",
       "      <th>budget</th>\n",
       "      <th>genres</th>\n",
       "      <th>homepage</th>\n",
       "      <th>id</th>\n",
       "      <th>imdb_id</th>\n",
       "      <th>original_language</th>\n",
       "      <th>original_title</th>\n",
       "      <th>overview</th>\n",
       "      <th>...</th>\n",
       "      <th>tagline</th>\n",
       "      <th>title</th>\n",
       "      <th>video</th>\n",
       "      <th>vote_average</th>\n",
       "      <th>vote_count</th>\n",
       "      <th>imdb_rating</th>\n",
       "      <th>imdb_rating_iter</th>\n",
       "      <th>imdb_rating_apply</th>\n",
       "      <th>imdb_rating_pandas</th>\n",
       "      <th>imdb_rating_numpy</th>\n",
       "    </tr>\n",
       "  </thead>\n",
       "  <tbody>\n",
       "    <tr>\n",
       "      <th>0</th>\n",
       "      <td>False</td>\n",
       "      <td>{'id': 10194, 'name': 'Toy Story Collection', ...</td>\n",
       "      <td>30000000</td>\n",
       "      <td>[{'id': 16, 'name': 'Animation'}, {'id': 35, '...</td>\n",
       "      <td>http://toystory.disney.com/toy-story</td>\n",
       "      <td>862</td>\n",
       "      <td>tt0114709</td>\n",
       "      <td>en</td>\n",
       "      <td>Toy Story</td>\n",
       "      <td>Led by Woody, Andy's toys live happily in his ...</td>\n",
       "      <td>...</td>\n",
       "      <td>None</td>\n",
       "      <td>Toy Story</td>\n",
       "      <td>False</td>\n",
       "      <td>7.7</td>\n",
       "      <td>5415.0</td>\n",
       "      <td>7.375533</td>\n",
       "      <td>7.375533</td>\n",
       "      <td>7.375533</td>\n",
       "      <td>7.375533</td>\n",
       "      <td>7.375533</td>\n",
       "    </tr>\n",
       "    <tr>\n",
       "      <th>1</th>\n",
       "      <td>False</td>\n",
       "      <td>None</td>\n",
       "      <td>65000000</td>\n",
       "      <td>[{'id': 12, 'name': 'Adventure'}, {'id': 14, '...</td>\n",
       "      <td>None</td>\n",
       "      <td>8844</td>\n",
       "      <td>tt0113497</td>\n",
       "      <td>en</td>\n",
       "      <td>Jumanji</td>\n",
       "      <td>When siblings Judy and Peter discover an encha...</td>\n",
       "      <td>...</td>\n",
       "      <td>Roll the dice and unleash the excitement!</td>\n",
       "      <td>Jumanji</td>\n",
       "      <td>False</td>\n",
       "      <td>6.9</td>\n",
       "      <td>2413.0</td>\n",
       "      <td>6.524536</td>\n",
       "      <td>6.524536</td>\n",
       "      <td>6.524536</td>\n",
       "      <td>6.524536</td>\n",
       "      <td>6.524536</td>\n",
       "    </tr>\n",
       "    <tr>\n",
       "      <th>2</th>\n",
       "      <td>False</td>\n",
       "      <td>{'id': 119050, 'name': 'Grumpy Old Men Collect...</td>\n",
       "      <td>0</td>\n",
       "      <td>[{'id': 10749, 'name': 'Romance'}, {'id': 35, ...</td>\n",
       "      <td>None</td>\n",
       "      <td>15602</td>\n",
       "      <td>tt0113228</td>\n",
       "      <td>en</td>\n",
       "      <td>Grumpier Old Men</td>\n",
       "      <td>A family wedding reignites the ancient feud be...</td>\n",
       "      <td>...</td>\n",
       "      <td>Still Yelling. Still Fighting. Still Ready for...</td>\n",
       "      <td>Grumpier Old Men</td>\n",
       "      <td>False</td>\n",
       "      <td>6.5</td>\n",
       "      <td>92.0</td>\n",
       "      <td>NaN</td>\n",
       "      <td>NaN</td>\n",
       "      <td>NaN</td>\n",
       "      <td>NaN</td>\n",
       "      <td>NaN</td>\n",
       "    </tr>\n",
       "    <tr>\n",
       "      <th>3</th>\n",
       "      <td>False</td>\n",
       "      <td>None</td>\n",
       "      <td>16000000</td>\n",
       "      <td>[{'id': 35, 'name': 'Comedy'}, {'id': 18, 'nam...</td>\n",
       "      <td>None</td>\n",
       "      <td>31357</td>\n",
       "      <td>tt0114885</td>\n",
       "      <td>en</td>\n",
       "      <td>Waiting to Exhale</td>\n",
       "      <td>Cheated on, mistreated and stepped on, the wom...</td>\n",
       "      <td>...</td>\n",
       "      <td>Friends are the people who let you be yourself...</td>\n",
       "      <td>Waiting to Exhale</td>\n",
       "      <td>False</td>\n",
       "      <td>6.1</td>\n",
       "      <td>34.0</td>\n",
       "      <td>NaN</td>\n",
       "      <td>NaN</td>\n",
       "      <td>NaN</td>\n",
       "      <td>NaN</td>\n",
       "      <td>NaN</td>\n",
       "    </tr>\n",
       "    <tr>\n",
       "      <th>4</th>\n",
       "      <td>False</td>\n",
       "      <td>{'id': 96871, 'name': 'Father of the Bride Col...</td>\n",
       "      <td>0</td>\n",
       "      <td>[{'id': 35, 'name': 'Comedy'}]</td>\n",
       "      <td>None</td>\n",
       "      <td>11862</td>\n",
       "      <td>tt0113041</td>\n",
       "      <td>en</td>\n",
       "      <td>Father of the Bride Part II</td>\n",
       "      <td>Just when George Banks has recovered from his ...</td>\n",
       "      <td>...</td>\n",
       "      <td>Just When His World Is Back To Normal... He's ...</td>\n",
       "      <td>Father of the Bride Part II</td>\n",
       "      <td>False</td>\n",
       "      <td>5.7</td>\n",
       "      <td>173.0</td>\n",
       "      <td>NaN</td>\n",
       "      <td>NaN</td>\n",
       "      <td>NaN</td>\n",
       "      <td>NaN</td>\n",
       "      <td>NaN</td>\n",
       "    </tr>\n",
       "    <tr>\n",
       "      <th>...</th>\n",
       "      <td>...</td>\n",
       "      <td>...</td>\n",
       "      <td>...</td>\n",
       "      <td>...</td>\n",
       "      <td>...</td>\n",
       "      <td>...</td>\n",
       "      <td>...</td>\n",
       "      <td>...</td>\n",
       "      <td>...</td>\n",
       "      <td>...</td>\n",
       "      <td>...</td>\n",
       "      <td>...</td>\n",
       "      <td>...</td>\n",
       "      <td>...</td>\n",
       "      <td>...</td>\n",
       "      <td>...</td>\n",
       "      <td>...</td>\n",
       "      <td>...</td>\n",
       "      <td>...</td>\n",
       "      <td>...</td>\n",
       "      <td>...</td>\n",
       "    </tr>\n",
       "    <tr>\n",
       "      <th>45446</th>\n",
       "      <td>False</td>\n",
       "      <td>None</td>\n",
       "      <td>0</td>\n",
       "      <td>[{'id': 18, 'name': 'Drama'}, {'id': 10751, 'n...</td>\n",
       "      <td>http://www.imdb.com/title/tt6209470/</td>\n",
       "      <td>439050</td>\n",
       "      <td>tt6209470</td>\n",
       "      <td>fa</td>\n",
       "      <td>رگ خواب</td>\n",
       "      <td>Rising and falling between a man and woman.</td>\n",
       "      <td>...</td>\n",
       "      <td>Rising and falling between a man and woman</td>\n",
       "      <td>Subdue</td>\n",
       "      <td>False</td>\n",
       "      <td>4.0</td>\n",
       "      <td>1.0</td>\n",
       "      <td>NaN</td>\n",
       "      <td>NaN</td>\n",
       "      <td>NaN</td>\n",
       "      <td>NaN</td>\n",
       "      <td>NaN</td>\n",
       "    </tr>\n",
       "    <tr>\n",
       "      <th>45447</th>\n",
       "      <td>False</td>\n",
       "      <td>None</td>\n",
       "      <td>0</td>\n",
       "      <td>[{'id': 18, 'name': 'Drama'}]</td>\n",
       "      <td>None</td>\n",
       "      <td>111109</td>\n",
       "      <td>tt2028550</td>\n",
       "      <td>tl</td>\n",
       "      <td>Siglo ng Pagluluwal</td>\n",
       "      <td>An artist struggles to finish his work while a...</td>\n",
       "      <td>...</td>\n",
       "      <td>None</td>\n",
       "      <td>Century of Birthing</td>\n",
       "      <td>False</td>\n",
       "      <td>9.0</td>\n",
       "      <td>3.0</td>\n",
       "      <td>NaN</td>\n",
       "      <td>NaN</td>\n",
       "      <td>NaN</td>\n",
       "      <td>NaN</td>\n",
       "      <td>NaN</td>\n",
       "    </tr>\n",
       "    <tr>\n",
       "      <th>45448</th>\n",
       "      <td>False</td>\n",
       "      <td>None</td>\n",
       "      <td>0</td>\n",
       "      <td>[{'id': 28, 'name': 'Action'}, {'id': 18, 'nam...</td>\n",
       "      <td>None</td>\n",
       "      <td>67758</td>\n",
       "      <td>tt0303758</td>\n",
       "      <td>en</td>\n",
       "      <td>Betrayal</td>\n",
       "      <td>When one of her hits goes wrong, a professiona...</td>\n",
       "      <td>...</td>\n",
       "      <td>A deadly game of wits.</td>\n",
       "      <td>Betrayal</td>\n",
       "      <td>False</td>\n",
       "      <td>3.8</td>\n",
       "      <td>6.0</td>\n",
       "      <td>NaN</td>\n",
       "      <td>NaN</td>\n",
       "      <td>NaN</td>\n",
       "      <td>NaN</td>\n",
       "      <td>NaN</td>\n",
       "    </tr>\n",
       "    <tr>\n",
       "      <th>45449</th>\n",
       "      <td>False</td>\n",
       "      <td>None</td>\n",
       "      <td>0</td>\n",
       "      <td>[]</td>\n",
       "      <td>None</td>\n",
       "      <td>227506</td>\n",
       "      <td>tt0008536</td>\n",
       "      <td>en</td>\n",
       "      <td>Satana likuyushchiy</td>\n",
       "      <td>In a small town live two brothers, one a minis...</td>\n",
       "      <td>...</td>\n",
       "      <td>None</td>\n",
       "      <td>Satan Triumphant</td>\n",
       "      <td>False</td>\n",
       "      <td>0.0</td>\n",
       "      <td>0.0</td>\n",
       "      <td>NaN</td>\n",
       "      <td>NaN</td>\n",
       "      <td>NaN</td>\n",
       "      <td>NaN</td>\n",
       "      <td>NaN</td>\n",
       "    </tr>\n",
       "    <tr>\n",
       "      <th>45450</th>\n",
       "      <td>False</td>\n",
       "      <td>None</td>\n",
       "      <td>0</td>\n",
       "      <td>[]</td>\n",
       "      <td>None</td>\n",
       "      <td>461257</td>\n",
       "      <td>tt6980792</td>\n",
       "      <td>en</td>\n",
       "      <td>Queerama</td>\n",
       "      <td>50 years after decriminalisation of homosexual...</td>\n",
       "      <td>...</td>\n",
       "      <td>None</td>\n",
       "      <td>Queerama</td>\n",
       "      <td>False</td>\n",
       "      <td>0.0</td>\n",
       "      <td>0.0</td>\n",
       "      <td>NaN</td>\n",
       "      <td>NaN</td>\n",
       "      <td>NaN</td>\n",
       "      <td>NaN</td>\n",
       "      <td>NaN</td>\n",
       "    </tr>\n",
       "  </tbody>\n",
       "</table>\n",
       "<p>45451 rows × 29 columns</p>\n",
       "</div>"
      ],
      "text/plain": [
       "       adult                              belongs_to_collection    budget  \\\n",
       "0      False  {'id': 10194, 'name': 'Toy Story Collection', ...  30000000   \n",
       "1      False                                               None  65000000   \n",
       "2      False  {'id': 119050, 'name': 'Grumpy Old Men Collect...         0   \n",
       "3      False                                               None  16000000   \n",
       "4      False  {'id': 96871, 'name': 'Father of the Bride Col...         0   \n",
       "...      ...                                                ...       ...   \n",
       "45446  False                                               None         0   \n",
       "45447  False                                               None         0   \n",
       "45448  False                                               None         0   \n",
       "45449  False                                               None         0   \n",
       "45450  False                                               None         0   \n",
       "\n",
       "                                                  genres  \\\n",
       "0      [{'id': 16, 'name': 'Animation'}, {'id': 35, '...   \n",
       "1      [{'id': 12, 'name': 'Adventure'}, {'id': 14, '...   \n",
       "2      [{'id': 10749, 'name': 'Romance'}, {'id': 35, ...   \n",
       "3      [{'id': 35, 'name': 'Comedy'}, {'id': 18, 'nam...   \n",
       "4                         [{'id': 35, 'name': 'Comedy'}]   \n",
       "...                                                  ...   \n",
       "45446  [{'id': 18, 'name': 'Drama'}, {'id': 10751, 'n...   \n",
       "45447                      [{'id': 18, 'name': 'Drama'}]   \n",
       "45448  [{'id': 28, 'name': 'Action'}, {'id': 18, 'nam...   \n",
       "45449                                                 []   \n",
       "45450                                                 []   \n",
       "\n",
       "                                   homepage      id    imdb_id  \\\n",
       "0      http://toystory.disney.com/toy-story     862  tt0114709   \n",
       "1                                      None    8844  tt0113497   \n",
       "2                                      None   15602  tt0113228   \n",
       "3                                      None   31357  tt0114885   \n",
       "4                                      None   11862  tt0113041   \n",
       "...                                     ...     ...        ...   \n",
       "45446  http://www.imdb.com/title/tt6209470/  439050  tt6209470   \n",
       "45447                                  None  111109  tt2028550   \n",
       "45448                                  None   67758  tt0303758   \n",
       "45449                                  None  227506  tt0008536   \n",
       "45450                                  None  461257  tt6980792   \n",
       "\n",
       "      original_language               original_title  \\\n",
       "0                    en                    Toy Story   \n",
       "1                    en                      Jumanji   \n",
       "2                    en             Grumpier Old Men   \n",
       "3                    en            Waiting to Exhale   \n",
       "4                    en  Father of the Bride Part II   \n",
       "...                 ...                          ...   \n",
       "45446                fa                      رگ خواب   \n",
       "45447                tl          Siglo ng Pagluluwal   \n",
       "45448                en                     Betrayal   \n",
       "45449                en          Satana likuyushchiy   \n",
       "45450                en                     Queerama   \n",
       "\n",
       "                                                overview  ...  \\\n",
       "0      Led by Woody, Andy's toys live happily in his ...  ...   \n",
       "1      When siblings Judy and Peter discover an encha...  ...   \n",
       "2      A family wedding reignites the ancient feud be...  ...   \n",
       "3      Cheated on, mistreated and stepped on, the wom...  ...   \n",
       "4      Just when George Banks has recovered from his ...  ...   \n",
       "...                                                  ...  ...   \n",
       "45446        Rising and falling between a man and woman.  ...   \n",
       "45447  An artist struggles to finish his work while a...  ...   \n",
       "45448  When one of her hits goes wrong, a professiona...  ...   \n",
       "45449  In a small town live two brothers, one a minis...  ...   \n",
       "45450  50 years after decriminalisation of homosexual...  ...   \n",
       "\n",
       "                                                 tagline  \\\n",
       "0                                                   None   \n",
       "1              Roll the dice and unleash the excitement!   \n",
       "2      Still Yelling. Still Fighting. Still Ready for...   \n",
       "3      Friends are the people who let you be yourself...   \n",
       "4      Just When His World Is Back To Normal... He's ...   \n",
       "...                                                  ...   \n",
       "45446         Rising and falling between a man and woman   \n",
       "45447                                               None   \n",
       "45448                             A deadly game of wits.   \n",
       "45449                                               None   \n",
       "45450                                               None   \n",
       "\n",
       "                             title  video vote_average vote_count imdb_rating  \\\n",
       "0                        Toy Story  False          7.7     5415.0    7.375533   \n",
       "1                          Jumanji  False          6.9     2413.0    6.524536   \n",
       "2                 Grumpier Old Men  False          6.5       92.0         NaN   \n",
       "3                Waiting to Exhale  False          6.1       34.0         NaN   \n",
       "4      Father of the Bride Part II  False          5.7      173.0         NaN   \n",
       "...                            ...    ...          ...        ...         ...   \n",
       "45446                       Subdue  False          4.0        1.0         NaN   \n",
       "45447          Century of Birthing  False          9.0        3.0         NaN   \n",
       "45448                     Betrayal  False          3.8        6.0         NaN   \n",
       "45449             Satan Triumphant  False          0.0        0.0         NaN   \n",
       "45450                     Queerama  False          0.0        0.0         NaN   \n",
       "\n",
       "      imdb_rating_iter imdb_rating_apply imdb_rating_pandas imdb_rating_numpy  \n",
       "0             7.375533          7.375533           7.375533          7.375533  \n",
       "1             6.524536          6.524536           6.524536          6.524536  \n",
       "2                  NaN               NaN                NaN               NaN  \n",
       "3                  NaN               NaN                NaN               NaN  \n",
       "4                  NaN               NaN                NaN               NaN  \n",
       "...                ...               ...                ...               ...  \n",
       "45446              NaN               NaN                NaN               NaN  \n",
       "45447              NaN               NaN                NaN               NaN  \n",
       "45448              NaN               NaN                NaN               NaN  \n",
       "45449              NaN               NaN                NaN               NaN  \n",
       "45450              NaN               NaN                NaN               NaN  \n",
       "\n",
       "[45451 rows x 29 columns]"
      ]
     },
     "metadata": {},
     "execution_count": 27
    }
   ],
   "metadata": {
    "id": "9sJlkDYAzQr8"
   }
  },
  {
   "cell_type": "markdown",
   "source": [
    "Call the function and make sure it works as intended."
   ],
   "metadata": {
    "id": "n2pAc_GEEudy"
   }
  },
  {
   "cell_type": "code",
   "execution_count": 28,
   "source": [
    "weighted_rating_numpy(temp,v,R,ratings)\r\n",
    "\r\n",
    "pd.testing.assert_series_equal(\r\n",
    "    df.imdb_rating, df.imdb_rating_numpy, check_names=False\r\n",
    ")\r\n",
    "\r\n",
    "columns_to_show = ['id', 'original_title'] + \\\r\n",
    "                  list(df.columns[df.columns.str.startswith('imdb_rating')])\r\n",
    "df[columns_to_show].head()"
   ],
   "outputs": [
    {
     "output_type": "execute_result",
     "data": {
      "text/html": [
       "<div>\n",
       "<style scoped>\n",
       "    .dataframe tbody tr th:only-of-type {\n",
       "        vertical-align: middle;\n",
       "    }\n",
       "\n",
       "    .dataframe tbody tr th {\n",
       "        vertical-align: top;\n",
       "    }\n",
       "\n",
       "    .dataframe thead th {\n",
       "        text-align: right;\n",
       "    }\n",
       "</style>\n",
       "<table border=\"1\" class=\"dataframe\">\n",
       "  <thead>\n",
       "    <tr style=\"text-align: right;\">\n",
       "      <th></th>\n",
       "      <th>id</th>\n",
       "      <th>original_title</th>\n",
       "      <th>imdb_rating</th>\n",
       "      <th>imdb_rating_iter</th>\n",
       "      <th>imdb_rating_apply</th>\n",
       "      <th>imdb_rating_pandas</th>\n",
       "      <th>imdb_rating_numpy</th>\n",
       "    </tr>\n",
       "  </thead>\n",
       "  <tbody>\n",
       "    <tr>\n",
       "      <th>0</th>\n",
       "      <td>862</td>\n",
       "      <td>Toy Story</td>\n",
       "      <td>7.375533</td>\n",
       "      <td>7.375533</td>\n",
       "      <td>7.375533</td>\n",
       "      <td>7.375533</td>\n",
       "      <td>7.375533</td>\n",
       "    </tr>\n",
       "    <tr>\n",
       "      <th>1</th>\n",
       "      <td>8844</td>\n",
       "      <td>Jumanji</td>\n",
       "      <td>6.524536</td>\n",
       "      <td>6.524536</td>\n",
       "      <td>6.524536</td>\n",
       "      <td>6.524536</td>\n",
       "      <td>6.524536</td>\n",
       "    </tr>\n",
       "    <tr>\n",
       "      <th>2</th>\n",
       "      <td>15602</td>\n",
       "      <td>Grumpier Old Men</td>\n",
       "      <td>NaN</td>\n",
       "      <td>NaN</td>\n",
       "      <td>NaN</td>\n",
       "      <td>NaN</td>\n",
       "      <td>NaN</td>\n",
       "    </tr>\n",
       "    <tr>\n",
       "      <th>3</th>\n",
       "      <td>31357</td>\n",
       "      <td>Waiting to Exhale</td>\n",
       "      <td>NaN</td>\n",
       "      <td>NaN</td>\n",
       "      <td>NaN</td>\n",
       "      <td>NaN</td>\n",
       "      <td>NaN</td>\n",
       "    </tr>\n",
       "    <tr>\n",
       "      <th>4</th>\n",
       "      <td>11862</td>\n",
       "      <td>Father of the Bride Part II</td>\n",
       "      <td>NaN</td>\n",
       "      <td>NaN</td>\n",
       "      <td>NaN</td>\n",
       "      <td>NaN</td>\n",
       "      <td>NaN</td>\n",
       "    </tr>\n",
       "  </tbody>\n",
       "</table>\n",
       "</div>"
      ],
      "text/plain": [
       "      id               original_title  imdb_rating  imdb_rating_iter  \\\n",
       "0    862                    Toy Story     7.375533          7.375533   \n",
       "1   8844                      Jumanji     6.524536          6.524536   \n",
       "2  15602             Grumpier Old Men          NaN               NaN   \n",
       "3  31357            Waiting to Exhale          NaN               NaN   \n",
       "4  11862  Father of the Bride Part II          NaN               NaN   \n",
       "\n",
       "   imdb_rating_apply  imdb_rating_pandas  imdb_rating_numpy  \n",
       "0           7.375533            7.375533           7.375533  \n",
       "1           6.524536            6.524536           6.524536  \n",
       "2                NaN                 NaN                NaN  \n",
       "3                NaN                 NaN                NaN  \n",
       "4                NaN                 NaN                NaN  "
      ]
     },
     "metadata": {},
     "execution_count": 28
    }
   ],
   "metadata": {
    "id": "IALbcsKO2RNt"
   }
  },
  {
   "cell_type": "markdown",
   "source": [
    "Time the best performance of the function."
   ],
   "metadata": {
    "id": "r0ebRPwiFAfo"
   }
  },
  {
   "cell_type": "code",
   "execution_count": 29,
   "source": [
    "numpy_time = %timeit -r 3 -o weighted_rating_numpy(temp,v,R,ratings)\r\n",
    "print(\"Best time:\", numpy_time.best)"
   ],
   "outputs": [
    {
     "output_type": "stream",
     "name": "stdout",
     "text": [
      "281 µs ± 3.3 µs per loop (mean ± std. dev. of 3 runs, 1000 loops each)\n",
      "Best time: 0.00027858989999998587\n"
     ]
    }
   ],
   "metadata": {
    "id": "eWe52oAQ6l8R"
   }
  },
  {
   "cell_type": "markdown",
   "source": [
    "Update the score board with the best time, marginal and overall performance change you have obtained. Display the updated table below. "
   ],
   "metadata": {
    "id": "TB7tkhUDFAfr"
   }
  },
  {
   "cell_type": "code",
   "execution_count": 30,
   "source": [
    "# your code goes here\r\n",
    "timings.iloc[4:5,0:3]= [numpy_time.best, pandas_time.best/numpy_time.best, basic_time.best/numpy_time.best]\r\n",
    "timings"
   ],
   "outputs": [
    {
     "output_type": "execute_result",
     "data": {
      "text/html": [
       "<div>\n",
       "<style scoped>\n",
       "    .dataframe tbody tr th:only-of-type {\n",
       "        vertical-align: middle;\n",
       "    }\n",
       "\n",
       "    .dataframe tbody tr th {\n",
       "        vertical-align: top;\n",
       "    }\n",
       "\n",
       "    .dataframe thead th {\n",
       "        text-align: right;\n",
       "    }\n",
       "</style>\n",
       "<table border=\"1\" class=\"dataframe\">\n",
       "  <thead>\n",
       "    <tr style=\"text-align: right;\">\n",
       "      <th></th>\n",
       "      <th>Best single run time (s)</th>\n",
       "      <th>Marginal performance improvement</th>\n",
       "      <th>Performance improvement over basic looping</th>\n",
       "      <th>Best single run time (s, teacher)</th>\n",
       "      <th>Marginal performance improvement (teacher)</th>\n",
       "      <th>Performance improvement over basic looping (teacher)</th>\n",
       "    </tr>\n",
       "  </thead>\n",
       "  <tbody>\n",
       "    <tr>\n",
       "      <th>Basic looping</th>\n",
       "      <td>4.179331</td>\n",
       "      <td>NaN</td>\n",
       "      <td>NaN</td>\n",
       "      <td>9.37000</td>\n",
       "      <td>NaN</td>\n",
       "      <td>NaN</td>\n",
       "    </tr>\n",
       "    <tr>\n",
       "      <th>Iterrows looping</th>\n",
       "      <td>1.637895</td>\n",
       "      <td>2.551649</td>\n",
       "      <td>2.551649</td>\n",
       "      <td>3.87000</td>\n",
       "      <td>x2.42</td>\n",
       "      <td>x2.42</td>\n",
       "    </tr>\n",
       "    <tr>\n",
       "      <th>apply()</th>\n",
       "      <td>0.427489</td>\n",
       "      <td>3.831427</td>\n",
       "      <td>9.776454</td>\n",
       "      <td>0.56200</td>\n",
       "      <td>x6.88</td>\n",
       "      <td>x16.69</td>\n",
       "    </tr>\n",
       "    <tr>\n",
       "      <th>Pandas vectorisation</th>\n",
       "      <td>0.001562</td>\n",
       "      <td>273.625993</td>\n",
       "      <td>2675.091845</td>\n",
       "      <td>0.00540</td>\n",
       "      <td>x103.8</td>\n",
       "      <td>x1732.17</td>\n",
       "    </tr>\n",
       "    <tr>\n",
       "      <th>NumPy vectorisation</th>\n",
       "      <td>0.000279</td>\n",
       "      <td>5.607932</td>\n",
       "      <td>15001.733013</td>\n",
       "      <td>0.00084</td>\n",
       "      <td>x6.45</td>\n",
       "      <td>x11172.98</td>\n",
       "    </tr>\n",
       "  </tbody>\n",
       "</table>\n",
       "</div>"
      ],
      "text/plain": [
       "                      Best single run time (s)  \\\n",
       "Basic looping                         4.179331   \n",
       "Iterrows looping                      1.637895   \n",
       "apply()                               0.427489   \n",
       "Pandas vectorisation                  0.001562   \n",
       "NumPy vectorisation                   0.000279   \n",
       "\n",
       "                      Marginal performance improvement  \\\n",
       "Basic looping                                      NaN   \n",
       "Iterrows looping                              2.551649   \n",
       "apply()                                       3.831427   \n",
       "Pandas vectorisation                        273.625993   \n",
       "NumPy vectorisation                           5.607932   \n",
       "\n",
       "                      Performance improvement over basic looping  \\\n",
       "Basic looping                                                NaN   \n",
       "Iterrows looping                                        2.551649   \n",
       "apply()                                                 9.776454   \n",
       "Pandas vectorisation                                 2675.091845   \n",
       "NumPy vectorisation                                 15001.733013   \n",
       "\n",
       "                      Best single run time (s, teacher)  \\\n",
       "Basic looping                                   9.37000   \n",
       "Iterrows looping                                3.87000   \n",
       "apply()                                         0.56200   \n",
       "Pandas vectorisation                            0.00540   \n",
       "NumPy vectorisation                             0.00084   \n",
       "\n",
       "                     Marginal performance improvement (teacher)  \\\n",
       "Basic looping                                               NaN   \n",
       "Iterrows looping                                          x2.42   \n",
       "apply()                                                   x6.88   \n",
       "Pandas vectorisation                                     x103.8   \n",
       "NumPy vectorisation                                       x6.45   \n",
       "\n",
       "                     Performance improvement over basic looping (teacher)  \n",
       "Basic looping                                                       NaN    \n",
       "Iterrows looping                                                  x2.42    \n",
       "apply()                                                          x16.69    \n",
       "Pandas vectorisation                                           x1732.17    \n",
       "NumPy vectorisation                                           x11172.98    "
      ]
     },
     "metadata": {},
     "execution_count": 30
    }
   ],
   "metadata": {
    "id": "J8MBiqnvushL"
   }
  },
  {
   "cell_type": "markdown",
   "source": [
    "Time to reflect on your solution. Do the following: \n",
    " \n",
    "* Explain in words what your function does and why it is a vectorised solution. In particular, break down each step involving ufuncs, broadcasting and other vectorized calls. \n",
    "    * If your explanation has major errors, we will substract points for this part.\n",
    "    * If applicable, you may refer back to the explanation you gave for `weighted_rating_pandas`.\n",
    " \n",
    "* Display profiler output and give an analysis of what you see.\n",
    "    * Contrast your findings with those from `weighted_rating_pandas`."
   ],
   "metadata": {
    "id": "8RSyEDTvA-QQ"
   }
  },
  {
   "cell_type": "code",
   "execution_count": 31,
   "source": [
    "# your code goes here"
   ],
   "outputs": [],
   "metadata": {
    "id": "FV8aYhv5WEqA"
   }
  },
  {
   "cell_type": "markdown",
   "source": [
    "*Your explanation goes here*"
   ],
   "metadata": {
    "id": "k7lgegwDWFTt"
   }
  },
  {
   "cell_type": "markdown",
   "source": [
    "## Part 5: Find out the top 25 titles (2.5 pts)"
   ],
   "metadata": {
    "id": "rcGeZKuIRHe7"
   }
  },
  {
   "cell_type": "markdown",
   "source": [
    "What are the top 25 titles? Now that we have the IMDb ratings conveniently stored in a column, display the top 25 titles, together with their IMDb rating:"
   ],
   "metadata": {
    "id": "E-IE_GfsRMOG"
   }
  },
  {
   "cell_type": "code",
   "execution_count": 32,
   "source": [
    "# your code goes here\r\n",
    "df.sort_values('imdb_rating', ascending= False).iloc[0:25, [8,24]].reset_index(drop = True)"
   ],
   "outputs": [
    {
     "output_type": "execute_result",
     "data": {
      "text/html": [
       "<div>\n",
       "<style scoped>\n",
       "    .dataframe tbody tr th:only-of-type {\n",
       "        vertical-align: middle;\n",
       "    }\n",
       "\n",
       "    .dataframe tbody tr th {\n",
       "        vertical-align: top;\n",
       "    }\n",
       "\n",
       "    .dataframe thead th {\n",
       "        text-align: right;\n",
       "    }\n",
       "</style>\n",
       "<table border=\"1\" class=\"dataframe\">\n",
       "  <thead>\n",
       "    <tr style=\"text-align: right;\">\n",
       "      <th></th>\n",
       "      <th>original_title</th>\n",
       "      <th>imdb_rating</th>\n",
       "    </tr>\n",
       "  </thead>\n",
       "  <tbody>\n",
       "    <tr>\n",
       "      <th>0</th>\n",
       "      <td>The Shawshank Redemption</td>\n",
       "      <td>8.192086</td>\n",
       "    </tr>\n",
       "    <tr>\n",
       "      <th>1</th>\n",
       "      <td>The Dark Knight</td>\n",
       "      <td>8.097916</td>\n",
       "    </tr>\n",
       "    <tr>\n",
       "      <th>2</th>\n",
       "      <td>The Godfather</td>\n",
       "      <td>8.089770</td>\n",
       "    </tr>\n",
       "    <tr>\n",
       "      <th>3</th>\n",
       "      <td>Fight Club</td>\n",
       "      <td>8.048880</td>\n",
       "    </tr>\n",
       "    <tr>\n",
       "      <th>4</th>\n",
       "      <td>Pulp Fiction</td>\n",
       "      <td>8.022704</td>\n",
       "    </tr>\n",
       "    <tr>\n",
       "      <th>5</th>\n",
       "      <td>Inception</td>\n",
       "      <td>7.935393</td>\n",
       "    </tr>\n",
       "    <tr>\n",
       "      <th>6</th>\n",
       "      <td>Forrest Gump</td>\n",
       "      <td>7.917781</td>\n",
       "    </tr>\n",
       "    <tr>\n",
       "      <th>7</th>\n",
       "      <td>Interstellar</td>\n",
       "      <td>7.896385</td>\n",
       "    </tr>\n",
       "    <tr>\n",
       "      <th>8</th>\n",
       "      <td>The Empire Strikes Back</td>\n",
       "      <td>7.831115</td>\n",
       "    </tr>\n",
       "    <tr>\n",
       "      <th>9</th>\n",
       "      <td>The Lord of the Rings: The Return of the King</td>\n",
       "      <td>7.831037</td>\n",
       "    </tr>\n",
       "    <tr>\n",
       "      <th>10</th>\n",
       "      <td>Schindler's List</td>\n",
       "      <td>7.806722</td>\n",
       "    </tr>\n",
       "    <tr>\n",
       "      <th>11</th>\n",
       "      <td>Whiplash</td>\n",
       "      <td>7.801217</td>\n",
       "    </tr>\n",
       "    <tr>\n",
       "      <th>12</th>\n",
       "      <td>Intouchables</td>\n",
       "      <td>7.797277</td>\n",
       "    </tr>\n",
       "    <tr>\n",
       "      <th>13</th>\n",
       "      <td>Star Wars</td>\n",
       "      <td>7.780965</td>\n",
       "    </tr>\n",
       "    <tr>\n",
       "      <th>14</th>\n",
       "      <td>千と千尋の神隠し</td>\n",
       "      <td>7.760254</td>\n",
       "    </tr>\n",
       "    <tr>\n",
       "      <th>15</th>\n",
       "      <td>The Lord of the Rings: The Fellowship of the Ring</td>\n",
       "      <td>7.759254</td>\n",
       "    </tr>\n",
       "    <tr>\n",
       "      <th>16</th>\n",
       "      <td>Se7en</td>\n",
       "      <td>7.741149</td>\n",
       "    </tr>\n",
       "    <tr>\n",
       "      <th>17</th>\n",
       "      <td>The Lord of the Rings: The Two Towers</td>\n",
       "      <td>7.724400</td>\n",
       "    </tr>\n",
       "    <tr>\n",
       "      <th>18</th>\n",
       "      <td>La vita è bella</td>\n",
       "      <td>7.722473</td>\n",
       "    </tr>\n",
       "    <tr>\n",
       "      <th>19</th>\n",
       "      <td>Léon</td>\n",
       "      <td>7.712289</td>\n",
       "    </tr>\n",
       "    <tr>\n",
       "      <th>20</th>\n",
       "      <td>The Green Mile</td>\n",
       "      <td>7.700299</td>\n",
       "    </tr>\n",
       "    <tr>\n",
       "      <th>21</th>\n",
       "      <td>The Godfather: Part II</td>\n",
       "      <td>7.693061</td>\n",
       "    </tr>\n",
       "    <tr>\n",
       "      <th>22</th>\n",
       "      <td>Guardians of the Galaxy</td>\n",
       "      <td>7.692858</td>\n",
       "    </tr>\n",
       "    <tr>\n",
       "      <th>23</th>\n",
       "      <td>The Matrix</td>\n",
       "      <td>7.673643</td>\n",
       "    </tr>\n",
       "    <tr>\n",
       "      <th>24</th>\n",
       "      <td>Back to the Future</td>\n",
       "      <td>7.671024</td>\n",
       "    </tr>\n",
       "  </tbody>\n",
       "</table>\n",
       "</div>"
      ],
      "text/plain": [
       "                                       original_title  imdb_rating\n",
       "0                            The Shawshank Redemption     8.192086\n",
       "1                                     The Dark Knight     8.097916\n",
       "2                                       The Godfather     8.089770\n",
       "3                                          Fight Club     8.048880\n",
       "4                                        Pulp Fiction     8.022704\n",
       "5                                           Inception     7.935393\n",
       "6                                        Forrest Gump     7.917781\n",
       "7                                        Interstellar     7.896385\n",
       "8                             The Empire Strikes Back     7.831115\n",
       "9       The Lord of the Rings: The Return of the King     7.831037\n",
       "10                                   Schindler's List     7.806722\n",
       "11                                           Whiplash     7.801217\n",
       "12                                       Intouchables     7.797277\n",
       "13                                          Star Wars     7.780965\n",
       "14                                           千と千尋の神隠し     7.760254\n",
       "15  The Lord of the Rings: The Fellowship of the Ring     7.759254\n",
       "16                                              Se7en     7.741149\n",
       "17              The Lord of the Rings: The Two Towers     7.724400\n",
       "18                                    La vita è bella     7.722473\n",
       "19                                               Léon     7.712289\n",
       "20                                     The Green Mile     7.700299\n",
       "21                             The Godfather: Part II     7.693061\n",
       "22                            Guardians of the Galaxy     7.692858\n",
       "23                                         The Matrix     7.673643\n",
       "24                                 Back to the Future     7.671024"
      ]
     },
     "metadata": {},
     "execution_count": 32
    }
   ],
   "metadata": {
    "id": "svC-x1ZcRNJ4"
   }
  },
  {
   "cell_type": "markdown",
   "source": [
    "# Exercise 3: Predicting the genre of movies (40 points)"
   ],
   "metadata": {
    "id": "2Ca4XaEtqvwt"
   }
  },
  {
   "cell_type": "markdown",
   "source": [
    "In this exercise, you'll be asked to create a number of features and use them to predict whether a movie is a science fiction movie or not. \n",
    "For this classification task, we'll work with a different part of the movies dataset, which contains more information for each movie."
   ],
   "metadata": {
    "id": "irkcmAfTHTzR"
   }
  },
  {
   "cell_type": "code",
   "execution_count": 334,
   "source": [
    "train_url = 'http://courses.compute.dtu.dk/02807/2021/projects/project1/train.csv'"
   ],
   "outputs": [],
   "metadata": {
    "ExecuteTime": {
     "end_time": "2021-09-27T12:28:57.151965Z",
     "start_time": "2021-09-27T12:28:57.145452Z"
    },
    "id": "cs0dJMEG1PLL"
   }
  },
  {
   "cell_type": "markdown",
   "source": [
    "You'll try to predict whether a movie is a science fiction movie based on the other associated genres for the movie, the people and companies involved in making it, as well as its release date."
   ],
   "metadata": {
    "id": "SIcpNS2GCXUi"
   }
  },
  {
   "cell_type": "markdown",
   "source": [
    "## Part 1: Adding binary features for genres (15 pts)"
   ],
   "metadata": {
    "id": "IkN5bCjoCPW9"
   }
  },
  {
   "cell_type": "markdown",
   "source": [
    "As in Exercise 1, the data on several columns is in a stringified format. Pre-process the following columns appropriately, as you did with the `genres` column in Part 1 of Exercise 1.\n",
    "```\n",
    "'belongs_to_collection', 'genres', 'production_companies','production_countries', 'spoken_languages', 'Keywords', 'cast', 'crew'\n",
    "```\n",
    " \n",
    "Don't loop explicitly over the rows to perform this preprocessing. Your dataframe should be named `train`."
   ],
   "metadata": {
    "id": "XA00jck22BKq"
   }
  },
  {
   "cell_type": "code",
   "execution_count": 335,
   "source": [
    "# your code goes here\r\n",
    "def load_movies_data_train(train_url):\r\n",
    "    train = pd.read_csv(train_url)\r\n",
    "    train = train.fillna('None')\r\n",
    "    for col in ['belongs_to_collection','genres','production_companies','production_countries','spoken_languages',\r\n",
    "               'Keywords', 'crew','cast']:\r\n",
    "        train[col] = [eval(value) for value in train[col]]\r\n",
    "    return train\r\n",
    "train = load_movies_data_train(train_url)"
   ],
   "outputs": [],
   "metadata": {
    "id": "tHi0Ejxb2bKM"
   }
  },
  {
   "cell_type": "markdown",
   "source": [
    "Looking at the 'genres' column, you can see that movies have a varying number of associated genres."
   ],
   "metadata": {
    "id": "Z57lsGZ5IL7b"
   }
  },
  {
   "cell_type": "code",
   "execution_count": 336,
   "source": [
    "# this will work only if you've already preprocessed the genres' column into lists of dicts\r\n",
    "for i, v in enumerate(train.genres.head()):\r\n",
    "    print(i, v)"
   ],
   "outputs": [
    {
     "output_type": "stream",
     "name": "stdout",
     "text": [
      "0 [{'id': 35, 'name': 'Comedy'}]\n",
      "1 [{'id': 35, 'name': 'Comedy'}, {'id': 18, 'name': 'Drama'}, {'id': 10751, 'name': 'Family'}, {'id': 10749, 'name': 'Romance'}]\n",
      "2 [{'id': 18, 'name': 'Drama'}]\n",
      "3 [{'id': 53, 'name': 'Thriller'}, {'id': 18, 'name': 'Drama'}]\n",
      "4 [{'id': 28, 'name': 'Action'}, {'id': 53, 'name': 'Thriller'}]\n"
     ]
    }
   ],
   "metadata": {
    "id": "amzV_VzSE0VL"
   }
  },
  {
   "cell_type": "markdown",
   "source": [
    "Count the number of movies that have $n$ associated genres, for each $n$ in the dataset. If a movie has no associated genres, assign it the number 0. \n",
    "\n",
    "You have to use Pandas built-in functions only (no explicit looping). For example, you could use `apply()` with an appropriate function to apply to each row. \n",
    "\n",
    "Once you have the counts, visualise them as a bar chart, with one bar per possible number of associated genres, and the height of the bar representing the number of movies with that number of genres.\n"
   ],
   "metadata": {
    "id": "kPDjPDHlInOC"
   }
  },
  {
   "cell_type": "code",
   "execution_count": 337,
   "source": [
    "# your code goes here\r\n",
    "train['n_genres'] = train['genres'].apply(lambda x: len(x) if x != None else 0)\r\n",
    "plt.hist(train['n_genres'], bins = train['n_genres'].nunique())\r\n",
    "plt.title(f'Number og associated genres for a given movie')\r\n",
    "plt.show()"
   ],
   "outputs": [
    {
     "output_type": "display_data",
     "data": {
      "image/png": "[encoded data removed]",
      "text/plain": [
       "<Figure size 432x288 with 1 Axes>"
      ]
     },
     "metadata": {
      "needs_background": "light"
     }
    }
   ],
   "metadata": {
    "id": "6cHqZJ8iImh1"
   }
  },
  {
   "cell_type": "markdown",
   "source": [
    "Let's create our binary features next. Complete the following steps:\r\n",
    " \r\n",
    "1.   Transform the `genres` column by replacing its current entries with the list of names of genres occurring in the entries.  For example, the entry \r\n",
    "```\r\n",
    "[{'id': 10749, 'name': 'Romance'}, {'id': 35, 'name': 'Comedy'}]\r\n",
    "```\r\n",
    "should be transformed into:\r\n",
    "```\r\n",
    "['Romance','Comedy']\r\n",
    "```\r\n",
    "Empty entries should be transformed into the empty list `[]`.\r\n",
    "\r\n",
    "2. Create a separate column (in `train`) for each of the 20 genres, with name `genres_(nameofgenre)` (e.g. `genres_Comedy`). A movie should have a 1 on a genres column if the genre is one of the associated genres for that movie, and a 0 otherwise.\r\n",
    "    * To get started, consider what operations create a data frame with dimensions as `train` and columns as specified here, based on the list output from step 1. Then combine this data frame with `train`.\r\n",
    "\r\n",
    "You have to use Pandas built-in functions only (no explicit looping)."
   ],
   "metadata": {
    "id": "EqA9UQ3rJyBQ"
   }
  },
  {
   "cell_type": "code",
   "execution_count": 338,
   "source": [
    "# your code goes here\r\n",
    "## extract all unique genres for each movie and store them in lists\r\n",
    "train['genres']= train['genres'].apply(lambda x:[g.get('name',None) for g in x or []])\r\n",
    "train.head(5)"
   ],
   "outputs": [
    {
     "output_type": "execute_result",
     "data": {
      "text/html": [
       "<div>\n",
       "<style scoped>\n",
       "    .dataframe tbody tr th:only-of-type {\n",
       "        vertical-align: middle;\n",
       "    }\n",
       "\n",
       "    .dataframe tbody tr th {\n",
       "        vertical-align: top;\n",
       "    }\n",
       "\n",
       "    .dataframe thead th {\n",
       "        text-align: right;\n",
       "    }\n",
       "</style>\n",
       "<table border=\"1\" class=\"dataframe\">\n",
       "  <thead>\n",
       "    <tr style=\"text-align: right;\">\n",
       "      <th></th>\n",
       "      <th>id</th>\n",
       "      <th>belongs_to_collection</th>\n",
       "      <th>budget</th>\n",
       "      <th>genres</th>\n",
       "      <th>homepage</th>\n",
       "      <th>imdb_id</th>\n",
       "      <th>original_language</th>\n",
       "      <th>original_title</th>\n",
       "      <th>overview</th>\n",
       "      <th>popularity</th>\n",
       "      <th>...</th>\n",
       "      <th>runtime</th>\n",
       "      <th>spoken_languages</th>\n",
       "      <th>status</th>\n",
       "      <th>tagline</th>\n",
       "      <th>title</th>\n",
       "      <th>Keywords</th>\n",
       "      <th>cast</th>\n",
       "      <th>crew</th>\n",
       "      <th>revenue</th>\n",
       "      <th>n_genres</th>\n",
       "    </tr>\n",
       "  </thead>\n",
       "  <tbody>\n",
       "    <tr>\n",
       "      <th>0</th>\n",
       "      <td>1</td>\n",
       "      <td>[{'id': 313576, 'name': 'Hot Tub Time Machine ...</td>\n",
       "      <td>14000000</td>\n",
       "      <td>[Comedy]</td>\n",
       "      <td>None</td>\n",
       "      <td>tt2637294</td>\n",
       "      <td>en</td>\n",
       "      <td>Hot Tub Time Machine 2</td>\n",
       "      <td>When Lou, who has become the \"father of the In...</td>\n",
       "      <td>6.575393</td>\n",
       "      <td>...</td>\n",
       "      <td>93.0</td>\n",
       "      <td>[{'iso_639_1': 'en', 'name': 'English'}]</td>\n",
       "      <td>Released</td>\n",
       "      <td>The Laws of Space and Time are About to be Vio...</td>\n",
       "      <td>Hot Tub Time Machine 2</td>\n",
       "      <td>[{'id': 4379, 'name': 'time travel'}, {'id': 9...</td>\n",
       "      <td>[{'cast_id': 4, 'character': 'Lou', 'credit_id...</td>\n",
       "      <td>[{'credit_id': '59ac067c92514107af02c8c8', 'de...</td>\n",
       "      <td>12314651</td>\n",
       "      <td>1</td>\n",
       "    </tr>\n",
       "    <tr>\n",
       "      <th>1</th>\n",
       "      <td>2</td>\n",
       "      <td>[{'id': 107674, 'name': 'The Princess Diaries ...</td>\n",
       "      <td>40000000</td>\n",
       "      <td>[Comedy, Drama, Family, Romance]</td>\n",
       "      <td>None</td>\n",
       "      <td>tt0368933</td>\n",
       "      <td>en</td>\n",
       "      <td>The Princess Diaries 2: Royal Engagement</td>\n",
       "      <td>Mia Thermopolis is now a college graduate and ...</td>\n",
       "      <td>8.248895</td>\n",
       "      <td>...</td>\n",
       "      <td>113.0</td>\n",
       "      <td>[{'iso_639_1': 'en', 'name': 'English'}]</td>\n",
       "      <td>Released</td>\n",
       "      <td>It can take a lifetime to find true love; she'...</td>\n",
       "      <td>The Princess Diaries 2: Royal Engagement</td>\n",
       "      <td>[{'id': 2505, 'name': 'coronation'}, {'id': 42...</td>\n",
       "      <td>[{'cast_id': 1, 'character': 'Mia Thermopolis'...</td>\n",
       "      <td>[{'credit_id': '52fe43fe9251416c7502563d', 'de...</td>\n",
       "      <td>95149435</td>\n",
       "      <td>4</td>\n",
       "    </tr>\n",
       "    <tr>\n",
       "      <th>2</th>\n",
       "      <td>3</td>\n",
       "      <td>None</td>\n",
       "      <td>3300000</td>\n",
       "      <td>[Drama]</td>\n",
       "      <td>http://sonyclassics.com/whiplash/</td>\n",
       "      <td>tt2582802</td>\n",
       "      <td>en</td>\n",
       "      <td>Whiplash</td>\n",
       "      <td>Under the direction of a ruthless instructor, ...</td>\n",
       "      <td>64.299990</td>\n",
       "      <td>...</td>\n",
       "      <td>105.0</td>\n",
       "      <td>[{'iso_639_1': 'en', 'name': 'English'}]</td>\n",
       "      <td>Released</td>\n",
       "      <td>The road to greatness can take you to the edge.</td>\n",
       "      <td>Whiplash</td>\n",
       "      <td>[{'id': 1416, 'name': 'jazz'}, {'id': 1523, 'n...</td>\n",
       "      <td>[{'cast_id': 5, 'character': 'Andrew Neimann',...</td>\n",
       "      <td>[{'credit_id': '54d5356ec3a3683ba0000039', 'de...</td>\n",
       "      <td>13092000</td>\n",
       "      <td>1</td>\n",
       "    </tr>\n",
       "    <tr>\n",
       "      <th>3</th>\n",
       "      <td>4</td>\n",
       "      <td>None</td>\n",
       "      <td>1200000</td>\n",
       "      <td>[Thriller, Drama]</td>\n",
       "      <td>http://kahaanithefilm.com/</td>\n",
       "      <td>tt1821480</td>\n",
       "      <td>hi</td>\n",
       "      <td>Kahaani</td>\n",
       "      <td>Vidya Bagchi (Vidya Balan) arrives in Kolkata ...</td>\n",
       "      <td>3.174936</td>\n",
       "      <td>...</td>\n",
       "      <td>122.0</td>\n",
       "      <td>[{'iso_639_1': 'en', 'name': 'English'}, {'iso...</td>\n",
       "      <td>Released</td>\n",
       "      <td>None</td>\n",
       "      <td>Kahaani</td>\n",
       "      <td>[{'id': 10092, 'name': 'mystery'}, {'id': 1054...</td>\n",
       "      <td>[{'cast_id': 1, 'character': 'Vidya Bagchi', '...</td>\n",
       "      <td>[{'credit_id': '52fe48779251416c9108d6eb', 'de...</td>\n",
       "      <td>16000000</td>\n",
       "      <td>2</td>\n",
       "    </tr>\n",
       "    <tr>\n",
       "      <th>4</th>\n",
       "      <td>5</td>\n",
       "      <td>None</td>\n",
       "      <td>0</td>\n",
       "      <td>[Action, Thriller]</td>\n",
       "      <td>None</td>\n",
       "      <td>tt1380152</td>\n",
       "      <td>ko</td>\n",
       "      <td>마린보이</td>\n",
       "      <td>Marine Boy is the story of a former national s...</td>\n",
       "      <td>1.148070</td>\n",
       "      <td>...</td>\n",
       "      <td>118.0</td>\n",
       "      <td>[{'iso_639_1': 'ko', 'name': '한국어/조선말'}]</td>\n",
       "      <td>Released</td>\n",
       "      <td>None</td>\n",
       "      <td>Marine Boy</td>\n",
       "      <td>None</td>\n",
       "      <td>[{'cast_id': 3, 'character': 'Chun-soo', 'cred...</td>\n",
       "      <td>[{'credit_id': '52fe464b9251416c75073b43', 'de...</td>\n",
       "      <td>3923970</td>\n",
       "      <td>2</td>\n",
       "    </tr>\n",
       "  </tbody>\n",
       "</table>\n",
       "<p>5 rows × 24 columns</p>\n",
       "</div>"
      ],
      "text/plain": [
       "   id                              belongs_to_collection    budget  \\\n",
       "0   1  [{'id': 313576, 'name': 'Hot Tub Time Machine ...  14000000   \n",
       "1   2  [{'id': 107674, 'name': 'The Princess Diaries ...  40000000   \n",
       "2   3                                               None   3300000   \n",
       "3   4                                               None   1200000   \n",
       "4   5                                               None         0   \n",
       "\n",
       "                             genres                           homepage  \\\n",
       "0                          [Comedy]                               None   \n",
       "1  [Comedy, Drama, Family, Romance]                               None   \n",
       "2                           [Drama]  http://sonyclassics.com/whiplash/   \n",
       "3                 [Thriller, Drama]         http://kahaanithefilm.com/   \n",
       "4                [Action, Thriller]                               None   \n",
       "\n",
       "     imdb_id original_language                            original_title  \\\n",
       "0  tt2637294                en                    Hot Tub Time Machine 2   \n",
       "1  tt0368933                en  The Princess Diaries 2: Royal Engagement   \n",
       "2  tt2582802                en                                  Whiplash   \n",
       "3  tt1821480                hi                                   Kahaani   \n",
       "4  tt1380152                ko                                      마린보이   \n",
       "\n",
       "                                            overview  popularity  ... runtime  \\\n",
       "0  When Lou, who has become the \"father of the In...    6.575393  ...    93.0   \n",
       "1  Mia Thermopolis is now a college graduate and ...    8.248895  ...   113.0   \n",
       "2  Under the direction of a ruthless instructor, ...   64.299990  ...   105.0   \n",
       "3  Vidya Bagchi (Vidya Balan) arrives in Kolkata ...    3.174936  ...   122.0   \n",
       "4  Marine Boy is the story of a former national s...    1.148070  ...   118.0   \n",
       "\n",
       "                                    spoken_languages    status  \\\n",
       "0           [{'iso_639_1': 'en', 'name': 'English'}]  Released   \n",
       "1           [{'iso_639_1': 'en', 'name': 'English'}]  Released   \n",
       "2           [{'iso_639_1': 'en', 'name': 'English'}]  Released   \n",
       "3  [{'iso_639_1': 'en', 'name': 'English'}, {'iso...  Released   \n",
       "4           [{'iso_639_1': 'ko', 'name': '한국어/조선말'}]  Released   \n",
       "\n",
       "                                             tagline  \\\n",
       "0  The Laws of Space and Time are About to be Vio...   \n",
       "1  It can take a lifetime to find true love; she'...   \n",
       "2    The road to greatness can take you to the edge.   \n",
       "3                                               None   \n",
       "4                                               None   \n",
       "\n",
       "                                      title  \\\n",
       "0                    Hot Tub Time Machine 2   \n",
       "1  The Princess Diaries 2: Royal Engagement   \n",
       "2                                  Whiplash   \n",
       "3                                   Kahaani   \n",
       "4                                Marine Boy   \n",
       "\n",
       "                                            Keywords  \\\n",
       "0  [{'id': 4379, 'name': 'time travel'}, {'id': 9...   \n",
       "1  [{'id': 2505, 'name': 'coronation'}, {'id': 42...   \n",
       "2  [{'id': 1416, 'name': 'jazz'}, {'id': 1523, 'n...   \n",
       "3  [{'id': 10092, 'name': 'mystery'}, {'id': 1054...   \n",
       "4                                               None   \n",
       "\n",
       "                                                cast  \\\n",
       "0  [{'cast_id': 4, 'character': 'Lou', 'credit_id...   \n",
       "1  [{'cast_id': 1, 'character': 'Mia Thermopolis'...   \n",
       "2  [{'cast_id': 5, 'character': 'Andrew Neimann',...   \n",
       "3  [{'cast_id': 1, 'character': 'Vidya Bagchi', '...   \n",
       "4  [{'cast_id': 3, 'character': 'Chun-soo', 'cred...   \n",
       "\n",
       "                                                crew   revenue n_genres  \n",
       "0  [{'credit_id': '59ac067c92514107af02c8c8', 'de...  12314651        1  \n",
       "1  [{'credit_id': '52fe43fe9251416c7502563d', 'de...  95149435        4  \n",
       "2  [{'credit_id': '54d5356ec3a3683ba0000039', 'de...  13092000        1  \n",
       "3  [{'credit_id': '52fe48779251416c9108d6eb', 'de...  16000000        2  \n",
       "4  [{'credit_id': '52fe464b9251416c75073b43', 'de...   3923970        2  \n",
       "\n",
       "[5 rows x 24 columns]"
      ]
     },
     "metadata": {},
     "execution_count": 338
    }
   ],
   "metadata": {
    "id": "EVXMvDv3Mk1t"
   }
  },
  {
   "cell_type": "code",
   "execution_count": 339,
   "source": [
    "## one-hot encode the genres for each movie\r\n",
    "genres = pd.get_dummies(train['genres'].apply(pd.Series).stack()).sum(level=0)\r\n",
    "## join the one-hot encoded dataframe with the original train dataframe\r\n",
    "train = train.join(genres).fillna(0)"
   ],
   "outputs": [],
   "metadata": {}
  },
  {
   "cell_type": "markdown",
   "source": [
    "Visualise the number of movies per top 20 genre with a chart of your choice."
   ],
   "metadata": {
    "id": "nN65zGfLnSe-"
   }
  },
  {
   "cell_type": "code",
   "execution_count": 340,
   "source": [
    "from matplotlib.pyplot import figure\r\n",
    "figure(figsize=(25, 8), dpi=80)\r\n",
    "plt.bar(train.columns[24:],train.iloc[:, 24:].sum())\r\n",
    "plt.title(f'Number movies in each genre')\r\n",
    "plt.show()\r\n"
   ],
   "outputs": [
    {
     "output_type": "display_data",
     "data": {
      "image/png": "[encoded data removed]",
      "text/plain": [
       "<Figure size 2000x640 with 1 Axes>"
      ]
     },
     "metadata": {
      "needs_background": "light"
     }
    }
   ],
   "metadata": {}
  },
  {
   "cell_type": "markdown",
   "source": [
    "## Part 2: Adding more binary features (5 pts)"
   ],
   "metadata": {
    "id": "M79tzVdMDfXL"
   }
  },
  {
   "cell_type": "markdown",
   "source": [
    "You've now extracted binary features for all genres associated with a movie. But there's other information that we could use to base our predictions on. \n",
    "\n",
    "The `genres` column is just one out of several columns containing lists of dictionaries as entries. For example, the `production_companies` column also contains lists of dictionaries, providing names of the companies producing the movie. As you just did with genres, add new columns for:\n",
    " \n",
    "1.   The names of the 30 most common production companies\n",
    "2.   The names of the 30 most common production countries\n",
    "3.   The names of the 30 most common actors (`cast` column) \n",
    "4.   The names of the 30 most common crew members\n",
    "5.   The names of the 30 most common keywords\n",
    " \n",
    "We recommend you generalize the functionality implemented in the previous question (e.g. to other columns and to restrict to top 30 most common values)."
   ],
   "metadata": {
    "id": "7iZngZ3ZnAsG"
   }
  },
  {
   "cell_type": "code",
   "execution_count": 341,
   "source": [
    "# your code goes here\r\n",
    "def onehotencode(train,features):\r\n",
    "    for feature in features:\r\n",
    "        train[feature]= train[feature].apply(lambda x:[g.get('name',None) for g in x or []])\r\n",
    "        ## extract top 30 most common value of the feature\r\n",
    "        c = Counter(sum(train[feature], []))\r\n",
    "        most_30_values = c.most_common(30)\r\n",
    "        most_30 = [x[0] for x in most_30_values]\r\n",
    "\r\n",
    "        # removing the ones that are not in the top 30 \r\n",
    "        train['temp_30'] = train[feature].apply(lambda x: list(set(most_30) & set(x)))\r\n",
    "        # creat dummies \r\n",
    "        dummies = pd.get_dummies(train['temp_30'].apply(pd.Series).stack()).sum(level=0)\r\n",
    "        train = train.join(dummies).fillna(0)\r\n",
    "\r\n",
    "    ## drop helper column \r\n",
    "    train = train.drop(columns = ['temp_30'])\r\n",
    "    return train\r\n",
    "features = ['production_companies','production_countries','cast','crew','Keywords']\r\n",
    "train = onehotencode(train,features)"
   ],
   "outputs": [],
   "metadata": {
    "id": "9sO8Tsqduatn"
   }
  },
  {
   "cell_type": "markdown",
   "source": [
    "Check the result. You should now have a much wider table, with the new columns consisting of binary features."
   ],
   "metadata": {
    "id": "KjFFSEJs93yJ"
   }
  },
  {
   "cell_type": "markdown",
   "source": [
    " ## Part 3: Adding numerical date features (5 points)"
   ],
   "metadata": {
    "id": "joEcHikdD5SY"
   }
  },
  {
   "cell_type": "markdown",
   "source": [
    "Next, we'll create some features based on the release date information. Create a new column storing the value for each of the following  aspects of a release date:\n",
    " \n",
    "```\n",
    "['year', 'weekday', 'month', 'weekofyear', 'day', 'quarter']\n",
    "```\n",
    " \n",
    "As usual, don't iterate explicitly to create these columns."
   ],
   "metadata": {
    "id": "nliC-9woDYd_"
   }
  },
  {
   "cell_type": "code",
   "execution_count": 342,
   "source": [
    "# your code goes here\r\n",
    "train['release_date'] = pd.to_datetime(train['release_date'])\r\n",
    "train['year'] = train['release_date'].dt.year\r\n",
    "train['weekday'] = train['release_date'].dt.weekday\r\n",
    "train['month'] = train['release_date'].dt.month\r\n",
    "train['weekofyear'] = train['release_date'].dt.dayofweek\r\n",
    "train['day'] = train['release_date'].dt.day\r\n",
    "train['quarter'] = train['release_date'].dt.quarter\r\n",
    "train.head()\r\n"
   ],
   "outputs": [
    {
     "output_type": "execute_result",
     "data": {
      "text/html": [
       "<div>\n",
       "<style scoped>\n",
       "    .dataframe tbody tr th:only-of-type {\n",
       "        vertical-align: middle;\n",
       "    }\n",
       "\n",
       "    .dataframe tbody tr th {\n",
       "        vertical-align: top;\n",
       "    }\n",
       "\n",
       "    .dataframe thead th {\n",
       "        text-align: right;\n",
       "    }\n",
       "</style>\n",
       "<table border=\"1\" class=\"dataframe\">\n",
       "  <thead>\n",
       "    <tr style=\"text-align: right;\">\n",
       "      <th></th>\n",
       "      <th>id</th>\n",
       "      <th>belongs_to_collection</th>\n",
       "      <th>budget</th>\n",
       "      <th>genres</th>\n",
       "      <th>homepage</th>\n",
       "      <th>imdb_id</th>\n",
       "      <th>original_language</th>\n",
       "      <th>original_title</th>\n",
       "      <th>overview</th>\n",
       "      <th>popularity</th>\n",
       "      <th>...</th>\n",
       "      <th>suspense</th>\n",
       "      <th>teenager</th>\n",
       "      <th>violence</th>\n",
       "      <th>woman director</th>\n",
       "      <th>year</th>\n",
       "      <th>weekday</th>\n",
       "      <th>month</th>\n",
       "      <th>weekofyear</th>\n",
       "      <th>day</th>\n",
       "      <th>quarter</th>\n",
       "    </tr>\n",
       "  </thead>\n",
       "  <tbody>\n",
       "    <tr>\n",
       "      <th>0</th>\n",
       "      <td>1</td>\n",
       "      <td>[{'id': 313576, 'name': 'Hot Tub Time Machine ...</td>\n",
       "      <td>14000000</td>\n",
       "      <td>[Comedy]</td>\n",
       "      <td>None</td>\n",
       "      <td>tt2637294</td>\n",
       "      <td>en</td>\n",
       "      <td>Hot Tub Time Machine 2</td>\n",
       "      <td>When Lou, who has become the \"father of the In...</td>\n",
       "      <td>6.575393</td>\n",
       "      <td>...</td>\n",
       "      <td>0.0</td>\n",
       "      <td>0.0</td>\n",
       "      <td>0.0</td>\n",
       "      <td>0.0</td>\n",
       "      <td>2015</td>\n",
       "      <td>4</td>\n",
       "      <td>2</td>\n",
       "      <td>4</td>\n",
       "      <td>20</td>\n",
       "      <td>1</td>\n",
       "    </tr>\n",
       "    <tr>\n",
       "      <th>1</th>\n",
       "      <td>2</td>\n",
       "      <td>[{'id': 107674, 'name': 'The Princess Diaries ...</td>\n",
       "      <td>40000000</td>\n",
       "      <td>[Comedy, Drama, Family, Romance]</td>\n",
       "      <td>None</td>\n",
       "      <td>tt0368933</td>\n",
       "      <td>en</td>\n",
       "      <td>The Princess Diaries 2: Royal Engagement</td>\n",
       "      <td>Mia Thermopolis is now a college graduate and ...</td>\n",
       "      <td>8.248895</td>\n",
       "      <td>...</td>\n",
       "      <td>0.0</td>\n",
       "      <td>0.0</td>\n",
       "      <td>0.0</td>\n",
       "      <td>0.0</td>\n",
       "      <td>2004</td>\n",
       "      <td>4</td>\n",
       "      <td>8</td>\n",
       "      <td>4</td>\n",
       "      <td>6</td>\n",
       "      <td>3</td>\n",
       "    </tr>\n",
       "    <tr>\n",
       "      <th>2</th>\n",
       "      <td>3</td>\n",
       "      <td>0</td>\n",
       "      <td>3300000</td>\n",
       "      <td>[Drama]</td>\n",
       "      <td>http://sonyclassics.com/whiplash/</td>\n",
       "      <td>tt2582802</td>\n",
       "      <td>en</td>\n",
       "      <td>Whiplash</td>\n",
       "      <td>Under the direction of a ruthless instructor, ...</td>\n",
       "      <td>64.299990</td>\n",
       "      <td>...</td>\n",
       "      <td>0.0</td>\n",
       "      <td>0.0</td>\n",
       "      <td>1.0</td>\n",
       "      <td>0.0</td>\n",
       "      <td>2014</td>\n",
       "      <td>4</td>\n",
       "      <td>10</td>\n",
       "      <td>4</td>\n",
       "      <td>10</td>\n",
       "      <td>4</td>\n",
       "    </tr>\n",
       "    <tr>\n",
       "      <th>3</th>\n",
       "      <td>4</td>\n",
       "      <td>0</td>\n",
       "      <td>1200000</td>\n",
       "      <td>[Thriller, Drama]</td>\n",
       "      <td>http://kahaanithefilm.com/</td>\n",
       "      <td>tt1821480</td>\n",
       "      <td>hi</td>\n",
       "      <td>Kahaani</td>\n",
       "      <td>Vidya Bagchi (Vidya Balan) arrives in Kolkata ...</td>\n",
       "      <td>3.174936</td>\n",
       "      <td>...</td>\n",
       "      <td>0.0</td>\n",
       "      <td>0.0</td>\n",
       "      <td>0.0</td>\n",
       "      <td>0.0</td>\n",
       "      <td>2012</td>\n",
       "      <td>4</td>\n",
       "      <td>3</td>\n",
       "      <td>4</td>\n",
       "      <td>9</td>\n",
       "      <td>1</td>\n",
       "    </tr>\n",
       "    <tr>\n",
       "      <th>4</th>\n",
       "      <td>5</td>\n",
       "      <td>0</td>\n",
       "      <td>0</td>\n",
       "      <td>[Action, Thriller]</td>\n",
       "      <td>None</td>\n",
       "      <td>tt1380152</td>\n",
       "      <td>ko</td>\n",
       "      <td>마린보이</td>\n",
       "      <td>Marine Boy is the story of a former national s...</td>\n",
       "      <td>1.148070</td>\n",
       "      <td>...</td>\n",
       "      <td>0.0</td>\n",
       "      <td>0.0</td>\n",
       "      <td>0.0</td>\n",
       "      <td>0.0</td>\n",
       "      <td>2009</td>\n",
       "      <td>3</td>\n",
       "      <td>2</td>\n",
       "      <td>3</td>\n",
       "      <td>5</td>\n",
       "      <td>1</td>\n",
       "    </tr>\n",
       "  </tbody>\n",
       "</table>\n",
       "<p>5 rows × 200 columns</p>\n",
       "</div>"
      ],
      "text/plain": [
       "   id                              belongs_to_collection    budget  \\\n",
       "0   1  [{'id': 313576, 'name': 'Hot Tub Time Machine ...  14000000   \n",
       "1   2  [{'id': 107674, 'name': 'The Princess Diaries ...  40000000   \n",
       "2   3                                                  0   3300000   \n",
       "3   4                                                  0   1200000   \n",
       "4   5                                                  0         0   \n",
       "\n",
       "                             genres                           homepage  \\\n",
       "0                          [Comedy]                               None   \n",
       "1  [Comedy, Drama, Family, Romance]                               None   \n",
       "2                           [Drama]  http://sonyclassics.com/whiplash/   \n",
       "3                 [Thriller, Drama]         http://kahaanithefilm.com/   \n",
       "4                [Action, Thriller]                               None   \n",
       "\n",
       "     imdb_id original_language                            original_title  \\\n",
       "0  tt2637294                en                    Hot Tub Time Machine 2   \n",
       "1  tt0368933                en  The Princess Diaries 2: Royal Engagement   \n",
       "2  tt2582802                en                                  Whiplash   \n",
       "3  tt1821480                hi                                   Kahaani   \n",
       "4  tt1380152                ko                                      마린보이   \n",
       "\n",
       "                                            overview  popularity  ...  \\\n",
       "0  When Lou, who has become the \"father of the In...    6.575393  ...   \n",
       "1  Mia Thermopolis is now a college graduate and ...    8.248895  ...   \n",
       "2  Under the direction of a ruthless instructor, ...   64.299990  ...   \n",
       "3  Vidya Bagchi (Vidya Balan) arrives in Kolkata ...    3.174936  ...   \n",
       "4  Marine Boy is the story of a former national s...    1.148070  ...   \n",
       "\n",
       "  suspense teenager violence woman director  year weekday month weekofyear  \\\n",
       "0      0.0      0.0      0.0            0.0  2015       4     2          4   \n",
       "1      0.0      0.0      0.0            0.0  2004       4     8          4   \n",
       "2      0.0      0.0      1.0            0.0  2014       4    10          4   \n",
       "3      0.0      0.0      0.0            0.0  2012       4     3          4   \n",
       "4      0.0      0.0      0.0            0.0  2009       3     2          3   \n",
       "\n",
       "  day quarter  \n",
       "0  20       1  \n",
       "1   6       3  \n",
       "2  10       4  \n",
       "3   9       1  \n",
       "4   5       1  \n",
       "\n",
       "[5 rows x 200 columns]"
      ]
     },
     "metadata": {},
     "execution_count": 342
    }
   ],
   "metadata": {
    "id": "-K5u197bDX1A"
   }
  },
  {
   "cell_type": "markdown",
   "source": [
    "Next, we'll drop the columns that will not be used for learning. "
   ],
   "metadata": {
    "id": "KWLi9-BW97VX"
   }
  },
  {
   "cell_type": "code",
   "execution_count": 343,
   "source": [
    "train = train.drop(['id', 'homepage', 'original_language',\r\n",
    "                    'title', 'imdb_id','crew', 'poster_path', \r\n",
    "                    'release_date', 'status', 'belongs_to_collection',\r\n",
    "                    'Keywords', 'original_title', 'overview',\r\n",
    "                    'production_companies', 'production_countries', \r\n",
    "                    'spoken_languages', 'tagline', 'cast','genres'], \r\n",
    "                   axis=1)"
   ],
   "outputs": [],
   "metadata": {
    "ExecuteTime": {
     "end_time": "2021-09-27T15:27:05.446343Z",
     "start_time": "2021-09-27T15:27:05.426250Z"
    },
    "id": "MbycSRqu8dR5"
   }
  },
  {
   "cell_type": "markdown",
   "source": [
    "Lastly, drop any rows with missing values."
   ],
   "metadata": {}
  },
  {
   "cell_type": "code",
   "execution_count": 346,
   "source": [
    "train = train[(train.budget != 0) &(train.popularity!= 0) & (train.runtime!= 0) & (train.revenue != 0)]"
   ],
   "outputs": [],
   "metadata": {}
  },
  {
   "cell_type": "markdown",
   "source": [
    "## Part 4: Prediction (10 pts)"
   ],
   "metadata": {
    "id": "tV_ANmOH0rQJ"
   }
  },
  {
   "cell_type": "markdown",
   "source": [
    "Let's load the necessary `sklearn` libraries and prepare the training data for learning. Recall that your goal is to predict whether a movie has science fiction as an associated genre. So you're dealing with a binary classification task."
   ],
   "metadata": {
    "id": "9Y1XUwNX0rQL"
   }
  },
  {
   "cell_type": "code",
   "execution_count": null,
   "source": [
    "from sklearn.model_selection import train_test_split"
   ],
   "outputs": [],
   "metadata": {
    "id": "9Qpz2Cd60rQM"
   }
  },
  {
   "cell_type": "markdown",
   "source": [
    "Use `sklearn` to prepare the training and test sets, setting aside 15% of the data for testing. Call the training input features, training labels, test input features and test labels as follows:\n",
    "\n",
    "```\n",
    "x_train, x_test, y_train, y_test\n",
    "```\n",
    "\n"
   ],
   "metadata": {
    "id": "dWzqddf90rQR"
   }
  },
  {
   "cell_type": "code",
   "execution_count": null,
   "source": [
    "# your code goes here"
   ],
   "outputs": [],
   "metadata": {
    "id": "dDLDQWPl0rQS"
   }
  },
  {
   "cell_type": "markdown",
   "source": [
    "Feature scaling is a common requirement for many machine learning estimators: they might behave badly if the individual features do not more or less look like standard normally distributed data (e.g. Gaussian with 0 mean and unit variance). Run the following code to feature scale your input data."
   ],
   "metadata": {
    "id": "AKaGZrSuLg1K"
   }
  },
  {
   "cell_type": "code",
   "execution_count": null,
   "source": [
    "from sklearn.preprocessing import StandardScaler  \r\n",
    "scaler = StandardScaler()  \r\n",
    "scaler.fit(x_train)  \r\n",
    "x_train = scaler.transform(x_train) \r\n",
    "x_test = scaler.transform(x_test)"
   ],
   "outputs": [],
   "metadata": {
    "id": "by0c0S7s0rQY"
   }
  },
  {
   "cell_type": "markdown",
   "source": [
    "Check that the shape of your data looks correct."
   ],
   "metadata": {
    "id": "lxX0ugDuNR8o"
   }
  },
  {
   "cell_type": "code",
   "execution_count": null,
   "source": [
    "print(x_train.shape, y_train.shape)\r\n",
    "print(x_test.shape, y_test.shape)"
   ],
   "outputs": [],
   "metadata": {
    "id": "5tJHqw2M0rQf"
   }
  },
  {
   "cell_type": "markdown",
   "source": [
    "Train a classifier of your choice. Then report results:\n",
    "* Display the confusion matrix over the test set in absolute numbers.\n",
    "    * These numbers reflect number of true positives, true negatives, false positives and false negatives.\n",
    "* Display a normalized confusion matrix over the test set, so [sensitivity and specificity](https://en.wikipedia.org/wiki/Evaluation_of_binary_classifiers) can be read from the diagonal (off-diagonal will contain type I and type II error rates).\n",
    "    * Note that sensitivity is recall for the positive class (1), whereas specificity is recall for the negative class (0).\n",
    "* State **in free-text** the sensitivity and specificity of your classifier."
   ],
   "metadata": {
    "id": "90SIHxqzN3Ht"
   }
  },
  {
   "cell_type": "code",
   "execution_count": null,
   "source": [
    "# your code goes here"
   ],
   "outputs": [],
   "metadata": {
    "id": "lIg8WIm3NiKN"
   }
  },
  {
   "cell_type": "markdown",
   "source": [
    "*Your explanation here*"
   ],
   "metadata": {
    "id": "lBkWn4WXA-QS"
   }
  },
  {
   "cell_type": "markdown",
   "source": [
    "## Part 5: Prediction with less leakage (5 points)"
   ],
   "metadata": {
    "id": "oP8IaWa9A-QS"
   }
  },
  {
   "cell_type": "markdown",
   "source": [
    "From Wikipedia, [data leakage](https://en.wikipedia.org/wiki/Leakage_(machine_learning)) is the use of information in the model training process which would not be expected to be available at prediction time, causing the predictive scores (metrics) to overestimate the model's utility when run in a production environment.\n",
    "\n",
    "Feature or column-wise leakage is caused by the inclusion of columns which are one of the following: a duplicate label, a proxy for the label, or the label itself\n",
    "\n",
    "Considering we're doing binary classification of whether a movie is science fiction, identify the most prominent cause of feature leakage among the features added during Exercise 3. \n",
    "\n",
    "1) **Argue** for your choice, 2) train a classifier not subject to this feature leakage (it's OK to create a new train/test split) and 3) **report the results** as you did in Part 4."
   ],
   "metadata": {
    "id": "ZKIGA3BOA-QS"
   }
  },
  {
   "cell_type": "markdown",
   "source": [
    "*Your explanation here*"
   ],
   "metadata": {
    "id": "Mb7FTGgTA-QS"
   }
  },
  {
   "cell_type": "code",
   "execution_count": null,
   "source": [
    "# your code goes here"
   ],
   "outputs": [],
   "metadata": {
    "ExecuteTime": {
     "end_time": "2021-09-27T14:01:15.648444Z",
     "start_time": "2021-09-27T14:01:15.643363Z"
    },
    "id": "9CzDjF_pA-QS"
   }
  },
  {
   "cell_type": "markdown",
   "source": [
    "# Exercise 4: Basic movie recommendation system (20 points)"
   ],
   "metadata": {
    "id": "hc4EOB-gb5pp"
   }
  },
  {
   "cell_type": "markdown",
   "source": [
    "In this exercise, you'll build a simple movie recommendation system.  The system will take a movie as input and recommend a list of similar movies. In order to recommend similar movies, you will use the correlation between the ratings of movies as a similarity metric. We'll use Pearson's correlation. \n",
    " \n",
    "The data for this exercise is available in the following URLs. It contains basic info about movies, as well as ratings provided by several users."
   ],
   "metadata": {
    "id": "7PqirpLgVdN0"
   }
  },
  {
   "cell_type": "code",
   "execution_count": null,
   "source": [
    "url1 = 'http://courses.compute.dtu.dk/02807/2021/projects/project1/ratings.csv'\r\n",
    "url2 = 'http://courses.compute.dtu.dk/02807/2021/projects/project1/movies.csv'"
   ],
   "outputs": [],
   "metadata": {
    "ExecuteTime": {
     "end_time": "2021-09-27T14:49:08.552678Z",
     "start_time": "2021-09-27T14:49:08.547286Z"
    },
    "id": "HOHERjo8cLQo"
   }
  },
  {
   "cell_type": "markdown",
   "source": [
    "## Part 1: Preparing the ratings data (10 pts)"
   ],
   "metadata": {
    "id": "YOXKd22xXgo2"
   }
  },
  {
   "cell_type": "markdown",
   "source": [
    "Read the data from these two URLs, and create a single dataframe from them, with the following columns:\n",
    "\n",
    "| userId | movieId | rating | timestamp | title | genres |\n",
    "|--------|---------|--------|-----------|-------|--------|\n",
    "|        |         |        |           |       |        |\n",
    "\n",
    "Call the dataframe `movie_data`."
   ],
   "metadata": {
    "id": "Isn8M65HXi3i"
   }
  },
  {
   "cell_type": "code",
   "execution_count": null,
   "source": [
    "# your code goes here"
   ],
   "outputs": [],
   "metadata": {
    "id": "GwhdEsGUn1zz"
   }
  },
  {
   "cell_type": "markdown",
   "source": [
    "To find the correlation between the ratings of movies, create a dataframe where each column is a movie name and each row contains the rating assigned by a specific user to that movie. \n",
    "\n",
    "You'll notice that this dataframe has many NaN values, since each movie is not rated by every user. Call the dataframe `user_ratings`."
   ],
   "metadata": {
    "id": "MFGc9VSzadHi"
   }
  },
  {
   "cell_type": "code",
   "execution_count": null,
   "source": [
    "# your code goes here"
   ],
   "outputs": [],
   "metadata": {
    "id": "eTrrVPsrfn1Q"
   }
  },
  {
   "cell_type": "markdown",
   "source": [
    "## Part 2: Finding the most similar movies (10 pts)"
   ],
   "metadata": {
    "id": "hy61Luqyu2Te"
   }
  },
  {
   "cell_type": "markdown",
   "source": [
    "Each column contains all the user ratings for a particular movie. Let's take the user ratings for the movie Toy Story."
   ],
   "metadata": {
    "id": "M7FBDshDd1j7"
   }
  },
  {
   "cell_type": "code",
   "execution_count": null,
   "source": [
    "toystory_ratings = user_ratings['Toy Story (1995)']\r\n",
    "toystory_ratings"
   ],
   "outputs": [],
   "metadata": {
    "id": "6e-9WXAro_4-"
   }
  },
  {
   "cell_type": "markdown",
   "source": [
    "Next, find the correlation between the user ratings for Toy Story and the user ratings of all other movies. \n",
    " \n",
    "More specifically, create a dataframe that contains two columns, called `title` and `Correlation`. Each row should contain a movie title $x$, followed by the pairwise correlation between the column of ratings for Toy Story and the column of ratings for $x$.  Drop any rows with null values, and display the resulting dataframe.\n",
    " \n",
    "Use built-in functions to compute correlations and avoid explicit loops."
   ],
   "metadata": {
    "id": "fljIQkJmpCJD"
   }
  },
  {
   "cell_type": "code",
   "execution_count": null,
   "source": [
    "# your code goes here"
   ],
   "outputs": [],
   "metadata": {
    "id": "_yuX1U0Xh0nk"
   }
  },
  {
   "cell_type": "markdown",
   "source": [
    "Sort the movies by descending order of correlation to find out highly correlated movies at the top. Display the 5 most highly correlated movies.\n"
   ],
   "metadata": {
    "id": "aji7cUw-r-JG"
   }
  },
  {
   "cell_type": "code",
   "execution_count": null,
   "source": [
    "# your code goes here"
   ],
   "outputs": [],
   "metadata": {
    "id": "FU0Zm9fjg4BD"
   }
  },
  {
   "cell_type": "markdown",
   "source": [
    "If you computed correlations correctly, you will find that the recommended movies are not very well known. We can generate more popular recommendations by finding highly correlated movies that have a sensible number of ratings. \n",
    " \n",
    "Add a column to your correlation table, called `rating_counts`, which stores the number of ratings received by each movie."
   ],
   "metadata": {
    "id": "qrvD_u63sVdD"
   }
  },
  {
   "cell_type": "code",
   "execution_count": null,
   "source": [
    "# your code goes here"
   ],
   "outputs": [],
   "metadata": {
    "id": "WvMKUmBFg-Ow"
   }
  },
  {
   "cell_type": "markdown",
   "source": [
    "Now find the 5 movies with the highest correlation with Toy Story, which have strictly more than 100 ratings. Display the result below. "
   ],
   "metadata": {
    "id": "b_20nfFvt-7y"
   }
  },
  {
   "cell_type": "code",
   "execution_count": null,
   "source": [
    "# your code goes here"
   ],
   "outputs": [],
   "metadata": {
    "id": "KvE3c2lMhHNz"
   }
  }
 ],
 "metadata": {
  "colab": {
   "collapsed_sections": [
    "7sVQeTkLYI2b"
   ],
   "include_colab_link": true,
   "name": "02807_Project_1.ipynb",
   "provenance": []
  },
  "kernelspec": {
   "name": "python3",
   "display_name": "Python 3.7.6 64-bit ('base': conda)"
  },
  "language_info": {
   "codemirror_mode": {
    "name": "ipython",
    "version": 3
   },
   "file_extension": ".py",
   "mimetype": "text/x-python",
   "name": "python",
   "nbconvert_exporter": "python",
   "pygments_lexer": "ipython3",
   "version": "3.7.6"
  },
  "toc": {
   "base_numbering": 1,
   "nav_menu": {},
   "number_sections": true,
   "sideBar": true,
   "skip_h1_title": false,
   "title_cell": "Table of Contents",
   "title_sidebar": "Contents",
   "toc_cell": false,
   "toc_position": {
    "height": "calc(100% - 180px)",
    "left": "10px",
    "top": "150px",
    "width": "362px"
   },
   "toc_section_display": true,
   "toc_window_display": true
  },
  "interpreter": {
   "hash": "f1d60ef3148d6d6f99d64de6ef09e0267d4db5c62a0823eaf2b9aa582c08f8e5"
  }
 },
 "nbformat": 4,
 "nbformat_minor": 4
}