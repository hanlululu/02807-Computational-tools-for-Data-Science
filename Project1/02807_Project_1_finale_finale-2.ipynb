{
  "cells": [
    {
      "cell_type": "markdown",
      "metadata": {
        "id": "view-in-github"
      },
      "source": [
        "<a href=\"https://colab.research.google.com/github/MiaMiya/02807-Computational-Tools-for-Data-Science/blob/main/Project/02807_Project_1.ipynb\" target=\"_parent\"><img src=\"https://colab.research.google.com/assets/colab-badge.svg\" alt=\"Open In Colab\"/></a>"
      ]
    },
    {
      "cell_type": "markdown",
      "metadata": {
        "id": "PlsPJUw7wCWZ"
      },
      "source": [
        "# 02807: Project 1\n",
        " \n",
        "## Practical information\n",
        " \n",
        "* This project must be completed in groups of 3 students.\n",
        "    * The group must be registered on the course site on DTU Learn: My Course > Groups\n",
        "* This project must be handed in as a jupyter notebook to the course site on DTU Learn. \n",
        "    * Go to the Course Content > Assignments tab to upload your submission. \n",
        "* This project is due on Monday, November 1, 20:00.\n",
        "\n",
        "## Submission rules\n",
        "\n",
        "* Each group has to hand in *one* notebook (`.ipynb`) with their solutions, including a filled out Contribution table (see below).\n",
        "* Your solution must be written in Python.\n",
        "* For each question you should use the cells provided (\"`# your code goes here`\") for your solution\n",
        "    * It is allowed to add code cells within a question block, but consider if it's really necessary.\n",
        "* You should not remove the problem statements, and you should not modify the structure of the notebook.\n",
        "* Your notebook should be runnable and readable from top to bottom.\n",
        "    * Meaning that your code cells work when run in order (from top to bottom).\n",
        "    * Output of any cell depends only on itself and cells above it.\n",
        "* Your notebook should be submitted after having been run from top to bottom.\n",
        "    * This means outputs are interpretable without necessarily running your cells.\n",
        "    * The simplest way to achieve this is using the jupyter menu item Kernel > Restart & Run All just prior to submission. If any cell fails when you do this, your notebook is not ready for submission.\n",
        "* Failure to comply may make it impossible for us to evaluate your submission properly, which will likely negatively impact the points awarded.\n",
        "    \n",
        " \n",
        "## Colaboration policy\n",
        " \n",
        "* It is not allowed to collaborate on the exercises with students outside your group, except for discussing the text of the exercise with teachers and fellow students enrolled on the course in the same semester. \n",
        "* It is not allowed to exchange, hand-over or in any other way communicate solutions or parts of solutions to the exercises. \n",
        "* It is not allowed to use solutions from similar courses, or solutions found elsewhere."
      ]
    },
    {
      "cell_type": "markdown",
      "metadata": {
        "id": "ZP30rwxHDQyG"
      },
      "source": [
        "## Contribution table and grading\n",
        "\n",
        "* The total amount of points in the project is 110.\n",
        "* You have to indicate who has solved each part of each exercise in a **contribution table**. \n",
        "* The following is an example of a contributions table:\n",
        "\n",
        "|        | Exercise 1 | Exercise 2 | Exercise 3 | Exercise 4 |\n",
        "|--------|------------|------------|------------|------------|\n",
        "| **Part 1** | John       |    Mary        |     Ann       |   Mary, Ann         |\n",
        "| **Part 2** |     Mary       |    Mary        |   Ann         |    John, Ann        |\n",
        "| **Part 3** |     John, Mary, Ann       |      John, Ann      |   John         | **n.a.**      |\n",
        "| **Part 4** | **n.a.**       |  Ann          |     John, Mary       | **n.a.**       |\n",
        "| **Part 5** | **n.a.**     | John, Mary, Ann           | John       | **n.a.**       |\n",
        "\n",
        "* A group member can take credit for solving a part of an exercise only if they have contributed **substantially** to the solution. \n",
        "    * Simple contributions, such as correcting a small bug or double-checking the results of functions, are not sufficient for taking credit for a solution.\n",
        "    * Several group members can take credit for the same solution if they all have contributed substantially to it.\n",
        "* Each group member must contribute **at least 50 points**. \n",
        "    * If no name is provided for an exercise's part, **all group members** are considered contributors to it.\n",
        "* Group members should decide amongst themselves how to collaborate on the project to meet the above-mentioned constraints.  \n",
        "* Scores are individual. The score $\\text{score}(m)$ for a group member $m$ ranges from 0 to 10 and is calculated as follows: \n",
        "\n",
        "  * $\\text{individual-score}(m) = \\frac{\\text{total number of points for the parts correctly solved by }m}{\\text{total number of points for the parts contributed by }m}$\n",
        "\n",
        "  * $\\text{group-score} = \\frac{\\text{total number of points correctly solved by any group member}}{\\text{total number of points in the project}}$\n",
        "\n",
        "  * $\\text{score}(m) =  7.5 \\cdot \\text{individual-score}(m) + 2.5 \\cdot \\text{group-score}$\n",
        "\n",
        "* **Example**: in the contribution table above, suppose that all parts are solved correctly except for those of Exercise 4, which are both wrong. Then Ann's score is calculated as follows:\n",
        "\n",
        "  * $\\text{individual-score}(Ann) = \\frac{2.5+12.5+12.5+2.5+15+5}{2.5+12.5+12.5+2.5+15+5 + 10 + 10} = \\frac{50}{70} = 0.714$\n",
        "\n",
        "  * $\\text{group-score} = \\frac{90}{110} = 0.818$\n",
        "\n",
        "  * $\\text{score}(Ann) = 7.5\\cdot 0.714 + 2.5 \\cdot 0.818 = 7.4$\n"
      ]
    },
    {
      "cell_type": "markdown",
      "metadata": {
        "id": "vklet8XdRGVV"
      },
      "source": [
        "# Group declaration table \n",
        "\n",
        "This table must be filled before submission.\n",
        "\n"
      ]
    },
    {
      "cell_type": "code",
      "execution_count": 1,
      "metadata": {
        "ExecuteTime": {
          "end_time": "2021-09-27T15:03:19.791917Z",
          "start_time": "2021-09-27T15:03:19.764408Z"
        },
        "colab": {
          "base_uri": "https://localhost:8080/"
        },
        "id": "chiXA3CzRSA1",
        "outputId": "f6e3a18c-1f29-48e0-a2d4-2aa9e25fef53"
      },
      "outputs": [
        {
          "name": "stdout",
          "output_type": "stream",
          "text": [
            "All group members contributed equally to all exercises.\n"
          ]
        }
      ],
      "source": [
        "import pandas as pd\n",
        "\n",
        "d = {'Exercise 1' : [\"\", \"\", \"\", \"\", \"\"], \n",
        "     'Exercise 2' : [\"\", \"\", \"\", \"\", \"\"],\n",
        "     'Exercise 3' : [\"\", \"\", \"\", \"\", \"\"], \n",
        "     'Exercise 4' : [\"\", \"\", \"\", \"\", \"\"],\n",
        "     } \n",
        "  \n",
        "ct = pd.DataFrame(d, index =['Part 1','Part 2','Part 3','Part 4','Part 5']) \n",
        "\n",
        "ct\n",
        "\n",
        "print('All group members contributed equally to all exercises.')"
      ]
    },
    {
      "cell_type": "markdown",
      "metadata": {
        "_uuid": "d7aa1b0ad6979877450f9cd89e1e37289b51cf6e",
        "id": "CF8tC7Z8CgbW"
      },
      "source": [
        "# Introduction to the Datasets"
      ]
    },
    {
      "cell_type": "markdown",
      "metadata": {
        "id": "pO8N4lj29u9w"
      },
      "source": [
        "![link text](https://ph-files.imgix.net/069dd825-cddf-4048-adde-8e81396c2c68?auto=format)\n",
        "\n",
        "\n",
        "You will be working with datasets obtained through the [The Movie Database (TMDb) API](https://developers.themoviedb.org/3/getting-started/introduction). The first dataset is part of the MovieLens Latest Full Dataset, comprising 26 million ratings on 45.000 movies from 27.000 users. Let's look at the features in this dataset.\n",
        "\n",
        "**Features**\n",
        "\n",
        "* **adult**: Indicates if the movie is X-Rated.\n",
        "* **belongs_to_collection**: A stringified dictionary with info on the movie series a particular film belongs to (e.g.: Lord of the Rings).\n",
        "* **budget**: The movie budget in dollars.\n",
        "* **genres**: A stringified list of dictionaries describing all genres associated with the movie.\n",
        "* **homepage**: The movie's official homepage.\n",
        "* **id**: An identifier for the movie.\n",
        "* **imdb_id**: IMDB's identifier for the movie.\n",
        "* **original_language**: The language in which the movie was shot.\n",
        "* **original_title**: The original title of the movie.\n",
        "* **overview**: A brief text about the movie.\n",
        "* **popularity**: A Popularity Score given by TMDb.\n",
        "* **poster_path**: The URL of the poster image.\n",
        "* **production_companies**: A stringified list of production companies involved with making of the movie.\n",
        "* **production_countries**: A stringified list of countries in which the movie was produced.\n",
        "* **release_date**: Release date of the movie in theaters.\n",
        "* **revenue**: The total revenue of the movie in dollars.\n",
        "* **runtime**: The runtime of the movie in minutes.\n",
        "* **spoken_languages**: A stringified list of languages spoken in the film.\n",
        "* **status**: The status of the movie (Released, To Be Released, etc.)\n",
        "* **tagline**: The movie's tagline.\n",
        "* **title**: The official title of the movie.\n",
        "* **video**: Indicates whether there is a video of the movie in TMDb.\n",
        "* **vote_average**: The average rating of the movie, on a 0-10 scale.\n",
        "* **vote_count**: The number of votes by users, as counted by TMDb."
      ]
    },
    {
      "cell_type": "markdown",
      "metadata": {
        "_uuid": "6b418588e3f9139f74cb3a9546f5dca49729579b",
        "id": "2Clue5Z_Cgbc"
      },
      "source": [
        "# Imports\n",
        "\n",
        "First, let's make sure to import Pandas and NumPy. "
      ]
    },
    {
      "cell_type": "code",
      "execution_count": 2,
      "metadata": {
        "ExecuteTime": {
          "end_time": "2021-09-27T10:09:32.802462Z",
          "start_time": "2021-09-27T10:09:30.598648Z"
        },
        "colab": {
          "base_uri": "https://localhost:8080/"
        },
        "id": "A0K3Aw3eAf2B",
        "outputId": "d7213f57-a9ea-4a6b-e751-5ee9f7b73d2d"
      },
      "outputs": [
        {
          "name": "stdout",
          "output_type": "stream",
          "text": [
            "Requirement already satisfied: line_profiler in c:\\users\\hanlu\\anaconda3\\lib\\site-packages (3.3.0)\n",
            "Requirement already satisfied: IPython>=0.13 in c:\\users\\hanlu\\anaconda3\\lib\\site-packages (from line_profiler) (7.12.0)\n",
            "Requirement already satisfied: setuptools>=18.5 in c:\\users\\hanlu\\anaconda3\\lib\\site-packages (from IPython>=0.13->line_profiler) (45.2.0.post20200210)\n",
            "Requirement already satisfied: jedi>=0.10 in c:\\users\\hanlu\\anaconda3\\lib\\site-packages (from IPython>=0.13->line_profiler) (0.14.1)\n",
            "Requirement already satisfied: prompt-toolkit!=3.0.0,!=3.0.1,<3.1.0,>=2.0.0 in c:\\users\\hanlu\\anaconda3\\lib\\site-packages (from IPython>=0.13->line_profiler) (3.0.3)\n",
            "Requirement already satisfied: decorator in c:\\users\\hanlu\\anaconda3\\lib\\site-packages (from IPython>=0.13->line_profiler) (4.4.1)\n",
            "Requirement already satisfied: backcall in c:\\users\\hanlu\\anaconda3\\lib\\site-packages (from IPython>=0.13->line_profiler) (0.1.0)\n",
            "Requirement already satisfied: pygments in c:\\users\\hanlu\\anaconda3\\lib\\site-packages (from IPython>=0.13->line_profiler) (2.5.2)\n",
            "Requirement already satisfied: traitlets>=4.2 in c:\\users\\hanlu\\anaconda3\\lib\\site-packages (from IPython>=0.13->line_profiler) (4.3.3)\n",
            "Requirement already satisfied: pickleshare in c:\\users\\hanlu\\anaconda3\\lib\\site-packages (from IPython>=0.13->line_profiler) (0.7.5)\n",
            "Requirement already satisfied: colorama in c:\\users\\hanlu\\anaconda3\\lib\\site-packages (from IPython>=0.13->line_profiler) (0.4.3)\n",
            "Requirement already satisfied: parso>=0.5.0 in c:\\users\\hanlu\\anaconda3\\lib\\site-packages (from jedi>=0.10->IPython>=0.13->line_profiler) (0.5.2)\n",
            "Requirement already satisfied: wcwidth in c:\\users\\hanlu\\anaconda3\\lib\\site-packages (from prompt-toolkit!=3.0.0,!=3.0.1,<3.1.0,>=2.0.0->IPython>=0.13->line_profiler) (0.1.8)\n",
            "Requirement already satisfied: ipython-genutils in c:\\users\\hanlu\\anaconda3\\lib\\site-packages (from traitlets>=4.2->IPython>=0.13->line_profiler) (0.2.0)\n",
            "Requirement already satisfied: six in c:\\users\\hanlu\\anaconda3\\lib\\site-packages (from traitlets>=4.2->IPython>=0.13->line_profiler) (1.14.0)\n"
          ]
        },
        {
          "name": "stderr",
          "output_type": "stream",
          "text": [
            "WARNING: You are using pip version 21.0.1; however, version 21.3.1 is available.\n",
            "You should consider upgrading via the 'c:\\users\\hanlu\\anaconda3\\python.exe -m pip install --upgrade pip' command.\n"
          ]
        }
      ],
      "source": [
        "#data analysis libraries \n",
        "import numpy as np\n",
        "import pandas as pd\n",
        "pd.options.mode.chained_assignment = None\n",
        "\n",
        "from pandas_profiling import ProfileReport\n",
        "\n",
        "#visualization libraries\n",
        "import matplotlib.pyplot as plt\n",
        "import seaborn as sns\n",
        "%matplotlib inline\n",
        "\n",
        "!pip install line_profiler"
      ]
    },
    {
      "cell_type": "markdown",
      "metadata": {
        "id": "PFlHk-e0BZME"
      },
      "source": [
        "# Exercise 1: Loading, preprocessing and cleaning the data (15 points)"
      ]
    },
    {
      "cell_type": "markdown",
      "metadata": {
        "id": "mGJnqtQD1BOs"
      },
      "source": [
        "Read the movie dataset from the following URL."
      ]
    },
    {
      "cell_type": "code",
      "execution_count": 3,
      "metadata": {
        "ExecuteTime": {
          "end_time": "2021-09-27T10:09:34.147572Z",
          "start_time": "2021-09-27T10:09:34.145160Z"
        },
        "id": "sQb46KRIAkOB"
      },
      "outputs": [],
      "source": [
        "url = 'http://courses.compute.dtu.dk/02807/2021/projects/project1/movies_metadata.csv'"
      ]
    },
    {
      "cell_type": "markdown",
      "metadata": {
        "id": "jQrm5PleClKz"
      },
      "source": [
        "## Part 1: Reading and preprocessing the data (10 pts)\n",
        "\n",
        "Pandas infers a data type for raw data from a `.csv`, defaulting to string type when no other `dtype` could be established. For example, the `genres` column in our dataset is read as a string with a *stringified* list of dictionaries as cell content. \n",
        "\n",
        "Some preprocessing steps are therefore needed, to convert the columns into their proper data types.\n",
        "\n",
        "Write a function `load_movies_data()` that reads the URL into a Pandas DataFrame and preprocesses its columns to ensure that:\n",
        "\n",
        "1. Data in the `release_date` column consists of Pandas `Timestamp` objects, except for missing values. For example, executing a code cell with `df.release_date[0]` should display the output `Timestamp('1995-10-30 00:00:00')`.\n",
        "\n",
        "2. Data in `belongs_to_collection` consists of dictionaries, except for missing values.\n",
        "\n",
        "3. Data in `genres`, `production_companies` and `production_countries` consists of lists of dictionaries, except for missing values. \n",
        "\n",
        "For example, executing a code cell with `df.genres[0]` should display the output \n",
        "```\n",
        "[{'id': 16, 'name': 'Animation'},\n",
        " {'id': 35, 'name': 'Comedy'},\n",
        " {'id': 10751, 'name': 'Family'}]\n",
        "```\n",
        "which is a list type, not a string. The elements of the list are dictionaries (executing `df.genres[0][0]['name']` returns `'Animation'`). \n",
        "\n",
        "**Hint**: for items 2 and 3, you should use `ast.literal_eval`.\n",
        "\n",
        "These conversions can be performed using Pandas' built-in functions and/or calling Pandas' `apply()` with appropriate arguments. Avoid explicit looping. You'll be asked below to time the loading and preprocessing step. "
      ]
    },
    {
      "cell_type": "code",
      "execution_count": 4,
      "metadata": {
        "id": "2mC5hjGXJTZ0"
      },
      "outputs": [],
      "source": [
        "def load_movies_data(url):\n",
        "    # Read movie data \n",
        "    df = pd.read_csv(url, low_memory=False) \n",
        "    # Replace Nan with string None for easier filtering later\n",
        "    df.fillna('None', inplace=True) \n",
        "    # Convert release_date to datetime object\n",
        "    df['release_date'] = pd.to_datetime(df['release_date'], format='%Y-%m-%d %H:%M:%S', errors = 'coerce')\n",
        "    # Convert belongs_to_collection, genres, production_companies and production_countries to dictionaries\n",
        "    cols = ['belongs_to_collection', 'genres', 'production_companies', 'production_countries']\n",
        "    for col in cols:\n",
        "        df[col] = [eval(x) for x in df[col]]\n",
        "    return df\n"
      ]
    },
    {
      "cell_type": "markdown",
      "metadata": {
        "id": "oZvSPPdzfScL"
      },
      "source": [
        "Now call `load_movies_data()` and load the data into a DataFrame `df`."
      ]
    },
    {
      "cell_type": "code",
      "execution_count": 5,
      "metadata": {
        "id": "VMq_dgtZCuPm"
      },
      "outputs": [],
      "source": [
        "df = load_movies_data(url)"
      ]
    },
    {
      "cell_type": "markdown",
      "metadata": {
        "id": "bnelY1bZzj-J"
      },
      "source": [
        "Display the DataFrame. You should check that it looks correct."
      ]
    },
    {
      "cell_type": "code",
      "execution_count": 6,
      "metadata": {
        "colab": {
          "base_uri": "https://localhost:8080/",
          "height": 932
        },
        "id": "tP6zpeLxu4J-",
        "outputId": "993d4920-77d2-4108-ae7e-4476918d48c3"
      },
      "outputs": [
        {
          "data": {
            "text/html": [
              "<div>\n",
              "<style scoped>\n",
              "    .dataframe tbody tr th:only-of-type {\n",
              "        vertical-align: middle;\n",
              "    }\n",
              "\n",
              "    .dataframe tbody tr th {\n",
              "        vertical-align: top;\n",
              "    }\n",
              "\n",
              "    .dataframe thead th {\n",
              "        text-align: right;\n",
              "    }\n",
              "</style>\n",
              "<table border=\"1\" class=\"dataframe\">\n",
              "  <thead>\n",
              "    <tr style=\"text-align: right;\">\n",
              "      <th></th>\n",
              "      <th>0</th>\n",
              "      <th>1</th>\n",
              "      <th>2</th>\n",
              "      <th>3</th>\n",
              "      <th>4</th>\n",
              "    </tr>\n",
              "  </thead>\n",
              "  <tbody>\n",
              "    <tr>\n",
              "      <th>adult</th>\n",
              "      <td>False</td>\n",
              "      <td>False</td>\n",
              "      <td>False</td>\n",
              "      <td>False</td>\n",
              "      <td>False</td>\n",
              "    </tr>\n",
              "    <tr>\n",
              "      <th>belongs_to_collection</th>\n",
              "      <td>{'id': 10194, 'name': 'Toy Story Collection', ...</td>\n",
              "      <td>None</td>\n",
              "      <td>{'id': 119050, 'name': 'Grumpy Old Men Collect...</td>\n",
              "      <td>None</td>\n",
              "      <td>{'id': 96871, 'name': 'Father of the Bride Col...</td>\n",
              "    </tr>\n",
              "    <tr>\n",
              "      <th>budget</th>\n",
              "      <td>30000000</td>\n",
              "      <td>65000000</td>\n",
              "      <td>0</td>\n",
              "      <td>16000000</td>\n",
              "      <td>0</td>\n",
              "    </tr>\n",
              "    <tr>\n",
              "      <th>genres</th>\n",
              "      <td>[{'id': 16, 'name': 'Animation'}, {'id': 35, '...</td>\n",
              "      <td>[{'id': 12, 'name': 'Adventure'}, {'id': 14, '...</td>\n",
              "      <td>[{'id': 10749, 'name': 'Romance'}, {'id': 35, ...</td>\n",
              "      <td>[{'id': 35, 'name': 'Comedy'}, {'id': 18, 'nam...</td>\n",
              "      <td>[{'id': 35, 'name': 'Comedy'}]</td>\n",
              "    </tr>\n",
              "    <tr>\n",
              "      <th>homepage</th>\n",
              "      <td>http://toystory.disney.com/toy-story</td>\n",
              "      <td>None</td>\n",
              "      <td>None</td>\n",
              "      <td>None</td>\n",
              "      <td>None</td>\n",
              "    </tr>\n",
              "    <tr>\n",
              "      <th>id</th>\n",
              "      <td>862</td>\n",
              "      <td>8844</td>\n",
              "      <td>15602</td>\n",
              "      <td>31357</td>\n",
              "      <td>11862</td>\n",
              "    </tr>\n",
              "    <tr>\n",
              "      <th>imdb_id</th>\n",
              "      <td>tt0114709</td>\n",
              "      <td>tt0113497</td>\n",
              "      <td>tt0113228</td>\n",
              "      <td>tt0114885</td>\n",
              "      <td>tt0113041</td>\n",
              "    </tr>\n",
              "    <tr>\n",
              "      <th>original_language</th>\n",
              "      <td>en</td>\n",
              "      <td>en</td>\n",
              "      <td>en</td>\n",
              "      <td>en</td>\n",
              "      <td>en</td>\n",
              "    </tr>\n",
              "    <tr>\n",
              "      <th>original_title</th>\n",
              "      <td>Toy Story</td>\n",
              "      <td>Jumanji</td>\n",
              "      <td>Grumpier Old Men</td>\n",
              "      <td>Waiting to Exhale</td>\n",
              "      <td>Father of the Bride Part II</td>\n",
              "    </tr>\n",
              "    <tr>\n",
              "      <th>overview</th>\n",
              "      <td>Led by Woody, Andy's toys live happily in his ...</td>\n",
              "      <td>When siblings Judy and Peter discover an encha...</td>\n",
              "      <td>A family wedding reignites the ancient feud be...</td>\n",
              "      <td>Cheated on, mistreated and stepped on, the wom...</td>\n",
              "      <td>Just when George Banks has recovered from his ...</td>\n",
              "    </tr>\n",
              "    <tr>\n",
              "      <th>popularity</th>\n",
              "      <td>21.946943</td>\n",
              "      <td>17.015539</td>\n",
              "      <td>11.7129</td>\n",
              "      <td>3.859495</td>\n",
              "      <td>8.387519</td>\n",
              "    </tr>\n",
              "    <tr>\n",
              "      <th>poster_path</th>\n",
              "      <td>/rhIRbceoE9lR4veEXuwCC2wARtG.jpg</td>\n",
              "      <td>/vzmL6fP7aPKNKPRTFnZmiUfciyV.jpg</td>\n",
              "      <td>/6ksm1sjKMFLbO7UY2i6G1ju9SML.jpg</td>\n",
              "      <td>/16XOMpEaLWkrcPqSQqhTmeJuqQl.jpg</td>\n",
              "      <td>/e64sOI48hQXyru7naBFyssKFxVd.jpg</td>\n",
              "    </tr>\n",
              "    <tr>\n",
              "      <th>production_companies</th>\n",
              "      <td>[{'name': 'Pixar Animation Studios', 'id': 3}]</td>\n",
              "      <td>[{'name': 'TriStar Pictures', 'id': 559}, {'na...</td>\n",
              "      <td>[{'name': 'Warner Bros.', 'id': 6194}, {'name'...</td>\n",
              "      <td>[{'name': 'Twentieth Century Fox Film Corporat...</td>\n",
              "      <td>[{'name': 'Sandollar Productions', 'id': 5842}...</td>\n",
              "    </tr>\n",
              "    <tr>\n",
              "      <th>production_countries</th>\n",
              "      <td>[{'iso_3166_1': 'US', 'name': 'United States o...</td>\n",
              "      <td>[{'iso_3166_1': 'US', 'name': 'United States o...</td>\n",
              "      <td>[{'iso_3166_1': 'US', 'name': 'United States o...</td>\n",
              "      <td>[{'iso_3166_1': 'US', 'name': 'United States o...</td>\n",
              "      <td>[{'iso_3166_1': 'US', 'name': 'United States o...</td>\n",
              "    </tr>\n",
              "    <tr>\n",
              "      <th>release_date</th>\n",
              "      <td>1995-10-30 00:00:00</td>\n",
              "      <td>1995-12-15 00:00:00</td>\n",
              "      <td>1995-12-22 00:00:00</td>\n",
              "      <td>1995-12-22 00:00:00</td>\n",
              "      <td>1995-02-10 00:00:00</td>\n",
              "    </tr>\n",
              "    <tr>\n",
              "      <th>revenue</th>\n",
              "      <td>373554033.0</td>\n",
              "      <td>262797249.0</td>\n",
              "      <td>0.0</td>\n",
              "      <td>81452156.0</td>\n",
              "      <td>76578911.0</td>\n",
              "    </tr>\n",
              "    <tr>\n",
              "      <th>runtime</th>\n",
              "      <td>81.0</td>\n",
              "      <td>104.0</td>\n",
              "      <td>101.0</td>\n",
              "      <td>127.0</td>\n",
              "      <td>106.0</td>\n",
              "    </tr>\n",
              "    <tr>\n",
              "      <th>spoken_languages</th>\n",
              "      <td>[{'iso_639_1': 'en', 'name': 'English'}]</td>\n",
              "      <td>[{'iso_639_1': 'en', 'name': 'English'}, {'iso...</td>\n",
              "      <td>[{'iso_639_1': 'en', 'name': 'English'}]</td>\n",
              "      <td>[{'iso_639_1': 'en', 'name': 'English'}]</td>\n",
              "      <td>[{'iso_639_1': 'en', 'name': 'English'}]</td>\n",
              "    </tr>\n",
              "    <tr>\n",
              "      <th>status</th>\n",
              "      <td>Released</td>\n",
              "      <td>Released</td>\n",
              "      <td>Released</td>\n",
              "      <td>Released</td>\n",
              "      <td>Released</td>\n",
              "    </tr>\n",
              "    <tr>\n",
              "      <th>tagline</th>\n",
              "      <td>None</td>\n",
              "      <td>Roll the dice and unleash the excitement!</td>\n",
              "      <td>Still Yelling. Still Fighting. Still Ready for...</td>\n",
              "      <td>Friends are the people who let you be yourself...</td>\n",
              "      <td>Just When His World Is Back To Normal... He's ...</td>\n",
              "    </tr>\n",
              "    <tr>\n",
              "      <th>title</th>\n",
              "      <td>Toy Story</td>\n",
              "      <td>Jumanji</td>\n",
              "      <td>Grumpier Old Men</td>\n",
              "      <td>Waiting to Exhale</td>\n",
              "      <td>Father of the Bride Part II</td>\n",
              "    </tr>\n",
              "    <tr>\n",
              "      <th>video</th>\n",
              "      <td>False</td>\n",
              "      <td>False</td>\n",
              "      <td>False</td>\n",
              "      <td>False</td>\n",
              "      <td>False</td>\n",
              "    </tr>\n",
              "    <tr>\n",
              "      <th>vote_average</th>\n",
              "      <td>7.7</td>\n",
              "      <td>6.9</td>\n",
              "      <td>6.5</td>\n",
              "      <td>6.1</td>\n",
              "      <td>5.7</td>\n",
              "    </tr>\n",
              "    <tr>\n",
              "      <th>vote_count</th>\n",
              "      <td>5415.0</td>\n",
              "      <td>2413.0</td>\n",
              "      <td>92.0</td>\n",
              "      <td>34.0</td>\n",
              "      <td>173.0</td>\n",
              "    </tr>\n",
              "  </tbody>\n",
              "</table>\n",
              "</div>"
            ],
            "text/plain": [
              "                                                                       0  \\\n",
              "adult                                                              False   \n",
              "belongs_to_collection  {'id': 10194, 'name': 'Toy Story Collection', ...   \n",
              "budget                                                          30000000   \n",
              "genres                 [{'id': 16, 'name': 'Animation'}, {'id': 35, '...   \n",
              "homepage                            http://toystory.disney.com/toy-story   \n",
              "id                                                                   862   \n",
              "imdb_id                                                        tt0114709   \n",
              "original_language                                                     en   \n",
              "original_title                                                 Toy Story   \n",
              "overview               Led by Woody, Andy's toys live happily in his ...   \n",
              "popularity                                                     21.946943   \n",
              "poster_path                             /rhIRbceoE9lR4veEXuwCC2wARtG.jpg   \n",
              "production_companies      [{'name': 'Pixar Animation Studios', 'id': 3}]   \n",
              "production_countries   [{'iso_3166_1': 'US', 'name': 'United States o...   \n",
              "release_date                                         1995-10-30 00:00:00   \n",
              "revenue                                                      373554033.0   \n",
              "runtime                                                             81.0   \n",
              "spoken_languages                [{'iso_639_1': 'en', 'name': 'English'}]   \n",
              "status                                                          Released   \n",
              "tagline                                                             None   \n",
              "title                                                          Toy Story   \n",
              "video                                                              False   \n",
              "vote_average                                                         7.7   \n",
              "vote_count                                                        5415.0   \n",
              "\n",
              "                                                                       1  \\\n",
              "adult                                                              False   \n",
              "belongs_to_collection                                               None   \n",
              "budget                                                          65000000   \n",
              "genres                 [{'id': 12, 'name': 'Adventure'}, {'id': 14, '...   \n",
              "homepage                                                            None   \n",
              "id                                                                  8844   \n",
              "imdb_id                                                        tt0113497   \n",
              "original_language                                                     en   \n",
              "original_title                                                   Jumanji   \n",
              "overview               When siblings Judy and Peter discover an encha...   \n",
              "popularity                                                     17.015539   \n",
              "poster_path                             /vzmL6fP7aPKNKPRTFnZmiUfciyV.jpg   \n",
              "production_companies   [{'name': 'TriStar Pictures', 'id': 559}, {'na...   \n",
              "production_countries   [{'iso_3166_1': 'US', 'name': 'United States o...   \n",
              "release_date                                         1995-12-15 00:00:00   \n",
              "revenue                                                      262797249.0   \n",
              "runtime                                                            104.0   \n",
              "spoken_languages       [{'iso_639_1': 'en', 'name': 'English'}, {'iso...   \n",
              "status                                                          Released   \n",
              "tagline                        Roll the dice and unleash the excitement!   \n",
              "title                                                            Jumanji   \n",
              "video                                                              False   \n",
              "vote_average                                                         6.9   \n",
              "vote_count                                                        2413.0   \n",
              "\n",
              "                                                                       2  \\\n",
              "adult                                                              False   \n",
              "belongs_to_collection  {'id': 119050, 'name': 'Grumpy Old Men Collect...   \n",
              "budget                                                                 0   \n",
              "genres                 [{'id': 10749, 'name': 'Romance'}, {'id': 35, ...   \n",
              "homepage                                                            None   \n",
              "id                                                                 15602   \n",
              "imdb_id                                                        tt0113228   \n",
              "original_language                                                     en   \n",
              "original_title                                          Grumpier Old Men   \n",
              "overview               A family wedding reignites the ancient feud be...   \n",
              "popularity                                                       11.7129   \n",
              "poster_path                             /6ksm1sjKMFLbO7UY2i6G1ju9SML.jpg   \n",
              "production_companies   [{'name': 'Warner Bros.', 'id': 6194}, {'name'...   \n",
              "production_countries   [{'iso_3166_1': 'US', 'name': 'United States o...   \n",
              "release_date                                         1995-12-22 00:00:00   \n",
              "revenue                                                              0.0   \n",
              "runtime                                                            101.0   \n",
              "spoken_languages                [{'iso_639_1': 'en', 'name': 'English'}]   \n",
              "status                                                          Released   \n",
              "tagline                Still Yelling. Still Fighting. Still Ready for...   \n",
              "title                                                   Grumpier Old Men   \n",
              "video                                                              False   \n",
              "vote_average                                                         6.5   \n",
              "vote_count                                                          92.0   \n",
              "\n",
              "                                                                       3  \\\n",
              "adult                                                              False   \n",
              "belongs_to_collection                                               None   \n",
              "budget                                                          16000000   \n",
              "genres                 [{'id': 35, 'name': 'Comedy'}, {'id': 18, 'nam...   \n",
              "homepage                                                            None   \n",
              "id                                                                 31357   \n",
              "imdb_id                                                        tt0114885   \n",
              "original_language                                                     en   \n",
              "original_title                                         Waiting to Exhale   \n",
              "overview               Cheated on, mistreated and stepped on, the wom...   \n",
              "popularity                                                      3.859495   \n",
              "poster_path                             /16XOMpEaLWkrcPqSQqhTmeJuqQl.jpg   \n",
              "production_companies   [{'name': 'Twentieth Century Fox Film Corporat...   \n",
              "production_countries   [{'iso_3166_1': 'US', 'name': 'United States o...   \n",
              "release_date                                         1995-12-22 00:00:00   \n",
              "revenue                                                       81452156.0   \n",
              "runtime                                                            127.0   \n",
              "spoken_languages                [{'iso_639_1': 'en', 'name': 'English'}]   \n",
              "status                                                          Released   \n",
              "tagline                Friends are the people who let you be yourself...   \n",
              "title                                                  Waiting to Exhale   \n",
              "video                                                              False   \n",
              "vote_average                                                         6.1   \n",
              "vote_count                                                          34.0   \n",
              "\n",
              "                                                                       4  \n",
              "adult                                                              False  \n",
              "belongs_to_collection  {'id': 96871, 'name': 'Father of the Bride Col...  \n",
              "budget                                                                 0  \n",
              "genres                                    [{'id': 35, 'name': 'Comedy'}]  \n",
              "homepage                                                            None  \n",
              "id                                                                 11862  \n",
              "imdb_id                                                        tt0113041  \n",
              "original_language                                                     en  \n",
              "original_title                               Father of the Bride Part II  \n",
              "overview               Just when George Banks has recovered from his ...  \n",
              "popularity                                                      8.387519  \n",
              "poster_path                             /e64sOI48hQXyru7naBFyssKFxVd.jpg  \n",
              "production_companies   [{'name': 'Sandollar Productions', 'id': 5842}...  \n",
              "production_countries   [{'iso_3166_1': 'US', 'name': 'United States o...  \n",
              "release_date                                         1995-02-10 00:00:00  \n",
              "revenue                                                       76578911.0  \n",
              "runtime                                                            106.0  \n",
              "spoken_languages                [{'iso_639_1': 'en', 'name': 'English'}]  \n",
              "status                                                          Released  \n",
              "tagline                Just When His World Is Back To Normal... He's ...  \n",
              "title                                        Father of the Bride Part II  \n",
              "video                                                              False  \n",
              "vote_average                                                         5.7  \n",
              "vote_count                                                         173.0  "
            ]
          },
          "execution_count": 6,
          "metadata": {},
          "output_type": "execute_result"
        }
      ],
      "source": [
        "df.head().T"
      ]
    },
    {
      "cell_type": "markdown",
      "metadata": {
        "id": "PuzjOV7ffbpR"
      },
      "source": [
        "## Part 2: Timing your function (2.5 pts)\n",
        "\n",
        "Time the performance of your function. To get the points for this part, the time reported below must not exceed 40 seconds."
      ]
    },
    {
      "cell_type": "code",
      "execution_count": 7,
      "metadata": {
        "colab": {
          "base_uri": "https://localhost:8080/"
        },
        "id": "aIYWL17bO2Ih",
        "outputId": "1b98a83e-61f2-4ef0-ba85-308d344d4d9e"
      },
      "outputs": [
        {
          "name": "stdout",
          "output_type": "stream",
          "text": [
            "3.93 s ± 141 ms per loop (mean ± std. dev. of 3 runs, 1 loop each)\n",
            "Time (s): 3.734599399999997\n"
          ]
        }
      ],
      "source": [
        "load_time = %timeit -o -r 3 load_movies_data(url)\n",
        "print(\"Time (s):\", load_time.best)"
      ]
    },
    {
      "cell_type": "markdown",
      "metadata": {
        "id": "7sVQeTkLYI2b"
      },
      "source": [
        "## Part 3: Cleaning the data (2.5 pts)"
      ]
    },
    {
      "cell_type": "markdown",
      "metadata": {
        "id": "6ydbZ-KFYlRX"
      },
      "source": [
        "Filter/drop all rows in `df` meeting any of these conditions:\n",
        "* The `adult` value is not `'False'`\n",
        "* The `vote_count` value is missing\n",
        "* The `vote_average` value is missing\n",
        "\n",
        "Do not loop over rows to perform these checks. Use Pandas' built-in functionality to do so. "
      ]
    },
    {
      "cell_type": "code",
      "execution_count": 8,
      "metadata": {
        "id": "l73uSTuqCuPo"
      },
      "outputs": [],
      "source": [
        "# Drop data meeting any of the conditions\n",
        "df = df[(df['adult'] == 'False') & (df['vote_count'] != 'None') & (df['vote_average'] != 'None')].reset_index(drop = True)\n",
        "## convert vote_count and vote_average column to numeric\n",
        "df['vote_count'] = df['vote_count'].astype(float)\n",
        "df['vote_average'] = df['vote_average'].astype(float)"
      ]
    },
    {
      "cell_type": "markdown",
      "metadata": {
        "id": "mT8jdILukiBF"
      },
      "source": [
        "# Exercise 2: Computing IMDb's ratings (35 points)"
      ]
    },
    {
      "cell_type": "markdown",
      "metadata": {
        "id": "84SE_eMzkyC1"
      },
      "source": [
        "The Top Rated 250 titles in IMDb are calculated using [a formula](https://help.imdb.com/article/imdb/track-movies-tv/ratings-faq/G67Y87TFYYP6TWAV#calculatetop) that takes into account the number of votes that a title has received, the minimum votes required to be on the list, and the mean vote for all titles. The rating for a title is given as follows:\n",
        "\n",
        "$$ \\text{weighted rating } = \\left(\\frac{v}{v+m} \\cdot R\\right) + \\left(\\frac{m}{v+m} \\cdot C\\right)$$\n",
        "\n",
        "Where:\n",
        "\n",
        "$m$ = the minimum number of votes required to be listed in the Top Rated ranking. We'll let $m=1000$.\n",
        "\n",
        "$v$ = the number of votes received by the title (the title's **`vote_count`** value)\n",
        "\n",
        "$R$ = the average rating for the title (the title's **`vote_average`** value)\n",
        "\n",
        "$C$ = the mean vote across the whole list (the mean over the **`vote_average`** column)"
      ]
    },
    {
      "cell_type": "markdown",
      "metadata": {
        "id": "85J4HDO2rieA"
      },
      "source": [
        "We are going to compute the ratings for movies that could be listed in IMDb's Top Rated 250 ranking.  We want to do this as efficiently as possible. As a baseline for benchmarking, we'll use an approach that explicitly loops and indexes over the rows of the dataset and computes the weighted rating for the corresponding movie (if the movie has more than 1000 votes). "
      ]
    },
    {
      "cell_type": "code",
      "execution_count": 9,
      "metadata": {
        "ExecuteTime": {
          "end_time": "2021-09-27T10:27:52.905697Z",
          "start_time": "2021-09-27T10:27:52.800529Z"
        },
        "id": "MyYhLdBksTec"
      },
      "outputs": [],
      "source": [
        "C = df['vote_average'].mean()\n",
        "m = 1000\n",
        "\n",
        "def weighted_rating(row):\n",
        "    if row['vote_count'] > m:\n",
        "        v = row['vote_count']\n",
        "        R = row['vote_average']\n",
        "        return (v/(v+m) * R) + (m/(v+m) * C)\n",
        "    else:\n",
        "        return np.nan\n",
        "\n",
        "def weighted_rating_loop(df):\n",
        "    rating_list = []\n",
        "    for i in range(len(df)):\n",
        "        rating = weighted_rating(df.iloc[i])\n",
        "        rating_list.append(rating)\n",
        "    df['imdb_rating'] = rating_list"
      ]
    },
    {
      "cell_type": "code",
      "execution_count": 10,
      "metadata": {
        "colab": {
          "base_uri": "https://localhost:8080/",
          "height": 204
        },
        "id": "JIsei1w4r9Jz",
        "outputId": "a5435335-9a9e-42e1-830e-2683cab5fad6"
      },
      "outputs": [
        {
          "data": {
            "text/html": [
              "<div>\n",
              "<style scoped>\n",
              "    .dataframe tbody tr th:only-of-type {\n",
              "        vertical-align: middle;\n",
              "    }\n",
              "\n",
              "    .dataframe tbody tr th {\n",
              "        vertical-align: top;\n",
              "    }\n",
              "\n",
              "    .dataframe thead th {\n",
              "        text-align: right;\n",
              "    }\n",
              "</style>\n",
              "<table border=\"1\" class=\"dataframe\">\n",
              "  <thead>\n",
              "    <tr style=\"text-align: right;\">\n",
              "      <th></th>\n",
              "      <th>id</th>\n",
              "      <th>original_title</th>\n",
              "      <th>imdb_rating</th>\n",
              "    </tr>\n",
              "  </thead>\n",
              "  <tbody>\n",
              "    <tr>\n",
              "      <th>0</th>\n",
              "      <td>862</td>\n",
              "      <td>Toy Story</td>\n",
              "      <td>7.375533</td>\n",
              "    </tr>\n",
              "    <tr>\n",
              "      <th>1</th>\n",
              "      <td>8844</td>\n",
              "      <td>Jumanji</td>\n",
              "      <td>6.524536</td>\n",
              "    </tr>\n",
              "    <tr>\n",
              "      <th>2</th>\n",
              "      <td>15602</td>\n",
              "      <td>Grumpier Old Men</td>\n",
              "      <td>NaN</td>\n",
              "    </tr>\n",
              "    <tr>\n",
              "      <th>3</th>\n",
              "      <td>31357</td>\n",
              "      <td>Waiting to Exhale</td>\n",
              "      <td>NaN</td>\n",
              "    </tr>\n",
              "    <tr>\n",
              "      <th>4</th>\n",
              "      <td>11862</td>\n",
              "      <td>Father of the Bride Part II</td>\n",
              "      <td>NaN</td>\n",
              "    </tr>\n",
              "  </tbody>\n",
              "</table>\n",
              "</div>"
            ],
            "text/plain": [
              "      id               original_title  imdb_rating\n",
              "0    862                    Toy Story     7.375533\n",
              "1   8844                      Jumanji     6.524536\n",
              "2  15602             Grumpier Old Men          NaN\n",
              "3  31357            Waiting to Exhale          NaN\n",
              "4  11862  Father of the Bride Part II          NaN"
            ]
          },
          "execution_count": 10,
          "metadata": {},
          "output_type": "execute_result"
        }
      ],
      "source": [
        "weighted_rating_loop(df)\n",
        "\n",
        "columns_to_show = ['id', 'original_title'] + \\\n",
        "                  list(df.columns[df.columns.str.startswith('imdb_rating')])\n",
        "df[columns_to_show].head()"
      ]
    },
    {
      "cell_type": "markdown",
      "metadata": {
        "id": "JdlffrsJyHvI"
      },
      "source": [
        "Let's look at the average performance of this function:"
      ]
    },
    {
      "cell_type": "code",
      "execution_count": 11,
      "metadata": {
        "colab": {
          "base_uri": "https://localhost:8080/"
        },
        "id": "su__dMpZyX5W",
        "outputId": "4ed65da8-fbdf-4583-8fa5-254588cf4620"
      },
      "outputs": [
        {
          "name": "stdout",
          "output_type": "stream",
          "text": [
            "4.24 s ± 13.5 ms per loop (mean ± std. dev. of 3 runs, 1 loop each)\n",
            "Best time: 4.225245899999997\n"
          ]
        }
      ],
      "source": [
        "basic_time = %timeit -r 3 -o weighted_rating_loop(df)\n",
        "print(\"Best time:\", basic_time.best)"
      ]
    },
    {
      "cell_type": "markdown",
      "metadata": {
        "id": "HPjyKJ2zzPoQ"
      },
      "source": [
        "In the remaining parts of the exercise, you are going to be asked to come up with alternative ways to compute the ratings, using various methodologies. Let's create a score board to keep track of performance. Here's a description of the rows:\n",
        "\n",
        "*   **Best single run time (s)**:  The best time used by your solution, in seconds.\n",
        "*   **Marginal performance improvement**: The time improvement of your current solution over its immediately preceding solution. Given by: $\\frac{\\text{best single run time (s) of previous solution}}{\\text{best single run time (s) of current solution}}$\n",
        "*   **Performance improvement over basic looping**:  The time improvement over our baseline solution. Given by: $\\frac{\\text{best single run time (s) of weighted_rating_loop}}{\\text{best single run time (s) of current solution}}$\n",
        "*   **Best single run time (s, teacher)**: The time of a solution provided by the teacher. \n",
        "*   **Marginal performance improvement (teacher)**: The time improvement of the teacher's solution over its immediately preceding solution. \n",
        "*   **Performance improvement over basic looping (teacher)**:  The teacher's solution improvement over the baseline solution.\n",
        "\n"
      ]
    },
    {
      "cell_type": "code",
      "execution_count": 12,
      "metadata": {
        "ExecuteTime": {
          "end_time": "2021-09-27T11:03:14.455052Z",
          "start_time": "2021-09-27T11:03:14.442251Z"
        },
        "colab": {
          "base_uri": "https://localhost:8080/",
          "height": 306
        },
        "id": "fV-xfrs53NBF",
        "outputId": "efd12353-5bb7-410e-86bd-6f0f1ba5a173"
      },
      "outputs": [
        {
          "data": {
            "text/html": [
              "<div>\n",
              "<style scoped>\n",
              "    .dataframe tbody tr th:only-of-type {\n",
              "        vertical-align: middle;\n",
              "    }\n",
              "\n",
              "    .dataframe tbody tr th {\n",
              "        vertical-align: top;\n",
              "    }\n",
              "\n",
              "    .dataframe thead th {\n",
              "        text-align: right;\n",
              "    }\n",
              "</style>\n",
              "<table border=\"1\" class=\"dataframe\">\n",
              "  <thead>\n",
              "    <tr style=\"text-align: right;\">\n",
              "      <th></th>\n",
              "      <th>Best single run time (s)</th>\n",
              "      <th>Marginal performance improvement</th>\n",
              "      <th>Performance improvement over basic looping</th>\n",
              "      <th>Best single run time (s, teacher)</th>\n",
              "      <th>Marginal performance improvement (teacher)</th>\n",
              "      <th>Performance improvement over basic looping (teacher)</th>\n",
              "    </tr>\n",
              "  </thead>\n",
              "  <tbody>\n",
              "    <tr>\n",
              "      <th>Basic looping</th>\n",
              "      <td>4.225246</td>\n",
              "      <td>NaN</td>\n",
              "      <td>NaN</td>\n",
              "      <td>9.37000</td>\n",
              "      <td>NaN</td>\n",
              "      <td>NaN</td>\n",
              "    </tr>\n",
              "    <tr>\n",
              "      <th>Iterrows looping</th>\n",
              "      <td>NaN</td>\n",
              "      <td>NaN</td>\n",
              "      <td>NaN</td>\n",
              "      <td>3.87000</td>\n",
              "      <td>x2.42</td>\n",
              "      <td>x2.42</td>\n",
              "    </tr>\n",
              "    <tr>\n",
              "      <th>apply()</th>\n",
              "      <td>NaN</td>\n",
              "      <td>NaN</td>\n",
              "      <td>NaN</td>\n",
              "      <td>0.56200</td>\n",
              "      <td>x6.88</td>\n",
              "      <td>x16.69</td>\n",
              "    </tr>\n",
              "    <tr>\n",
              "      <th>Pandas vectorisation</th>\n",
              "      <td>NaN</td>\n",
              "      <td>NaN</td>\n",
              "      <td>NaN</td>\n",
              "      <td>0.00540</td>\n",
              "      <td>x103.8</td>\n",
              "      <td>x1732.17</td>\n",
              "    </tr>\n",
              "    <tr>\n",
              "      <th>NumPy vectorisation</th>\n",
              "      <td>NaN</td>\n",
              "      <td>NaN</td>\n",
              "      <td>NaN</td>\n",
              "      <td>0.00084</td>\n",
              "      <td>x6.45</td>\n",
              "      <td>x11172.98</td>\n",
              "    </tr>\n",
              "  </tbody>\n",
              "</table>\n",
              "</div>"
            ],
            "text/plain": [
              "                      Best single run time (s)  \\\n",
              "Basic looping                         4.225246   \n",
              "Iterrows looping                           NaN   \n",
              "apply()                                    NaN   \n",
              "Pandas vectorisation                       NaN   \n",
              "NumPy vectorisation                        NaN   \n",
              "\n",
              "                      Marginal performance improvement  \\\n",
              "Basic looping                                      NaN   \n",
              "Iterrows looping                                   NaN   \n",
              "apply()                                            NaN   \n",
              "Pandas vectorisation                               NaN   \n",
              "NumPy vectorisation                                NaN   \n",
              "\n",
              "                      Performance improvement over basic looping  \\\n",
              "Basic looping                                                NaN   \n",
              "Iterrows looping                                             NaN   \n",
              "apply()                                                      NaN   \n",
              "Pandas vectorisation                                         NaN   \n",
              "NumPy vectorisation                                          NaN   \n",
              "\n",
              "                      Best single run time (s, teacher)  \\\n",
              "Basic looping                                   9.37000   \n",
              "Iterrows looping                                3.87000   \n",
              "apply()                                         0.56200   \n",
              "Pandas vectorisation                            0.00540   \n",
              "NumPy vectorisation                             0.00084   \n",
              "\n",
              "                     Marginal performance improvement (teacher)  \\\n",
              "Basic looping                                               NaN   \n",
              "Iterrows looping                                          x2.42   \n",
              "apply()                                                   x6.88   \n",
              "Pandas vectorisation                                     x103.8   \n",
              "NumPy vectorisation                                       x6.45   \n",
              "\n",
              "                     Performance improvement over basic looping (teacher)  \n",
              "Basic looping                                                       NaN    \n",
              "Iterrows looping                                                  x2.42    \n",
              "apply()                                                          x16.69    \n",
              "Pandas vectorisation                                           x1732.17    \n",
              "NumPy vectorisation                                           x11172.98    "
            ]
          },
          "execution_count": 12,
          "metadata": {},
          "output_type": "execute_result"
        }
      ],
      "source": [
        "timing_data = {\n",
        "    'Best single run time (s)': [basic_time.best, np.nan, np.nan, np.nan,np.nan],\n",
        "    'Marginal performance improvement': [np.nan,np.nan, np.nan, np.nan,np.nan],\n",
        "    'Performance improvement over basic looping': np.nan,\n",
        "    'Best single run time (s, teacher)': [9.37, 3.87, 0.562, 0.0054, 0.00084],\n",
        "    'Marginal performance improvement (teacher)': [np.nan, 'x2.42', 'x6.88', 'x103.8', 'x6.45'],\n",
        "    'Performance improvement over basic looping (teacher)': [np.nan, 'x2.42', 'x16.69', 'x1732.17','x11172.98']\n",
        "}\n",
        "\n",
        "indices = ['Basic looping', 'Iterrows looping', 'apply()', 'Pandas vectorisation', 'NumPy vectorisation']\n",
        "timings = pd.DataFrame(timing_data, index=indices)\n",
        "timings"
      ]
    },
    {
      "cell_type": "markdown",
      "metadata": {
        "id": "ZfD0eUlHgz3l"
      },
      "source": [
        "**The grading for the following parts works as follows.**\n",
        "\n",
        "Let $m$ be the marginal performance improvement for the teacher's solution over basic looping, and let $m'$ be the marginal performance improvement for your solution over `basic_time`. If a part gives $n$ points, then you will get the $n$ points if $m' \\geq 0.4 m$, and 0 points otherwise.\n",
        "\n",
        "You don't get extra points for performing faster than the teacher's solution. But this is of course possible and you should feel free to optimise away as much as you want!"
      ]
    },
    {
      "cell_type": "markdown",
      "metadata": {
        "id": "JkiLI2QT7oNY"
      },
      "source": [
        "## Part 1: Looping with `iterrows` (2.5 pts)"
      ]
    },
    {
      "cell_type": "markdown",
      "metadata": {
        "id": "bmZIqPIf743q"
      },
      "source": [
        "Define a function `weighted_rating_iterrows(df)` that computes the ratings by looping over rows with the built-in iterator `iterrows`, and stores the results in a new column of the DataFrame called called `imdb_rating_iter`."
      ]
    },
    {
      "cell_type": "code",
      "execution_count": 13,
      "metadata": {
        "id": "m4dTxRfW6Gc4"
      },
      "outputs": [],
      "source": [
        "# Define function for weighted rating by lopping over rows\n",
        "def weighted_rating_iterrows(df):\n",
        "    # Creating empty list to append the ratings \n",
        "    imdb_rating_iter = []\n",
        "    # Run over the dataframe \n",
        "    for _, row in df.iterrows(): \n",
        "        #Calls the function to compute rating \n",
        "        imdb_rating_iter.append(weighted_rating(row)) \n",
        "    # Add rating to dataframe\n",
        "    df['imdb_rating_iter'] = imdb_rating_iter \n",
        "    return df"
      ]
    },
    {
      "cell_type": "markdown",
      "metadata": {
        "id": "rsvOtN6y8Ycg"
      },
      "source": [
        "Call the function and make sure that it works as intended."
      ]
    },
    {
      "cell_type": "code",
      "execution_count": 14,
      "metadata": {
        "colab": {
          "base_uri": "https://localhost:8080/",
          "height": 204
        },
        "id": "sLKzzVP86bza",
        "outputId": "26d4d1f9-0476-4af6-be70-d7726a013bd6"
      },
      "outputs": [
        {
          "data": {
            "text/html": [
              "<div>\n",
              "<style scoped>\n",
              "    .dataframe tbody tr th:only-of-type {\n",
              "        vertical-align: middle;\n",
              "    }\n",
              "\n",
              "    .dataframe tbody tr th {\n",
              "        vertical-align: top;\n",
              "    }\n",
              "\n",
              "    .dataframe thead th {\n",
              "        text-align: right;\n",
              "    }\n",
              "</style>\n",
              "<table border=\"1\" class=\"dataframe\">\n",
              "  <thead>\n",
              "    <tr style=\"text-align: right;\">\n",
              "      <th></th>\n",
              "      <th>id</th>\n",
              "      <th>original_title</th>\n",
              "      <th>imdb_rating</th>\n",
              "      <th>imdb_rating_iter</th>\n",
              "    </tr>\n",
              "  </thead>\n",
              "  <tbody>\n",
              "    <tr>\n",
              "      <th>0</th>\n",
              "      <td>862</td>\n",
              "      <td>Toy Story</td>\n",
              "      <td>7.375533</td>\n",
              "      <td>7.375533</td>\n",
              "    </tr>\n",
              "    <tr>\n",
              "      <th>1</th>\n",
              "      <td>8844</td>\n",
              "      <td>Jumanji</td>\n",
              "      <td>6.524536</td>\n",
              "      <td>6.524536</td>\n",
              "    </tr>\n",
              "    <tr>\n",
              "      <th>2</th>\n",
              "      <td>15602</td>\n",
              "      <td>Grumpier Old Men</td>\n",
              "      <td>NaN</td>\n",
              "      <td>NaN</td>\n",
              "    </tr>\n",
              "    <tr>\n",
              "      <th>3</th>\n",
              "      <td>31357</td>\n",
              "      <td>Waiting to Exhale</td>\n",
              "      <td>NaN</td>\n",
              "      <td>NaN</td>\n",
              "    </tr>\n",
              "    <tr>\n",
              "      <th>4</th>\n",
              "      <td>11862</td>\n",
              "      <td>Father of the Bride Part II</td>\n",
              "      <td>NaN</td>\n",
              "      <td>NaN</td>\n",
              "    </tr>\n",
              "  </tbody>\n",
              "</table>\n",
              "</div>"
            ],
            "text/plain": [
              "      id               original_title  imdb_rating  imdb_rating_iter\n",
              "0    862                    Toy Story     7.375533          7.375533\n",
              "1   8844                      Jumanji     6.524536          6.524536\n",
              "2  15602             Grumpier Old Men          NaN               NaN\n",
              "3  31357            Waiting to Exhale          NaN               NaN\n",
              "4  11862  Father of the Bride Part II          NaN               NaN"
            ]
          },
          "execution_count": 14,
          "metadata": {},
          "output_type": "execute_result"
        }
      ],
      "source": [
        "weighted_rating_iterrows(df)\n",
        "\n",
        "pd.testing.assert_series_equal(\n",
        "    df.imdb_rating, df.imdb_rating_iter, check_names=False\n",
        ")\n",
        "\n",
        "columns_to_show = ['id', 'original_title'] + \\\n",
        "                  list(df.columns[df.columns.str.startswith('imdb_rating')])\n",
        "df[columns_to_show].head()"
      ]
    },
    {
      "cell_type": "markdown",
      "metadata": {
        "id": "AC-m0iR48jM6"
      },
      "source": [
        "Time the performance of the function."
      ]
    },
    {
      "cell_type": "code",
      "execution_count": 15,
      "metadata": {
        "colab": {
          "base_uri": "https://localhost:8080/"
        },
        "id": "9y3BWusJ8y70",
        "outputId": "0c7d3e22-47ef-4751-8949-163e75c6eecc"
      },
      "outputs": [
        {
          "name": "stdout",
          "output_type": "stream",
          "text": [
            "1.67 s ± 10.2 ms per loop (mean ± std. dev. of 3 runs, 1 loop each)\n",
            "Best time: 1.661813500000001\n"
          ]
        }
      ],
      "source": [
        "iterrows_time = %timeit -r 3 -o weighted_rating_iterrows(df)\n",
        "print(\"Best time:\", iterrows_time.best)"
      ]
    },
    {
      "cell_type": "markdown",
      "metadata": {
        "id": "HexMOOCB82e_"
      },
      "source": [
        "Update the score board with the best time, marginal and overall performance change you have obtained. Display the updated table below. "
      ]
    },
    {
      "cell_type": "code",
      "execution_count": 16,
      "metadata": {
        "colab": {
          "base_uri": "https://localhost:8080/",
          "height": 306
        },
        "id": "_SQRS_gdJCbM",
        "outputId": "5e259ec6-0461-4456-879b-453dd7f42f48"
      },
      "outputs": [
        {
          "data": {
            "text/html": [
              "<div>\n",
              "<style scoped>\n",
              "    .dataframe tbody tr th:only-of-type {\n",
              "        vertical-align: middle;\n",
              "    }\n",
              "\n",
              "    .dataframe tbody tr th {\n",
              "        vertical-align: top;\n",
              "    }\n",
              "\n",
              "    .dataframe thead th {\n",
              "        text-align: right;\n",
              "    }\n",
              "</style>\n",
              "<table border=\"1\" class=\"dataframe\">\n",
              "  <thead>\n",
              "    <tr style=\"text-align: right;\">\n",
              "      <th></th>\n",
              "      <th>Best single run time (s)</th>\n",
              "      <th>Marginal performance improvement</th>\n",
              "      <th>Performance improvement over basic looping</th>\n",
              "      <th>Best single run time (s, teacher)</th>\n",
              "      <th>Marginal performance improvement (teacher)</th>\n",
              "      <th>Performance improvement over basic looping (teacher)</th>\n",
              "    </tr>\n",
              "  </thead>\n",
              "  <tbody>\n",
              "    <tr>\n",
              "      <th>Basic looping</th>\n",
              "      <td>4.225246</td>\n",
              "      <td>NaN</td>\n",
              "      <td>NaN</td>\n",
              "      <td>9.37000</td>\n",
              "      <td>NaN</td>\n",
              "      <td>NaN</td>\n",
              "    </tr>\n",
              "    <tr>\n",
              "      <th>Iterrows looping</th>\n",
              "      <td>1.661814</td>\n",
              "      <td>x2.54</td>\n",
              "      <td>x2.54</td>\n",
              "      <td>3.87000</td>\n",
              "      <td>x2.42</td>\n",
              "      <td>x2.42</td>\n",
              "    </tr>\n",
              "    <tr>\n",
              "      <th>apply()</th>\n",
              "      <td>NaN</td>\n",
              "      <td>NaN</td>\n",
              "      <td>NaN</td>\n",
              "      <td>0.56200</td>\n",
              "      <td>x6.88</td>\n",
              "      <td>x16.69</td>\n",
              "    </tr>\n",
              "    <tr>\n",
              "      <th>Pandas vectorisation</th>\n",
              "      <td>NaN</td>\n",
              "      <td>NaN</td>\n",
              "      <td>NaN</td>\n",
              "      <td>0.00540</td>\n",
              "      <td>x103.8</td>\n",
              "      <td>x1732.17</td>\n",
              "    </tr>\n",
              "    <tr>\n",
              "      <th>NumPy vectorisation</th>\n",
              "      <td>NaN</td>\n",
              "      <td>NaN</td>\n",
              "      <td>NaN</td>\n",
              "      <td>0.00084</td>\n",
              "      <td>x6.45</td>\n",
              "      <td>x11172.98</td>\n",
              "    </tr>\n",
              "  </tbody>\n",
              "</table>\n",
              "</div>"
            ],
            "text/plain": [
              "                      Best single run time (s)  \\\n",
              "Basic looping                         4.225246   \n",
              "Iterrows looping                      1.661814   \n",
              "apply()                                    NaN   \n",
              "Pandas vectorisation                       NaN   \n",
              "NumPy vectorisation                        NaN   \n",
              "\n",
              "                     Marginal performance improvement  \\\n",
              "Basic looping                                     NaN   \n",
              "Iterrows looping                                x2.54   \n",
              "apply()                                           NaN   \n",
              "Pandas vectorisation                              NaN   \n",
              "NumPy vectorisation                               NaN   \n",
              "\n",
              "                     Performance improvement over basic looping  \\\n",
              "Basic looping                                               NaN   \n",
              "Iterrows looping                                          x2.54   \n",
              "apply()                                                     NaN   \n",
              "Pandas vectorisation                                        NaN   \n",
              "NumPy vectorisation                                         NaN   \n",
              "\n",
              "                      Best single run time (s, teacher)  \\\n",
              "Basic looping                                   9.37000   \n",
              "Iterrows looping                                3.87000   \n",
              "apply()                                         0.56200   \n",
              "Pandas vectorisation                            0.00540   \n",
              "NumPy vectorisation                             0.00084   \n",
              "\n",
              "                     Marginal performance improvement (teacher)  \\\n",
              "Basic looping                                               NaN   \n",
              "Iterrows looping                                          x2.42   \n",
              "apply()                                                   x6.88   \n",
              "Pandas vectorisation                                     x103.8   \n",
              "NumPy vectorisation                                       x6.45   \n",
              "\n",
              "                     Performance improvement over basic looping (teacher)  \n",
              "Basic looping                                                       NaN    \n",
              "Iterrows looping                                                  x2.42    \n",
              "apply()                                                          x16.69    \n",
              "Pandas vectorisation                                           x1732.17    \n",
              "NumPy vectorisation                                           x11172.98    "
            ]
          },
          "execution_count": 16,
          "metadata": {},
          "output_type": "execute_result"
        }
      ],
      "source": [
        "# Adding the perfomance to the score board\n",
        "timings.iloc[1:2,0:3]= [iterrows_time.best, 'x'+str(round(basic_time.best/iterrows_time.best,2)), 'x'+str(round(basic_time.best/iterrows_time.best,2))]\n",
        "timings"
      ]
    },
    {
      "cell_type": "markdown",
      "metadata": {
        "id": "7-FhuhB99em4"
      },
      "source": [
        "## Part 2: Using `apply()`. (5 pts)"
      ]
    },
    {
      "cell_type": "markdown",
      "metadata": {
        "id": "iZ294FYn9qhO"
      },
      "source": [
        "Define a function `weighted_rating_apply(df)` that computes the ratings using Pandas' `apply()` function, and stores the results in a new column of the DataFrame called `imdb_rating_apply`."
      ]
    },
    {
      "cell_type": "code",
      "execution_count": 17,
      "metadata": {
        "id": "Gk3SdbQs8ghG"
      },
      "outputs": [],
      "source": [
        "# Compute ratings using apply function \n",
        "def weighted_rating_apply(df):\n",
        "    df['imdb_rating_apply'] = df.apply(weighted_rating, axis= 1)\n",
        "    return df"
      ]
    },
    {
      "cell_type": "markdown",
      "metadata": {
        "id": "jBgP1e1uCMlF"
      },
      "source": [
        "Call the function and make sure that it works as intended."
      ]
    },
    {
      "cell_type": "code",
      "execution_count": 18,
      "metadata": {
        "colab": {
          "base_uri": "https://localhost:8080/",
          "height": 204
        },
        "id": "wUaYXC_RCMlK",
        "outputId": "33424b1a-563b-4ff7-d3a5-c9150471b646"
      },
      "outputs": [
        {
          "data": {
            "text/html": [
              "<div>\n",
              "<style scoped>\n",
              "    .dataframe tbody tr th:only-of-type {\n",
              "        vertical-align: middle;\n",
              "    }\n",
              "\n",
              "    .dataframe tbody tr th {\n",
              "        vertical-align: top;\n",
              "    }\n",
              "\n",
              "    .dataframe thead th {\n",
              "        text-align: right;\n",
              "    }\n",
              "</style>\n",
              "<table border=\"1\" class=\"dataframe\">\n",
              "  <thead>\n",
              "    <tr style=\"text-align: right;\">\n",
              "      <th></th>\n",
              "      <th>id</th>\n",
              "      <th>original_title</th>\n",
              "      <th>imdb_rating</th>\n",
              "      <th>imdb_rating_iter</th>\n",
              "      <th>imdb_rating_apply</th>\n",
              "    </tr>\n",
              "  </thead>\n",
              "  <tbody>\n",
              "    <tr>\n",
              "      <th>0</th>\n",
              "      <td>862</td>\n",
              "      <td>Toy Story</td>\n",
              "      <td>7.375533</td>\n",
              "      <td>7.375533</td>\n",
              "      <td>7.375533</td>\n",
              "    </tr>\n",
              "    <tr>\n",
              "      <th>1</th>\n",
              "      <td>8844</td>\n",
              "      <td>Jumanji</td>\n",
              "      <td>6.524536</td>\n",
              "      <td>6.524536</td>\n",
              "      <td>6.524536</td>\n",
              "    </tr>\n",
              "    <tr>\n",
              "      <th>2</th>\n",
              "      <td>15602</td>\n",
              "      <td>Grumpier Old Men</td>\n",
              "      <td>NaN</td>\n",
              "      <td>NaN</td>\n",
              "      <td>NaN</td>\n",
              "    </tr>\n",
              "    <tr>\n",
              "      <th>3</th>\n",
              "      <td>31357</td>\n",
              "      <td>Waiting to Exhale</td>\n",
              "      <td>NaN</td>\n",
              "      <td>NaN</td>\n",
              "      <td>NaN</td>\n",
              "    </tr>\n",
              "    <tr>\n",
              "      <th>4</th>\n",
              "      <td>11862</td>\n",
              "      <td>Father of the Bride Part II</td>\n",
              "      <td>NaN</td>\n",
              "      <td>NaN</td>\n",
              "      <td>NaN</td>\n",
              "    </tr>\n",
              "  </tbody>\n",
              "</table>\n",
              "</div>"
            ],
            "text/plain": [
              "      id               original_title  imdb_rating  imdb_rating_iter  \\\n",
              "0    862                    Toy Story     7.375533          7.375533   \n",
              "1   8844                      Jumanji     6.524536          6.524536   \n",
              "2  15602             Grumpier Old Men          NaN               NaN   \n",
              "3  31357            Waiting to Exhale          NaN               NaN   \n",
              "4  11862  Father of the Bride Part II          NaN               NaN   \n",
              "\n",
              "   imdb_rating_apply  \n",
              "0           7.375533  \n",
              "1           6.524536  \n",
              "2                NaN  \n",
              "3                NaN  \n",
              "4                NaN  "
            ]
          },
          "execution_count": 18,
          "metadata": {},
          "output_type": "execute_result"
        }
      ],
      "source": [
        "weighted_rating_apply(df)\n",
        "\n",
        "pd.testing.assert_series_equal(\n",
        "    df.imdb_rating, df.imdb_rating_apply, check_names=False\n",
        ")\n",
        "\n",
        "columns_to_show = ['id', 'original_title'] + \\\n",
        "                  list(df.columns[df.columns.str.startswith('imdb_rating')])\n",
        "df[columns_to_show].head()"
      ]
    },
    {
      "cell_type": "markdown",
      "metadata": {
        "id": "C9jjZI14CMlO"
      },
      "source": [
        "Time the performance of the function."
      ]
    },
    {
      "cell_type": "code",
      "execution_count": 19,
      "metadata": {
        "colab": {
          "base_uri": "https://localhost:8080/"
        },
        "id": "jqggBfTMCMlP",
        "outputId": "586d8727-326c-41f7-d392-b00ecd390dd0"
      },
      "outputs": [
        {
          "name": "stdout",
          "output_type": "stream",
          "text": [
            "436 ms ± 2.21 ms per loop (mean ± std. dev. of 3 runs, 1 loop each)\n",
            "Best time: 0.43329890000000404\n"
          ]
        }
      ],
      "source": [
        "apply_time = %timeit -r 3 -o weighted_rating_apply(df)\n",
        "print(\"Best time:\", apply_time.best)"
      ]
    },
    {
      "cell_type": "markdown",
      "metadata": {
        "id": "9DzMnzf4CMlS"
      },
      "source": [
        "Update the score board with the best time, marginal and overall performance change you have obtained. Display the updated table below. "
      ]
    },
    {
      "cell_type": "code",
      "execution_count": 20,
      "metadata": {
        "colab": {
          "base_uri": "https://localhost:8080/",
          "height": 306
        },
        "id": "-4RSuVOYV0JZ",
        "outputId": "693ffa8d-e3b8-45bd-a2ba-67d2723f5cda"
      },
      "outputs": [
        {
          "data": {
            "text/html": [
              "<div>\n",
              "<style scoped>\n",
              "    .dataframe tbody tr th:only-of-type {\n",
              "        vertical-align: middle;\n",
              "    }\n",
              "\n",
              "    .dataframe tbody tr th {\n",
              "        vertical-align: top;\n",
              "    }\n",
              "\n",
              "    .dataframe thead th {\n",
              "        text-align: right;\n",
              "    }\n",
              "</style>\n",
              "<table border=\"1\" class=\"dataframe\">\n",
              "  <thead>\n",
              "    <tr style=\"text-align: right;\">\n",
              "      <th></th>\n",
              "      <th>Best single run time (s)</th>\n",
              "      <th>Marginal performance improvement</th>\n",
              "      <th>Performance improvement over basic looping</th>\n",
              "      <th>Best single run time (s, teacher)</th>\n",
              "      <th>Marginal performance improvement (teacher)</th>\n",
              "      <th>Performance improvement over basic looping (teacher)</th>\n",
              "    </tr>\n",
              "  </thead>\n",
              "  <tbody>\n",
              "    <tr>\n",
              "      <th>Basic looping</th>\n",
              "      <td>4.225246</td>\n",
              "      <td>NaN</td>\n",
              "      <td>NaN</td>\n",
              "      <td>9.37000</td>\n",
              "      <td>NaN</td>\n",
              "      <td>NaN</td>\n",
              "    </tr>\n",
              "    <tr>\n",
              "      <th>Iterrows looping</th>\n",
              "      <td>1.661814</td>\n",
              "      <td>x2.54</td>\n",
              "      <td>x2.54</td>\n",
              "      <td>3.87000</td>\n",
              "      <td>x2.42</td>\n",
              "      <td>x2.42</td>\n",
              "    </tr>\n",
              "    <tr>\n",
              "      <th>apply()</th>\n",
              "      <td>0.433299</td>\n",
              "      <td>x3.84</td>\n",
              "      <td>x9.75</td>\n",
              "      <td>0.56200</td>\n",
              "      <td>x6.88</td>\n",
              "      <td>x16.69</td>\n",
              "    </tr>\n",
              "    <tr>\n",
              "      <th>Pandas vectorisation</th>\n",
              "      <td>NaN</td>\n",
              "      <td>NaN</td>\n",
              "      <td>NaN</td>\n",
              "      <td>0.00540</td>\n",
              "      <td>x103.8</td>\n",
              "      <td>x1732.17</td>\n",
              "    </tr>\n",
              "    <tr>\n",
              "      <th>NumPy vectorisation</th>\n",
              "      <td>NaN</td>\n",
              "      <td>NaN</td>\n",
              "      <td>NaN</td>\n",
              "      <td>0.00084</td>\n",
              "      <td>x6.45</td>\n",
              "      <td>x11172.98</td>\n",
              "    </tr>\n",
              "  </tbody>\n",
              "</table>\n",
              "</div>"
            ],
            "text/plain": [
              "                      Best single run time (s)  \\\n",
              "Basic looping                         4.225246   \n",
              "Iterrows looping                      1.661814   \n",
              "apply()                               0.433299   \n",
              "Pandas vectorisation                       NaN   \n",
              "NumPy vectorisation                        NaN   \n",
              "\n",
              "                     Marginal performance improvement  \\\n",
              "Basic looping                                     NaN   \n",
              "Iterrows looping                                x2.54   \n",
              "apply()                                         x3.84   \n",
              "Pandas vectorisation                              NaN   \n",
              "NumPy vectorisation                               NaN   \n",
              "\n",
              "                     Performance improvement over basic looping  \\\n",
              "Basic looping                                               NaN   \n",
              "Iterrows looping                                          x2.54   \n",
              "apply()                                                   x9.75   \n",
              "Pandas vectorisation                                        NaN   \n",
              "NumPy vectorisation                                         NaN   \n",
              "\n",
              "                      Best single run time (s, teacher)  \\\n",
              "Basic looping                                   9.37000   \n",
              "Iterrows looping                                3.87000   \n",
              "apply()                                         0.56200   \n",
              "Pandas vectorisation                            0.00540   \n",
              "NumPy vectorisation                             0.00084   \n",
              "\n",
              "                     Marginal performance improvement (teacher)  \\\n",
              "Basic looping                                               NaN   \n",
              "Iterrows looping                                          x2.42   \n",
              "apply()                                                   x6.88   \n",
              "Pandas vectorisation                                     x103.8   \n",
              "NumPy vectorisation                                       x6.45   \n",
              "\n",
              "                     Performance improvement over basic looping (teacher)  \n",
              "Basic looping                                                       NaN    \n",
              "Iterrows looping                                                  x2.42    \n",
              "apply()                                                          x16.69    \n",
              "Pandas vectorisation                                           x1732.17    \n",
              "NumPy vectorisation                                           x11172.98    "
            ]
          },
          "execution_count": 20,
          "metadata": {},
          "output_type": "execute_result"
        }
      ],
      "source": [
        "# Adding the perfomance to the score board\n",
        "timings.iloc[2:3,0:3]= [apply_time.best, 'x'+str(round(iterrows_time.best/apply_time.best,2)), 'x'+str(round(basic_time.best/apply_time.best,2))]\n",
        "timings"
      ]
    },
    {
      "cell_type": "markdown",
      "metadata": {
        "id": "TZHPgFMsED_6"
      },
      "source": [
        "## Part 3: Vectorised solution with Pandas (12.5 pts)"
      ]
    },
    {
      "cell_type": "markdown",
      "metadata": {
        "id": "CI7zQxGNGZnX"
      },
      "source": [
        "Let's find a vectorised solution using Pandas. You have to define a function `weighted_rating_pandas(df)` that computes the ratings in a vectorised way and stores them in a new column of the DataFrame called `imdb_rating_pandas`. Use Pandas operations only: don't transform your data into NumPy arrays."
      ]
    },
    {
      "cell_type": "code",
      "execution_count": 21,
      "metadata": {
        "id": "WqIXsMGFGZnY"
      },
      "outputs": [],
      "source": [
        "# Compute rating using vectorised pandas \n",
        "def weighted_rating_pandas(df): \n",
        "    temp = df[df['vote_count'] > m]\n",
        "    v = temp['vote_count']\n",
        "    R = temp['vote_average']\n",
        "    df['imdb_rating_pandas'] = pd.Series((v/(v+m) * R) + (m/(v+m) * C))\n",
        "    return df"
      ]
    },
    {
      "cell_type": "markdown",
      "metadata": {
        "id": "qKVGubslGZna"
      },
      "source": [
        "Call the function and make sure it works as intended."
      ]
    },
    {
      "cell_type": "code",
      "execution_count": 22,
      "metadata": {
        "colab": {
          "base_uri": "https://localhost:8080/",
          "height": 204
        },
        "id": "yXf4KAj1GZna",
        "outputId": "760aabae-11e5-4425-e40a-fbc1556f066a"
      },
      "outputs": [
        {
          "data": {
            "text/html": [
              "<div>\n",
              "<style scoped>\n",
              "    .dataframe tbody tr th:only-of-type {\n",
              "        vertical-align: middle;\n",
              "    }\n",
              "\n",
              "    .dataframe tbody tr th {\n",
              "        vertical-align: top;\n",
              "    }\n",
              "\n",
              "    .dataframe thead th {\n",
              "        text-align: right;\n",
              "    }\n",
              "</style>\n",
              "<table border=\"1\" class=\"dataframe\">\n",
              "  <thead>\n",
              "    <tr style=\"text-align: right;\">\n",
              "      <th></th>\n",
              "      <th>id</th>\n",
              "      <th>original_title</th>\n",
              "      <th>imdb_rating</th>\n",
              "      <th>imdb_rating_iter</th>\n",
              "      <th>imdb_rating_apply</th>\n",
              "      <th>imdb_rating_pandas</th>\n",
              "    </tr>\n",
              "  </thead>\n",
              "  <tbody>\n",
              "    <tr>\n",
              "      <th>0</th>\n",
              "      <td>862</td>\n",
              "      <td>Toy Story</td>\n",
              "      <td>7.375533</td>\n",
              "      <td>7.375533</td>\n",
              "      <td>7.375533</td>\n",
              "      <td>7.375533</td>\n",
              "    </tr>\n",
              "    <tr>\n",
              "      <th>1</th>\n",
              "      <td>8844</td>\n",
              "      <td>Jumanji</td>\n",
              "      <td>6.524536</td>\n",
              "      <td>6.524536</td>\n",
              "      <td>6.524536</td>\n",
              "      <td>6.524536</td>\n",
              "    </tr>\n",
              "    <tr>\n",
              "      <th>2</th>\n",
              "      <td>15602</td>\n",
              "      <td>Grumpier Old Men</td>\n",
              "      <td>NaN</td>\n",
              "      <td>NaN</td>\n",
              "      <td>NaN</td>\n",
              "      <td>NaN</td>\n",
              "    </tr>\n",
              "    <tr>\n",
              "      <th>3</th>\n",
              "      <td>31357</td>\n",
              "      <td>Waiting to Exhale</td>\n",
              "      <td>NaN</td>\n",
              "      <td>NaN</td>\n",
              "      <td>NaN</td>\n",
              "      <td>NaN</td>\n",
              "    </tr>\n",
              "    <tr>\n",
              "      <th>4</th>\n",
              "      <td>11862</td>\n",
              "      <td>Father of the Bride Part II</td>\n",
              "      <td>NaN</td>\n",
              "      <td>NaN</td>\n",
              "      <td>NaN</td>\n",
              "      <td>NaN</td>\n",
              "    </tr>\n",
              "  </tbody>\n",
              "</table>\n",
              "</div>"
            ],
            "text/plain": [
              "      id               original_title  imdb_rating  imdb_rating_iter  \\\n",
              "0    862                    Toy Story     7.375533          7.375533   \n",
              "1   8844                      Jumanji     6.524536          6.524536   \n",
              "2  15602             Grumpier Old Men          NaN               NaN   \n",
              "3  31357            Waiting to Exhale          NaN               NaN   \n",
              "4  11862  Father of the Bride Part II          NaN               NaN   \n",
              "\n",
              "   imdb_rating_apply  imdb_rating_pandas  \n",
              "0           7.375533            7.375533  \n",
              "1           6.524536            6.524536  \n",
              "2                NaN                 NaN  \n",
              "3                NaN                 NaN  \n",
              "4                NaN                 NaN  "
            ]
          },
          "execution_count": 22,
          "metadata": {},
          "output_type": "execute_result"
        }
      ],
      "source": [
        "weighted_rating_pandas(df)\n",
        "\n",
        "pd.testing.assert_series_equal(\n",
        "    df.imdb_rating, df.imdb_rating_pandas, check_names=False\n",
        ")\n",
        "\n",
        "columns_to_show = ['id', 'original_title'] + \\\n",
        "                  list(df.columns[df.columns.str.startswith('imdb_rating')])\n",
        "df[columns_to_show].head()"
      ]
    },
    {
      "cell_type": "markdown",
      "metadata": {
        "id": "scNFR7X8GZnc"
      },
      "source": [
        "Time the performance of the function."
      ]
    },
    {
      "cell_type": "code",
      "execution_count": 23,
      "metadata": {
        "colab": {
          "base_uri": "https://localhost:8080/"
        },
        "id": "TbhwZZ0mGZnf",
        "outputId": "08aab5ca-34e5-482f-ec2e-e8cae72acd01"
      },
      "outputs": [
        {
          "name": "stdout",
          "output_type": "stream",
          "text": [
            "2.16 ms ± 49.1 µs per loop (mean ± std. dev. of 3 runs, 100 loops each)\n",
            "Best time: 0.0020965530000000144\n"
          ]
        }
      ],
      "source": [
        "pandas_time = %timeit -r 3 -o weighted_rating_pandas(df)\n",
        "print(\"Best time:\", pandas_time.best)"
      ]
    },
    {
      "cell_type": "markdown",
      "metadata": {
        "id": "Xsqz0kUJGZnh"
      },
      "source": [
        "Update the score board with the best time, marginal and overall performance change you have obtained. Display the updated table below. "
      ]
    },
    {
      "cell_type": "code",
      "execution_count": 24,
      "metadata": {
        "colab": {
          "base_uri": "https://localhost:8080/",
          "height": 306
        },
        "id": "SxCI0nUXV3Lk",
        "outputId": "448bcb6b-68f2-49ea-864c-c4d979aa4683"
      },
      "outputs": [
        {
          "data": {
            "text/html": [
              "<div>\n",
              "<style scoped>\n",
              "    .dataframe tbody tr th:only-of-type {\n",
              "        vertical-align: middle;\n",
              "    }\n",
              "\n",
              "    .dataframe tbody tr th {\n",
              "        vertical-align: top;\n",
              "    }\n",
              "\n",
              "    .dataframe thead th {\n",
              "        text-align: right;\n",
              "    }\n",
              "</style>\n",
              "<table border=\"1\" class=\"dataframe\">\n",
              "  <thead>\n",
              "    <tr style=\"text-align: right;\">\n",
              "      <th></th>\n",
              "      <th>Best single run time (s)</th>\n",
              "      <th>Marginal performance improvement</th>\n",
              "      <th>Performance improvement over basic looping</th>\n",
              "      <th>Best single run time (s, teacher)</th>\n",
              "      <th>Marginal performance improvement (teacher)</th>\n",
              "      <th>Performance improvement over basic looping (teacher)</th>\n",
              "    </tr>\n",
              "  </thead>\n",
              "  <tbody>\n",
              "    <tr>\n",
              "      <th>Basic looping</th>\n",
              "      <td>4.225246</td>\n",
              "      <td>NaN</td>\n",
              "      <td>NaN</td>\n",
              "      <td>9.37000</td>\n",
              "      <td>NaN</td>\n",
              "      <td>NaN</td>\n",
              "    </tr>\n",
              "    <tr>\n",
              "      <th>Iterrows looping</th>\n",
              "      <td>1.661814</td>\n",
              "      <td>x2.54</td>\n",
              "      <td>x2.54</td>\n",
              "      <td>3.87000</td>\n",
              "      <td>x2.42</td>\n",
              "      <td>x2.42</td>\n",
              "    </tr>\n",
              "    <tr>\n",
              "      <th>apply()</th>\n",
              "      <td>0.433299</td>\n",
              "      <td>x3.84</td>\n",
              "      <td>x9.75</td>\n",
              "      <td>0.56200</td>\n",
              "      <td>x6.88</td>\n",
              "      <td>x16.69</td>\n",
              "    </tr>\n",
              "    <tr>\n",
              "      <th>Pandas vectorisation</th>\n",
              "      <td>0.002097</td>\n",
              "      <td>x206.67</td>\n",
              "      <td>x2015</td>\n",
              "      <td>0.00540</td>\n",
              "      <td>x103.8</td>\n",
              "      <td>x1732.17</td>\n",
              "    </tr>\n",
              "    <tr>\n",
              "      <th>NumPy vectorisation</th>\n",
              "      <td>NaN</td>\n",
              "      <td>NaN</td>\n",
              "      <td>NaN</td>\n",
              "      <td>0.00084</td>\n",
              "      <td>x6.45</td>\n",
              "      <td>x11172.98</td>\n",
              "    </tr>\n",
              "  </tbody>\n",
              "</table>\n",
              "</div>"
            ],
            "text/plain": [
              "                      Best single run time (s)  \\\n",
              "Basic looping                         4.225246   \n",
              "Iterrows looping                      1.661814   \n",
              "apply()                               0.433299   \n",
              "Pandas vectorisation                  0.002097   \n",
              "NumPy vectorisation                        NaN   \n",
              "\n",
              "                     Marginal performance improvement  \\\n",
              "Basic looping                                     NaN   \n",
              "Iterrows looping                                x2.54   \n",
              "apply()                                         x3.84   \n",
              "Pandas vectorisation                          x206.67   \n",
              "NumPy vectorisation                               NaN   \n",
              "\n",
              "                     Performance improvement over basic looping  \\\n",
              "Basic looping                                               NaN   \n",
              "Iterrows looping                                          x2.54   \n",
              "apply()                                                   x9.75   \n",
              "Pandas vectorisation                                      x2015   \n",
              "NumPy vectorisation                                         NaN   \n",
              "\n",
              "                      Best single run time (s, teacher)  \\\n",
              "Basic looping                                   9.37000   \n",
              "Iterrows looping                                3.87000   \n",
              "apply()                                         0.56200   \n",
              "Pandas vectorisation                            0.00540   \n",
              "NumPy vectorisation                             0.00084   \n",
              "\n",
              "                     Marginal performance improvement (teacher)  \\\n",
              "Basic looping                                               NaN   \n",
              "Iterrows looping                                          x2.42   \n",
              "apply()                                                   x6.88   \n",
              "Pandas vectorisation                                     x103.8   \n",
              "NumPy vectorisation                                       x6.45   \n",
              "\n",
              "                     Performance improvement over basic looping (teacher)  \n",
              "Basic looping                                                       NaN    \n",
              "Iterrows looping                                                  x2.42    \n",
              "apply()                                                          x16.69    \n",
              "Pandas vectorisation                                           x1732.17    \n",
              "NumPy vectorisation                                           x11172.98    "
            ]
          },
          "execution_count": 24,
          "metadata": {},
          "output_type": "execute_result"
        }
      ],
      "source": [
        "# Adding the perfomance to the score board\n",
        "timings.iloc[3:4,0:3]= [pandas_time.best, 'x'+str(round(apply_time.best/pandas_time.best,2)), 'x'+str(round(basic_time.best/pandas_time.best))]\n",
        "timings"
      ]
    },
    {
      "cell_type": "markdown",
      "metadata": {
        "id": "HvwaE7pIjzEa"
      },
      "source": [
        "Time to reflect on your solution. Do the following: \n",
        " \n",
        "* Explain in words what your function does and why it is a vectorised solution. In particular, break down each step involving ufuncs, broadcasting and other vectorized calls. \n",
        "    * If your explanation has major errors, we will substract points for this part.\n",
        " \n",
        "* Display profiler output and give an analysis of what you see."
      ]
    },
    {
      "cell_type": "markdown",
      "metadata": {
        "id": "DngbQA2eV770"
      },
      "source": [
        "First of all, we replaced the loops for filtering the vote_count and vote_average values with single pandas series v and R storing the needed values through pandas indexing. In that way, we avoid writing for explicit loops for repeated operations. Instead, we perform arithmetic operations with universal functions, + , / and * directly on the Series. The operations on pandas Series follows broadcasting rules similar to that of NumPy's where they are automatically applied row-wise, and if there are mismatches in Series dimension, the ouput series will have NaNs appended to the same length of the Serie with larger ndim. \n",
        "\n",
        "Next, instead of looping and appending the calculated imdb_rating to an empty list and later adding it to the original dataframe df, we create the new column 'imdb_rating_pandas' by directly adding the output from vectorised Series operations done before. We are able to do so despite the original dataframe df and the output Serie does not have the same dimension in length, becasue pandas Ufuncs allow for index alignment in Series and Datframes, so any missing entries will be replaced with NaN. Thus, the calculated imdb ratings for movies with more than 1000 votes will be added to the correct locations indicated by their index from the original dataframe. "
      ]
    },
    {
      "cell_type": "code",
      "execution_count": 25,
      "metadata": {
        "id": "lk_j0ftwCuPu"
      },
      "outputs": [
        {
          "name": "stdout",
          "output_type": "stream",
          "text": [
            "Timer unit: 1e-07 s\n",
            "\n",
            "Total time: 0.0051549 s\n",
            "File: <ipython-input-21-5f4b49152c97>\n",
            "Function: weighted_rating_pandas at line 2\n",
            "\n",
            "Line #      Hits         Time  Per Hit   % Time  Line Contents\n",
            "==============================================================\n",
            "     2                                           def weighted_rating_pandas(df): \n",
            "     3         1      24896.0  24896.0     48.3      temp = df[df['vote_count'] > m]\n",
            "     4         1       1733.0   1733.0      3.4      v = temp['vote_count']\n",
            "     5         1        607.0    607.0      1.2      R = temp['vote_average']\n",
            "     6         1      24306.0  24306.0     47.2      df['imdb_rating_pandas'] = pd.Series((v/(v+m) * R) + (m/(v+m) * C))\n",
            "     7         1          7.0      7.0      0.0      return df"
          ]
        }
      ],
      "source": [
        "%reload_ext line_profiler\n",
        "\n",
        "%lprun -f weighted_rating_pandas weighted_rating_pandas(df)"
      ]
    },
    {
      "cell_type": "markdown",
      "metadata": {
        "id": "F9caC-uWfR-R"
      },
      "source": [
        "From line profiler results we can see that the first line of the function where we filter the dataframe df to contain only information of movies with vote count over 1000 took significnat amount of time, which constitutes approximately 46% of the total execution time. This makes sense as we have a large dataframe and finding the rows that complies to the conditional statement is time consuming while also perserving information of datatype and indexes. The second most time consuming operation is line 6 where we calculate the ratings, converting that into a pandas serires and define that as a new column, which took a little over half of the total execution time. "
      ]
    },
    {
      "cell_type": "markdown",
      "metadata": {
        "id": "QLwJEzATEKwi"
      },
      "source": [
        "## Part 4: Vectorised solution with NumPy (12.5 pts)"
      ]
    },
    {
      "cell_type": "markdown",
      "metadata": {
        "id": "GrAZ4OI2EPk8"
      },
      "source": [
        "Let's find a vectorised solution that uses NumPy to speed up the calculations. You have to define a function `weighted_rating_numpy(df)` that computes the ratings in a vectorised way and stores them in a new column of the DataFrame called `imdb_rating_numpy`."
      ]
    },
    {
      "cell_type": "code",
      "execution_count": 26,
      "metadata": {
        "id": "VdhZjyfQCuPu"
      },
      "outputs": [],
      "source": [
        "def weighted_rating_numpy(df):\n",
        "    #converting to numpy array\n",
        "    temp = df['vote_count'].to_numpy()\n",
        "    ## find index of movies with vote count greater than m \n",
        "    ind = temp > m\n",
        "    v = temp[ind]\n",
        "    temp = df['vote_average'].to_numpy()\n",
        "    R = temp[ind]\n",
        "    df['imdb_rating_numpy'] = np.NaN\n",
        "    df['imdb_rating_numpy'].loc[ind] = (v/(v+m) * R) + (m/(v+m) * C)\n",
        "    \n",
        "    return df"
      ]
    },
    {
      "cell_type": "markdown",
      "metadata": {
        "id": "n2pAc_GEEudy"
      },
      "source": [
        "Call the function and make sure it works as intended."
      ]
    },
    {
      "cell_type": "code",
      "execution_count": 27,
      "metadata": {
        "colab": {
          "base_uri": "https://localhost:8080/",
          "height": 204
        },
        "id": "IALbcsKO2RNt",
        "outputId": "29506eb6-3be4-4a6d-e82c-462aa3a17397"
      },
      "outputs": [
        {
          "data": {
            "text/html": [
              "<div>\n",
              "<style scoped>\n",
              "    .dataframe tbody tr th:only-of-type {\n",
              "        vertical-align: middle;\n",
              "    }\n",
              "\n",
              "    .dataframe tbody tr th {\n",
              "        vertical-align: top;\n",
              "    }\n",
              "\n",
              "    .dataframe thead th {\n",
              "        text-align: right;\n",
              "    }\n",
              "</style>\n",
              "<table border=\"1\" class=\"dataframe\">\n",
              "  <thead>\n",
              "    <tr style=\"text-align: right;\">\n",
              "      <th></th>\n",
              "      <th>id</th>\n",
              "      <th>original_title</th>\n",
              "      <th>imdb_rating</th>\n",
              "      <th>imdb_rating_iter</th>\n",
              "      <th>imdb_rating_apply</th>\n",
              "      <th>imdb_rating_pandas</th>\n",
              "      <th>imdb_rating_numpy</th>\n",
              "    </tr>\n",
              "  </thead>\n",
              "  <tbody>\n",
              "    <tr>\n",
              "      <th>0</th>\n",
              "      <td>862</td>\n",
              "      <td>Toy Story</td>\n",
              "      <td>7.375533</td>\n",
              "      <td>7.375533</td>\n",
              "      <td>7.375533</td>\n",
              "      <td>7.375533</td>\n",
              "      <td>7.375533</td>\n",
              "    </tr>\n",
              "    <tr>\n",
              "      <th>1</th>\n",
              "      <td>8844</td>\n",
              "      <td>Jumanji</td>\n",
              "      <td>6.524536</td>\n",
              "      <td>6.524536</td>\n",
              "      <td>6.524536</td>\n",
              "      <td>6.524536</td>\n",
              "      <td>6.524536</td>\n",
              "    </tr>\n",
              "    <tr>\n",
              "      <th>2</th>\n",
              "      <td>15602</td>\n",
              "      <td>Grumpier Old Men</td>\n",
              "      <td>NaN</td>\n",
              "      <td>NaN</td>\n",
              "      <td>NaN</td>\n",
              "      <td>NaN</td>\n",
              "      <td>NaN</td>\n",
              "    </tr>\n",
              "    <tr>\n",
              "      <th>3</th>\n",
              "      <td>31357</td>\n",
              "      <td>Waiting to Exhale</td>\n",
              "      <td>NaN</td>\n",
              "      <td>NaN</td>\n",
              "      <td>NaN</td>\n",
              "      <td>NaN</td>\n",
              "      <td>NaN</td>\n",
              "    </tr>\n",
              "    <tr>\n",
              "      <th>4</th>\n",
              "      <td>11862</td>\n",
              "      <td>Father of the Bride Part II</td>\n",
              "      <td>NaN</td>\n",
              "      <td>NaN</td>\n",
              "      <td>NaN</td>\n",
              "      <td>NaN</td>\n",
              "      <td>NaN</td>\n",
              "    </tr>\n",
              "  </tbody>\n",
              "</table>\n",
              "</div>"
            ],
            "text/plain": [
              "      id               original_title  imdb_rating  imdb_rating_iter  \\\n",
              "0    862                    Toy Story     7.375533          7.375533   \n",
              "1   8844                      Jumanji     6.524536          6.524536   \n",
              "2  15602             Grumpier Old Men          NaN               NaN   \n",
              "3  31357            Waiting to Exhale          NaN               NaN   \n",
              "4  11862  Father of the Bride Part II          NaN               NaN   \n",
              "\n",
              "   imdb_rating_apply  imdb_rating_pandas  imdb_rating_numpy  \n",
              "0           7.375533            7.375533           7.375533  \n",
              "1           6.524536            6.524536           6.524536  \n",
              "2                NaN                 NaN                NaN  \n",
              "3                NaN                 NaN                NaN  \n",
              "4                NaN                 NaN                NaN  "
            ]
          },
          "execution_count": 27,
          "metadata": {},
          "output_type": "execute_result"
        }
      ],
      "source": [
        "weighted_rating_numpy(df)\n",
        "\n",
        "pd.testing.assert_series_equal(\n",
        "    df.imdb_rating, df.imdb_rating_numpy, check_names=False\n",
        ")\n",
        "\n",
        "columns_to_show = ['id', 'original_title'] + \\\n",
        "                  list(df.columns[df.columns.str.startswith('imdb_rating')])\n",
        "df[columns_to_show].head()"
      ]
    },
    {
      "cell_type": "markdown",
      "metadata": {
        "id": "r0ebRPwiFAfo"
      },
      "source": [
        "Time the best performance of the function."
      ]
    },
    {
      "cell_type": "code",
      "execution_count": 28,
      "metadata": {
        "colab": {
          "base_uri": "https://localhost:8080/"
        },
        "id": "eWe52oAQ6l8R",
        "outputId": "c8bc31a6-de95-4341-c343-a1bbcbb9fbd9"
      },
      "outputs": [
        {
          "name": "stdout",
          "output_type": "stream",
          "text": [
            "458 µs ± 500 ns per loop (mean ± std. dev. of 3 runs, 1000 loops each)\n",
            "Best time: 0.00045720759999999674\n"
          ]
        }
      ],
      "source": [
        "numpy_time = %timeit -r 3 -o weighted_rating_numpy(df)\n",
        "print(\"Best time:\", numpy_time.best)"
      ]
    },
    {
      "cell_type": "markdown",
      "metadata": {
        "id": "TB7tkhUDFAfr"
      },
      "source": [
        "Update the score board with the best time, marginal and overall performance change you have obtained. Display the updated table below. "
      ]
    },
    {
      "cell_type": "code",
      "execution_count": 29,
      "metadata": {
        "colab": {
          "base_uri": "https://localhost:8080/",
          "height": 306
        },
        "id": "J8MBiqnvushL",
        "outputId": "b15c1d41-0415-42ec-ac05-11ec345da93d"
      },
      "outputs": [
        {
          "data": {
            "text/html": [
              "<div>\n",
              "<style scoped>\n",
              "    .dataframe tbody tr th:only-of-type {\n",
              "        vertical-align: middle;\n",
              "    }\n",
              "\n",
              "    .dataframe tbody tr th {\n",
              "        vertical-align: top;\n",
              "    }\n",
              "\n",
              "    .dataframe thead th {\n",
              "        text-align: right;\n",
              "    }\n",
              "</style>\n",
              "<table border=\"1\" class=\"dataframe\">\n",
              "  <thead>\n",
              "    <tr style=\"text-align: right;\">\n",
              "      <th></th>\n",
              "      <th>Best single run time (s)</th>\n",
              "      <th>Marginal performance improvement</th>\n",
              "      <th>Performance improvement over basic looping</th>\n",
              "      <th>Best single run time (s, teacher)</th>\n",
              "      <th>Marginal performance improvement (teacher)</th>\n",
              "      <th>Performance improvement over basic looping (teacher)</th>\n",
              "    </tr>\n",
              "  </thead>\n",
              "  <tbody>\n",
              "    <tr>\n",
              "      <th>Basic looping</th>\n",
              "      <td>4.225246</td>\n",
              "      <td>NaN</td>\n",
              "      <td>NaN</td>\n",
              "      <td>9.37000</td>\n",
              "      <td>NaN</td>\n",
              "      <td>NaN</td>\n",
              "    </tr>\n",
              "    <tr>\n",
              "      <th>Iterrows looping</th>\n",
              "      <td>1.661814</td>\n",
              "      <td>x2.54</td>\n",
              "      <td>x2.54</td>\n",
              "      <td>3.87000</td>\n",
              "      <td>x2.42</td>\n",
              "      <td>x2.42</td>\n",
              "    </tr>\n",
              "    <tr>\n",
              "      <th>apply()</th>\n",
              "      <td>0.433299</td>\n",
              "      <td>x3.84</td>\n",
              "      <td>x9.75</td>\n",
              "      <td>0.56200</td>\n",
              "      <td>x6.88</td>\n",
              "      <td>x16.69</td>\n",
              "    </tr>\n",
              "    <tr>\n",
              "      <th>Pandas vectorisation</th>\n",
              "      <td>0.002097</td>\n",
              "      <td>x206.67</td>\n",
              "      <td>x2015</td>\n",
              "      <td>0.00540</td>\n",
              "      <td>x103.8</td>\n",
              "      <td>x1732.17</td>\n",
              "    </tr>\n",
              "    <tr>\n",
              "      <th>NumPy vectorisation</th>\n",
              "      <td>0.000457</td>\n",
              "      <td>x4.59</td>\n",
              "      <td>x9241.42</td>\n",
              "      <td>0.00084</td>\n",
              "      <td>x6.45</td>\n",
              "      <td>x11172.98</td>\n",
              "    </tr>\n",
              "  </tbody>\n",
              "</table>\n",
              "</div>"
            ],
            "text/plain": [
              "                      Best single run time (s)  \\\n",
              "Basic looping                         4.225246   \n",
              "Iterrows looping                      1.661814   \n",
              "apply()                               0.433299   \n",
              "Pandas vectorisation                  0.002097   \n",
              "NumPy vectorisation                   0.000457   \n",
              "\n",
              "                     Marginal performance improvement  \\\n",
              "Basic looping                                     NaN   \n",
              "Iterrows looping                                x2.54   \n",
              "apply()                                         x3.84   \n",
              "Pandas vectorisation                          x206.67   \n",
              "NumPy vectorisation                             x4.59   \n",
              "\n",
              "                     Performance improvement over basic looping  \\\n",
              "Basic looping                                               NaN   \n",
              "Iterrows looping                                          x2.54   \n",
              "apply()                                                   x9.75   \n",
              "Pandas vectorisation                                      x2015   \n",
              "NumPy vectorisation                                    x9241.42   \n",
              "\n",
              "                      Best single run time (s, teacher)  \\\n",
              "Basic looping                                   9.37000   \n",
              "Iterrows looping                                3.87000   \n",
              "apply()                                         0.56200   \n",
              "Pandas vectorisation                            0.00540   \n",
              "NumPy vectorisation                             0.00084   \n",
              "\n",
              "                     Marginal performance improvement (teacher)  \\\n",
              "Basic looping                                               NaN   \n",
              "Iterrows looping                                          x2.42   \n",
              "apply()                                                   x6.88   \n",
              "Pandas vectorisation                                     x103.8   \n",
              "NumPy vectorisation                                       x6.45   \n",
              "\n",
              "                     Performance improvement over basic looping (teacher)  \n",
              "Basic looping                                                       NaN    \n",
              "Iterrows looping                                                  x2.42    \n",
              "apply()                                                          x16.69    \n",
              "Pandas vectorisation                                           x1732.17    \n",
              "NumPy vectorisation                                           x11172.98    "
            ]
          },
          "execution_count": 29,
          "metadata": {},
          "output_type": "execute_result"
        }
      ],
      "source": [
        "# Adding the perfomance to the score board\n",
        "timings.iloc[4:5,0:3]= [numpy_time.best, 'x'+str(round(pandas_time.best/numpy_time.best,2)), 'x'+str(round(basic_time.best/numpy_time.best,2))]\n",
        "timings"
      ]
    },
    {
      "cell_type": "markdown",
      "metadata": {
        "id": "8RSyEDTvA-QQ"
      },
      "source": [
        "Time to reflect on your solution. Do the following: \n",
        " \n",
        "* Explain in words what your function does and why it is a vectorised solution. In particular, break down each step involving ufuncs, broadcasting and other vectorized calls. \n",
        "    * If your explanation has major errors, we will substract points for this part.\n",
        "    * If applicable, you may refer back to the explanation you gave for `weighted_rating_pandas`.\n",
        " \n",
        "* Display profiler output and give an analysis of what you see.\n",
        "    * Contrast your findings with those from `weighted_rating_pandas`."
      ]
    },
    {
      "cell_type": "markdown",
      "metadata": {
        "id": "k7lgegwDWFTt"
      },
      "source": [
        "Here again we want to avoid explicit looping to find the values of vote count and vote averages for movies with more than 1000 votes. Therefore, we find the index of movies that has __vote_count__ over 1000 by finding the index of values in the converted vote_count numpy array column that is greater than 1000. Using the found indexes we are able to create two numpy arrays v (vote counts) and R (vote averages) by indexing both the numpy array __vote_count__ and the numpy converted original data frame df\\[vote averages\\] (with __to_numpy__). Thereafter, we define the new column __'imdb_rating_numpy'__ to take NaN values, otherwise calculated rating values for the movies with index of interest. The ratings are calculated using the universal functions /, * and + from Numpy, we perform the same arithmetic as what was done in the vectorised pandas solution, and following the broadcasting rules of Numpy. The difference is that in this case, if one array's dimension is smaller than the other, 1 will be preprended their shape. This solution is vectorised because first of all we avoided dynamic typing. Secondly, we allowed for parallel operations such that when computing the ratings we are not bound to any particular order, every element in an array could be computed independently."
      ]
    },
    {
      "cell_type": "code",
      "execution_count": 30,
      "metadata": {
        "id": "evCHi0shCuPv"
      },
      "outputs": [
        {
          "name": "stdout",
          "output_type": "stream",
          "text": [
            "Timer unit: 1e-07 s\n",
            "\n",
            "Total time: 0.0016913 s\n",
            "File: <ipython-input-26-bb91d07bd3c2>\n",
            "Function: weighted_rating_numpy at line 1\n",
            "\n",
            "Line #      Hits         Time  Per Hit   % Time  Line Contents\n",
            "==============================================================\n",
            "     1                                           def weighted_rating_numpy(df):\n",
            "     2                                               #converting to numpy array\n",
            "     3         1       1747.0   1747.0     10.3      temp = df['vote_count'].to_numpy()\n",
            "     4                                               ## find index of movies with vote count greater than m \n",
            "     5         1        429.0    429.0      2.5      ind = temp > m\n",
            "     6         1        681.0    681.0      4.0      v = temp[ind]\n",
            "     7         1        777.0    777.0      4.6      temp = df['vote_average'].to_numpy()\n",
            "     8         1        931.0    931.0      5.5      R = temp[ind]\n",
            "     9         1       2463.0   2463.0     14.6      df['imdb_rating_numpy'] = np.NaN\n",
            "    10         1       9874.0   9874.0     58.4      df['imdb_rating_numpy'].loc[ind] = (v/(v+m) * R) + (m/(v+m) * C)\n",
            "    11                                               \n",
            "    12         1         11.0     11.0      0.1      return df"
          ]
        }
      ],
      "source": [
        "%lprun -f weighted_rating_numpy weighted_rating_numpy(df)"
      ]
    },
    {
      "cell_type": "markdown",
      "metadata": {
        "id": "s2MGibGzfR-a"
      },
      "source": [
        "As we can see from the line profiler output, we have reduced the amount of time spent filteirng and finding the needed values of vote count and vote average compared to our vectorised pandas solution, where filtering directly on the dataframe df took significant amount of time. Another major improvment over the vectorised pandas solution would be at the last line where arithmetic operations for calculating the ratings happen, where here we spent only about 1/3 execution time. The reason for why the numpy solution happens to be alot faster is that it is more memory sufficient due to homogeneity in datatype, hence generally faster in arithmetic operations. "
      ]
    },
    {
      "cell_type": "markdown",
      "metadata": {
        "id": "rcGeZKuIRHe7"
      },
      "source": [
        "## Part 5: Find out the top 25 titles (2.5 pts)"
      ]
    },
    {
      "cell_type": "markdown",
      "metadata": {
        "id": "E-IE_GfsRMOG"
      },
      "source": [
        "What are the top 25 titles? Now that we have the IMDb ratings conveniently stored in a column, display the top 25 titles, together with their IMDb rating:"
      ]
    },
    {
      "cell_type": "code",
      "execution_count": 31,
      "metadata": {
        "colab": {
          "base_uri": "https://localhost:8080/",
          "height": 824
        },
        "id": "svC-x1ZcRNJ4",
        "outputId": "b1bbe7c2-1ff3-47ee-c6b8-426e2c89ab05"
      },
      "outputs": [
        {
          "data": {
            "text/html": [
              "<div>\n",
              "<style scoped>\n",
              "    .dataframe tbody tr th:only-of-type {\n",
              "        vertical-align: middle;\n",
              "    }\n",
              "\n",
              "    .dataframe tbody tr th {\n",
              "        vertical-align: top;\n",
              "    }\n",
              "\n",
              "    .dataframe thead th {\n",
              "        text-align: right;\n",
              "    }\n",
              "</style>\n",
              "<table border=\"1\" class=\"dataframe\">\n",
              "  <thead>\n",
              "    <tr style=\"text-align: right;\">\n",
              "      <th></th>\n",
              "      <th>original_title</th>\n",
              "      <th>imdb_rating</th>\n",
              "    </tr>\n",
              "  </thead>\n",
              "  <tbody>\n",
              "    <tr>\n",
              "      <th>0</th>\n",
              "      <td>The Shawshank Redemption</td>\n",
              "      <td>8.192086</td>\n",
              "    </tr>\n",
              "    <tr>\n",
              "      <th>1</th>\n",
              "      <td>The Dark Knight</td>\n",
              "      <td>8.097916</td>\n",
              "    </tr>\n",
              "    <tr>\n",
              "      <th>2</th>\n",
              "      <td>The Godfather</td>\n",
              "      <td>8.089770</td>\n",
              "    </tr>\n",
              "    <tr>\n",
              "      <th>3</th>\n",
              "      <td>Fight Club</td>\n",
              "      <td>8.048880</td>\n",
              "    </tr>\n",
              "    <tr>\n",
              "      <th>4</th>\n",
              "      <td>Pulp Fiction</td>\n",
              "      <td>8.022704</td>\n",
              "    </tr>\n",
              "    <tr>\n",
              "      <th>5</th>\n",
              "      <td>Inception</td>\n",
              "      <td>7.935393</td>\n",
              "    </tr>\n",
              "    <tr>\n",
              "      <th>6</th>\n",
              "      <td>Forrest Gump</td>\n",
              "      <td>7.917781</td>\n",
              "    </tr>\n",
              "    <tr>\n",
              "      <th>7</th>\n",
              "      <td>Interstellar</td>\n",
              "      <td>7.896385</td>\n",
              "    </tr>\n",
              "    <tr>\n",
              "      <th>8</th>\n",
              "      <td>The Empire Strikes Back</td>\n",
              "      <td>7.831115</td>\n",
              "    </tr>\n",
              "    <tr>\n",
              "      <th>9</th>\n",
              "      <td>The Lord of the Rings: The Return of the King</td>\n",
              "      <td>7.831037</td>\n",
              "    </tr>\n",
              "    <tr>\n",
              "      <th>10</th>\n",
              "      <td>Schindler's List</td>\n",
              "      <td>7.806722</td>\n",
              "    </tr>\n",
              "    <tr>\n",
              "      <th>11</th>\n",
              "      <td>Whiplash</td>\n",
              "      <td>7.801217</td>\n",
              "    </tr>\n",
              "    <tr>\n",
              "      <th>12</th>\n",
              "      <td>Intouchables</td>\n",
              "      <td>7.797277</td>\n",
              "    </tr>\n",
              "    <tr>\n",
              "      <th>13</th>\n",
              "      <td>Star Wars</td>\n",
              "      <td>7.780965</td>\n",
              "    </tr>\n",
              "    <tr>\n",
              "      <th>14</th>\n",
              "      <td>千と千尋の神隠し</td>\n",
              "      <td>7.760254</td>\n",
              "    </tr>\n",
              "    <tr>\n",
              "      <th>15</th>\n",
              "      <td>The Lord of the Rings: The Fellowship of the Ring</td>\n",
              "      <td>7.759254</td>\n",
              "    </tr>\n",
              "    <tr>\n",
              "      <th>16</th>\n",
              "      <td>Se7en</td>\n",
              "      <td>7.741149</td>\n",
              "    </tr>\n",
              "    <tr>\n",
              "      <th>17</th>\n",
              "      <td>The Lord of the Rings: The Two Towers</td>\n",
              "      <td>7.724400</td>\n",
              "    </tr>\n",
              "    <tr>\n",
              "      <th>18</th>\n",
              "      <td>La vita è bella</td>\n",
              "      <td>7.722473</td>\n",
              "    </tr>\n",
              "    <tr>\n",
              "      <th>19</th>\n",
              "      <td>Léon</td>\n",
              "      <td>7.712289</td>\n",
              "    </tr>\n",
              "    <tr>\n",
              "      <th>20</th>\n",
              "      <td>The Green Mile</td>\n",
              "      <td>7.700299</td>\n",
              "    </tr>\n",
              "    <tr>\n",
              "      <th>21</th>\n",
              "      <td>The Godfather: Part II</td>\n",
              "      <td>7.693061</td>\n",
              "    </tr>\n",
              "    <tr>\n",
              "      <th>22</th>\n",
              "      <td>Guardians of the Galaxy</td>\n",
              "      <td>7.692858</td>\n",
              "    </tr>\n",
              "    <tr>\n",
              "      <th>23</th>\n",
              "      <td>The Matrix</td>\n",
              "      <td>7.673643</td>\n",
              "    </tr>\n",
              "    <tr>\n",
              "      <th>24</th>\n",
              "      <td>Back to the Future</td>\n",
              "      <td>7.671024</td>\n",
              "    </tr>\n",
              "  </tbody>\n",
              "</table>\n",
              "</div>"
            ],
            "text/plain": [
              "                                       original_title  imdb_rating\n",
              "0                            The Shawshank Redemption     8.192086\n",
              "1                                     The Dark Knight     8.097916\n",
              "2                                       The Godfather     8.089770\n",
              "3                                          Fight Club     8.048880\n",
              "4                                        Pulp Fiction     8.022704\n",
              "5                                           Inception     7.935393\n",
              "6                                        Forrest Gump     7.917781\n",
              "7                                        Interstellar     7.896385\n",
              "8                             The Empire Strikes Back     7.831115\n",
              "9       The Lord of the Rings: The Return of the King     7.831037\n",
              "10                                   Schindler's List     7.806722\n",
              "11                                           Whiplash     7.801217\n",
              "12                                       Intouchables     7.797277\n",
              "13                                          Star Wars     7.780965\n",
              "14                                           千と千尋の神隠し     7.760254\n",
              "15  The Lord of the Rings: The Fellowship of the Ring     7.759254\n",
              "16                                              Se7en     7.741149\n",
              "17              The Lord of the Rings: The Two Towers     7.724400\n",
              "18                                    La vita è bella     7.722473\n",
              "19                                               Léon     7.712289\n",
              "20                                     The Green Mile     7.700299\n",
              "21                             The Godfather: Part II     7.693061\n",
              "22                            Guardians of the Galaxy     7.692858\n",
              "23                                         The Matrix     7.673643\n",
              "24                                 Back to the Future     7.671024"
            ]
          },
          "execution_count": 31,
          "metadata": {},
          "output_type": "execute_result"
        }
      ],
      "source": [
        "df.sort_values('imdb_rating', ascending= False).iloc[0:25, [8,24]].reset_index(drop = True)"
      ]
    },
    {
      "cell_type": "markdown",
      "metadata": {
        "id": "2Ca4XaEtqvwt"
      },
      "source": [
        "# Exercise 3: Predicting the genre of movies (40 points)"
      ]
    },
    {
      "cell_type": "markdown",
      "metadata": {
        "id": "irkcmAfTHTzR"
      },
      "source": [
        "In this exercise, you'll be asked to create a number of features and use them to predict whether a movie is a science fiction movie or not. \n",
        "For this classification task, we'll work with a different part of the movies dataset, which contains more information for each movie."
      ]
    },
    {
      "cell_type": "code",
      "execution_count": 32,
      "metadata": {
        "ExecuteTime": {
          "end_time": "2021-09-27T12:28:57.151965Z",
          "start_time": "2021-09-27T12:28:57.145452Z"
        },
        "id": "cs0dJMEG1PLL"
      },
      "outputs": [],
      "source": [
        "train_url = 'http://courses.compute.dtu.dk/02807/2021/projects/project1/train.csv'"
      ]
    },
    {
      "cell_type": "markdown",
      "metadata": {
        "id": "SIcpNS2GCXUi"
      },
      "source": [
        "You'll try to predict whether a movie is a science fiction movie based on the other associated genres for the movie, the people and companies involved in making it, as well as its release date."
      ]
    },
    {
      "cell_type": "markdown",
      "metadata": {
        "id": "IkN5bCjoCPW9"
      },
      "source": [
        "## Part 1: Adding binary features for genres (15 pts)"
      ]
    },
    {
      "cell_type": "markdown",
      "metadata": {
        "id": "XA00jck22BKq"
      },
      "source": [
        "As in Exercise 1, the data on several columns is in a stringified format. Pre-process the following columns appropriately, as you did with the `genres` column in Part 1 of Exercise 1.\n",
        "```\n",
        "'belongs_to_collection', 'genres', 'production_companies','production_countries', 'spoken_languages', 'Keywords', 'cast', 'crew'\n",
        "```\n",
        " \n",
        "Don't loop explicitly over the rows to perform this preprocessing. Your dataframe should be named `train`."
      ]
    },
    {
      "cell_type": "code",
      "execution_count": 33,
      "metadata": {
        "id": "tHi0Ejxb2bKM"
      },
      "outputs": [],
      "source": [
        "# Creat function for loading data\n",
        "def load_movies_data_train(train_url):\n",
        "    # Load the data \n",
        "    train = pd.read_csv(train_url)\n",
        "    # Remove replace na with None\n",
        "    train = train.fillna('None')\n",
        "    # Convert data in the columns to dictionaries\n",
        "    for col in ['belongs_to_collection','genres','production_companies','production_countries','spoken_languages',\n",
        "               'Keywords', 'crew','cast']:\n",
        "        train[col] = [eval(value) for value in train[col]]\n",
        "    return train\n",
        "\n",
        "# Load data and save as train\n",
        "train = load_movies_data_train(train_url)"
      ]
    },
    {
      "cell_type": "markdown",
      "metadata": {
        "id": "Z57lsGZ5IL7b"
      },
      "source": [
        "Looking at the 'genres' column, you can see that movies have a varying number of associated genres."
      ]
    },
    {
      "cell_type": "code",
      "execution_count": 34,
      "metadata": {
        "colab": {
          "base_uri": "https://localhost:8080/"
        },
        "id": "amzV_VzSE0VL",
        "outputId": "3957ce91-c308-44a5-e2c5-cb106624a5c5"
      },
      "outputs": [
        {
          "name": "stdout",
          "output_type": "stream",
          "text": [
            "0 [{'id': 35, 'name': 'Comedy'}]\n",
            "1 [{'id': 35, 'name': 'Comedy'}, {'id': 18, 'name': 'Drama'}, {'id': 10751, 'name': 'Family'}, {'id': 10749, 'name': 'Romance'}]\n",
            "2 [{'id': 18, 'name': 'Drama'}]\n",
            "3 [{'id': 53, 'name': 'Thriller'}, {'id': 18, 'name': 'Drama'}]\n",
            "4 [{'id': 28, 'name': 'Action'}, {'id': 53, 'name': 'Thriller'}]\n"
          ]
        }
      ],
      "source": [
        "# This will work only if you've already preprocessed the genres' column into lists of dicts\n",
        "for i, v in enumerate(train.genres.head()):\n",
        "    print(i, v)"
      ]
    },
    {
      "cell_type": "markdown",
      "metadata": {
        "id": "kPDjPDHlInOC"
      },
      "source": [
        "Count the number of movies that have $n$ associated genres, for each $n$ in the dataset. If a movie has no associated genres, assign it the number 0. \n",
        "\n",
        "You have to use Pandas built-in functions only (no explicit looping). For example, you could use `apply()` with an appropriate function to apply to each row. \n",
        "\n",
        "Once you have the counts, visualise them as a bar chart, with one bar per possible number of associated genres, and the height of the bar representing the number of movies with that number of genres.\n"
      ]
    },
    {
      "cell_type": "code",
      "execution_count": 35,
      "metadata": {
        "colab": {
          "base_uri": "https://localhost:8080/",
          "height": 295
        },
        "id": "6cHqZJ8iImh1",
        "outputId": "a936df9b-8bf4-461c-a955-d4a51a9f4620"
      },
      "outputs": [
        {
          "data": {
            "image/png": "[encoded data removed]",
            "text/plain": [
              "<Figure size 432x288 with 1 Axes>"
            ]
          },
          "metadata": {
            "needs_background": "light"
          },
          "output_type": "display_data"
        }
      ],
      "source": [
        "import matplotlib.pyplot as plt\n",
        "# Comput number of genres for each movie\n",
        "train['n_genres'] = train['genres'].apply(lambda x: len(x) if x != None else 0)\n",
        "# Create histogram and plot\n",
        "plt.hist(train['n_genres'], bins = train['n_genres'].nunique(), edgecolor='black')\n",
        "plt.title(f'Histogram over number of associated genres for movies')\n",
        "plt.xlabel('Number of genre')\n",
        "plt.ylabel('Frequency')\n",
        "plt.show()\n"
      ]
    },
    {
      "cell_type": "markdown",
      "metadata": {
        "id": "EqA9UQ3rJyBQ"
      },
      "source": [
        "Let's create our binary features next. Complete the following steps:\n",
        " \n",
        "1.   Transform the `genres` column by replacing its current entries with the list of names of genres occurring in the entries.  For example, the entry \n",
        "```\n",
        "[{'id': 10749, 'name': 'Romance'}, {'id': 35, 'name': 'Comedy'}]\n",
        "```\n",
        "should be transformed into:\n",
        "```\n",
        "['Romance','Comedy']\n",
        "```\n",
        "Empty entries should be transformed into the empty list `[]`.\n",
        "\n",
        "2. Create a separate column (in `train`) for each of the 20 genres, with name `genres_(nameofgenre)` (e.g. `genres_Comedy`). A movie should have a 1 on a genres column if the genre is one of the associated genres for that movie, and a 0 otherwise.\n",
        "    * To get started, consider what operations create a data frame with dimensions as `train` and columns as specified here, based on the list output from step 1. Then combine this data frame with `train`.\n",
        "\n",
        "You have to use Pandas built-in functions only (no explicit looping)."
      ]
    },
    {
      "cell_type": "code",
      "execution_count": 36,
      "metadata": {
        "colab": {
          "base_uri": "https://localhost:8080/",
          "height": 632
        },
        "id": "xjQxT08jCuPx",
        "outputId": "0062b682-1c0b-452f-a8e6-4510ccac5140"
      },
      "outputs": [
        {
          "data": {
            "text/html": [
              "<div>\n",
              "<style scoped>\n",
              "    .dataframe tbody tr th:only-of-type {\n",
              "        vertical-align: middle;\n",
              "    }\n",
              "\n",
              "    .dataframe tbody tr th {\n",
              "        vertical-align: top;\n",
              "    }\n",
              "\n",
              "    .dataframe thead th {\n",
              "        text-align: right;\n",
              "    }\n",
              "</style>\n",
              "<table border=\"1\" class=\"dataframe\">\n",
              "  <thead>\n",
              "    <tr style=\"text-align: right;\">\n",
              "      <th></th>\n",
              "      <th>id</th>\n",
              "      <th>belongs_to_collection</th>\n",
              "      <th>budget</th>\n",
              "      <th>genres</th>\n",
              "      <th>homepage</th>\n",
              "      <th>imdb_id</th>\n",
              "      <th>original_language</th>\n",
              "      <th>original_title</th>\n",
              "      <th>overview</th>\n",
              "      <th>popularity</th>\n",
              "      <th>...</th>\n",
              "      <th>genres_History</th>\n",
              "      <th>genres_Horror</th>\n",
              "      <th>genres_Music</th>\n",
              "      <th>genres_Mystery</th>\n",
              "      <th>genres_Romance</th>\n",
              "      <th>genres_Science Fiction</th>\n",
              "      <th>genres_TV Movie</th>\n",
              "      <th>genres_Thriller</th>\n",
              "      <th>genres_War</th>\n",
              "      <th>genres_Western</th>\n",
              "    </tr>\n",
              "  </thead>\n",
              "  <tbody>\n",
              "    <tr>\n",
              "      <th>0</th>\n",
              "      <td>1</td>\n",
              "      <td>[{'id': 313576, 'name': 'Hot Tub Time Machine ...</td>\n",
              "      <td>14000000</td>\n",
              "      <td>[Comedy]</td>\n",
              "      <td>None</td>\n",
              "      <td>tt2637294</td>\n",
              "      <td>en</td>\n",
              "      <td>Hot Tub Time Machine 2</td>\n",
              "      <td>When Lou, who has become the \"father of the In...</td>\n",
              "      <td>6.575393</td>\n",
              "      <td>...</td>\n",
              "      <td>0.0</td>\n",
              "      <td>0.0</td>\n",
              "      <td>0.0</td>\n",
              "      <td>0.0</td>\n",
              "      <td>0.0</td>\n",
              "      <td>0.0</td>\n",
              "      <td>0.0</td>\n",
              "      <td>0.0</td>\n",
              "      <td>0.0</td>\n",
              "      <td>0.0</td>\n",
              "    </tr>\n",
              "    <tr>\n",
              "      <th>1</th>\n",
              "      <td>2</td>\n",
              "      <td>[{'id': 107674, 'name': 'The Princess Diaries ...</td>\n",
              "      <td>40000000</td>\n",
              "      <td>[Comedy, Drama, Family, Romance]</td>\n",
              "      <td>None</td>\n",
              "      <td>tt0368933</td>\n",
              "      <td>en</td>\n",
              "      <td>The Princess Diaries 2: Royal Engagement</td>\n",
              "      <td>Mia Thermopolis is now a college graduate and ...</td>\n",
              "      <td>8.248895</td>\n",
              "      <td>...</td>\n",
              "      <td>0.0</td>\n",
              "      <td>0.0</td>\n",
              "      <td>0.0</td>\n",
              "      <td>0.0</td>\n",
              "      <td>1.0</td>\n",
              "      <td>0.0</td>\n",
              "      <td>0.0</td>\n",
              "      <td>0.0</td>\n",
              "      <td>0.0</td>\n",
              "      <td>0.0</td>\n",
              "    </tr>\n",
              "    <tr>\n",
              "      <th>2</th>\n",
              "      <td>3</td>\n",
              "      <td>0</td>\n",
              "      <td>3300000</td>\n",
              "      <td>[Drama]</td>\n",
              "      <td>http://sonyclassics.com/whiplash/</td>\n",
              "      <td>tt2582802</td>\n",
              "      <td>en</td>\n",
              "      <td>Whiplash</td>\n",
              "      <td>Under the direction of a ruthless instructor, ...</td>\n",
              "      <td>64.299990</td>\n",
              "      <td>...</td>\n",
              "      <td>0.0</td>\n",
              "      <td>0.0</td>\n",
              "      <td>0.0</td>\n",
              "      <td>0.0</td>\n",
              "      <td>0.0</td>\n",
              "      <td>0.0</td>\n",
              "      <td>0.0</td>\n",
              "      <td>0.0</td>\n",
              "      <td>0.0</td>\n",
              "      <td>0.0</td>\n",
              "    </tr>\n",
              "    <tr>\n",
              "      <th>3</th>\n",
              "      <td>4</td>\n",
              "      <td>0</td>\n",
              "      <td>1200000</td>\n",
              "      <td>[Thriller, Drama]</td>\n",
              "      <td>http://kahaanithefilm.com/</td>\n",
              "      <td>tt1821480</td>\n",
              "      <td>hi</td>\n",
              "      <td>Kahaani</td>\n",
              "      <td>Vidya Bagchi (Vidya Balan) arrives in Kolkata ...</td>\n",
              "      <td>3.174936</td>\n",
              "      <td>...</td>\n",
              "      <td>0.0</td>\n",
              "      <td>0.0</td>\n",
              "      <td>0.0</td>\n",
              "      <td>0.0</td>\n",
              "      <td>0.0</td>\n",
              "      <td>0.0</td>\n",
              "      <td>0.0</td>\n",
              "      <td>1.0</td>\n",
              "      <td>0.0</td>\n",
              "      <td>0.0</td>\n",
              "    </tr>\n",
              "    <tr>\n",
              "      <th>4</th>\n",
              "      <td>5</td>\n",
              "      <td>0</td>\n",
              "      <td>0</td>\n",
              "      <td>[Action, Thriller]</td>\n",
              "      <td>None</td>\n",
              "      <td>tt1380152</td>\n",
              "      <td>ko</td>\n",
              "      <td>마린보이</td>\n",
              "      <td>Marine Boy is the story of a former national s...</td>\n",
              "      <td>1.148070</td>\n",
              "      <td>...</td>\n",
              "      <td>0.0</td>\n",
              "      <td>0.0</td>\n",
              "      <td>0.0</td>\n",
              "      <td>0.0</td>\n",
              "      <td>0.0</td>\n",
              "      <td>0.0</td>\n",
              "      <td>0.0</td>\n",
              "      <td>1.0</td>\n",
              "      <td>0.0</td>\n",
              "      <td>0.0</td>\n",
              "    </tr>\n",
              "  </tbody>\n",
              "</table>\n",
              "<p>5 rows × 44 columns</p>\n",
              "</div>"
            ],
            "text/plain": [
              "   id                              belongs_to_collection    budget  \\\n",
              "0   1  [{'id': 313576, 'name': 'Hot Tub Time Machine ...  14000000   \n",
              "1   2  [{'id': 107674, 'name': 'The Princess Diaries ...  40000000   \n",
              "2   3                                                  0   3300000   \n",
              "3   4                                                  0   1200000   \n",
              "4   5                                                  0         0   \n",
              "\n",
              "                             genres                           homepage  \\\n",
              "0                          [Comedy]                               None   \n",
              "1  [Comedy, Drama, Family, Romance]                               None   \n",
              "2                           [Drama]  http://sonyclassics.com/whiplash/   \n",
              "3                 [Thriller, Drama]         http://kahaanithefilm.com/   \n",
              "4                [Action, Thriller]                               None   \n",
              "\n",
              "     imdb_id original_language                            original_title  \\\n",
              "0  tt2637294                en                    Hot Tub Time Machine 2   \n",
              "1  tt0368933                en  The Princess Diaries 2: Royal Engagement   \n",
              "2  tt2582802                en                                  Whiplash   \n",
              "3  tt1821480                hi                                   Kahaani   \n",
              "4  tt1380152                ko                                      마린보이   \n",
              "\n",
              "                                            overview  popularity  ...  \\\n",
              "0  When Lou, who has become the \"father of the In...    6.575393  ...   \n",
              "1  Mia Thermopolis is now a college graduate and ...    8.248895  ...   \n",
              "2  Under the direction of a ruthless instructor, ...   64.299990  ...   \n",
              "3  Vidya Bagchi (Vidya Balan) arrives in Kolkata ...    3.174936  ...   \n",
              "4  Marine Boy is the story of a former national s...    1.148070  ...   \n",
              "\n",
              "  genres_History genres_Horror genres_Music genres_Mystery genres_Romance  \\\n",
              "0            0.0           0.0          0.0            0.0            0.0   \n",
              "1            0.0           0.0          0.0            0.0            1.0   \n",
              "2            0.0           0.0          0.0            0.0            0.0   \n",
              "3            0.0           0.0          0.0            0.0            0.0   \n",
              "4            0.0           0.0          0.0            0.0            0.0   \n",
              "\n",
              "  genres_Science Fiction genres_TV Movie genres_Thriller genres_War  \\\n",
              "0                    0.0             0.0             0.0        0.0   \n",
              "1                    0.0             0.0             0.0        0.0   \n",
              "2                    0.0             0.0             0.0        0.0   \n",
              "3                    0.0             0.0             1.0        0.0   \n",
              "4                    0.0             0.0             1.0        0.0   \n",
              "\n",
              "  genres_Western  \n",
              "0            0.0  \n",
              "1            0.0  \n",
              "2            0.0  \n",
              "3            0.0  \n",
              "4            0.0  \n",
              "\n",
              "[5 rows x 44 columns]"
            ]
          },
          "execution_count": 36,
          "metadata": {},
          "output_type": "execute_result"
        }
      ],
      "source": [
        "# Convert genre into a list with all the genres in a movie\n",
        "train['genres'] = train['genres'].apply(lambda x: [list(g.values())[1] for g in x or []])\n",
        "\n",
        "# Obatin the binarization of the genres \n",
        "genres = pd.get_dummies(train['genres'].apply(pd.Series).stack(), prefix = 'genres').groupby(level=0).sum()\n",
        "\n",
        "# Merge genre and train together \n",
        "train = train.join(genres).fillna(0)\n",
        "train.head(5)"
      ]
    },
    {
      "cell_type": "markdown",
      "metadata": {
        "id": "nN65zGfLnSe-"
      },
      "source": [
        "Visualise the number of movies per top 20 genre with a chart of your choice."
      ]
    },
    {
      "cell_type": "code",
      "execution_count": 37,
      "metadata": {
        "colab": {
          "base_uri": "https://localhost:8080/",
          "height": 325
        },
        "id": "wEjJJkMZh9mF",
        "outputId": "9ac30eab-d97d-4257-e882-64ae96d738e5"
      },
      "outputs": [
        {
          "data": {
            "image/png": "[encoded data removed]",
            "text/plain": [
              "<Figure size 1800x432 with 1 Axes>"
            ]
          },
          "metadata": {
            "needs_background": "light"
          },
          "output_type": "display_data"
        }
      ],
      "source": [
        "from matplotlib.pyplot import figure\n",
        "figure(figsize = (25,6))\n",
        "plt.bar(train.columns[24:],train.iloc[:, 24:].sum())\n",
        "plt.title(f'Number movies in each genre')\n",
        "plt.ylabel('Frequency')\n",
        "plt.xlabel('Genres')\n",
        "plt.show()\n"
      ]
    },
    {
      "cell_type": "markdown",
      "metadata": {
        "id": "M79tzVdMDfXL"
      },
      "source": [
        "## Part 2: Adding more binary features (5 pts)"
      ]
    },
    {
      "cell_type": "markdown",
      "metadata": {
        "id": "7iZngZ3ZnAsG"
      },
      "source": [
        "You've now extracted binary features for all genres associated with a movie. But there's other information that we could use to base our predictions on. \n",
        "\n",
        "The `genres` column is just one out of several columns containing lists of dictionaries as entries. For example, the `production_companies` column also contains lists of dictionaries, providing names of the companies producing the movie. As you just did with genres, add new columns for:\n",
        " \n",
        "1.   The names of the 30 most common production companies\n",
        "2.   The names of the 30 most common production countries\n",
        "3.   The names of the 30 most common actors (`cast` column) \n",
        "4.   The names of the 30 most common crew members\n",
        "5.   The names of the 30 most common keywords\n",
        " \n",
        "We recommend you generalize the functionality implemented in the previous question (e.g. to other columns and to restrict to top 30 most common values)."
      ]
    },
    {
      "cell_type": "code",
      "execution_count": 38,
      "metadata": {
        "id": "9sO8Tsqduatn"
      },
      "outputs": [],
      "source": [
        "from collections import Counter\n",
        "# Define function for binarization of columns with the top 30 most commen ones\n",
        "def binary_features(train, features): \n",
        "    for feature in features:\n",
        "        # Extract information from dict and convert to list \n",
        "        train[feature]= train[feature].apply(lambda x:[g.get('name',None) for g in x or []])\n",
        "\n",
        "        # Finding top 30 most commen \n",
        "        c = Counter(sum(train[feature], []))\n",
        "        most_30 = [x[0] for x in c.most_common(30)]\n",
        "\n",
        "        # Removing the ones that are not in the top 30 \n",
        "        train['temp_30'] = train[feature].apply(lambda x: list(set(most_30) & set(x)))\n",
        "\n",
        "        # Creat dummies \n",
        "        dummies = pd.get_dummies(train['temp_30'].apply(pd.Series).stack(), prefix = feature).groupby(level=0).sum()\n",
        "\n",
        "        # Join back with the original dataframe \n",
        "        train = train.join(dummies).fillna(0)\n",
        "\n",
        "    # Drop the temperary colum \n",
        "    train.drop(columns=['temp_30'], inplace=True)\n",
        "    return train\n",
        "\n",
        "# Finding and binarize the features with the top 30 most commen \n",
        "train = binary_features(train, ['production_companies','production_countries','cast','crew','Keywords'])"
      ]
    },
    {
      "cell_type": "markdown",
      "metadata": {
        "id": "KjFFSEJs93yJ"
      },
      "source": [
        "Check the result. You should now have a much wider table, with the new columns consisting of binary features."
      ]
    },
    {
      "cell_type": "code",
      "execution_count": 39,
      "metadata": {
        "colab": {
          "base_uri": "https://localhost:8080/",
          "height": 712
        },
        "id": "IyORi5V27Mg0",
        "outputId": "0f2aa1ec-8a55-4a9c-d10d-e4d80f0f9cd8"
      },
      "outputs": [
        {
          "name": "stdout",
          "output_type": "stream",
          "text": [
            "The shape of train dataframe after adding binary features is (3000, 194)\n"
          ]
        },
        {
          "data": {
            "text/html": [
              "<div>\n",
              "<style scoped>\n",
              "    .dataframe tbody tr th:only-of-type {\n",
              "        vertical-align: middle;\n",
              "    }\n",
              "\n",
              "    .dataframe tbody tr th {\n",
              "        vertical-align: top;\n",
              "    }\n",
              "\n",
              "    .dataframe thead th {\n",
              "        text-align: right;\n",
              "    }\n",
              "</style>\n",
              "<table border=\"1\" class=\"dataframe\">\n",
              "  <thead>\n",
              "    <tr style=\"text-align: right;\">\n",
              "      <th></th>\n",
              "      <th>id</th>\n",
              "      <th>belongs_to_collection</th>\n",
              "      <th>budget</th>\n",
              "      <th>genres</th>\n",
              "      <th>homepage</th>\n",
              "      <th>imdb_id</th>\n",
              "      <th>original_language</th>\n",
              "      <th>original_title</th>\n",
              "      <th>overview</th>\n",
              "      <th>popularity</th>\n",
              "      <th>...</th>\n",
              "      <th>Keywords_police</th>\n",
              "      <th>Keywords_prison</th>\n",
              "      <th>Keywords_revenge</th>\n",
              "      <th>Keywords_sequel</th>\n",
              "      <th>Keywords_sex</th>\n",
              "      <th>Keywords_sport</th>\n",
              "      <th>Keywords_suspense</th>\n",
              "      <th>Keywords_teenager</th>\n",
              "      <th>Keywords_violence</th>\n",
              "      <th>Keywords_woman director</th>\n",
              "    </tr>\n",
              "  </thead>\n",
              "  <tbody>\n",
              "    <tr>\n",
              "      <th>0</th>\n",
              "      <td>1</td>\n",
              "      <td>[{'id': 313576, 'name': 'Hot Tub Time Machine ...</td>\n",
              "      <td>14000000</td>\n",
              "      <td>[Comedy]</td>\n",
              "      <td>None</td>\n",
              "      <td>tt2637294</td>\n",
              "      <td>en</td>\n",
              "      <td>Hot Tub Time Machine 2</td>\n",
              "      <td>When Lou, who has become the \"father of the In...</td>\n",
              "      <td>6.575393</td>\n",
              "      <td>...</td>\n",
              "      <td>0.0</td>\n",
              "      <td>0.0</td>\n",
              "      <td>0.0</td>\n",
              "      <td>1.0</td>\n",
              "      <td>0.0</td>\n",
              "      <td>0.0</td>\n",
              "      <td>0.0</td>\n",
              "      <td>0.0</td>\n",
              "      <td>0.0</td>\n",
              "      <td>0.0</td>\n",
              "    </tr>\n",
              "    <tr>\n",
              "      <th>1</th>\n",
              "      <td>2</td>\n",
              "      <td>[{'id': 107674, 'name': 'The Princess Diaries ...</td>\n",
              "      <td>40000000</td>\n",
              "      <td>[Comedy, Drama, Family, Romance]</td>\n",
              "      <td>None</td>\n",
              "      <td>tt0368933</td>\n",
              "      <td>en</td>\n",
              "      <td>The Princess Diaries 2: Royal Engagement</td>\n",
              "      <td>Mia Thermopolis is now a college graduate and ...</td>\n",
              "      <td>8.248895</td>\n",
              "      <td>...</td>\n",
              "      <td>0.0</td>\n",
              "      <td>0.0</td>\n",
              "      <td>0.0</td>\n",
              "      <td>0.0</td>\n",
              "      <td>0.0</td>\n",
              "      <td>0.0</td>\n",
              "      <td>0.0</td>\n",
              "      <td>0.0</td>\n",
              "      <td>0.0</td>\n",
              "      <td>0.0</td>\n",
              "    </tr>\n",
              "    <tr>\n",
              "      <th>2</th>\n",
              "      <td>3</td>\n",
              "      <td>0</td>\n",
              "      <td>3300000</td>\n",
              "      <td>[Drama]</td>\n",
              "      <td>http://sonyclassics.com/whiplash/</td>\n",
              "      <td>tt2582802</td>\n",
              "      <td>en</td>\n",
              "      <td>Whiplash</td>\n",
              "      <td>Under the direction of a ruthless instructor, ...</td>\n",
              "      <td>64.299990</td>\n",
              "      <td>...</td>\n",
              "      <td>0.0</td>\n",
              "      <td>0.0</td>\n",
              "      <td>0.0</td>\n",
              "      <td>0.0</td>\n",
              "      <td>0.0</td>\n",
              "      <td>0.0</td>\n",
              "      <td>0.0</td>\n",
              "      <td>0.0</td>\n",
              "      <td>1.0</td>\n",
              "      <td>0.0</td>\n",
              "    </tr>\n",
              "    <tr>\n",
              "      <th>3</th>\n",
              "      <td>4</td>\n",
              "      <td>0</td>\n",
              "      <td>1200000</td>\n",
              "      <td>[Thriller, Drama]</td>\n",
              "      <td>http://kahaanithefilm.com/</td>\n",
              "      <td>tt1821480</td>\n",
              "      <td>hi</td>\n",
              "      <td>Kahaani</td>\n",
              "      <td>Vidya Bagchi (Vidya Balan) arrives in Kolkata ...</td>\n",
              "      <td>3.174936</td>\n",
              "      <td>...</td>\n",
              "      <td>0.0</td>\n",
              "      <td>0.0</td>\n",
              "      <td>0.0</td>\n",
              "      <td>0.0</td>\n",
              "      <td>0.0</td>\n",
              "      <td>0.0</td>\n",
              "      <td>0.0</td>\n",
              "      <td>0.0</td>\n",
              "      <td>0.0</td>\n",
              "      <td>0.0</td>\n",
              "    </tr>\n",
              "    <tr>\n",
              "      <th>4</th>\n",
              "      <td>5</td>\n",
              "      <td>0</td>\n",
              "      <td>0</td>\n",
              "      <td>[Action, Thriller]</td>\n",
              "      <td>None</td>\n",
              "      <td>tt1380152</td>\n",
              "      <td>ko</td>\n",
              "      <td>마린보이</td>\n",
              "      <td>Marine Boy is the story of a former national s...</td>\n",
              "      <td>1.148070</td>\n",
              "      <td>...</td>\n",
              "      <td>0.0</td>\n",
              "      <td>0.0</td>\n",
              "      <td>0.0</td>\n",
              "      <td>0.0</td>\n",
              "      <td>0.0</td>\n",
              "      <td>0.0</td>\n",
              "      <td>0.0</td>\n",
              "      <td>0.0</td>\n",
              "      <td>0.0</td>\n",
              "      <td>0.0</td>\n",
              "    </tr>\n",
              "  </tbody>\n",
              "</table>\n",
              "<p>5 rows × 194 columns</p>\n",
              "</div>"
            ],
            "text/plain": [
              "   id                              belongs_to_collection    budget  \\\n",
              "0   1  [{'id': 313576, 'name': 'Hot Tub Time Machine ...  14000000   \n",
              "1   2  [{'id': 107674, 'name': 'The Princess Diaries ...  40000000   \n",
              "2   3                                                  0   3300000   \n",
              "3   4                                                  0   1200000   \n",
              "4   5                                                  0         0   \n",
              "\n",
              "                             genres                           homepage  \\\n",
              "0                          [Comedy]                               None   \n",
              "1  [Comedy, Drama, Family, Romance]                               None   \n",
              "2                           [Drama]  http://sonyclassics.com/whiplash/   \n",
              "3                 [Thriller, Drama]         http://kahaanithefilm.com/   \n",
              "4                [Action, Thriller]                               None   \n",
              "\n",
              "     imdb_id original_language                            original_title  \\\n",
              "0  tt2637294                en                    Hot Tub Time Machine 2   \n",
              "1  tt0368933                en  The Princess Diaries 2: Royal Engagement   \n",
              "2  tt2582802                en                                  Whiplash   \n",
              "3  tt1821480                hi                                   Kahaani   \n",
              "4  tt1380152                ko                                      마린보이   \n",
              "\n",
              "                                            overview  popularity  ...  \\\n",
              "0  When Lou, who has become the \"father of the In...    6.575393  ...   \n",
              "1  Mia Thermopolis is now a college graduate and ...    8.248895  ...   \n",
              "2  Under the direction of a ruthless instructor, ...   64.299990  ...   \n",
              "3  Vidya Bagchi (Vidya Balan) arrives in Kolkata ...    3.174936  ...   \n",
              "4  Marine Boy is the story of a former national s...    1.148070  ...   \n",
              "\n",
              "  Keywords_police Keywords_prison Keywords_revenge Keywords_sequel  \\\n",
              "0             0.0             0.0              0.0             1.0   \n",
              "1             0.0             0.0              0.0             0.0   \n",
              "2             0.0             0.0              0.0             0.0   \n",
              "3             0.0             0.0              0.0             0.0   \n",
              "4             0.0             0.0              0.0             0.0   \n",
              "\n",
              "  Keywords_sex Keywords_sport Keywords_suspense Keywords_teenager  \\\n",
              "0          0.0            0.0               0.0               0.0   \n",
              "1          0.0            0.0               0.0               0.0   \n",
              "2          0.0            0.0               0.0               0.0   \n",
              "3          0.0            0.0               0.0               0.0   \n",
              "4          0.0            0.0               0.0               0.0   \n",
              "\n",
              "  Keywords_violence Keywords_woman director  \n",
              "0               0.0                     0.0  \n",
              "1               0.0                     0.0  \n",
              "2               1.0                     0.0  \n",
              "3               0.0                     0.0  \n",
              "4               0.0                     0.0  \n",
              "\n",
              "[5 rows x 194 columns]"
            ]
          },
          "execution_count": 39,
          "metadata": {},
          "output_type": "execute_result"
        }
      ],
      "source": [
        "print(f\"The shape of train dataframe after adding binary features is {train.shape}\")\n",
        "train.head()"
      ]
    },
    {
      "cell_type": "markdown",
      "metadata": {
        "id": "joEcHikdD5SY"
      },
      "source": [
        " ## Part 3: Adding numerical date features (5 points)"
      ]
    },
    {
      "cell_type": "markdown",
      "metadata": {
        "id": "nliC-9woDYd_"
      },
      "source": [
        "Next, we'll create some features based on the release date information. Create a new column storing the value for each of the following  aspects of a release date:\n",
        " \n",
        "```\n",
        "['year', 'weekday', 'month', 'weekofyear', 'day', 'quarter']\n",
        "```\n",
        " \n",
        "As usual, don't iterate explicitly to create these columns."
      ]
    },
    {
      "cell_type": "code",
      "execution_count": 40,
      "metadata": {
        "id": "XNGyMdyJCuPy"
      },
      "outputs": [],
      "source": [
        "# Convert to datetime obejct \n",
        "train['release_date'] = pd.to_datetime(train['release_date'], errors = 'coerce')\n",
        "\n",
        "# adding new columns for the release date \n",
        "train['year'] = train['release_date'].dt.year\n",
        "train['weekday'] = train['release_date'].dt.weekday\n",
        "train['month'] = train['release_date'].dt.month\n",
        "train['weekofyear'] = train['release_date'].dt.dayofweek\n",
        "train['day'] = train['release_date'].dt.day\n",
        "train['quarter'] = train['release_date'].dt.quarter"
      ]
    },
    {
      "cell_type": "markdown",
      "metadata": {
        "id": "KWLi9-BW97VX"
      },
      "source": [
        "Next, we'll drop the columns that will not be used for learning. "
      ]
    },
    {
      "cell_type": "code",
      "execution_count": 41,
      "metadata": {
        "ExecuteTime": {
          "end_time": "2021-09-27T15:27:05.446343Z",
          "start_time": "2021-09-27T15:27:05.426250Z"
        },
        "id": "MbycSRqu8dR5"
      },
      "outputs": [],
      "source": [
        "train = train.drop(['id', 'homepage', 'original_language',\n",
        "                    'title', 'imdb_id','crew', 'poster_path', \n",
        "                    'release_date', 'status', 'belongs_to_collection',\n",
        "                    'Keywords', 'original_title', 'overview',\n",
        "                    'production_companies', 'production_countries', \n",
        "                    'spoken_languages', 'tagline', 'cast','genres'], \n",
        "                   axis=1)"
      ]
    },
    {
      "cell_type": "markdown",
      "metadata": {
        "id": "lOlV7ho4-OR9"
      },
      "source": [
        "Lastly, drop any rows with missing values."
      ]
    },
    {
      "cell_type": "code",
      "execution_count": 42,
      "metadata": {
        "id": "asrzvNYy-NO4"
      },
      "outputs": [],
      "source": [
        "# Drop rows with missing values\n",
        "train.replace('None', np.NaN, inplace=True)\n",
        "train.dropna(axis = 0, inplace= True)\n",
        "\n",
        "# Drop row with missing vlaues since these attribute can't be 0 \n",
        "train = train[(train.budget != 0) &(train.popularity!= 0) & (train.runtime!= 0) & (train.revenue != 0)]"
      ]
    },
    {
      "cell_type": "markdown",
      "metadata": {
        "id": "tV_ANmOH0rQJ"
      },
      "source": [
        "## Part 4: Prediction (10 pts)"
      ]
    },
    {
      "cell_type": "markdown",
      "metadata": {
        "id": "9Y1XUwNX0rQL"
      },
      "source": [
        "Let's load the necessary `sklearn` libraries and prepare the training data for learning. Recall that your goal is to predict whether a movie has science fiction as an associated genre. So you're dealing with a binary classification task."
      ]
    },
    {
      "cell_type": "code",
      "execution_count": 43,
      "metadata": {
        "id": "9Qpz2Cd60rQM"
      },
      "outputs": [],
      "source": [
        "from sklearn.model_selection import train_test_split"
      ]
    },
    {
      "cell_type": "markdown",
      "metadata": {
        "id": "dWzqddf90rQR"
      },
      "source": [
        "Use `sklearn` to prepare the training and test sets, setting aside 15% of the data for testing. Call the training input features, training labels, test input features and test labels as follows:\n",
        "\n",
        "```\n",
        "x_train, x_test, y_train, y_test\n",
        "```\n",
        "\n"
      ]
    },
    {
      "cell_type": "code",
      "execution_count": 44,
      "metadata": {
        "id": "RYBcvQ36CuPz"
      },
      "outputs": [],
      "source": [
        "# Define predictors and target\n",
        "predictors = train.drop(['genres_Science Fiction'], axis=1)\n",
        "target = train['genres_Science Fiction']\n",
        "\n",
        "# Splitting the data\n",
        "x_train, x_test, y_train, y_test = train_test_split(predictors, target, test_size = 0.15)"
      ]
    },
    {
      "cell_type": "markdown",
      "metadata": {
        "id": "AKaGZrSuLg1K"
      },
      "source": [
        "Feature scaling is a common requirement for many machine learning estimators: they might behave badly if the individual features do not more or less look like standard normally distributed data (e.g. Gaussian with 0 mean and unit variance). Run the following code to feature scale your input data."
      ]
    },
    {
      "cell_type": "code",
      "execution_count": 45,
      "metadata": {
        "id": "by0c0S7s0rQY"
      },
      "outputs": [],
      "source": [
        "from sklearn.preprocessing import StandardScaler  \n",
        "scaler = StandardScaler()  \n",
        "scaler.fit(x_train)  \n",
        "x_train = scaler.transform(x_train) \n",
        "x_test = scaler.transform(x_test)"
      ]
    },
    {
      "cell_type": "markdown",
      "metadata": {
        "id": "lxX0ugDuNR8o"
      },
      "source": [
        "Check that the shape of your data looks correct."
      ]
    },
    {
      "cell_type": "code",
      "execution_count": 46,
      "metadata": {
        "colab": {
          "base_uri": "https://localhost:8080/"
        },
        "id": "5tJHqw2M0rQf",
        "outputId": "c81851d8-dd61-401b-fee8-13acceda9dd1"
      },
      "outputs": [
        {
          "name": "stdout",
          "output_type": "stream",
          "text": [
            "(1853, 180) (1853,)\n",
            "(328, 180) (328,)\n"
          ]
        }
      ],
      "source": [
        "print(x_train.shape, y_train.shape)\n",
        "print(x_test.shape, y_test.shape)"
      ]
    },
    {
      "cell_type": "markdown",
      "metadata": {
        "id": "90SIHxqzN3Ht"
      },
      "source": [
        "Train a classifier of your choice. Then report results:\n",
        "* Display the confusion matrix over the test set in absolute numbers.\n",
        "    * These numbers reflect number of true positives, true negatives, false positives and false negatives.\n",
        "* Display a normalized confusion matrix over the test set, so [sensitivity and specificity](https://en.wikipedia.org/wiki/Evaluation_of_binary_classifiers) can be read from the diagonal (off-diagonal will contain type I and type II error rates).\n",
        "    * Note that sensitivity is recall for the positive class (1), whereas specificity is recall for the negative class (0).\n",
        "* State **in free-text** the sensitivity and specificity of your classifier."
      ]
    },
    {
      "cell_type": "code",
      "execution_count": 47,
      "metadata": {
        "colab": {
          "base_uri": "https://localhost:8080/",
          "height": 111
        },
        "id": "B_NkwvdACuP0",
        "outputId": "43429c26-40f5-42bc-f9da-3e8f6372329d"
      },
      "outputs": [
        {
          "data": {
            "text/html": [
              "<div>\n",
              "<style scoped>\n",
              "    .dataframe tbody tr th:only-of-type {\n",
              "        vertical-align: middle;\n",
              "    }\n",
              "\n",
              "    .dataframe tbody tr th {\n",
              "        vertical-align: top;\n",
              "    }\n",
              "\n",
              "    .dataframe thead th {\n",
              "        text-align: right;\n",
              "    }\n",
              "</style>\n",
              "<table border=\"1\" class=\"dataframe\">\n",
              "  <thead>\n",
              "    <tr style=\"text-align: right;\">\n",
              "      <th></th>\n",
              "      <th>2</th>\n",
              "      <th>5</th>\n",
              "      <th>6</th>\n",
              "      <th>3</th>\n",
              "      <th>0</th>\n",
              "      <th>4</th>\n",
              "      <th>1</th>\n",
              "    </tr>\n",
              "  </thead>\n",
              "  <tbody>\n",
              "    <tr>\n",
              "      <th>Model</th>\n",
              "      <td>Logistic Regression</td>\n",
              "      <td>Perceptron</td>\n",
              "      <td>Decision Tree</td>\n",
              "      <td>Random Forest</td>\n",
              "      <td>Support Vector Machines</td>\n",
              "      <td>Naive Bayes</td>\n",
              "      <td>KNN</td>\n",
              "    </tr>\n",
              "    <tr>\n",
              "      <th>f1_score</th>\n",
              "      <td>0.974359</td>\n",
              "      <td>0.948718</td>\n",
              "      <td>0.48</td>\n",
              "      <td>0.431373</td>\n",
              "      <td>0.423077</td>\n",
              "      <td>0.254545</td>\n",
              "      <td>0.166667</td>\n",
              "    </tr>\n",
              "  </tbody>\n",
              "</table>\n",
              "</div>"
            ],
            "text/plain": [
              "                            2           5              6              3  \\\n",
              "Model     Logistic Regression  Perceptron  Decision Tree  Random Forest   \n",
              "f1_score             0.974359    0.948718           0.48       0.431373   \n",
              "\n",
              "                                0            4         1  \n",
              "Model     Support Vector Machines  Naive Bayes       KNN  \n",
              "f1_score                 0.423077     0.254545  0.166667  "
            ]
          },
          "execution_count": 47,
          "metadata": {},
          "output_type": "execute_result"
        }
      ],
      "source": [
        "from sklearn.linear_model import LogisticRegression\n",
        "from sklearn.tree import DecisionTreeClassifier\n",
        "from sklearn.ensemble import RandomForestClassifier\n",
        "from sklearn.neighbors import KNeighborsClassifier\n",
        "from sklearn.naive_bayes import GaussianNB\n",
        "from sklearn.svm import SVC\n",
        "from sklearn.linear_model import Perceptron\n",
        "from sklearn.metrics import confusion_matrix, f1_score, accuracy_score\n",
        "\n",
        "# Support Vector Machines\n",
        "svc = SVC()\n",
        "svc.fit(x_train, y_train)\n",
        "ypred_svc = svc.predict(x_test)\n",
        "svc_f1 = f1_score(y_test, ypred_svc)\n",
        "\n",
        "# Perceptron\n",
        "perceptron = Perceptron()\n",
        "perceptron.fit(x_train, y_train)\n",
        "ypred_per = perceptron.predict(x_test)\n",
        "per_f1 = f1_score(y_test, ypred_per)\n",
        "\n",
        "# Random Forest\n",
        "random_forest = RandomForestClassifier()\n",
        "random_forest.fit(x_train, y_train)\n",
        "ypred_rf = random_forest.predict(x_test)\n",
        "rf_f1 = f1_score(y_test, ypred_rf)\n",
        "\n",
        "# Decision Tree\n",
        "DT=DecisionTreeClassifier()\n",
        "DT.fit(x_train, y_train)\n",
        "ypred_DT = DT.predict(x_test)\n",
        "DT_f1 = f1_score(y_test, ypred_DT)\n",
        "\n",
        "# K Nearest Neighbor\n",
        "knearest = KNeighborsClassifier(n_neighbors=2)\n",
        "knearest.fit(x_train, y_train)\n",
        "ypred_KNN = knearest.predict(x_test)\n",
        "KNN_f1 = f1_score(y_test, ypred_KNN)\n",
        "\n",
        "# Gaussian Naive Bayes\n",
        "gaussian = GaussianNB()\n",
        "gaussian.fit(x_train, y_train)\n",
        "ypred_g = gaussian.predict(x_test)\n",
        "g_f1 = f1_score(y_test, ypred_g)\n",
        "\n",
        "# Logistic Regression\n",
        "LogReg = LogisticRegression()\n",
        "LogReg.fit(x_train, y_train)\n",
        "ypred_LogReg = LogReg.predict(x_test)\n",
        "LogReg_f1 = f1_score(y_test, ypred_LogReg)\n",
        "\n",
        "# Reflection on the models' f1-score\n",
        "models = pd.DataFrame({\n",
        "    'Model': ['Support Vector Machines', 'KNN', 'Logistic Regression', \n",
        "              'Random Forest', 'Naive Bayes', 'Perceptron', 'Decision Tree'],\n",
        "    'f1_score': [svc_f1, KNN_f1, LogReg_f1, \n",
        "              rf_f1, g_f1, per_f1, DT_f1]})\n",
        "models.sort_values(by='f1_score', ascending=False).T\n"
      ]
    },
    {
      "cell_type": "markdown",
      "metadata": {
        "id": "YFsUyjk1CuP0"
      },
      "source": [
        "The table above stats that the Logistic Regression model performs the best. But since it is not desirable to standardize dummy varibles for Logistic Regression, we will choose the second best method, Perceptron, for prediction and will reflect on the result using Preceptron model's results."
      ]
    },
    {
      "cell_type": "code",
      "execution_count": 48,
      "metadata": {
        "colab": {
          "base_uri": "https://localhost:8080/"
        },
        "id": "ppv1WQNPCuP0",
        "outputId": "fdeb8eea-7635-48cb-bf95-fa8b91fc1b12"
      },
      "outputs": [
        {
          "name": "stdout",
          "output_type": "stream",
          "text": [
            "Classification accuracy: 0.99\n",
            "F1 score: 0.95\n",
            "Confusion matrix (Decision Tree Classifier):\n",
            "[[ 37   3]\n",
            " [  1 287]]\n",
            "[['TP' 'FN']\n",
            " ['FP' 'TN']]\n",
            "Normalized Confusion matrix (Decision Tree Classifier): \n",
            " [[0.925      0.075     ]\n",
            " [0.00347222 0.99652778]]\n",
            "The sensitivity is 0.925 and specificity is 0.997 for our classifier.\n",
            "The average sensitivity for is 0.852 and average specificity is 0.988 for 100 runs.\n"
          ]
        }
      ],
      "source": [
        "# Model reflection\n",
        "print('Classification accuracy: %.2f'% accuracy_score(y_test, ypred_per))\n",
        "print('F1 score: %.2f' % f1_score(y_test, ypred_per))\n",
        "temp = np.array([['TP', 'FN'],['FP','TN']],dtype=str)\n",
        "print(f'Confusion matrix (Decision Tree Classifier):\\n{confusion_matrix(y_test,ypred_per, labels=[1,0])}\\n{temp}')\n",
        "ncm = confusion_matrix(y_test, ypred_per, normalize='true',  labels=[1,0])\n",
        "print('Normalized Confusion matrix (Decision Tree Classifier): \\n', ncm)\n",
        "print(f'The sensitivity is {round(ncm[0][0],3)} and specificity is {round(ncm[1][1],3)} for our classifier.')\n",
        "\n",
        "# run for 100 turns to find the average sensitivity and specificity\n",
        "import statistics\n",
        "sens = []\n",
        "speci = []\n",
        "n = 100\n",
        "for i in range(n):\n",
        "    x_train, x_test, y_train, y_test = train_test_split(predictors, target, test_size = 0.15)\n",
        "    scaler = StandardScaler()  \n",
        "    scaler.fit(x_train)  \n",
        "    x_train = scaler.transform(x_train) \n",
        "    x_test = scaler.transform(x_test)\n",
        "    perceptron.fit(x_train, y_train)\n",
        "    ypred = perceptron.predict(x_test)\n",
        "    sens.append(confusion_matrix(y_test, ypred, normalize='true',  labels=[1,0])[0][0])\n",
        "    speci.append(confusion_matrix(y_test, ypred, normalize='true',  labels=[1,0])[1][1])\n",
        "print(f\"The average sensitivity for is {round(statistics.mean(sens),3)} and average specificity is {round(statistics.mean(speci),3)} for {n} runs.\")"
      ]
    },
    {
      "cell_type": "markdown",
      "metadata": {
        "id": "lBkWn4WXA-QS"
      },
      "source": [
        "Sensitivity is calculated by $\\frac{TP}{(TP + FN)}$, this number tells the relationship between TP and FN. If the sensitivity is high this means that there is high TP and lower FN, and for a low sensitivity a low value of TP and/or higher value of FN. For the trained logistic regression model the sensitivity has mean over 0.80 which is quite good, when taking into consideration the number which are classified as '1' (Science fiction movies) is relatively few compared with ‘0’ (non-science fiction movies). Since we are not dealing with classifications that involves high risks such as in the healthcare industry, this number should be sufficient.  \n",
        "\n",
        "Specificity is computed by $\\frac{TN}{(TN + FP)}$, this number tells the relationship between TN and FP. For high TN and low FP, the specificity will be high, and for a low specificity means that either the TN is low or/and the FP high. For the model we see an average above 0.98 which means the model rarely classified non-science fiction as science fiction. \n",
        "\n",
        "From the trained logistic regression model’s sensitivity and specificity, we see that, the ratio of FN is larger than FP. The problem is to categorize whether a movie is in the genre science fiction, it is better to have a higher specificity than sensitivity, since we would rather classify a movie not to be science fiction than to wrongly classify it as science fiction. \n"
      ]
    },
    {
      "cell_type": "markdown",
      "metadata": {
        "id": "oP8IaWa9A-QS"
      },
      "source": [
        "## Part 5: Prediction with less leakage (5 points)"
      ]
    },
    {
      "cell_type": "markdown",
      "metadata": {
        "id": "ZKIGA3BOA-QS"
      },
      "source": [
        "From Wikipedia, [data leakage](https://en.wikipedia.org/wiki/Leakage_(machine_learning)) is the use of information in the model training process which would not be expected to be available at prediction time, causing the predictive scores (metrics) to overestimate the model's utility when run in a production environment.\n",
        "\n",
        "Feature or column-wise leakage is caused by the inclusion of columns which are one of the following: a duplicate label, a proxy for the label, or the label itself\n",
        "\n",
        "Considering we're doing binary classification of whether a movie is science fiction, identify the most prominent cause of feature leakage among the features added during Exercise 3. \n",
        "\n",
        "1) **Argue** for your choice, 2) train a classifier not subject to this feature leakage (it's OK to create a new train/test split) and 3) **report the results** as you did in Part 4."
      ]
    },
    {
      "cell_type": "markdown",
      "metadata": {
        "id": "Mb7FTGgTA-QS"
      },
      "source": [
        "The dropped features and their reasoning are:\n",
        "\n",
        "* **budget**\n",
        "    * There is no standard way of calculating budget. Budgets are subject to change, and we don't know when a prediction is made in relation to the budget (https://www.forbes.com/sites/schuylermoore/2019/04/13/the-importance-of-film-budgets/). \n",
        "    * Additionally, there are also examples of suspicios bookeeping (https://bit.ly/2ZrFkd2, http://articles.latimes.com/1992-03-17/local/me-3895_1_net-profit), resulting in unreliable budgets.  Finally it's very hard to find any sources for a given budget other then imdb.\n",
        "* **popularity**\n",
        "    * The popularity of a movie is only known after the movie is released.\n",
        "* **revenue**\n",
        "    * As with popularity, revenue is only know after the movie is released. \n",
        "* **n_genres**\n",
        "    * The n_genres feature was created using the science-fiction column, given we are trying to predict if the movie is science-fiction, this information would also not be available.\n",
        "* **duringcreditsstinger** and **aftercreditsstinger**\n",
        "    * This information is not usually released and is thus only known after watching the movie. "
      ]
    },
    {
      "cell_type": "code",
      "execution_count": 49,
      "metadata": {
        "ExecuteTime": {
          "end_time": "2021-09-27T14:01:15.648444Z",
          "start_time": "2021-09-27T14:01:15.643363Z"
        },
        "colab": {
          "base_uri": "https://localhost:8080/"
        },
        "id": "9CzDjF_pA-QS",
        "outputId": "585d2bc7-0577-4d32-c7c1-a28e3eeb3809"
      },
      "outputs": [
        {
          "name": "stdout",
          "output_type": "stream",
          "text": [
            "Classification accuracy: 0.91\n",
            "F1 score: 0.55\n",
            "Confusion matrix (Logistic Regression): \n",
            " [[ 17  18]\n",
            " [ 10 283]]\n",
            "Normalized confusion matrix (Logistic Regression): \n",
            " [[0.48571429 0.51428571]\n",
            " [0.03412969 0.96587031]]\n"
          ]
        }
      ],
      "source": [
        "# Dropping attributes whcich could lead to feature leakage \n",
        "train_new = train.drop(['popularity','revenue','n_genres','Keywords_duringcreditsstinger','Keywords_aftercreditsstinger','budget'], \n",
        "                   axis=1)\n",
        "\n",
        "# Defining new predictors and target, then split the data for training and testing \n",
        "predictors = train_new.drop(['genres_Science Fiction'], axis=1)\n",
        "target = train_new['genres_Science Fiction']\n",
        "x_train, x_test, y_train, y_test = train_test_split(predictors, target, test_size = 0.15)\n",
        "\n",
        "# Standardize the data\n",
        "scaler = StandardScaler()  \n",
        "scaler.fit(x_train)  \n",
        "x_train = scaler.transform(x_train) \n",
        "x_test = scaler.transform(x_test)\n",
        "\n",
        "# Fit the logistic regression model \n",
        "LogReg = LogisticRegression().fit(x_train, y_train)\n",
        "LogReg_pred = LogReg.predict(x_test)\n",
        "\n",
        "# Evaluation\n",
        "print('Classification accuracy: %.2f'% accuracy_score(y_test, LogReg_pred))\n",
        "print('F1 score: %.2f' % f1_score( y_test, LogReg_pred))\n",
        "print('Confusion matrix (Logistic Regression): \\n', confusion_matrix(y_test, LogReg_pred, labels=[1,0]))\n",
        "print('Normalized confusion matrix (Logistic Regression): \\n', confusion_matrix(y_test, LogReg_pred,normalize = 'true', labels=[1,0]))\n"
      ]
    },
    {
      "cell_type": "markdown",
      "metadata": {
        "id": "hc4EOB-gb5pp"
      },
      "source": [
        "# Exercise 4: Basic movie recommendation system (20 points)"
      ]
    },
    {
      "cell_type": "markdown",
      "metadata": {
        "id": "7PqirpLgVdN0"
      },
      "source": [
        "In this exercise, you'll build a simple movie recommendation system.  The system will take a movie as input and recommend a list of similar movies. In order to recommend similar movies, you will use the correlation between the ratings of movies as a similarity metric. We'll use Pearson's correlation. \n",
        " \n",
        "The data for this exercise is available in the following URLs. It contains basic info about movies, as well as ratings provided by several users."
      ]
    },
    {
      "cell_type": "code",
      "execution_count": 50,
      "metadata": {
        "ExecuteTime": {
          "end_time": "2021-09-27T14:49:08.552678Z",
          "start_time": "2021-09-27T14:49:08.547286Z"
        },
        "id": "HOHERjo8cLQo"
      },
      "outputs": [],
      "source": [
        "url1 = 'http://courses.compute.dtu.dk/02807/2021/projects/project1/ratings.csv'\n",
        "url2 = 'http://courses.compute.dtu.dk/02807/2021/projects/project1/movies.csv'"
      ]
    },
    {
      "cell_type": "markdown",
      "metadata": {
        "id": "YOXKd22xXgo2"
      },
      "source": [
        "## Part 1: Preparing the ratings data (10 pts)"
      ]
    },
    {
      "cell_type": "markdown",
      "metadata": {
        "id": "Isn8M65HXi3i"
      },
      "source": [
        "Read the data from these two URLs, and create a single dataframe from them, with the following columns:\n",
        "\n",
        "| userId | movieId | rating | timestamp | title | genres |\n",
        "|--------|---------|--------|-----------|-------|--------|\n",
        "|        |         |        |           |       |        |\n",
        "\n",
        "Call the dataframe `movie_data`."
      ]
    },
    {
      "cell_type": "code",
      "execution_count": 51,
      "metadata": {
        "colab": {
          "base_uri": "https://localhost:8080/",
          "height": 204
        },
        "id": "GwhdEsGUn1zz",
        "outputId": "b5e108c8-d7b4-420f-aab9-6380b09472ff"
      },
      "outputs": [
        {
          "data": {
            "text/html": [
              "<div>\n",
              "<style scoped>\n",
              "    .dataframe tbody tr th:only-of-type {\n",
              "        vertical-align: middle;\n",
              "    }\n",
              "\n",
              "    .dataframe tbody tr th {\n",
              "        vertical-align: top;\n",
              "    }\n",
              "\n",
              "    .dataframe thead th {\n",
              "        text-align: right;\n",
              "    }\n",
              "</style>\n",
              "<table border=\"1\" class=\"dataframe\">\n",
              "  <thead>\n",
              "    <tr style=\"text-align: right;\">\n",
              "      <th></th>\n",
              "      <th>userId</th>\n",
              "      <th>movieId</th>\n",
              "      <th>rating</th>\n",
              "      <th>timestamp</th>\n",
              "      <th>title</th>\n",
              "      <th>genres</th>\n",
              "    </tr>\n",
              "  </thead>\n",
              "  <tbody>\n",
              "    <tr>\n",
              "      <th>0</th>\n",
              "      <td>1</td>\n",
              "      <td>1</td>\n",
              "      <td>4.0</td>\n",
              "      <td>964982703</td>\n",
              "      <td>Toy Story (1995)</td>\n",
              "      <td>Adventure|Animation|Children|Comedy|Fantasy</td>\n",
              "    </tr>\n",
              "    <tr>\n",
              "      <th>1</th>\n",
              "      <td>5</td>\n",
              "      <td>1</td>\n",
              "      <td>4.0</td>\n",
              "      <td>847434962</td>\n",
              "      <td>Toy Story (1995)</td>\n",
              "      <td>Adventure|Animation|Children|Comedy|Fantasy</td>\n",
              "    </tr>\n",
              "    <tr>\n",
              "      <th>2</th>\n",
              "      <td>7</td>\n",
              "      <td>1</td>\n",
              "      <td>4.5</td>\n",
              "      <td>1106635946</td>\n",
              "      <td>Toy Story (1995)</td>\n",
              "      <td>Adventure|Animation|Children|Comedy|Fantasy</td>\n",
              "    </tr>\n",
              "    <tr>\n",
              "      <th>3</th>\n",
              "      <td>15</td>\n",
              "      <td>1</td>\n",
              "      <td>2.5</td>\n",
              "      <td>1510577970</td>\n",
              "      <td>Toy Story (1995)</td>\n",
              "      <td>Adventure|Animation|Children|Comedy|Fantasy</td>\n",
              "    </tr>\n",
              "    <tr>\n",
              "      <th>4</th>\n",
              "      <td>17</td>\n",
              "      <td>1</td>\n",
              "      <td>4.5</td>\n",
              "      <td>1305696483</td>\n",
              "      <td>Toy Story (1995)</td>\n",
              "      <td>Adventure|Animation|Children|Comedy|Fantasy</td>\n",
              "    </tr>\n",
              "  </tbody>\n",
              "</table>\n",
              "</div>"
            ],
            "text/plain": [
              "   userId  movieId  rating   timestamp             title  \\\n",
              "0       1        1     4.0   964982703  Toy Story (1995)   \n",
              "1       5        1     4.0   847434962  Toy Story (1995)   \n",
              "2       7        1     4.5  1106635946  Toy Story (1995)   \n",
              "3      15        1     2.5  1510577970  Toy Story (1995)   \n",
              "4      17        1     4.5  1305696483  Toy Story (1995)   \n",
              "\n",
              "                                        genres  \n",
              "0  Adventure|Animation|Children|Comedy|Fantasy  \n",
              "1  Adventure|Animation|Children|Comedy|Fantasy  \n",
              "2  Adventure|Animation|Children|Comedy|Fantasy  \n",
              "3  Adventure|Animation|Children|Comedy|Fantasy  \n",
              "4  Adventure|Animation|Children|Comedy|Fantasy  "
            ]
          },
          "execution_count": 51,
          "metadata": {},
          "output_type": "execute_result"
        }
      ],
      "source": [
        "# Load the data \n",
        "ratings = pd.read_csv(url1)\n",
        "movies = pd.read_csv(url2)\n",
        "# Combine into one dataframe \n",
        "movie_data = pd.merge(ratings,movies)\n",
        "movie_data.head()"
      ]
    },
    {
      "cell_type": "markdown",
      "metadata": {
        "id": "MFGc9VSzadHi"
      },
      "source": [
        "To find the correlation between the ratings of movies, create a dataframe where each column is a movie name and each row contains the rating assigned by a specific user to that movie. \n",
        "\n",
        "You'll notice that this dataframe has many NaN values, since each movie is not rated by every user. Call the dataframe `user_ratings`."
      ]
    },
    {
      "cell_type": "code",
      "execution_count": 52,
      "metadata": {
        "colab": {
          "base_uri": "https://localhost:8080/",
          "height": 609
        },
        "id": "eTrrVPsrfn1Q",
        "outputId": "f155d915-481d-4ad9-a467-25c1f26f5712"
      },
      "outputs": [
        {
          "data": {
            "text/html": [
              "<div>\n",
              "<style scoped>\n",
              "    .dataframe tbody tr th:only-of-type {\n",
              "        vertical-align: middle;\n",
              "    }\n",
              "\n",
              "    .dataframe tbody tr th {\n",
              "        vertical-align: top;\n",
              "    }\n",
              "\n",
              "    .dataframe thead th {\n",
              "        text-align: right;\n",
              "    }\n",
              "</style>\n",
              "<table border=\"1\" class=\"dataframe\">\n",
              "  <thead>\n",
              "    <tr style=\"text-align: right;\">\n",
              "      <th></th>\n",
              "      <th>'71 (2014)</th>\n",
              "      <th>'Hellboy': The Seeds of Creation (2004)</th>\n",
              "      <th>'Round Midnight (1986)</th>\n",
              "      <th>'Salem's Lot (2004)</th>\n",
              "      <th>'Til There Was You (1997)</th>\n",
              "      <th>'Tis the Season for Love (2015)</th>\n",
              "      <th>'burbs, The (1989)</th>\n",
              "      <th>'night Mother (1986)</th>\n",
              "      <th>(500) Days of Summer (2009)</th>\n",
              "      <th>*batteries not included (1987)</th>\n",
              "      <th>...</th>\n",
              "      <th>Zulu (2013)</th>\n",
              "      <th>[REC] (2007)</th>\n",
              "      <th>[REC]² (2009)</th>\n",
              "      <th>[REC]³ 3 Génesis (2012)</th>\n",
              "      <th>anohana: The Flower We Saw That Day - The Movie (2013)</th>\n",
              "      <th>eXistenZ (1999)</th>\n",
              "      <th>xXx (2002)</th>\n",
              "      <th>xXx: State of the Union (2005)</th>\n",
              "      <th>¡Three Amigos! (1986)</th>\n",
              "      <th>À nous la liberté (Freedom for Us) (1931)</th>\n",
              "    </tr>\n",
              "  </thead>\n",
              "  <tbody>\n",
              "    <tr>\n",
              "      <th>0</th>\n",
              "      <td>4.0</td>\n",
              "      <td>4.0</td>\n",
              "      <td>3.5</td>\n",
              "      <td>5.0</td>\n",
              "      <td>3.0</td>\n",
              "      <td>1.5</td>\n",
              "      <td>5.0</td>\n",
              "      <td>3.0</td>\n",
              "      <td>4.0</td>\n",
              "      <td>3.0</td>\n",
              "      <td>...</td>\n",
              "      <td>1.5</td>\n",
              "      <td>3.0</td>\n",
              "      <td>3.0</td>\n",
              "      <td>3.0</td>\n",
              "      <td>3.0</td>\n",
              "      <td>2.5</td>\n",
              "      <td>1.0</td>\n",
              "      <td>2.5</td>\n",
              "      <td>4.0</td>\n",
              "      <td>1.0</td>\n",
              "    </tr>\n",
              "    <tr>\n",
              "      <th>1</th>\n",
              "      <td>NaN</td>\n",
              "      <td>NaN</td>\n",
              "      <td>3.5</td>\n",
              "      <td>NaN</td>\n",
              "      <td>5.0</td>\n",
              "      <td>NaN</td>\n",
              "      <td>2.0</td>\n",
              "      <td>NaN</td>\n",
              "      <td>4.0</td>\n",
              "      <td>2.5</td>\n",
              "      <td>...</td>\n",
              "      <td>NaN</td>\n",
              "      <td>3.5</td>\n",
              "      <td>4.5</td>\n",
              "      <td>3.0</td>\n",
              "      <td>NaN</td>\n",
              "      <td>4.0</td>\n",
              "      <td>0.5</td>\n",
              "      <td>2.0</td>\n",
              "      <td>2.0</td>\n",
              "      <td>NaN</td>\n",
              "    </tr>\n",
              "    <tr>\n",
              "      <th>2</th>\n",
              "      <td>NaN</td>\n",
              "      <td>NaN</td>\n",
              "      <td>NaN</td>\n",
              "      <td>NaN</td>\n",
              "      <td>NaN</td>\n",
              "      <td>NaN</td>\n",
              "      <td>2.0</td>\n",
              "      <td>NaN</td>\n",
              "      <td>0.5</td>\n",
              "      <td>4.0</td>\n",
              "      <td>...</td>\n",
              "      <td>NaN</td>\n",
              "      <td>5.0</td>\n",
              "      <td>3.5</td>\n",
              "      <td>NaN</td>\n",
              "      <td>NaN</td>\n",
              "      <td>5.0</td>\n",
              "      <td>3.0</td>\n",
              "      <td>2.5</td>\n",
              "      <td>5.0</td>\n",
              "      <td>NaN</td>\n",
              "    </tr>\n",
              "    <tr>\n",
              "      <th>3</th>\n",
              "      <td>NaN</td>\n",
              "      <td>NaN</td>\n",
              "      <td>NaN</td>\n",
              "      <td>NaN</td>\n",
              "      <td>NaN</td>\n",
              "      <td>NaN</td>\n",
              "      <td>3.0</td>\n",
              "      <td>NaN</td>\n",
              "      <td>3.5</td>\n",
              "      <td>3.5</td>\n",
              "      <td>...</td>\n",
              "      <td>NaN</td>\n",
              "      <td>5.0</td>\n",
              "      <td>NaN</td>\n",
              "      <td>NaN</td>\n",
              "      <td>NaN</td>\n",
              "      <td>4.5</td>\n",
              "      <td>3.5</td>\n",
              "      <td>1.5</td>\n",
              "      <td>5.0</td>\n",
              "      <td>NaN</td>\n",
              "    </tr>\n",
              "    <tr>\n",
              "      <th>4</th>\n",
              "      <td>NaN</td>\n",
              "      <td>NaN</td>\n",
              "      <td>NaN</td>\n",
              "      <td>NaN</td>\n",
              "      <td>NaN</td>\n",
              "      <td>NaN</td>\n",
              "      <td>4.0</td>\n",
              "      <td>NaN</td>\n",
              "      <td>4.5</td>\n",
              "      <td>3.5</td>\n",
              "      <td>...</td>\n",
              "      <td>NaN</td>\n",
              "      <td>3.5</td>\n",
              "      <td>NaN</td>\n",
              "      <td>NaN</td>\n",
              "      <td>NaN</td>\n",
              "      <td>5.0</td>\n",
              "      <td>3.0</td>\n",
              "      <td>1.5</td>\n",
              "      <td>2.0</td>\n",
              "      <td>NaN</td>\n",
              "    </tr>\n",
              "    <tr>\n",
              "      <th>...</th>\n",
              "      <td>...</td>\n",
              "      <td>...</td>\n",
              "      <td>...</td>\n",
              "      <td>...</td>\n",
              "      <td>...</td>\n",
              "      <td>...</td>\n",
              "      <td>...</td>\n",
              "      <td>...</td>\n",
              "      <td>...</td>\n",
              "      <td>...</td>\n",
              "      <td>...</td>\n",
              "      <td>...</td>\n",
              "      <td>...</td>\n",
              "      <td>...</td>\n",
              "      <td>...</td>\n",
              "      <td>...</td>\n",
              "      <td>...</td>\n",
              "      <td>...</td>\n",
              "      <td>...</td>\n",
              "      <td>...</td>\n",
              "      <td>...</td>\n",
              "    </tr>\n",
              "    <tr>\n",
              "      <th>324</th>\n",
              "      <td>NaN</td>\n",
              "      <td>NaN</td>\n",
              "      <td>NaN</td>\n",
              "      <td>NaN</td>\n",
              "      <td>NaN</td>\n",
              "      <td>NaN</td>\n",
              "      <td>NaN</td>\n",
              "      <td>NaN</td>\n",
              "      <td>NaN</td>\n",
              "      <td>NaN</td>\n",
              "      <td>...</td>\n",
              "      <td>NaN</td>\n",
              "      <td>NaN</td>\n",
              "      <td>NaN</td>\n",
              "      <td>NaN</td>\n",
              "      <td>NaN</td>\n",
              "      <td>NaN</td>\n",
              "      <td>NaN</td>\n",
              "      <td>NaN</td>\n",
              "      <td>NaN</td>\n",
              "      <td>NaN</td>\n",
              "    </tr>\n",
              "    <tr>\n",
              "      <th>325</th>\n",
              "      <td>NaN</td>\n",
              "      <td>NaN</td>\n",
              "      <td>NaN</td>\n",
              "      <td>NaN</td>\n",
              "      <td>NaN</td>\n",
              "      <td>NaN</td>\n",
              "      <td>NaN</td>\n",
              "      <td>NaN</td>\n",
              "      <td>NaN</td>\n",
              "      <td>NaN</td>\n",
              "      <td>...</td>\n",
              "      <td>NaN</td>\n",
              "      <td>NaN</td>\n",
              "      <td>NaN</td>\n",
              "      <td>NaN</td>\n",
              "      <td>NaN</td>\n",
              "      <td>NaN</td>\n",
              "      <td>NaN</td>\n",
              "      <td>NaN</td>\n",
              "      <td>NaN</td>\n",
              "      <td>NaN</td>\n",
              "    </tr>\n",
              "    <tr>\n",
              "      <th>326</th>\n",
              "      <td>NaN</td>\n",
              "      <td>NaN</td>\n",
              "      <td>NaN</td>\n",
              "      <td>NaN</td>\n",
              "      <td>NaN</td>\n",
              "      <td>NaN</td>\n",
              "      <td>NaN</td>\n",
              "      <td>NaN</td>\n",
              "      <td>NaN</td>\n",
              "      <td>NaN</td>\n",
              "      <td>...</td>\n",
              "      <td>NaN</td>\n",
              "      <td>NaN</td>\n",
              "      <td>NaN</td>\n",
              "      <td>NaN</td>\n",
              "      <td>NaN</td>\n",
              "      <td>NaN</td>\n",
              "      <td>NaN</td>\n",
              "      <td>NaN</td>\n",
              "      <td>NaN</td>\n",
              "      <td>NaN</td>\n",
              "    </tr>\n",
              "    <tr>\n",
              "      <th>327</th>\n",
              "      <td>NaN</td>\n",
              "      <td>NaN</td>\n",
              "      <td>NaN</td>\n",
              "      <td>NaN</td>\n",
              "      <td>NaN</td>\n",
              "      <td>NaN</td>\n",
              "      <td>NaN</td>\n",
              "      <td>NaN</td>\n",
              "      <td>NaN</td>\n",
              "      <td>NaN</td>\n",
              "      <td>...</td>\n",
              "      <td>NaN</td>\n",
              "      <td>NaN</td>\n",
              "      <td>NaN</td>\n",
              "      <td>NaN</td>\n",
              "      <td>NaN</td>\n",
              "      <td>NaN</td>\n",
              "      <td>NaN</td>\n",
              "      <td>NaN</td>\n",
              "      <td>NaN</td>\n",
              "      <td>NaN</td>\n",
              "    </tr>\n",
              "    <tr>\n",
              "      <th>328</th>\n",
              "      <td>NaN</td>\n",
              "      <td>NaN</td>\n",
              "      <td>NaN</td>\n",
              "      <td>NaN</td>\n",
              "      <td>NaN</td>\n",
              "      <td>NaN</td>\n",
              "      <td>NaN</td>\n",
              "      <td>NaN</td>\n",
              "      <td>NaN</td>\n",
              "      <td>NaN</td>\n",
              "      <td>...</td>\n",
              "      <td>NaN</td>\n",
              "      <td>NaN</td>\n",
              "      <td>NaN</td>\n",
              "      <td>NaN</td>\n",
              "      <td>NaN</td>\n",
              "      <td>NaN</td>\n",
              "      <td>NaN</td>\n",
              "      <td>NaN</td>\n",
              "      <td>NaN</td>\n",
              "      <td>NaN</td>\n",
              "    </tr>\n",
              "  </tbody>\n",
              "</table>\n",
              "<p>329 rows × 9719 columns</p>\n",
              "</div>"
            ],
            "text/plain": [
              "     '71 (2014)  'Hellboy': The Seeds of Creation (2004)  \\\n",
              "0           4.0                                      4.0   \n",
              "1           NaN                                      NaN   \n",
              "2           NaN                                      NaN   \n",
              "3           NaN                                      NaN   \n",
              "4           NaN                                      NaN   \n",
              "..          ...                                      ...   \n",
              "324         NaN                                      NaN   \n",
              "325         NaN                                      NaN   \n",
              "326         NaN                                      NaN   \n",
              "327         NaN                                      NaN   \n",
              "328         NaN                                      NaN   \n",
              "\n",
              "     'Round Midnight (1986)  'Salem's Lot (2004)  'Til There Was You (1997)  \\\n",
              "0                       3.5                  5.0                        3.0   \n",
              "1                       3.5                  NaN                        5.0   \n",
              "2                       NaN                  NaN                        NaN   \n",
              "3                       NaN                  NaN                        NaN   \n",
              "4                       NaN                  NaN                        NaN   \n",
              "..                      ...                  ...                        ...   \n",
              "324                     NaN                  NaN                        NaN   \n",
              "325                     NaN                  NaN                        NaN   \n",
              "326                     NaN                  NaN                        NaN   \n",
              "327                     NaN                  NaN                        NaN   \n",
              "328                     NaN                  NaN                        NaN   \n",
              "\n",
              "     'Tis the Season for Love (2015)  'burbs, The (1989)  \\\n",
              "0                                1.5                 5.0   \n",
              "1                                NaN                 2.0   \n",
              "2                                NaN                 2.0   \n",
              "3                                NaN                 3.0   \n",
              "4                                NaN                 4.0   \n",
              "..                               ...                 ...   \n",
              "324                              NaN                 NaN   \n",
              "325                              NaN                 NaN   \n",
              "326                              NaN                 NaN   \n",
              "327                              NaN                 NaN   \n",
              "328                              NaN                 NaN   \n",
              "\n",
              "     'night Mother (1986)  (500) Days of Summer (2009)  \\\n",
              "0                     3.0                          4.0   \n",
              "1                     NaN                          4.0   \n",
              "2                     NaN                          0.5   \n",
              "3                     NaN                          3.5   \n",
              "4                     NaN                          4.5   \n",
              "..                    ...                          ...   \n",
              "324                   NaN                          NaN   \n",
              "325                   NaN                          NaN   \n",
              "326                   NaN                          NaN   \n",
              "327                   NaN                          NaN   \n",
              "328                   NaN                          NaN   \n",
              "\n",
              "     *batteries not included (1987)  ...  Zulu (2013)  [REC] (2007)  \\\n",
              "0                               3.0  ...          1.5           3.0   \n",
              "1                               2.5  ...          NaN           3.5   \n",
              "2                               4.0  ...          NaN           5.0   \n",
              "3                               3.5  ...          NaN           5.0   \n",
              "4                               3.5  ...          NaN           3.5   \n",
              "..                              ...  ...          ...           ...   \n",
              "324                             NaN  ...          NaN           NaN   \n",
              "325                             NaN  ...          NaN           NaN   \n",
              "326                             NaN  ...          NaN           NaN   \n",
              "327                             NaN  ...          NaN           NaN   \n",
              "328                             NaN  ...          NaN           NaN   \n",
              "\n",
              "     [REC]² (2009)  [REC]³ 3 Génesis (2012)  \\\n",
              "0              3.0                      3.0   \n",
              "1              4.5                      3.0   \n",
              "2              3.5                      NaN   \n",
              "3              NaN                      NaN   \n",
              "4              NaN                      NaN   \n",
              "..             ...                      ...   \n",
              "324            NaN                      NaN   \n",
              "325            NaN                      NaN   \n",
              "326            NaN                      NaN   \n",
              "327            NaN                      NaN   \n",
              "328            NaN                      NaN   \n",
              "\n",
              "     anohana: The Flower We Saw That Day - The Movie (2013)  eXistenZ (1999)  \\\n",
              "0                                                  3.0                   2.5   \n",
              "1                                                  NaN                   4.0   \n",
              "2                                                  NaN                   5.0   \n",
              "3                                                  NaN                   4.5   \n",
              "4                                                  NaN                   5.0   \n",
              "..                                                 ...                   ...   \n",
              "324                                                NaN                   NaN   \n",
              "325                                                NaN                   NaN   \n",
              "326                                                NaN                   NaN   \n",
              "327                                                NaN                   NaN   \n",
              "328                                                NaN                   NaN   \n",
              "\n",
              "     xXx (2002)  xXx: State of the Union (2005)  ¡Three Amigos! (1986)  \\\n",
              "0           1.0                             2.5                    4.0   \n",
              "1           0.5                             2.0                    2.0   \n",
              "2           3.0                             2.5                    5.0   \n",
              "3           3.5                             1.5                    5.0   \n",
              "4           3.0                             1.5                    2.0   \n",
              "..          ...                             ...                    ...   \n",
              "324         NaN                             NaN                    NaN   \n",
              "325         NaN                             NaN                    NaN   \n",
              "326         NaN                             NaN                    NaN   \n",
              "327         NaN                             NaN                    NaN   \n",
              "328         NaN                             NaN                    NaN   \n",
              "\n",
              "     À nous la liberté (Freedom for Us) (1931)  \n",
              "0                                          1.0  \n",
              "1                                          NaN  \n",
              "2                                          NaN  \n",
              "3                                          NaN  \n",
              "4                                          NaN  \n",
              "..                                         ...  \n",
              "324                                        NaN  \n",
              "325                                        NaN  \n",
              "326                                        NaN  \n",
              "327                                        NaN  \n",
              "328                                        NaN  \n",
              "\n",
              "[329 rows x 9719 columns]"
            ]
          },
          "execution_count": 52,
          "metadata": {},
          "output_type": "execute_result"
        }
      ],
      "source": [
        "# Finding all the unique movie titles \n",
        "grouped=list(np.unique(movie_data['title'])) \n",
        "# Create empty dictionary for the titles \n",
        "title={} \n",
        "# Loop over all movies \n",
        "for g in grouped:\n",
        "    # Finding all the ratings for movie g\n",
        "    rat=np.array(movie_data[movie_data.title==g]['rating'])\n",
        "    # Save the rating in dictionay title where the key is the movie title\n",
        "    title[g]=rat\n",
        "# Convert dictionary to data frame \n",
        "user_ratings=pd.DataFrame(dict([ (k,pd.Series(v)) for k,v in title.items() ]))\n",
        "user_ratings"
      ]
    },
    {
      "cell_type": "markdown",
      "metadata": {
        "id": "hy61Luqyu2Te"
      },
      "source": [
        "## Part 2: Finding the most similar movies (10 pts)"
      ]
    },
    {
      "cell_type": "markdown",
      "metadata": {
        "id": "M7FBDshDd1j7"
      },
      "source": [
        "Each column contains all the user ratings for a particular movie. Let's take the user ratings for the movie Toy Story."
      ]
    },
    {
      "cell_type": "code",
      "execution_count": 53,
      "metadata": {
        "colab": {
          "base_uri": "https://localhost:8080/"
        },
        "id": "6e-9WXAro_4-",
        "outputId": "0341d439-a1a9-4bd8-dcfd-44031c019c5f"
      },
      "outputs": [
        {
          "data": {
            "text/plain": [
              "0      4.0\n",
              "1      4.0\n",
              "2      4.5\n",
              "3      2.5\n",
              "4      4.5\n",
              "      ... \n",
              "324    NaN\n",
              "325    NaN\n",
              "326    NaN\n",
              "327    NaN\n",
              "328    NaN\n",
              "Name: Toy Story (1995), Length: 329, dtype: float64"
            ]
          },
          "execution_count": 53,
          "metadata": {},
          "output_type": "execute_result"
        }
      ],
      "source": [
        "# Finding all ratings for Toy Story \n",
        "toystory_ratings = user_ratings['Toy Story (1995)']\n",
        "toystory_ratings"
      ]
    },
    {
      "cell_type": "markdown",
      "metadata": {
        "id": "fljIQkJmpCJD"
      },
      "source": [
        "Next, find the correlation between the user ratings for Toy Story and the user ratings of all other movies. \n",
        " \n",
        "More specifically, create a dataframe that contains two columns, called `title` and `Correlation`. Each row should contain a movie title $x$, followed by the pairwise correlation between the column of ratings for Toy Story and the column of ratings for $x$.  Drop any rows with null values, and display the resulting dataframe.\n",
        " \n",
        "Use built-in functions to compute correlations and avoid explicit loops."
      ]
    },
    {
      "cell_type": "code",
      "execution_count": 54,
      "metadata": {
        "id": "_yuX1U0Xh0nk"
      },
      "outputs": [],
      "source": [
        "# Filter out user without rating for Toy Story \n",
        "user_movie_rating = user_ratings[user_ratings.get('Toy Story (1995)').notnull()]\n",
        "# Remove movies with less than 2 ratings \n",
        "user_movie_rating = user_movie_rating.dropna(axis='columns', thresh=2)\n",
        "\n",
        "# Compute correlation between movies and Toy Story\n",
        "correlations = pd.DataFrame(user_movie_rating.loc[:, user_movie_rating.columns!='Toy Story (1995)'].corrwith(user_movie_rating['Toy Story (1995)'])).dropna().reset_index()\n",
        "correlations.rename(columns = {'index':'title',0:'Correlation'}, inplace=True)"
      ]
    },
    {
      "cell_type": "markdown",
      "metadata": {
        "id": "aji7cUw-r-JG"
      },
      "source": [
        "Sort the movies by descending order of correlation to find out highly correlated movies at the top. Display the 5 most highly correlated movies.\n"
      ]
    },
    {
      "cell_type": "code",
      "execution_count": 55,
      "metadata": {
        "colab": {
          "base_uri": "https://localhost:8080/",
          "height": 204
        },
        "id": "FU0Zm9fjg4BD",
        "outputId": "0f8c89af-7daa-4e53-87e0-e48e5718cb61"
      },
      "outputs": [
        {
          "data": {
            "text/html": [
              "<div>\n",
              "<style scoped>\n",
              "    .dataframe tbody tr th:only-of-type {\n",
              "        vertical-align: middle;\n",
              "    }\n",
              "\n",
              "    .dataframe tbody tr th {\n",
              "        vertical-align: top;\n",
              "    }\n",
              "\n",
              "    .dataframe thead th {\n",
              "        text-align: right;\n",
              "    }\n",
              "</style>\n",
              "<table border=\"1\" class=\"dataframe\">\n",
              "  <thead>\n",
              "    <tr style=\"text-align: right;\">\n",
              "      <th></th>\n",
              "      <th>title</th>\n",
              "      <th>Correlation</th>\n",
              "    </tr>\n",
              "  </thead>\n",
              "  <tbody>\n",
              "    <tr>\n",
              "      <th>3430</th>\n",
              "      <td>Poolhall Junkies (2002)</td>\n",
              "      <td>1.0</td>\n",
              "    </tr>\n",
              "    <tr>\n",
              "      <th>3560</th>\n",
              "      <td>Rapture, The (1991)</td>\n",
              "      <td>1.0</td>\n",
              "    </tr>\n",
              "    <tr>\n",
              "      <th>4180</th>\n",
              "      <td>Stupids, The (1996)</td>\n",
              "      <td>1.0</td>\n",
              "    </tr>\n",
              "    <tr>\n",
              "      <th>2980</th>\n",
              "      <td>Mrs. Winterbourne (1996)</td>\n",
              "      <td>1.0</td>\n",
              "    </tr>\n",
              "    <tr>\n",
              "      <th>1615</th>\n",
              "      <td>Frantic (1988)</td>\n",
              "      <td>1.0</td>\n",
              "    </tr>\n",
              "  </tbody>\n",
              "</table>\n",
              "</div>"
            ],
            "text/plain": [
              "                         title  Correlation\n",
              "3430   Poolhall Junkies (2002)          1.0\n",
              "3560       Rapture, The (1991)          1.0\n",
              "4180       Stupids, The (1996)          1.0\n",
              "2980  Mrs. Winterbourne (1996)          1.0\n",
              "1615            Frantic (1988)          1.0"
            ]
          },
          "execution_count": 55,
          "metadata": {},
          "output_type": "execute_result"
        }
      ],
      "source": [
        "# Sort movies by correlation \n",
        "correlations.sort_values(by=['Correlation'], axis=0, ascending=False).head(5)"
      ]
    },
    {
      "cell_type": "markdown",
      "metadata": {
        "id": "qrvD_u63sVdD"
      },
      "source": [
        "If you computed correlations correctly, you will find that the recommended movies are not very well known. We can generate more popular recommendations by finding highly correlated movies that have a sensible number of ratings. \n",
        " \n",
        "Add a column to your correlation table, called `rating_counts`, which stores the number of ratings received by each movie."
      ]
    },
    {
      "cell_type": "code",
      "execution_count": 56,
      "metadata": {
        "colab": {
          "base_uri": "https://localhost:8080/",
          "height": 204
        },
        "id": "WvMKUmBFg-Ow",
        "outputId": "8b42d940-e4b0-43d9-b3ee-e362c9e3d98f"
      },
      "outputs": [
        {
          "data": {
            "text/html": [
              "<div>\n",
              "<style scoped>\n",
              "    .dataframe tbody tr th:only-of-type {\n",
              "        vertical-align: middle;\n",
              "    }\n",
              "\n",
              "    .dataframe tbody tr th {\n",
              "        vertical-align: top;\n",
              "    }\n",
              "\n",
              "    .dataframe thead th {\n",
              "        text-align: right;\n",
              "    }\n",
              "</style>\n",
              "<table border=\"1\" class=\"dataframe\">\n",
              "  <thead>\n",
              "    <tr style=\"text-align: right;\">\n",
              "      <th></th>\n",
              "      <th>title</th>\n",
              "      <th>Correlation</th>\n",
              "      <th>rating_counts</th>\n",
              "    </tr>\n",
              "  </thead>\n",
              "  <tbody>\n",
              "    <tr>\n",
              "      <th>0</th>\n",
              "      <td>'burbs, The (1989)</td>\n",
              "      <td>0.076676</td>\n",
              "      <td>17</td>\n",
              "    </tr>\n",
              "    <tr>\n",
              "      <th>1</th>\n",
              "      <td>(500) Days of Summer (2009)</td>\n",
              "      <td>0.142422</td>\n",
              "      <td>42</td>\n",
              "    </tr>\n",
              "    <tr>\n",
              "      <th>2</th>\n",
              "      <td>*batteries not included (1987)</td>\n",
              "      <td>0.141421</td>\n",
              "      <td>7</td>\n",
              "    </tr>\n",
              "    <tr>\n",
              "      <th>3</th>\n",
              "      <td>...And Justice for All (1979)</td>\n",
              "      <td>-0.755929</td>\n",
              "      <td>3</td>\n",
              "    </tr>\n",
              "    <tr>\n",
              "      <th>4</th>\n",
              "      <td>10 (1979)</td>\n",
              "      <td>0.140028</td>\n",
              "      <td>4</td>\n",
              "    </tr>\n",
              "  </tbody>\n",
              "</table>\n",
              "</div>"
            ],
            "text/plain": [
              "                            title  Correlation  rating_counts\n",
              "0              'burbs, The (1989)     0.076676             17\n",
              "1     (500) Days of Summer (2009)     0.142422             42\n",
              "2  *batteries not included (1987)     0.141421              7\n",
              "3   ...And Justice for All (1979)    -0.755929              3\n",
              "4                       10 (1979)     0.140028              4"
            ]
          },
          "execution_count": 56,
          "metadata": {},
          "output_type": "execute_result"
        }
      ],
      "source": [
        "# Adding rating_counts\n",
        "rating_count = pd.DataFrame(movie_data.groupby(['title']).count()['rating']).reset_index().rename(columns = {'rating':'rating_counts'})\n",
        "# Merge correlation with rating_counts\n",
        "correlations = correlations.merge(rating_count, on='title', how='left')\n",
        "correlations.head()"
      ]
    },
    {
      "cell_type": "markdown",
      "metadata": {
        "id": "b_20nfFvt-7y"
      },
      "source": [
        "Now find the 5 movies with the highest correlation with Toy Story, which have strictly more than 100 ratings. Display the result below. "
      ]
    },
    {
      "cell_type": "code",
      "execution_count": 57,
      "metadata": {
        "colab": {
          "base_uri": "https://localhost:8080/",
          "height": 204
        },
        "id": "KvE3c2lMhHNz",
        "outputId": "abddf0d2-8bd7-497f-8760-0c5183faa2d2"
      },
      "outputs": [
        {
          "data": {
            "text/html": [
              "<div>\n",
              "<style scoped>\n",
              "    .dataframe tbody tr th:only-of-type {\n",
              "        vertical-align: middle;\n",
              "    }\n",
              "\n",
              "    .dataframe tbody tr th {\n",
              "        vertical-align: top;\n",
              "    }\n",
              "\n",
              "    .dataframe thead th {\n",
              "        text-align: right;\n",
              "    }\n",
              "</style>\n",
              "<table border=\"1\" class=\"dataframe\">\n",
              "  <thead>\n",
              "    <tr style=\"text-align: right;\">\n",
              "      <th></th>\n",
              "      <th>title</th>\n",
              "      <th>Correlation</th>\n",
              "      <th>rating_counts</th>\n",
              "    </tr>\n",
              "  </thead>\n",
              "  <tbody>\n",
              "    <tr>\n",
              "      <th>211</th>\n",
              "      <td>American Pie (1999)</td>\n",
              "      <td>0.212504</td>\n",
              "      <td>103</td>\n",
              "    </tr>\n",
              "    <tr>\n",
              "      <th>284</th>\n",
              "      <td>Apocalypse Now (1979)</td>\n",
              "      <td>0.198007</td>\n",
              "      <td>107</td>\n",
              "    </tr>\n",
              "    <tr>\n",
              "      <th>4127</th>\n",
              "      <td>Stargate (1994)</td>\n",
              "      <td>0.190996</td>\n",
              "      <td>140</td>\n",
              "    </tr>\n",
              "    <tr>\n",
              "      <th>2020</th>\n",
              "      <td>Home Alone (1990)</td>\n",
              "      <td>0.183715</td>\n",
              "      <td>116</td>\n",
              "    </tr>\n",
              "    <tr>\n",
              "      <th>572</th>\n",
              "      <td>Blade Runner (1982)</td>\n",
              "      <td>0.180845</td>\n",
              "      <td>124</td>\n",
              "    </tr>\n",
              "  </tbody>\n",
              "</table>\n",
              "</div>"
            ],
            "text/plain": [
              "                      title  Correlation  rating_counts\n",
              "211     American Pie (1999)     0.212504            103\n",
              "284   Apocalypse Now (1979)     0.198007            107\n",
              "4127        Stargate (1994)     0.190996            140\n",
              "2020      Home Alone (1990)     0.183715            116\n",
              "572     Blade Runner (1982)     0.180845            124"
            ]
          },
          "execution_count": 57,
          "metadata": {},
          "output_type": "execute_result"
        }
      ],
      "source": [
        "# Highest correlation with Toy Story and have at least 100 ratings\n",
        "correlations[correlations['rating_counts']>100].sort_values(by = ['Correlation'], ascending = False).head(5)"
      ]
    }
  ],
  "metadata": {
    "colab": {
      "collapsed_sections": [
        "7sVQeTkLYI2b"
      ],
      "name": "02807_Project_1_finale_finale.ipynb",
      "provenance": []
    },
    "interpreter": {
      "hash": "f1d60ef3148d6d6f99d64de6ef09e0267d4db5c62a0823eaf2b9aa582c08f8e5"
    },
    "kernelspec": {
      "display_name": "Python 3.7.6 64-bit ('base': conda)",
      "name": "python3"
    },
    "language_info": {
      "codemirror_mode": {
        "name": "ipython",
        "version": 3
      },
      "file_extension": ".py",
      "mimetype": "text/x-python",
      "name": "python",
      "nbconvert_exporter": "python",
      "pygments_lexer": "ipython3",
      "version": "3.7.6"
    },
    "toc": {
      "base_numbering": 1,
      "nav_menu": {},
      "number_sections": true,
      "sideBar": true,
      "skip_h1_title": false,
      "title_cell": "Table of Contents",
      "title_sidebar": "Contents",
      "toc_cell": false,
      "toc_position": {
        "height": "calc(100% - 180px)",
        "left": "10px",
        "top": "150px",
        "width": "362px"
      },
      "toc_section_display": true,
      "toc_window_display": true
    }
  },
  "nbformat": 4,
  "nbformat_minor": 0
}
