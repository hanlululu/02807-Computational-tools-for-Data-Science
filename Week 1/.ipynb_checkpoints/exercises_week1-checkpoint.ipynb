{
  "nbformat": 4,
  "nbformat_minor": 5,
  "metadata": {
    "kernelspec": {
      "display_name": "Python 3",
      "language": "python",
      "name": "python3"
    },
    "language_info": {
      "codemirror_mode": {
        "name": "ipython",
        "version": 3
      },
      "file_extension": ".py",
      "mimetype": "text/x-python",
      "name": "python",
      "nbconvert_exporter": "python",
      "pygments_lexer": "ipython3",
      "version": "3.8.10"
    },
    "toc": {
      "base_numbering": 1,
      "nav_menu": {},
      "number_sections": true,
      "sideBar": true,
      "skip_h1_title": false,
      "title_cell": "Table of Contents",
      "title_sidebar": "Contents",
      "toc_cell": false,
      "toc_position": {},
      "toc_section_display": true,
      "toc_window_display": false
    },
    "colab": {
      "name": "exercises_week1.ipynb",
      "provenance": [],
      "collapsed_sections": [],
      "include_colab_link": true
    }
  },
  "cells": [
    {
      "cell_type": "markdown",
      "metadata": {
        "id": "view-in-github",
        "colab_type": "text"
      },
      "source": [
        "<a href=\"https://colab.research.google.com/github/hanlululu/02807-Computational-tools-for-Data-Science/blob/main/exercises_week1.ipynb\" target=\"_parent\"><img src=\"https://colab.research.google.com/assets/colab-badge.svg\" alt=\"Open In Colab\"/></a>"
      ]
    },
    {
      "cell_type": "markdown",
      "metadata": {
        "id": "b1da600d"
      },
      "source": [
        "# 02807 - Exercises Week 1\n",
        "\n",
        "## Learning objectives:\n",
        "\n",
        "* Be able to run jupyter cells in your own local python/jupyter environment.\n",
        "* Understand the difference between IPython and Jupyter notebooks.\n",
        "* Distinguish `!`, `%` from regular python commands\n",
        "* Identify concerns about reproducibility of data experiments.\n",
        "\n",
        "If you struggle with setting up the environment, alternatively play around with this notebook via Colab. It is assumed that you've brushed up on `python` via the readings listed for Week 1.\n",
        "\n",
        "## Readings\n",
        "\n",
        "### **Colab and Jupyter**:\n",
        "\n",
        "* Examine the menu item `Help > Keyboard Shortcuts` (Colab: `Tools > Keyboard Shortcuts`) and understand the difference between edit mode (focused cell) and command mode (unfocused cell). \n",
        "    * Identify and use the shortcuts `\"Run cell, select below\"` (Colab: `\"Run cell and select next cell\"`) and `\"run selected cells\"` (Colab: `\"Run the focused cell\"`)\n",
        "    * You should get comfortable switching in and out command and edit mode, running cells (staying or skipping to next), and adding cells using keyboard shortcuts, as this will greatly improve your velocity.\n",
        "* [Welcome to Colaboratory](https://colab.research.google.com/notebooks/intro.ipynb#)"
      ],
      "id": "b1da600d"
    },
    {
      "cell_type": "markdown",
      "metadata": {
        "id": "a9b131b1"
      },
      "source": [
        "# Environment information"
      ],
      "id": "a9b131b1"
    },
    {
      "cell_type": "code",
      "metadata": {
        "ExecuteTime": {
          "end_time": "2021-08-25T09:55:14.518583Z",
          "start_time": "2021-08-25T09:55:13.777088Z"
        },
        "id": "3851c22d"
      },
      "source": [
        "!pip install watermark"
      ],
      "id": "3851c22d",
      "execution_count": null,
      "outputs": []
    },
    {
      "cell_type": "code",
      "metadata": {
        "ExecuteTime": {
          "end_time": "2021-08-25T09:55:14.535738Z",
          "start_time": "2021-08-25T09:55:14.520225Z"
        },
        "id": "30c9b1d0"
      },
      "source": [
        "%load_ext watermark"
      ],
      "id": "30c9b1d0",
      "execution_count": null,
      "outputs": []
    },
    {
      "cell_type": "code",
      "metadata": {
        "ExecuteTime": {
          "end_time": "2021-08-25T09:55:14.559739Z",
          "start_time": "2021-08-25T09:55:14.536845Z"
        },
        "id": "164f96bd"
      },
      "source": [
        "%watermark -iv -v -m"
      ],
      "id": "164f96bd",
      "execution_count": null,
      "outputs": []
    },
    {
      "cell_type": "code",
      "metadata": {
        "ExecuteTime": {
          "end_time": "2021-08-25T09:55:14.677208Z",
          "start_time": "2021-08-25T09:55:14.560612Z"
        },
        "id": "fde66d74"
      },
      "source": [
        "!python --version"
      ],
      "id": "fde66d74",
      "execution_count": null,
      "outputs": []
    },
    {
      "cell_type": "code",
      "metadata": {
        "ExecuteTime": {
          "end_time": "2021-08-25T09:55:15.039361Z",
          "start_time": "2021-08-25T09:55:14.678975Z"
        },
        "scrolled": true,
        "id": "59574649"
      },
      "source": [
        "!pip list"
      ],
      "id": "59574649",
      "execution_count": null,
      "outputs": []
    },
    {
      "cell_type": "code",
      "metadata": {
        "ExecuteTime": {
          "end_time": "2021-08-25T10:10:56.543391Z",
          "start_time": "2021-08-25T10:10:56.540340Z"
        },
        "id": "4561375c"
      },
      "source": [
        "import sys\n",
        "\n",
        "print(sys.prefix)\n",
        "print(sys.exec_prefix)\n",
        "print(sys.executable)"
      ],
      "id": "4561375c",
      "execution_count": null,
      "outputs": []
    },
    {
      "cell_type": "code",
      "metadata": {
        "ExecuteTime": {
          "end_time": "2021-08-25T10:11:04.645799Z",
          "start_time": "2021-08-25T10:11:04.641721Z"
        },
        "id": "a0919bd0"
      },
      "source": [
        "# IPython automatically displays the final results of a cell, in this case a tuple of strings\n",
        "sys.prefix, sys.exec_prefix, sys.executable"
      ],
      "id": "a0919bd0",
      "execution_count": null,
      "outputs": []
    },
    {
      "cell_type": "markdown",
      "metadata": {
        "ExecuteTime": {
          "end_time": "2021-08-15T18:54:15.471990Z",
          "start_time": "2021-08-15T18:54:15.452608Z"
        },
        "id": "184a6974"
      },
      "source": [
        "## Q1: If the output of these commands differ between to group members, what issues might arise with regards to reproducibility of their data experiments?"
      ],
      "id": "184a6974"
    },
    {
      "cell_type": "markdown",
      "metadata": {
        "id": "75b40dae"
      },
      "source": [
        "*Your answer here*"
      ],
      "id": "75b40dae"
    },
    {
      "cell_type": "markdown",
      "metadata": {
        "id": "0aa30dd3"
      },
      "source": [
        "## Q2: What steps should you take to ensure that a group of students use inter-operable notebooks?"
      ],
      "id": "0aa30dd3"
    },
    {
      "cell_type": "markdown",
      "metadata": {
        "ExecuteTime": {
          "end_time": "2021-08-25T09:54:26.022313Z",
          "start_time": "2021-08-25T09:54:26.018996Z"
        },
        "id": "77747860"
      },
      "source": [
        "*Your answer here*"
      ],
      "id": "77747860"
    }
  ]
}