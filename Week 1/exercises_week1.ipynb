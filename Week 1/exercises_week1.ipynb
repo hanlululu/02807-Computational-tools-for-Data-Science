{
 "cells": [
  {
   "cell_type": "markdown",
   "metadata": {
    "colab_type": "text",
    "id": "view-in-github"
   },
   "source": [
    "<a href=\"https://colab.research.google.com/github/hanlululu/02807-Computational-tools-for-Data-Science/blob/main/exercises_week1.ipynb\" target=\"_parent\"><img src=\"https://colab.research.google.com/assets/colab-badge.svg\" alt=\"Open In Colab\"/></a>"
   ]
  },
  {
   "cell_type": "markdown",
   "metadata": {
    "id": "b1da600d"
   },
   "source": [
    "# 02807 - Exercises Week 1\n",
    "\n",
    "## Learning objectives:\n",
    "\n",
    "* Be able to run jupyter cells in your own local python/jupyter environment.\n",
    "* Understand the difference between IPython and Jupyter notebooks.\n",
    "* Distinguish `!`, `%` from regular python commands\n",
    "* Identify concerns about reproducibility of data experiments.\n",
    "\n",
    "If you struggle with setting up the environment, alternatively play around with this notebook via Colab. It is assumed that you've brushed up on `python` via the readings listed for Week 1.\n",
    "\n",
    "## Readings\n",
    "\n",
    "### **Colab and Jupyter**:\n",
    "\n",
    "* Examine the menu item `Help > Keyboard Shortcuts` (Colab: `Tools > Keyboard Shortcuts`) and understand the difference between edit mode (focused cell) and command mode (unfocused cell). \n",
    "    * Identify and use the shortcuts `\"Run cell, select below\"` (Colab: `\"Run cell and select next cell\"`) and `\"run selected cells\"` (Colab: `\"Run the focused cell\"`)\n",
    "    * You should get comfortable switching in and out command and edit mode, running cells (staying or skipping to next), and adding cells using keyboard shortcuts, as this will greatly improve your velocity.\n",
    "* [Welcome to Colaboratory](https://colab.research.google.com/notebooks/intro.ipynb#)"
   ]
  },
  {
   "cell_type": "markdown",
   "metadata": {
    "id": "a9b131b1"
   },
   "source": [
    "# Environment information"
   ]
  },
  {
   "cell_type": "code",
   "execution_count": 1,
   "metadata": {
    "ExecuteTime": {
     "end_time": "2021-08-25T09:55:14.518583Z",
     "start_time": "2021-08-25T09:55:13.777088Z"
    },
    "id": "3851c22d"
   },
   "outputs": [
    {
     "name": "stdout",
     "output_type": "stream",
     "text": [
      "Collecting watermark\n",
      "  Downloading watermark-2.2.0-py2.py3-none-any.whl (6.8 kB)\n",
      "Requirement already satisfied: ipython in c:\\users\\hanlu\\anaconda3\\lib\\site-packages (from watermark) (7.12.0)\n",
      "Requirement already satisfied: importlib-metadata<3.0 in c:\\users\\hanlu\\anaconda3\\lib\\site-packages (from watermark) (1.5.0)\n",
      "Requirement already satisfied: zipp>=0.5 in c:\\users\\hanlu\\anaconda3\\lib\\site-packages (from importlib-metadata<3.0->watermark) (2.2.0)\n",
      "Requirement already satisfied: pickleshare in c:\\users\\hanlu\\anaconda3\\lib\\site-packages (from ipython->watermark) (0.7.5)\n",
      "Requirement already satisfied: colorama in c:\\users\\hanlu\\anaconda3\\lib\\site-packages (from ipython->watermark) (0.4.3)\n",
      "Requirement already satisfied: jedi>=0.10 in c:\\users\\hanlu\\anaconda3\\lib\\site-packages (from ipython->watermark) (0.14.1)\n",
      "Requirement already satisfied: setuptools>=18.5 in c:\\users\\hanlu\\anaconda3\\lib\\site-packages (from ipython->watermark) (45.2.0.post20200210)\n",
      "Requirement already satisfied: decorator in c:\\users\\hanlu\\anaconda3\\lib\\site-packages (from ipython->watermark) (4.4.1)\n",
      "Requirement already satisfied: prompt-toolkit!=3.0.0,!=3.0.1,<3.1.0,>=2.0.0 in c:\\users\\hanlu\\anaconda3\\lib\\site-packages (from ipython->watermark) (3.0.3)\n",
      "Requirement already satisfied: traitlets>=4.2 in c:\\users\\hanlu\\anaconda3\\lib\\site-packages (from ipython->watermark) (4.3.3)\n",
      "Requirement already satisfied: backcall in c:\\users\\hanlu\\anaconda3\\lib\\site-packages (from ipython->watermark) (0.1.0)\n",
      "Requirement already satisfied: pygments in c:\\users\\hanlu\\anaconda3\\lib\\site-packages (from ipython->watermark) (2.5.2)\n",
      "Requirement already satisfied: parso>=0.5.0 in c:\\users\\hanlu\\anaconda3\\lib\\site-packages (from jedi>=0.10->ipython->watermark) (0.5.2)\n",
      "Requirement already satisfied: wcwidth in c:\\users\\hanlu\\anaconda3\\lib\\site-packages (from prompt-toolkit!=3.0.0,!=3.0.1,<3.1.0,>=2.0.0->ipython->watermark) (0.1.8)\n",
      "Requirement already satisfied: ipython-genutils in c:\\users\\hanlu\\anaconda3\\lib\\site-packages (from traitlets>=4.2->ipython->watermark) (0.2.0)\n",
      "Requirement already satisfied: six in c:\\users\\hanlu\\anaconda3\\lib\\site-packages (from traitlets>=4.2->ipython->watermark) (1.14.0)\n",
      "Installing collected packages: watermark\n",
      "Successfully installed watermark-2.2.0\n"
     ]
    },
    {
     "name": "stderr",
     "output_type": "stream",
     "text": [
      "WARNING: You are using pip version 21.0.1; however, version 21.2.4 is available.\n",
      "You should consider upgrading via the 'c:\\users\\hanlu\\anaconda3\\python.exe -m pip install --upgrade pip' command.\n"
     ]
    }
   ],
   "source": [
    "!pip install watermark"
   ]
  },
  {
   "cell_type": "code",
   "execution_count": 2,
   "metadata": {
    "ExecuteTime": {
     "end_time": "2021-08-25T09:55:14.535738Z",
     "start_time": "2021-08-25T09:55:14.520225Z"
    },
    "id": "30c9b1d0"
   },
   "outputs": [],
   "source": [
    "%load_ext watermark"
   ]
  },
  {
   "cell_type": "code",
   "execution_count": 3,
   "metadata": {
    "ExecuteTime": {
     "end_time": "2021-08-25T09:55:14.559739Z",
     "start_time": "2021-08-25T09:55:14.536845Z"
    },
    "id": "164f96bd"
   },
   "outputs": [
    {
     "name": "stdout",
     "output_type": "stream",
     "text": [
      "Python implementation: CPython\n",
      "Python version       : 3.7.6\n",
      "IPython version      : 7.12.0\n",
      "\n",
      "Compiler    : MSC v.1916 64 bit (AMD64)\n",
      "OS          : Windows\n",
      "Release     : 10\n",
      "Machine     : AMD64\n",
      "Processor   : AMD64 Family 23 Model 113 Stepping 0, AuthenticAMD\n",
      "CPU cores   : 16\n",
      "Architecture: 64bit\n",
      "\n"
     ]
    }
   ],
   "source": [
    "%watermark -iv -v -m"
   ]
  },
  {
   "cell_type": "code",
   "execution_count": 4,
   "metadata": {
    "ExecuteTime": {
     "end_time": "2021-08-25T09:55:14.677208Z",
     "start_time": "2021-08-25T09:55:14.560612Z"
    },
    "id": "fde66d74"
   },
   "outputs": [
    {
     "name": "stdout",
     "output_type": "stream",
     "text": [
      "Python 3.6.6\n"
     ]
    }
   ],
   "source": [
    "!python --version"
   ]
  },
  {
   "cell_type": "code",
   "execution_count": 5,
   "metadata": {
    "ExecuteTime": {
     "end_time": "2021-08-25T09:55:15.039361Z",
     "start_time": "2021-08-25T09:55:14.678975Z"
    },
    "id": "59574649",
    "scrolled": true
   },
   "outputs": [
    {
     "name": "stdout",
     "output_type": "stream",
     "text": [
      "Package                            Version\n",
      "---------------------------------- -------------------\n",
      "alabaster                          0.7.12\n",
      "altair                             4.1.0\n",
      "anaconda-client                    1.7.2\n",
      "anaconda-navigator                 1.9.12\n",
      "anaconda-project                   0.8.3\n",
      "appdirs                            1.4.4\n",
      "argh                               0.26.2\n",
      "arrow                              0.17.0\n",
      "asn1crypto                         1.3.0\n",
      "astroid                            2.3.3\n",
      "astropy                            4.0\n",
      "async-generator                    1.10\n",
      "atomicwrites                       1.3.0\n",
      "attrs                              19.3.0\n",
      "autopep8                           1.4.4\n",
      "Babel                              2.8.0\n",
      "backcall                           0.1.0\n",
      "backports.functools-lru-cache      1.6.1\n",
      "backports.shutil-get-terminal-size 1.0.0\n",
      "backports.tempfile                 1.0\n",
      "backports.weakref                  1.0.post1\n",
      "bcrypt                             3.1.7\n",
      "beautifulsoup4                     4.8.2\n",
      "binaryornot                        0.4.4\n",
      "bitarray                           1.2.1\n",
      "bkcharts                           0.2\n",
      "bleach                             3.1.0\n",
      "blis                               0.7.3\n",
      "bokeh                              1.4.0\n",
      "boto                               2.49.0\n",
      "Bottleneck                         1.3.2\n",
      "bqplot                             0.11.0\n",
      "catalogue                          1.0.0\n",
      "certifi                            2019.11.28\n",
      "cffi                               1.14.0\n",
      "chardet                            3.0.4\n",
      "chart-studio                       1.1.0\n",
      "Click                              7.0\n",
      "cloudpickle                        1.3.0\n",
      "clyent                             1.2.2\n",
      "colorama                           0.4.3\n",
      "comtypes                           1.1.7\n",
      "conda                              4.9.2\n",
      "conda-build                        3.18.11\n",
      "conda-package-handling             1.7.2\n",
      "conda-verify                       3.4.2\n",
      "contextlib2                        0.6.0.post1\n",
      "cookiecutter                       1.7.2\n",
      "cryptography                       2.8\n",
      "cycler                             0.10.0\n",
      "cymem                              2.0.4\n",
      "Cython                             0.29.14\n",
      "cytoolz                            0.10.1\n",
      "dask                               2.11.0\n",
      "decorator                          4.4.1\n",
      "defusedxml                         0.6.0\n",
      "diff-match-patch                   20181111\n",
      "distlib                            0.3.1\n",
      "distributed                        2.11.0\n",
      "docopt                             0.6.2\n",
      "docutils                           0.16\n",
      "en-core-web-sm                     2.3.1\n",
      "entrypoints                        0.3\n",
      "et-xmlfile                         1.0.1\n",
      "fa2                                0.3.5\n",
      "fastcache                          1.1.0\n",
      "filelock                           3.0.12\n",
      "flake8                             3.7.9\n",
      "Flask                              1.1.1\n",
      "ForceAtlas2                        1.0\n",
      "fsspec                             0.6.2\n",
      "funcy                              1.15\n",
      "future                             0.18.2\n",
      "gensim                             3.8.3\n",
      "gevent                             1.4.0\n",
      "ghp-import                         1.0.0\n",
      "gitdb                              4.0.5\n",
      "GitPython                          3.1.11\n",
      "glob2                              0.7\n",
      "greenlet                           0.4.15\n",
      "gym                                0.18.0\n",
      "gym-sokoban                        0.0.6\n",
      "h5py                               2.10.0\n",
      "HeapDict                           1.0.1\n",
      "html5lib                           1.0.1\n",
      "hypothesis                         5.5.4\n",
      "idna                               2.8\n",
      "imageio                            2.6.1\n",
      "imagesize                          1.2.0\n",
      "importlib-metadata                 1.5.0\n",
      "intervaltree                       3.0.2\n",
      "ipykernel                          5.1.4\n",
      "ipympl                             0.5.8\n",
      "ipython                            7.12.0\n",
      "ipython-genutils                   0.2.0\n",
      "ipywidgets                         7.5.1\n",
      "isort                              4.3.21\n",
      "itsdangerous                       1.1.0\n",
      "jdcal                              1.4.1\n",
      "jedi                               0.14.1\n",
      "Jinja2                             2.11.1\n",
      "jinja2-time                        0.2.0\n",
      "json5                              0.9.1\n",
      "jsonpickle                         1.4.2\n",
      "jsonschema                         3.2.0\n",
      "jupyter                            1.0.0\n",
      "jupyter-book                       0.8.3\n",
      "jupyter-cache                      0.4.1\n",
      "jupyter-client                     6.1.7\n",
      "jupyter-console                    6.1.0\n",
      "jupyter-contrib-core               0.3.3\n",
      "jupyter-contrib-nbextensions       0.5.1\n",
      "jupyter-core                       4.6.1\n",
      "jupyter-highlight-selected-word    0.2.0\n",
      "jupyter-latex-envs                 1.4.6\n",
      "jupyter-nbextensions-configurator  0.4.1\n",
      "jupyter-server                     0.1.1\n",
      "jupyter-sphinx                     0.3.2\n",
      "jupyterlab                         1.2.6\n",
      "jupyterlab-pygments                0.1.2\n",
      "jupyterlab-server                  1.0.6\n",
      "jupyterlab-widgets                 0.6.15\n",
      "keyring                            21.1.0\n",
      "kiwisolver                         1.1.0\n",
      "latexcodec                         2.0.1\n",
      "lazy-object-proxy                  1.4.3\n",
      "libarchive-c                       2.8\n",
      "llvmlite                           0.31.0\n",
      "locket                             0.2.0\n",
      "lxml                               4.5.0\n",
      "markdown-it-py                     0.5.6\n",
      "MarkupSafe                         1.1.1\n",
      "matplotlib                         3.1.3\n",
      "mccabe                             0.6.1\n",
      "menuinst                           1.4.16\n",
      "mistune                            0.8.4\n",
      "mkl-fft                            1.0.15\n",
      "mkl-random                         1.1.0\n",
      "mkl-service                        2.3.0\n",
      "mne                                0.22.0\n",
      "mock                               4.0.1\n",
      "more-itertools                     8.2.0\n",
      "mpmath                             1.1.0\n",
      "msgpack                            0.6.1\n",
      "multipledispatch                   0.6.0\n",
      "murmurhash                         1.0.4\n",
      "myst-nb                            0.10.1\n",
      "myst-parser                        0.12.10\n",
      "navigator-updater                  0.2.1\n",
      "nb-conda-kernels                   2.3.1\n",
      "nbclient                           0.5.1\n",
      "nbconvert                          5.6.1\n",
      "nbdime                             2.1.0\n",
      "nbformat                           5.0.8\n",
      "nbinteract                         0.2.5\n",
      "nest-asyncio                       1.4.3\n",
      "networkx                           2.5\n",
      "nltk                               3.4.5\n",
      "nose                               1.3.7\n",
      "notebook                           6.0.3\n",
      "numba                              0.48.0\n",
      "numexpr                            2.7.1\n",
      "numpy                              1.18.1\n",
      "numpydoc                           0.9.2\n",
      "nx-altair                          0.1.6\n",
      "olefile                            0.46\n",
      "opencv-python                      4.5.1.48\n",
      "openpyxl                           3.0.3\n",
      "oset                               0.1.3\n",
      "packaging                          20.1\n",
      "pandas                             1.0.1\n",
      "pandocfilters                      1.4.2\n",
      "paramiko                           2.7.1\n",
      "parso                              0.5.2\n",
      "partd                              1.1.0\n",
      "path                               13.1.0\n",
      "pathlib2                           2.3.5\n",
      "pathtools                          0.1.2\n",
      "patsy                              0.5.1\n",
      "pbr                                3.1.1\n",
      "pep8                               1.7.1\n",
      "pexpect                            4.8.0\n",
      "pickleshare                        0.7.5\n",
      "Pillow                             7.0.0\n",
      "pip                                21.0.1\n",
      "pkginfo                            1.5.0.1\n",
      "plac                               1.1.3\n",
      "plotly                             4.13.0\n",
      "pluggy                             0.13.1\n",
      "ply                                3.11\n",
      "poyo                               0.5.0\n",
      "preshed                            3.0.4\n",
      "prometheus-client                  0.7.1\n",
      "prompt-toolkit                     3.0.3\n",
      "psutil                             5.6.7\n",
      "py                                 1.8.1\n",
      "pybtex                             0.23.0\n",
      "pybtex-docutils                    0.2.2\n",
      "pycodestyle                        2.5.0\n",
      "pycosat                            0.6.3\n",
      "pycparser                          2.19\n",
      "pycrypto                           2.6.1\n",
      "pycurl                             7.43.0.5\n",
      "pydata-sphinx-theme                0.4.1\n",
      "pydocstyle                         4.0.1\n",
      "pyflakes                           2.1.1\n",
      "pyglet                             1.5.0\n",
      "Pygments                           2.5.2\n",
      "pyLDAvis                           2.1.2\n",
      "pylint                             2.4.4\n",
      "PyNaCl                             1.3.0\n",
      "pyodbc                             4.0.0-unsupported\n",
      "pyOpenSSL                          19.1.0\n",
      "pyparsing                          2.4.6\n",
      "pyreadline                         2.1\n",
      "pyrsistent                         0.15.7\n",
      "PySocks                            1.7.1\n",
      "pytest                             5.3.5\n",
      "pytest-arraydiff                   0.3\n",
      "pytest-astropy                     0.8.0\n",
      "pytest-astropy-header              0.1.2\n",
      "pytest-doctestplus                 0.5.0\n",
      "pytest-openfiles                   0.4.0\n",
      "pytest-remotedata                  0.3.2\n",
      "python-dateutil                    2.8.1\n",
      "python-jsonrpc-server              0.3.4\n",
      "python-language-server             0.31.7\n",
      "python-louvain                     0.14\n",
      "python-slugify                     4.0.1\n",
      "pytz                               2019.3\n",
      "pyvis                              0.1.8.2\n",
      "PyWavelets                         1.1.1\n",
      "pywin32                            227\n",
      "pywin32-ctypes                     0.2.0\n",
      "pywinpty                           0.5.7\n",
      "PyYAML                             5.3\n",
      "pyzmq                              18.1.1\n",
      "QDarkStyle                         2.8\n",
      "QtAwesome                          0.6.1\n",
      "qtconsole                          4.6.0\n",
      "QtPy                               1.9.0\n",
      "requests                           2.25.0\n",
      "retrying                           1.3.3\n",
      "rope                               0.16.0\n",
      "Rtree                              0.9.3\n",
      "ruamel-yaml                        0.15.87\n",
      "scikit-image                       0.16.2\n",
      "scikit-learn                       0.22.1\n",
      "scipy                              1.4.1\n",
      "seaborn                            0.10.0\n",
      "Send2Trash                         1.5.0\n",
      "setuptools                         45.2.0.post20200210\n",
      "simplegeneric                      0.8.1\n",
      "singledispatch                     3.4.0.3\n",
      "six                                1.14.0\n",
      "smart-open                         4.0.1\n",
      "smmap                              3.0.4\n",
      "snowballstemmer                    2.0.0\n",
      "sortedcollections                  1.1.2\n",
      "sortedcontainers                   2.1.0\n",
      "soupsieve                          1.9.5\n",
      "spacy                              2.3.4\n",
      "spacy-lookups-data                 0.3.2\n",
      "Sphinx                             2.4.0\n",
      "sphinx-book-theme                  0.0.39\n",
      "sphinx-comments                    0.0.3\n",
      "sphinx-copybutton                  0.3.1\n",
      "sphinx-panels                      0.5.2\n",
      "sphinx-thebe                       0.0.8\n",
      "sphinx-togglebutton                0.2.3\n",
      "sphinxcontrib-applehelp            1.0.1\n",
      "sphinxcontrib-bibtex               1.0.0\n",
      "sphinxcontrib-devhelp              1.0.1\n",
      "sphinxcontrib-htmlhelp             1.0.2\n",
      "sphinxcontrib-jsmath               1.0.1\n",
      "sphinxcontrib-qthelp               1.0.2\n",
      "sphinxcontrib-serializinghtml      1.1.3\n",
      "sphinxcontrib-websupport           1.2.0\n",
      "spyder                             4.0.1\n",
      "spyder-kernels                     1.8.1\n",
      "SQLAlchemy                         1.3.13\n",
      "srsly                              1.0.4\n",
      "statsmodels                        0.11.0\n",
      "sympy                              1.5.1\n",
      "tables                             3.6.1\n",
      "tblib                              1.6.0\n",
      "terminado                          0.8.3\n",
      "testpath                           0.4.4\n",
      "text-unidecode                     1.3\n",
      "thinc                              7.4.3\n",
      "toolz                              0.10.0\n",
      "torch                              1.7.1\n",
      "torchaudio                         0.7.2\n",
      "torchvision                        0.8.2\n",
      "tornado                            6.0.3\n",
      "tqdm                               4.42.1\n",
      "traitlets                          4.3.3\n",
      "traittypes                         0.2.1\n",
      "typing-extensions                  3.7.4.3\n",
      "ujson                              1.35\n",
      "unicodecsv                         0.14.1\n",
      "urllib3                            1.25.8\n",
      "virtualenv                         20.0.27\n",
      "voila                              0.1.23\n",
      "wasabi                             0.8.0\n",
      "watchdog                           0.10.2\n",
      "watermark                          2.2.0\n",
      "wcwidth                            0.1.8\n",
      "webencodings                       0.5.1\n",
      "Werkzeug                           1.0.0\n",
      "wheel                              0.34.2\n",
      "widgetsnbextension                 3.5.1\n",
      "win-inet-pton                      1.1.0\n",
      "win-unicode-console                0.5\n",
      "wincertstore                       0.2\n",
      "wordcloud                          1.8.0\n",
      "wrapt                              1.11.2\n",
      "xlrd                               1.2.0\n",
      "XlsxWriter                         1.2.7\n",
      "xlwings                            0.17.1\n",
      "xlwt                               1.3.0\n",
      "xmltodict                          0.12.0\n",
      "yapf                               0.28.0\n",
      "zict                               1.0.0\n",
      "zipp                               2.2.0\n"
     ]
    },
    {
     "name": "stderr",
     "output_type": "stream",
     "text": [
      "WARNING: You are using pip version 21.0.1; however, version 21.2.4 is available.\n",
      "You should consider upgrading via the 'c:\\users\\hanlu\\anaconda3\\python.exe -m pip install --upgrade pip' command.\n"
     ]
    }
   ],
   "source": [
    "!pip list"
   ]
  },
  {
   "cell_type": "code",
   "execution_count": 6,
   "metadata": {
    "ExecuteTime": {
     "end_time": "2021-08-25T10:10:56.543391Z",
     "start_time": "2021-08-25T10:10:56.540340Z"
    },
    "id": "4561375c"
   },
   "outputs": [
    {
     "name": "stdout",
     "output_type": "stream",
     "text": [
      "C:\\Users\\hanlu\\anaconda3\n",
      "C:\\Users\\hanlu\\anaconda3\n",
      "C:\\Users\\hanlu\\anaconda3\\python.exe\n"
     ]
    }
   ],
   "source": [
    "import sys\n",
    "\n",
    "print(sys.prefix)\n",
    "print(sys.exec_prefix)\n",
    "print(sys.executable)"
   ]
  },
  {
   "cell_type": "code",
   "execution_count": 8,
   "metadata": {
    "ExecuteTime": {
     "end_time": "2021-08-25T10:11:04.645799Z",
     "start_time": "2021-08-25T10:11:04.641721Z"
    },
    "id": "a0919bd0"
   },
   "outputs": [
    {
     "ename": "SyntaxError",
     "evalue": "invalid syntax (<ipython-input-8-bba90864cf0d>, line 4)",
     "output_type": "error",
     "traceback": [
      "\u001b[1;36m  File \u001b[1;32m\"<ipython-input-8-bba90864cf0d>\"\u001b[1;36m, line \u001b[1;32m4\u001b[0m\n\u001b[1;33m    sys.executable*\u001b[0m\n\u001b[1;37m                   ^\u001b[0m\n\u001b[1;31mSyntaxError\u001b[0m\u001b[1;31m:\u001b[0m invalid syntax\n"
     ]
    }
   ],
   "source": [
    "# IPython automatically displays the final results of a cell, in this case a tuple of strings\n",
    "sys.prefix\n",
    "sys.exec_prefix\n",
    "sys.executable*"
   ]
  },
  {
   "cell_type": "markdown",
   "metadata": {
    "ExecuteTime": {
     "end_time": "2021-08-15T18:54:15.471990Z",
     "start_time": "2021-08-15T18:54:15.452608Z"
    },
    "id": "184a6974"
   },
   "source": [
    "## Q1: If the output of these commands differ between to group members, what issues might arise with regards to reproducibility of their data experiments?"
   ]
  },
  {
   "cell_type": "markdown",
   "metadata": {
    "id": "75b40dae"
   },
   "source": [
    "It might lead to misinterpretation of graphs and statistics"
   ]
  },
  {
   "cell_type": "markdown",
   "metadata": {
    "id": "0aa30dd3"
   },
   "source": [
    "## Q2: What steps should you take to ensure that a group of students use inter-operable notebooks?"
   ]
  },
  {
   "cell_type": "markdown",
   "metadata": {
    "ExecuteTime": {
     "end_time": "2021-08-25T09:54:26.022313Z",
     "start_time": "2021-08-25T09:54:26.018996Z"
    },
    "id": "77747860"
   },
   "source": [
    "Using github so that everyone can edit without overwriting "
   ]
  },
  {
   "cell_type": "code",
   "execution_count": null,
   "metadata": {},
   "outputs": [],
   "source": []
  }
 ],
 "metadata": {
  "colab": {
   "collapsed_sections": [],
   "include_colab_link": true,
   "name": "exercises_week1.ipynb",
   "provenance": []
  },
  "kernelspec": {
   "display_name": "Python 3",
   "language": "python",
   "name": "python3"
  },
  "language_info": {
   "codemirror_mode": {
    "name": "ipython",
    "version": 3
   },
   "file_extension": ".py",
   "mimetype": "text/x-python",
   "name": "python",
   "nbconvert_exporter": "python",
   "pygments_lexer": "ipython3",
   "version": "3.7.6"
  },
  "toc": {
   "base_numbering": 1,
   "nav_menu": {},
   "number_sections": true,
   "sideBar": true,
   "skip_h1_title": false,
   "title_cell": "Table of Contents",
   "title_sidebar": "Contents",
   "toc_cell": false,
   "toc_position": {},
   "toc_section_display": true,
   "toc_window_display": false
  }
 },
 "nbformat": 4,
 "nbformat_minor": 5
}
