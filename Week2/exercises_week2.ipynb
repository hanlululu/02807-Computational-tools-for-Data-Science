{
  "nbformat": 4,
  "nbformat_minor": 0,
  "metadata": {
    "colab": {
      "name": "exercises_week2.ipynb",
      "provenance": [],
      "collapsed_sections": [],
      "include_colab_link": true
    },
    "kernelspec": {
      "display_name": "Python 3",
      "language": "python",
      "name": "python3"
    },
    "language_info": {
      "codemirror_mode": {
        "name": "ipython",
        "version": 3
      },
      "file_extension": ".py",
      "mimetype": "text/x-python",
      "name": "python",
      "nbconvert_exporter": "python",
      "pygments_lexer": "ipython3",
      "version": "3.8.10"
    },
    "toc": {
      "base_numbering": 1,
      "nav_menu": {},
      "number_sections": true,
      "sideBar": true,
      "skip_h1_title": false,
      "title_cell": "Table of Contents",
      "title_sidebar": "Contents",
      "toc_cell": false,
      "toc_position": {},
      "toc_section_display": true,
      "toc_window_display": true
    }
  },
  "cells": [
    {
      "cell_type": "markdown",
      "metadata": {
        "id": "view-in-github",
        "colab_type": "text"
      },
      "source": [
        "<a href=\"https://colab.research.google.com/github/hanlululu/02807-Computational-tools-for-Data-Science/blob/main/Week2/exercises_week2.ipynb\" target=\"_parent\"><img src=\"https://colab.research.google.com/assets/colab-badge.svg\" alt=\"Open In Colab\"/></a>"
      ]
    },
    {
      "cell_type": "markdown",
      "metadata": {
        "id": "vlMcbNUbMqnF"
      },
      "source": [
        "# 02807 - Week 2 Exercises\n"
      ]
    },
    {
      "cell_type": "markdown",
      "metadata": {
        "id": "asspwlX7zDcT"
      },
      "source": [
        "## Learning objectives:\n",
        "\n",
        "* Run Python code in Colab or Jupyter notebooks\n",
        "* Get hands-on experience storing, manipulating and extracting data efficiently with NumPy.\n",
        "* Perform optimised computations on arrays using NumPy’s vectorised functions. \n",
        "* Compare the performance of simple non-vectorised operations to vectorised one. \n"
      ]
    },
    {
      "cell_type": "markdown",
      "metadata": {
        "id": "kR68hOwCMyib"
      },
      "source": [
        "## Readings:\n",
        "\n",
        "### **Numpy**:\n",
        "\n",
        "Main reading:\n",
        "\n",
        "* [Chapter 2: Introduction to Numpy](https://jakevdp.github.io/PythonDataScienceHandbook/02.00-introduction-to-numpy.html). Python Data Science Handbook.\n",
        "\n",
        "Supplementary readings:\n",
        "\n",
        "* [A Visual Intro to NumPy and Data Representation](https://jalammar.github.io/visual-numpy/)\n",
        "* [Guide to NumPy resources: beginner, intermediate and advanced](https://e2eml.school/numpy_resources.html)\n",
        "\n"
      ]
    },
    {
      "cell_type": "markdown",
      "metadata": {
        "id": "eGU4JSS2_Eqt"
      },
      "source": [
        "## Exercise 1: importing NumPy"
      ]
    },
    {
      "cell_type": "markdown",
      "metadata": {
        "id": "6J0G_P33MqnM"
      },
      "source": [
        "### **1. Import numpy as np and print the version number**\n"
      ]
    },
    {
      "cell_type": "code",
      "metadata": {
        "ExecuteTime": {
          "end_time": "2021-08-24T11:24:51.910643Z",
          "start_time": "2021-08-24T11:24:51.907156Z"
        },
        "id": "hDe2CpdbN8NJ"
      },
      "source": [
        "print(\"Solution\")\n",
        "# your solution goes here"
      ],
      "execution_count": null,
      "outputs": []
    },
    {
      "cell_type": "markdown",
      "metadata": {
        "id": "iBFzmeuMMqnL"
      },
      "source": [
        "## Exercise 2: creating arrays"
      ]
    },
    {
      "cell_type": "markdown",
      "metadata": {
        "id": "j91-Dm6pMqnP"
      },
      "source": [
        "### a. Create a 1D array of numbers from 0 to 9\n",
        "\n",
        "Desired output: \n",
        "```\n",
        "Solution\n",
        "array([0, 1, 2, 3, 4, 5, 6, 7, 8, 9])\n",
        "```"
      ]
    },
    {
      "cell_type": "code",
      "metadata": {
        "ExecuteTime": {
          "end_time": "2021-08-24T11:25:05.075212Z",
          "start_time": "2021-08-24T11:25:05.072383Z"
        },
        "id": "1G1W82myN8px"
      },
      "source": [
        "print(\"Solution\")\n",
        "# your solution goes here"
      ],
      "execution_count": null,
      "outputs": []
    },
    {
      "cell_type": "markdown",
      "metadata": {
        "id": "IsLn7jBRMqnS"
      },
      "source": [
        "### b. Create a 3×3 Boolean array of all `True`’s\n",
        "\n",
        "Desired output: \n",
        "\n",
        "```\n",
        "array([[ True,  True,  True],\n",
        "       [ True,  True,  True],\n",
        "       [ True,  True,  True]])\n",
        "```"
      ]
    },
    {
      "cell_type": "code",
      "metadata": {
        "ExecuteTime": {
          "end_time": "2021-08-24T11:25:05.777047Z",
          "start_time": "2021-08-24T11:25:05.774123Z"
        },
        "id": "U5LmrBkVN9OS"
      },
      "source": [
        "print(\"Solution\")\n",
        "# you solution goes here"
      ],
      "execution_count": null,
      "outputs": []
    },
    {
      "cell_type": "markdown",
      "metadata": {
        "id": "bBRYaurHQCr_"
      },
      "source": [
        "### c. Create a 5 x 3 x 4 array randomly filled with integers between 0 and 4, inclusive:\n",
        "\n",
        "hint: ``np.random.randint``\n",
        "\n",
        "Example of desired output:\n",
        "\n",
        "```\n",
        "array([[[3, 4, 0, 4],\n",
        "        [2, 3, 4, 4],\n",
        "        [0, 2, 4, 2]],\n",
        "\n",
        "       [[2, 1, 3, 0],\n",
        "        [4, 3, 2, 2],\n",
        "        [2, 1, 2, 4]],\n",
        "\n",
        "       [[3, 1, 1, 1],\n",
        "        [4, 4, 0, 1],\n",
        "        [0, 2, 3, 0]],\n",
        "\n",
        "       [[3, 0, 3, 3],\n",
        "        [4, 0, 3, 3],\n",
        "        [3, 3, 0, 1]],\n",
        "\n",
        "       [[3, 2, 2, 2],\n",
        "        [0, 1, 1, 4],\n",
        "        [4, 2, 1, 0]]])\n",
        "\n",
        "```"
      ]
    },
    {
      "cell_type": "code",
      "metadata": {
        "ExecuteTime": {
          "end_time": "2021-08-24T11:25:07.135334Z",
          "start_time": "2021-08-24T11:25:07.131869Z"
        },
        "id": "NhxjWetqRGA7"
      },
      "source": [
        "print(\"Solution\")\n",
        "# your solution goes here"
      ],
      "execution_count": null,
      "outputs": []
    },
    {
      "cell_type": "markdown",
      "metadata": {
        "id": "1NqSPwusPkXm"
      },
      "source": [
        "## Exercise 3: universal functions and vectorisation (part 1). Faster dot product."
      ]
    },
    {
      "cell_type": "markdown",
      "metadata": {
        "id": "S74ns2pqcR5m"
      },
      "source": [
        "The dot product is an algebraic operation which takes two equal-sized vectors and returns a single scalar. For two vectors $\\mathbf{x}$ and $\\mathbf{y}$, their dot product is defined as:\n",
        "\n",
        "$$\\mathbf{x} \\cdot \\mathbf{y} = \\sum_{i=1}^{n}x_iy_i = x_1y_1 + x_2y_2 + … + x_ny_n$$\n",
        "\n",
        "Let's consider the following vectors."
      ]
    },
    {
      "cell_type": "code",
      "metadata": {
        "ExecuteTime": {
          "end_time": "2021-08-24T11:25:08.837868Z",
          "start_time": "2021-08-24T11:25:08.828921Z"
        },
        "id": "wSYQkN_5dmGN"
      },
      "source": [
        "X = np.random.rand(100000)\n",
        "Y = np.random.rand(100000)"
      ],
      "execution_count": null,
      "outputs": []
    },
    {
      "cell_type": "markdown",
      "metadata": {
        "id": "lOg95GI1c-4j"
      },
      "source": [
        "In Python, one way to calulate the dot product is to iterate over the number of elements in the vectors, multiplying their $i$-th elements, and accumulating the result:"
      ]
    },
    {
      "cell_type": "code",
      "metadata": {
        "ExecuteTime": {
          "end_time": "2021-08-24T11:25:10.473424Z",
          "start_time": "2021-08-24T11:25:10.469576Z"
        },
        "id": "XRFw_OUhc9td"
      },
      "source": [
        "def dot_slow_1(x,y):\n",
        "    \"\"\"\"Dot product by looping over elements and multiplying them\"\"\"\n",
        "    s = 0 \n",
        "    for i in range(x.size):\n",
        "        s += x[i] * y[i]\n",
        "    return s"
      ],
      "execution_count": null,
      "outputs": []
    },
    {
      "cell_type": "markdown",
      "metadata": {
        "id": "BlJhCbEAeL4F"
      },
      "source": [
        "A more succinct and pythonic way to do this would be to use list comprehension:"
      ]
    },
    {
      "cell_type": "code",
      "metadata": {
        "ExecuteTime": {
          "end_time": "2021-08-24T11:25:11.616061Z",
          "start_time": "2021-08-24T11:25:11.612850Z"
        },
        "id": "2y8021OCeV4B"
      },
      "source": [
        "def dot_slow_2(x, y):\n",
        "    \"\"\"Dot product as sum of list comprehension doing element-wise multiplication\"\"\"\n",
        "    return sum(x_i * y_i for x_i, y_i in zip(x, y))"
      ],
      "execution_count": null,
      "outputs": []
    },
    {
      "cell_type": "markdown",
      "metadata": {
        "id": "kZWDHlQ0eoER"
      },
      "source": [
        "Let's look at the performance we get computing dot products in this way."
      ]
    },
    {
      "cell_type": "code",
      "metadata": {
        "ExecuteTime": {
          "end_time": "2021-08-24T11:25:33.720110Z",
          "start_time": "2021-08-24T11:25:12.694785Z"
        },
        "id": "w-44zBdxe0o8"
      },
      "source": [
        "print(\"Time and memory use of dot_slow_1:\")\n",
        "%timeit dot_slow_1(X, Y)\n",
        "\n",
        "print(\"Time and memory use of dot_slow_2:\")\n",
        "%timeit dot_slow_2(X, Y)"
      ],
      "execution_count": null,
      "outputs": []
    },
    {
      "cell_type": "markdown",
      "metadata": {
        "id": "cTWBbszTgQSo"
      },
      "source": [
        "### Use NumPy's vectorised operations to define a function that computes the dot product."
      ]
    },
    {
      "cell_type": "code",
      "metadata": {
        "ExecuteTime": {
          "end_time": "2021-08-24T11:26:14.431111Z",
          "start_time": "2021-08-24T11:26:14.428474Z"
        },
        "id": "uBV7WCWSkv9p"
      },
      "source": [
        "def my_dot(x, y):\n",
        "  # your solution goes here\n",
        "  raise NotImplementedError"
      ],
      "execution_count": null,
      "outputs": []
    },
    {
      "cell_type": "markdown",
      "metadata": {
        "id": "ZgvRT9D-g7O-"
      },
      "source": [
        "Use `%timeit` to check the performance of your function. How much faster did we get with vectorisation? If you did things right, your solution should run in *µs*, running around 1000x faster per loop than the non-vectorised `dot_slow` functions."
      ]
    },
    {
      "cell_type": "code",
      "metadata": {
        "ExecuteTime": {
          "end_time": "2021-08-24T11:26:00.579297Z",
          "start_time": "2021-08-24T11:25:56.670347Z"
        },
        "id": "DW8F7wXlhDks"
      },
      "source": [
        "print(\"Time and memory use of my_dot:\")\n",
        "%timeit my_dot(X, Y)"
      ],
      "execution_count": null,
      "outputs": []
    },
    {
      "cell_type": "markdown",
      "metadata": {
        "id": "dl5qy_6_D7C7"
      },
      "source": [
        "## Exercise 4: universal functions and vectorisation (part 2). Buying low, selling high."
      ]
    },
    {
      "cell_type": "markdown",
      "metadata": {
        "id": "ky6Ry2xaD_7c"
      },
      "source": [
        "Let's look at a more interesting problem. Here's a classic technical interview problem:\n",
        "\n",
        "> Given a stock’s price history as a sequence, and assuming that you are only allowed to make one purchase and one sale, what is the maximum profit that can be obtained? For example, given prices = (20, 18, 14, 17, 20, 21, 15), the max profit would be 7, from buying at 14 and selling at 21.\n",
        "\n"
      ]
    },
    {
      "cell_type": "markdown",
      "metadata": {
        "id": "PUL_QFBYEZaL"
      },
      "source": [
        "The straighforward solution, with $O(n^2)$ [time complexity](https://www.hackerearth.com/practice/basic-programming/complexity-analysis/time-and-space-complexity/tutorial/), consists of taking every combination of two consecutive prices and determining the maximum difference.\n",
        "\n",
        "However, there's also an $O(n)$ solution that consists of iterating through the sequence just once and finding the difference between each price and a running minimum. Here's an non-vectorised implementation:\n"
      ]
    },
    {
      "cell_type": "code",
      "metadata": {
        "ExecuteTime": {
          "end_time": "2021-08-24T11:26:23.916166Z",
          "start_time": "2021-08-24T11:26:23.910095Z"
        },
        "id": "I2VvDQXcFFm6"
      },
      "source": [
        "def profit(prices):\n",
        "    max_price = 0\n",
        "    min_price = prices[0]\n",
        "    for price in prices[1:]:\n",
        "        min_price = min(min_price, price)\n",
        "        max_price = max(price - min_price, max_price)\n",
        "    return max_price\n",
        "\n",
        "prices = (20, 18, 14, 17, 20, 21, 15)\n",
        "profit(prices)"
      ],
      "execution_count": null,
      "outputs": []
    },
    {
      "cell_type": "markdown",
      "metadata": {
        "id": "_F33tzMjKodD"
      },
      "source": [
        "Can this be done faster in NumPy? Certainly. But first, let’s create a more realistic example (using, of course, some trusty NumPy functions!):"
      ]
    },
    {
      "cell_type": "code",
      "metadata": {
        "ExecuteTime": {
          "end_time": "2021-08-24T11:26:24.683457Z",
          "start_time": "2021-08-24T11:26:24.677317Z"
        },
        "id": "UCCJp1BcK8te"
      },
      "source": [
        "import numpy as np\n",
        "# Set seed for randn below\n",
        "np.random.seed(2)\n",
        "\n",
        "# Create mostly NaN array with a few 'turning points' (local min/max).\n",
        "prices = np.full(100, fill_value=np.nan)\n",
        "prices[[0, 10, 50, 80, -1]] = [80., 30., 50., 70., 40.]\n",
        "\n",
        "# Linearly interpolate the missing values and add some noise.\n",
        "x = np.arange(len(prices))\n",
        "is_valid = ~np.isnan(prices)\n",
        "prices = np.interp(x=x, xp=x[is_valid], fp=prices[is_valid])\n",
        "prices += np.random.randn(len(prices)) * 2"
      ],
      "execution_count": null,
      "outputs": []
    },
    {
      "cell_type": "markdown",
      "metadata": {
        "id": "fZa147G9LYuo"
      },
      "source": [
        "Let's look at the data with `matplotlib`. Don't worry if you don't get what goes on here. We'll learn how to use `matplotlib` for data visualisation in the coming weeks.\n",
        "\n",
        "The idea is to buy low (green) and sell high (red):"
      ]
    },
    {
      "cell_type": "code",
      "metadata": {
        "ExecuteTime": {
          "end_time": "2021-08-24T11:26:26.146737Z",
          "start_time": "2021-08-24T11:26:25.908439Z"
        },
        "id": "44Yr3lwrLyO4"
      },
      "source": [
        "import matplotlib.pyplot as plt\n",
        "%matplotlib inline\n",
        "plt.style.use('classic')\n",
        "\n",
        "# Warning! This isn't a fully correct solution, but it works for now.\n",
        "# If the absolute min came after the absolute max, you'd have trouble.\n",
        "mn = np.argmin(prices)\n",
        "mx = mn + np.argmax(prices[mn:])\n",
        "kwargs = {'markersize': 8, 'linestyle': ''}\n",
        "\n",
        "fig, ax = plt.subplots()\n",
        "ax.plot(prices)\n",
        "ax.set_title('Price History')\n",
        "ax.set_xlabel('Time')\n",
        "ax.set_ylabel('Price')\n",
        "ax.plot(mn, prices[mn], marker='o', color='g', **kwargs)\n",
        "ax.plot(mx, prices[mx], marker='o', color='r', **kwargs)\n",
        "plt.show()"
      ],
      "execution_count": null,
      "outputs": []
    },
    {
      "cell_type": "markdown",
      "metadata": {
        "id": "OiHo8XSmN6Vq"
      },
      "source": [
        "What does a NumPy implementation look like? There is no `np.runmin()` that computes the running (or cumulative) minimum. However, NumPy’s universal functions (`ufunc`'s) all have an `accumulate()` method that does what its name implies:\n",
        "\n"
      ]
    },
    {
      "cell_type": "code",
      "metadata": {
        "ExecuteTime": {
          "end_time": "2021-08-24T11:26:30.159176Z",
          "start_time": "2021-08-24T11:26:30.154010Z"
        },
        "id": "RlkpelVvN52x"
      },
      "source": [
        "x = np.array([10,2,4,7,9,1,11,3])\n",
        "runmin = np.minimum.accumulate\n",
        "runmin(x)"
      ],
      "execution_count": null,
      "outputs": []
    },
    {
      "cell_type": "markdown",
      "metadata": {
        "id": "pldx1-_dO0o5"
      },
      "source": [
        "Use `runmin` and other NumPy functions to define your own version of the `profit` function. Keeping the logic from the pure-Python example, you can find the difference between each price and a running minimum (element-wise), and then take the max of this sequence:"
      ]
    },
    {
      "cell_type": "code",
      "metadata": {
        "ExecuteTime": {
          "end_time": "2021-08-24T11:28:07.596870Z",
          "start_time": "2021-08-24T11:28:07.593892Z"
        },
        "id": "I7XT66pHPVoX"
      },
      "source": [
        "def my_profit(prices):\n",
        "     \"\"\"Price minus cumulative minimum price, element-wise.\"\"\"\n",
        "     # your solution goes here\n",
        "     raise NotImplementedError"
      ],
      "execution_count": null,
      "outputs": []
    },
    {
      "cell_type": "markdown",
      "metadata": {
        "id": "_INGV7hhPjR-"
      },
      "source": [
        "Let's see the time performance of the original `profit` function on our dataset."
      ]
    },
    {
      "cell_type": "code",
      "metadata": {
        "ExecuteTime": {
          "end_time": "2021-08-24T11:28:10.700519Z",
          "start_time": "2021-08-24T11:28:08.941646Z"
        },
        "id": "3_O06vi6Pi8o"
      },
      "source": [
        "print(\"The maximum profit is\", profit(prices))\n",
        "%timeit profit(prices)"
      ],
      "execution_count": null,
      "outputs": []
    },
    {
      "cell_type": "markdown",
      "metadata": {
        "id": "E4sxZBf8Q8_M"
      },
      "source": [
        "How does `my_profit` compare? Your NumPy solution should do at least as well as the pure-Python solution over this small dataset (we're working with 100 data points). "
      ]
    },
    {
      "cell_type": "code",
      "metadata": {
        "ExecuteTime": {
          "end_time": "2021-08-24T11:28:12.424653Z",
          "start_time": "2021-08-24T11:28:10.701490Z"
        },
        "id": "eN0pJf-fRHAv"
      },
      "source": [
        "print(\"The maximum profit is\", my_profit(prices))\n",
        "%timeit my_profit(prices)"
      ],
      "execution_count": null,
      "outputs": []
    },
    {
      "cell_type": "markdown",
      "metadata": {
        "id": "nWt829s7UynP"
      },
      "source": [
        "\n",
        "\n",
        "Over a large dataset, you'll normally see significant performance differences. Our implementation of `my_profit` typically runs about 50x faster than `profit` over a random dataset with 1.000.000 datapoints. Do you get comparable results?"
      ]
    },
    {
      "cell_type": "code",
      "metadata": {
        "ExecuteTime": {
          "end_time": "2021-08-24T11:28:20.241357Z",
          "start_time": "2021-08-24T11:28:15.007711Z"
        },
        "id": "E22QwoY_T75p"
      },
      "source": [
        "rand_seq = np.random.randint(0, 100, size=1000000)\n",
        "%timeit profit(rand_seq)\n",
        "%timeit my_profit(rand_seq)"
      ],
      "execution_count": null,
      "outputs": []
    },
    {
      "cell_type": "markdown",
      "metadata": {
        "id": "DoQANtj0zb-K"
      },
      "source": [
        "## Exercise 5: extracting information from arrays"
      ]
    },
    {
      "cell_type": "markdown",
      "metadata": {
        "id": "ICjxUjGPbWGY"
      },
      "source": [
        "Let's extract some potentially useful information from our `prices` dataset.\n"
      ]
    },
    {
      "cell_type": "markdown",
      "metadata": {
        "id": "KzmBoMA6MqnV"
      },
      "source": [
        "### a. Let's find all values in a given range. Extract all prices with values between 45 and 65 from the first 10 prices in `prices`.\n"
      ]
    },
    {
      "cell_type": "code",
      "metadata": {
        "id": "WNRXvalvMqnW"
      },
      "source": [
        "print(\"First 10 prices\")\n",
        "prices_small = prices[:10]\n",
        "prices_small"
      ],
      "execution_count": null,
      "outputs": []
    },
    {
      "cell_type": "code",
      "metadata": {
        "id": "9zunr4MgXNeN"
      },
      "source": [
        "print(\"Solution\")\n",
        "# your solution goes here"
      ],
      "execution_count": null,
      "outputs": []
    },
    {
      "cell_type": "markdown",
      "metadata": {
        "id": "zXoWSEVHMqnZ"
      },
      "source": [
        "### b. Let's say that you want to buy in the first time the price drops below 30. Let's find the first occurence of a value meeting a condition. \n",
        "\n",
        "Hint: use `np.argwhere`."
      ]
    },
    {
      "cell_type": "code",
      "metadata": {
        "id": "TvvC6AXHco4w"
      },
      "source": [
        "# Solution\n",
        "print(\"Solution\")\n",
        "# your solution goes here"
      ],
      "execution_count": null,
      "outputs": []
    },
    {
      "cell_type": "markdown",
      "metadata": {
        "id": "LZ4E40E5eDuo"
      },
      "source": [
        "### c. Let's get the *positions* and *values* of the top 5 prices overall. Use NumPy only to extract this information.\n",
        "\n",
        "Hint: Use `np.argwhere` along with `np.percentile`, or sort and slice arrays"
      ]
    },
    {
      "cell_type": "code",
      "metadata": {
        "id": "uQrGQdS5ezMb"
      },
      "source": [
        "# Solution\n",
        "print(\"Positions of the top 5 prices\")  \n",
        "# your solution goes here\n",
        "print(\"Values of the top 5 prices\")\n",
        "# your solution goes here"
      ],
      "execution_count": null,
      "outputs": []
    },
    {
      "cell_type": "markdown",
      "metadata": {
        "id": "-4SR8lt-gNzV"
      },
      "source": [
        "### d. Let's get some summary statistics. Print the mean, median and standard deviation of the list of prices.\n",
        "\n",
        "The desired output is:\n",
        "\n",
        "```\n",
        "Mean, median and standard deviation: 50.770589574397285 50.45810666998631 12.125291517615116\n",
        "```"
      ]
    },
    {
      "cell_type": "code",
      "metadata": {
        "id": "02D7NUS1gqKe"
      },
      "source": [
        "# Solution\n",
        "# your solution goes here."
      ],
      "execution_count": null,
      "outputs": []
    },
    {
      "cell_type": "markdown",
      "metadata": {
        "id": "ZaaJ9NL4MqqC"
      },
      "source": [
        "### e. Finally, let's find all the local maxima in the `prices` array. \n",
        "\n",
        "If you are up for the challenge, you can try to use NumPy functions only. Otherwise, the package `scipy.signal` offers a nice function called `find_peaks`."
      ]
    },
    {
      "cell_type": "code",
      "metadata": {
        "id": "c3QgjgrihvXB"
      },
      "source": [
        "# Solution\n",
        "print(\"Local maxima\")\n",
        "# your solution goes here"
      ],
      "execution_count": null,
      "outputs": []
    },
    {
      "cell_type": "markdown",
      "metadata": {
        "id": "byvmRmyqkvnj"
      },
      "source": [
        "Here are the maxima found with `scipy`."
      ]
    },
    {
      "cell_type": "code",
      "metadata": {
        "id": "4GwaVTACkzoV"
      },
      "source": [
        "from scipy.signal import find_peaks\n",
        "\n",
        "peaks, _ = find_peaks(prices, height=0)"
      ],
      "execution_count": null,
      "outputs": []
    },
    {
      "cell_type": "markdown",
      "metadata": {
        "id": "hD2-stM7iPLv"
      },
      "source": [
        "If you store the local maxima in a variable called `peaks`, the following plot will mark them in green."
      ]
    },
    {
      "cell_type": "code",
      "metadata": {
        "id": "2WJOpihHiEsK"
      },
      "source": [
        "kwargs = {'markersize': 8, 'linestyle': ''}\n",
        "\n",
        "fig, ax = plt.subplots()\n",
        "ax.plot(prices)\n",
        "ax.set_title('Price History')\n",
        "ax.set_xlabel('Time')\n",
        "ax.set_ylabel('Price')\n",
        "ax.plot(peaks, prices[peaks], marker='o', color='g', **kwargs)\n",
        "plt.show()"
      ],
      "execution_count": null,
      "outputs": []
    }
  ]
}