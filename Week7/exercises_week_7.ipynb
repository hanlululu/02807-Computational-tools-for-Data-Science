{
  "cells": [
    {
      "cell_type": "markdown",
      "metadata": {
        "colab_type": "text",
        "id": "view-in-github"
      },
      "source": [
        "<a href=\"https://colab.research.google.com/github/hanlululu/02807-Computational-tools-for-Data-Science/blob/main/Week7/exercises_week_7.ipynb\" target=\"_parent\"><img src=\"https://colab.research.google.com/assets/colab-badge.svg\" alt=\"Open In Colab\"/></a>"
      ]
    },
    {
      "cell_type": "markdown",
      "metadata": {
        "id": "vlMcbNUbMqnF"
      },
      "source": [
        "# 02807 - Week 7 Exercises:  Getting started with Spark"
      ]
    },
    {
      "cell_type": "markdown",
      "metadata": {
        "id": "eXQzA01OS_yQ"
      },
      "source": [
        "# Setup\n",
        "\n",
        "* See also this week's slides for context"
      ]
    },
    {
      "cell_type": "code",
      "execution_count": 2,
      "metadata": {
        "ExecuteTime": {
          "end_time": "2021-10-11T19:21:00.219855Z",
          "start_time": "2021-10-11T19:20:59.476023Z"
        },
        "id": "32YylmidxfXV",
        "outputId": "5e380d9a-fa4e-439e-e1e5-9bb7858d0767"
      },
      "outputs": [
        {
          "name": "stdout",
          "output_type": "stream",
          "text": [
            "Requirement already satisfied: pyspark in c:\\users\\hanlu\\anaconda3\\lib\\site-packages (3.1.2)\n",
            "Requirement already satisfied: py4j==0.10.9 in c:\\users\\hanlu\\anaconda3\\lib\\site-packages (from pyspark) (0.10.9)\n"
          ]
        },
        {
          "name": "stderr",
          "output_type": "stream",
          "text": [
            "WARNING: You are using pip version 21.0.1; however, version 21.3.1 is available.\n",
            "You should consider upgrading via the 'c:\\users\\hanlu\\anaconda3\\python.exe -m pip install --upgrade pip' command.\n"
          ]
        }
      ],
      "source": [
        "!pip install pyspark"
      ]
    },
    {
      "cell_type": "code",
      "execution_count": 3,
      "metadata": {
        "ExecuteTime": {
          "end_time": "2021-10-11T19:21:00.223652Z",
          "start_time": "2021-10-11T19:21:00.221268Z"
        },
        "id": "dhzk3GE6S9RC"
      },
      "outputs": [],
      "source": [
        "# Instructions on p. 20 Learning Spark, 2nd ed.\n",
        "# Here's a quick-guide, googling may also be required\n",
        "# 1) Install pyspark via conda/pip\n",
        "#          pyspark requires the JAVA_HOME environment variable is set.\n",
        "# 2) Install JRE/JDK, figure out the install location\n",
        "#          You will need to install Java 8 or above\n",
        "# 3) Update the JAVA_HOME environment variable set programmatically below \n",
        "#    with your installation specifics\n",
        "\n",
        "# Some maybe helpful pointers on JRE/JDK:\n",
        "# MacOS: Consider using https://github.com/AdoptOpenJDK/homebrew-openjdk\n",
        "# Debian (colab): !apt install openjdk-8-jdk-headless -qq\n",
        "# Windows: \n",
        "#    If you didn't change the path during installation, it'll be \n",
        "#    something like C:\\Program Files\\Java\\jdk1.8.0_65\n",
        "#    You can also type where java at the command prompt.\n",
        "\n",
        "# JAVA_HOME environment variable is set programatically below\n",
        "# but you must point it to your local install\n",
        "\n",
        "import os\n",
        "os.environ[\"JAVA_HOME\"] = \"C:\\Program Files\\Java\\jdk-15.0.2\"\n",
        "os.environ['PYSPARK_PYTHON'] = 'python'\n",
        "os.environ['PYSPARK_DRIVER_PYTHON'] = 'jupyter'\n",
        "os.environ['PYSPARK_DRIVER_PYTHON_OPTS'] = 'notebook'"
      ]
    },
    {
      "cell_type": "code",
      "execution_count": 4,
      "metadata": {
        "ExecuteTime": {
          "end_time": "2021-10-11T19:21:00.533785Z",
          "start_time": "2021-10-11T19:21:00.224806Z"
        },
        "id": "xgQaRx6rSaf9"
      },
      "outputs": [],
      "source": [
        "import pandas as pd\n",
        "import pyspark\n",
        "from pyspark.sql import SparkSession\n",
        "from pyspark.sql import functions as F\n",
        "from pyspark import SparkContext, SparkConf"
      ]
    },
    {
      "cell_type": "markdown",
      "metadata": {
        "id": "uUD5XpD_SagA"
      },
      "source": [
        "Let's initialise a **Spark Session**. \n",
        "* A SparkSession object is the entry point to the Spark functionality. \n",
        "* When you create the SparkSession object, it initiates a **Spark Application** which all the code for that Session will run on.\n"
      ]
    },
    {
      "cell_type": "code",
      "execution_count": 5,
      "metadata": {
        "ExecuteTime": {
          "end_time": "2021-10-11T19:21:04.257817Z",
          "start_time": "2021-10-11T19:21:00.534459Z"
        },
        "id": "7ft3VivrSagB"
      },
      "outputs": [],
      "source": [
        "# create the Spark session\n",
        "conf = SparkConf().set(\"spark.ui.port\", \"4050\")\n",
        "sc = pyspark.SparkContext(conf=conf)\n",
        "spark = SparkSession.builder.getOrCreate()\n"
      ]
    },
    {
      "cell_type": "code",
      "execution_count": 6,
      "metadata": {
        "ExecuteTime": {
          "end_time": "2021-10-11T19:21:04.981186Z",
          "start_time": "2021-10-11T19:21:04.258838Z"
        },
        "id": "Mc8uFlalxfXZ",
        "outputId": "0cee8414-d95d-4350-fa2a-3e60b08be1ef"
      },
      "outputs": [
        {
          "data": {
            "text/html": [
              "\n",
              "            <div>\n",
              "                <p><b>SparkSession - in-memory</b></p>\n",
              "                \n",
              "        <div>\n",
              "            <p><b>SparkContext</b></p>\n",
              "\n",
              "            <p><a href=\"http://DESKTOP-TBHTB54.home:4050\">Spark UI</a></p>\n",
              "\n",
              "            <dl>\n",
              "              <dt>Version</dt>\n",
              "                <dd><code>v3.1.2</code></dd>\n",
              "              <dt>Master</dt>\n",
              "                <dd><code>local[*]</code></dd>\n",
              "              <dt>AppName</dt>\n",
              "                <dd><code>pyspark-shell</code></dd>\n",
              "            </dl>\n",
              "        </div>\n",
              "        \n",
              "            </div>\n",
              "        "
            ],
            "text/plain": [
              "<pyspark.sql.session.SparkSession at 0x2a91a9890c8>"
            ]
          },
          "execution_count": 6,
          "metadata": {},
          "output_type": "execute_result"
        }
      ],
      "source": [
        "spark"
      ]
    },
    {
      "cell_type": "markdown",
      "metadata": {
        "id": "2ectQxRreAvJ"
      },
      "source": [
        "# Exercise 1: The Titanic Dataset\n",
        "\n",
        "In this exercise you should use Spark to count the number of Titanic passengers in different age brackets. More specifically, you need to count the number of people age 0 to 9, 10 to 19, and so on.\n",
        "\n",
        "The data is available [here](https://courses.compute.dtu.dk/02807/2021/lectures/week7/titanic_full.csv) and should be loaded into a dataframe in the next cell."
      ]
    },
    {
      "cell_type": "code",
      "execution_count": 7,
      "metadata": {
        "ExecuteTime": {
          "end_time": "2021-10-11T19:23:58.310858Z",
          "start_time": "2021-10-11T19:23:58.307788Z"
        },
        "id": "my6Awbl-e4AO"
      },
      "outputs": [],
      "source": [
        "df = spark.read.option('header', True) \\\n",
        "                .option('inferSchema', True) \\\n",
        "                .csv('titanic_full.csv')"
      ]
    },
    {
      "cell_type": "code",
      "execution_count": 8,
      "metadata": {},
      "outputs": [
        {
          "name": "stdout",
          "output_type": "stream",
          "text": [
            "root\n",
            " |-- PassengerId: integer (nullable = true)\n",
            " |-- Survived: integer (nullable = true)\n",
            " |-- Pclass: integer (nullable = true)\n",
            " |-- Name: string (nullable = true)\n",
            " |-- Sex: string (nullable = true)\n",
            " |-- Age: double (nullable = true)\n",
            " |-- SibSp: integer (nullable = true)\n",
            " |-- Parch: integer (nullable = true)\n",
            " |-- Ticket: string (nullable = true)\n",
            " |-- Fare: double (nullable = true)\n",
            " |-- Cabin: string (nullable = true)\n",
            " |-- Embarked: string (nullable = true)\n",
            "\n"
          ]
        }
      ],
      "source": [
        "df.printSchema()"
      ]
    },
    {
      "cell_type": "code",
      "execution_count": 9,
      "metadata": {},
      "outputs": [
        {
          "data": {
            "text/html": [
              "<div>\n",
              "<style scoped>\n",
              "    .dataframe tbody tr th:only-of-type {\n",
              "        vertical-align: middle;\n",
              "    }\n",
              "\n",
              "    .dataframe tbody tr th {\n",
              "        vertical-align: top;\n",
              "    }\n",
              "\n",
              "    .dataframe thead th {\n",
              "        text-align: right;\n",
              "    }\n",
              "</style>\n",
              "<table border=\"1\" class=\"dataframe\">\n",
              "  <thead>\n",
              "    <tr style=\"text-align: right;\">\n",
              "      <th></th>\n",
              "      <th>PassengerId</th>\n",
              "      <th>Survived</th>\n",
              "      <th>Pclass</th>\n",
              "      <th>Name</th>\n",
              "      <th>Sex</th>\n",
              "      <th>Age</th>\n",
              "      <th>SibSp</th>\n",
              "      <th>Parch</th>\n",
              "      <th>Ticket</th>\n",
              "      <th>Fare</th>\n",
              "      <th>Cabin</th>\n",
              "      <th>Embarked</th>\n",
              "    </tr>\n",
              "  </thead>\n",
              "  <tbody>\n",
              "    <tr>\n",
              "      <th>0</th>\n",
              "      <td>1</td>\n",
              "      <td>0</td>\n",
              "      <td>3</td>\n",
              "      <td>Braund, Mr. Owen Harris</td>\n",
              "      <td>male</td>\n",
              "      <td>22.0</td>\n",
              "      <td>1</td>\n",
              "      <td>0</td>\n",
              "      <td>A/5 21171</td>\n",
              "      <td>7.2500</td>\n",
              "      <td>None</td>\n",
              "      <td>S</td>\n",
              "    </tr>\n",
              "    <tr>\n",
              "      <th>1</th>\n",
              "      <td>2</td>\n",
              "      <td>1</td>\n",
              "      <td>1</td>\n",
              "      <td>Cumings, Mrs. John Bradley (Florence Briggs Th...</td>\n",
              "      <td>female</td>\n",
              "      <td>38.0</td>\n",
              "      <td>1</td>\n",
              "      <td>0</td>\n",
              "      <td>PC 17599</td>\n",
              "      <td>71.2833</td>\n",
              "      <td>C85</td>\n",
              "      <td>C</td>\n",
              "    </tr>\n",
              "    <tr>\n",
              "      <th>2</th>\n",
              "      <td>3</td>\n",
              "      <td>1</td>\n",
              "      <td>3</td>\n",
              "      <td>Heikkinen, Miss. Laina</td>\n",
              "      <td>female</td>\n",
              "      <td>26.0</td>\n",
              "      <td>0</td>\n",
              "      <td>0</td>\n",
              "      <td>STON/O2. 3101282</td>\n",
              "      <td>7.9250</td>\n",
              "      <td>None</td>\n",
              "      <td>S</td>\n",
              "    </tr>\n",
              "    <tr>\n",
              "      <th>3</th>\n",
              "      <td>4</td>\n",
              "      <td>1</td>\n",
              "      <td>1</td>\n",
              "      <td>Futrelle, Mrs. Jacques Heath (Lily May Peel)</td>\n",
              "      <td>female</td>\n",
              "      <td>35.0</td>\n",
              "      <td>1</td>\n",
              "      <td>0</td>\n",
              "      <td>113803</td>\n",
              "      <td>53.1000</td>\n",
              "      <td>C123</td>\n",
              "      <td>S</td>\n",
              "    </tr>\n",
              "    <tr>\n",
              "      <th>4</th>\n",
              "      <td>5</td>\n",
              "      <td>0</td>\n",
              "      <td>3</td>\n",
              "      <td>Allen, Mr. William Henry</td>\n",
              "      <td>male</td>\n",
              "      <td>35.0</td>\n",
              "      <td>0</td>\n",
              "      <td>0</td>\n",
              "      <td>373450</td>\n",
              "      <td>8.0500</td>\n",
              "      <td>None</td>\n",
              "      <td>S</td>\n",
              "    </tr>\n",
              "    <tr>\n",
              "      <th>...</th>\n",
              "      <td>...</td>\n",
              "      <td>...</td>\n",
              "      <td>...</td>\n",
              "      <td>...</td>\n",
              "      <td>...</td>\n",
              "      <td>...</td>\n",
              "      <td>...</td>\n",
              "      <td>...</td>\n",
              "      <td>...</td>\n",
              "      <td>...</td>\n",
              "      <td>...</td>\n",
              "      <td>...</td>\n",
              "    </tr>\n",
              "    <tr>\n",
              "      <th>886</th>\n",
              "      <td>887</td>\n",
              "      <td>0</td>\n",
              "      <td>2</td>\n",
              "      <td>Montvila, Rev. Juozas</td>\n",
              "      <td>male</td>\n",
              "      <td>27.0</td>\n",
              "      <td>0</td>\n",
              "      <td>0</td>\n",
              "      <td>211536</td>\n",
              "      <td>13.0000</td>\n",
              "      <td>None</td>\n",
              "      <td>S</td>\n",
              "    </tr>\n",
              "    <tr>\n",
              "      <th>887</th>\n",
              "      <td>888</td>\n",
              "      <td>1</td>\n",
              "      <td>1</td>\n",
              "      <td>Graham, Miss. Margaret Edith</td>\n",
              "      <td>female</td>\n",
              "      <td>19.0</td>\n",
              "      <td>0</td>\n",
              "      <td>0</td>\n",
              "      <td>112053</td>\n",
              "      <td>30.0000</td>\n",
              "      <td>B42</td>\n",
              "      <td>S</td>\n",
              "    </tr>\n",
              "    <tr>\n",
              "      <th>888</th>\n",
              "      <td>889</td>\n",
              "      <td>0</td>\n",
              "      <td>3</td>\n",
              "      <td>\"Johnston, Miss. Catherine Helen \"\"Carrie\"\"\"</td>\n",
              "      <td>female</td>\n",
              "      <td>NaN</td>\n",
              "      <td>1</td>\n",
              "      <td>2</td>\n",
              "      <td>W./C. 6607</td>\n",
              "      <td>23.4500</td>\n",
              "      <td>None</td>\n",
              "      <td>S</td>\n",
              "    </tr>\n",
              "    <tr>\n",
              "      <th>889</th>\n",
              "      <td>890</td>\n",
              "      <td>1</td>\n",
              "      <td>1</td>\n",
              "      <td>Behr, Mr. Karl Howell</td>\n",
              "      <td>male</td>\n",
              "      <td>26.0</td>\n",
              "      <td>0</td>\n",
              "      <td>0</td>\n",
              "      <td>111369</td>\n",
              "      <td>30.0000</td>\n",
              "      <td>C148</td>\n",
              "      <td>C</td>\n",
              "    </tr>\n",
              "    <tr>\n",
              "      <th>890</th>\n",
              "      <td>891</td>\n",
              "      <td>0</td>\n",
              "      <td>3</td>\n",
              "      <td>Dooley, Mr. Patrick</td>\n",
              "      <td>male</td>\n",
              "      <td>32.0</td>\n",
              "      <td>0</td>\n",
              "      <td>0</td>\n",
              "      <td>370376</td>\n",
              "      <td>7.7500</td>\n",
              "      <td>None</td>\n",
              "      <td>Q</td>\n",
              "    </tr>\n",
              "  </tbody>\n",
              "</table>\n",
              "<p>891 rows × 12 columns</p>\n",
              "</div>"
            ],
            "text/plain": [
              "     PassengerId  Survived  Pclass  \\\n",
              "0              1         0       3   \n",
              "1              2         1       1   \n",
              "2              3         1       3   \n",
              "3              4         1       1   \n",
              "4              5         0       3   \n",
              "..           ...       ...     ...   \n",
              "886          887         0       2   \n",
              "887          888         1       1   \n",
              "888          889         0       3   \n",
              "889          890         1       1   \n",
              "890          891         0       3   \n",
              "\n",
              "                                                  Name     Sex   Age  SibSp  \\\n",
              "0                              Braund, Mr. Owen Harris    male  22.0      1   \n",
              "1    Cumings, Mrs. John Bradley (Florence Briggs Th...  female  38.0      1   \n",
              "2                               Heikkinen, Miss. Laina  female  26.0      0   \n",
              "3         Futrelle, Mrs. Jacques Heath (Lily May Peel)  female  35.0      1   \n",
              "4                             Allen, Mr. William Henry    male  35.0      0   \n",
              "..                                                 ...     ...   ...    ...   \n",
              "886                              Montvila, Rev. Juozas    male  27.0      0   \n",
              "887                       Graham, Miss. Margaret Edith  female  19.0      0   \n",
              "888       \"Johnston, Miss. Catherine Helen \"\"Carrie\"\"\"  female   NaN      1   \n",
              "889                              Behr, Mr. Karl Howell    male  26.0      0   \n",
              "890                                Dooley, Mr. Patrick    male  32.0      0   \n",
              "\n",
              "     Parch            Ticket     Fare Cabin Embarked  \n",
              "0        0         A/5 21171   7.2500  None        S  \n",
              "1        0          PC 17599  71.2833   C85        C  \n",
              "2        0  STON/O2. 3101282   7.9250  None        S  \n",
              "3        0            113803  53.1000  C123        S  \n",
              "4        0            373450   8.0500  None        S  \n",
              "..     ...               ...      ...   ...      ...  \n",
              "886      0            211536  13.0000  None        S  \n",
              "887      0            112053  30.0000   B42        S  \n",
              "888      2        W./C. 6607  23.4500  None        S  \n",
              "889      0            111369  30.0000  C148        C  \n",
              "890      0            370376   7.7500  None        Q  \n",
              "\n",
              "[891 rows x 12 columns]"
            ]
          },
          "execution_count": 9,
          "metadata": {},
          "output_type": "execute_result"
        }
      ],
      "source": [
        "df.toPandas()"
      ]
    },
    {
      "cell_type": "markdown",
      "metadata": {
        "id": "kSZvg7eOe7ok"
      },
      "source": [
        "## Cleaning the data\n",
        "\n",
        "Remove the rows that do not have an age \n"
      ]
    },
    {
      "cell_type": "code",
      "execution_count": 10,
      "metadata": {
        "ExecuteTime": {
          "end_time": "2021-10-11T19:24:01.014994Z",
          "start_time": "2021-10-11T19:24:01.013008Z"
        },
        "id": "OJrRTjQLfTsq"
      },
      "outputs": [
        {
          "data": {
            "text/html": [
              "<div>\n",
              "<style scoped>\n",
              "    .dataframe tbody tr th:only-of-type {\n",
              "        vertical-align: middle;\n",
              "    }\n",
              "\n",
              "    .dataframe tbody tr th {\n",
              "        vertical-align: top;\n",
              "    }\n",
              "\n",
              "    .dataframe thead th {\n",
              "        text-align: right;\n",
              "    }\n",
              "</style>\n",
              "<table border=\"1\" class=\"dataframe\">\n",
              "  <thead>\n",
              "    <tr style=\"text-align: right;\">\n",
              "      <th></th>\n",
              "      <th>PassengerId</th>\n",
              "      <th>Survived</th>\n",
              "      <th>Pclass</th>\n",
              "      <th>Name</th>\n",
              "      <th>Sex</th>\n",
              "      <th>Age</th>\n",
              "      <th>SibSp</th>\n",
              "      <th>Parch</th>\n",
              "      <th>Ticket</th>\n",
              "      <th>Fare</th>\n",
              "      <th>Cabin</th>\n",
              "      <th>Embarked</th>\n",
              "    </tr>\n",
              "  </thead>\n",
              "  <tbody>\n",
              "    <tr>\n",
              "      <th>0</th>\n",
              "      <td>1</td>\n",
              "      <td>0</td>\n",
              "      <td>3</td>\n",
              "      <td>Braund, Mr. Owen Harris</td>\n",
              "      <td>male</td>\n",
              "      <td>22.0</td>\n",
              "      <td>1</td>\n",
              "      <td>0</td>\n",
              "      <td>A/5 21171</td>\n",
              "      <td>7.2500</td>\n",
              "      <td>None</td>\n",
              "      <td>S</td>\n",
              "    </tr>\n",
              "    <tr>\n",
              "      <th>1</th>\n",
              "      <td>2</td>\n",
              "      <td>1</td>\n",
              "      <td>1</td>\n",
              "      <td>Cumings, Mrs. John Bradley (Florence Briggs Th...</td>\n",
              "      <td>female</td>\n",
              "      <td>38.0</td>\n",
              "      <td>1</td>\n",
              "      <td>0</td>\n",
              "      <td>PC 17599</td>\n",
              "      <td>71.2833</td>\n",
              "      <td>C85</td>\n",
              "      <td>C</td>\n",
              "    </tr>\n",
              "    <tr>\n",
              "      <th>2</th>\n",
              "      <td>3</td>\n",
              "      <td>1</td>\n",
              "      <td>3</td>\n",
              "      <td>Heikkinen, Miss. Laina</td>\n",
              "      <td>female</td>\n",
              "      <td>26.0</td>\n",
              "      <td>0</td>\n",
              "      <td>0</td>\n",
              "      <td>STON/O2. 3101282</td>\n",
              "      <td>7.9250</td>\n",
              "      <td>None</td>\n",
              "      <td>S</td>\n",
              "    </tr>\n",
              "    <tr>\n",
              "      <th>3</th>\n",
              "      <td>4</td>\n",
              "      <td>1</td>\n",
              "      <td>1</td>\n",
              "      <td>Futrelle, Mrs. Jacques Heath (Lily May Peel)</td>\n",
              "      <td>female</td>\n",
              "      <td>35.0</td>\n",
              "      <td>1</td>\n",
              "      <td>0</td>\n",
              "      <td>113803</td>\n",
              "      <td>53.1000</td>\n",
              "      <td>C123</td>\n",
              "      <td>S</td>\n",
              "    </tr>\n",
              "    <tr>\n",
              "      <th>4</th>\n",
              "      <td>5</td>\n",
              "      <td>0</td>\n",
              "      <td>3</td>\n",
              "      <td>Allen, Mr. William Henry</td>\n",
              "      <td>male</td>\n",
              "      <td>35.0</td>\n",
              "      <td>0</td>\n",
              "      <td>0</td>\n",
              "      <td>373450</td>\n",
              "      <td>8.0500</td>\n",
              "      <td>None</td>\n",
              "      <td>S</td>\n",
              "    </tr>\n",
              "    <tr>\n",
              "      <th>...</th>\n",
              "      <td>...</td>\n",
              "      <td>...</td>\n",
              "      <td>...</td>\n",
              "      <td>...</td>\n",
              "      <td>...</td>\n",
              "      <td>...</td>\n",
              "      <td>...</td>\n",
              "      <td>...</td>\n",
              "      <td>...</td>\n",
              "      <td>...</td>\n",
              "      <td>...</td>\n",
              "      <td>...</td>\n",
              "    </tr>\n",
              "    <tr>\n",
              "      <th>709</th>\n",
              "      <td>886</td>\n",
              "      <td>0</td>\n",
              "      <td>3</td>\n",
              "      <td>Rice, Mrs. William (Margaret Norton)</td>\n",
              "      <td>female</td>\n",
              "      <td>39.0</td>\n",
              "      <td>0</td>\n",
              "      <td>5</td>\n",
              "      <td>382652</td>\n",
              "      <td>29.1250</td>\n",
              "      <td>None</td>\n",
              "      <td>Q</td>\n",
              "    </tr>\n",
              "    <tr>\n",
              "      <th>710</th>\n",
              "      <td>887</td>\n",
              "      <td>0</td>\n",
              "      <td>2</td>\n",
              "      <td>Montvila, Rev. Juozas</td>\n",
              "      <td>male</td>\n",
              "      <td>27.0</td>\n",
              "      <td>0</td>\n",
              "      <td>0</td>\n",
              "      <td>211536</td>\n",
              "      <td>13.0000</td>\n",
              "      <td>None</td>\n",
              "      <td>S</td>\n",
              "    </tr>\n",
              "    <tr>\n",
              "      <th>711</th>\n",
              "      <td>888</td>\n",
              "      <td>1</td>\n",
              "      <td>1</td>\n",
              "      <td>Graham, Miss. Margaret Edith</td>\n",
              "      <td>female</td>\n",
              "      <td>19.0</td>\n",
              "      <td>0</td>\n",
              "      <td>0</td>\n",
              "      <td>112053</td>\n",
              "      <td>30.0000</td>\n",
              "      <td>B42</td>\n",
              "      <td>S</td>\n",
              "    </tr>\n",
              "    <tr>\n",
              "      <th>712</th>\n",
              "      <td>890</td>\n",
              "      <td>1</td>\n",
              "      <td>1</td>\n",
              "      <td>Behr, Mr. Karl Howell</td>\n",
              "      <td>male</td>\n",
              "      <td>26.0</td>\n",
              "      <td>0</td>\n",
              "      <td>0</td>\n",
              "      <td>111369</td>\n",
              "      <td>30.0000</td>\n",
              "      <td>C148</td>\n",
              "      <td>C</td>\n",
              "    </tr>\n",
              "    <tr>\n",
              "      <th>713</th>\n",
              "      <td>891</td>\n",
              "      <td>0</td>\n",
              "      <td>3</td>\n",
              "      <td>Dooley, Mr. Patrick</td>\n",
              "      <td>male</td>\n",
              "      <td>32.0</td>\n",
              "      <td>0</td>\n",
              "      <td>0</td>\n",
              "      <td>370376</td>\n",
              "      <td>7.7500</td>\n",
              "      <td>None</td>\n",
              "      <td>Q</td>\n",
              "    </tr>\n",
              "  </tbody>\n",
              "</table>\n",
              "<p>714 rows × 12 columns</p>\n",
              "</div>"
            ],
            "text/plain": [
              "     PassengerId  Survived  Pclass  \\\n",
              "0              1         0       3   \n",
              "1              2         1       1   \n",
              "2              3         1       3   \n",
              "3              4         1       1   \n",
              "4              5         0       3   \n",
              "..           ...       ...     ...   \n",
              "709          886         0       3   \n",
              "710          887         0       2   \n",
              "711          888         1       1   \n",
              "712          890         1       1   \n",
              "713          891         0       3   \n",
              "\n",
              "                                                  Name     Sex   Age  SibSp  \\\n",
              "0                              Braund, Mr. Owen Harris    male  22.0      1   \n",
              "1    Cumings, Mrs. John Bradley (Florence Briggs Th...  female  38.0      1   \n",
              "2                               Heikkinen, Miss. Laina  female  26.0      0   \n",
              "3         Futrelle, Mrs. Jacques Heath (Lily May Peel)  female  35.0      1   \n",
              "4                             Allen, Mr. William Henry    male  35.0      0   \n",
              "..                                                 ...     ...   ...    ...   \n",
              "709               Rice, Mrs. William (Margaret Norton)  female  39.0      0   \n",
              "710                              Montvila, Rev. Juozas    male  27.0      0   \n",
              "711                       Graham, Miss. Margaret Edith  female  19.0      0   \n",
              "712                              Behr, Mr. Karl Howell    male  26.0      0   \n",
              "713                                Dooley, Mr. Patrick    male  32.0      0   \n",
              "\n",
              "     Parch            Ticket     Fare Cabin Embarked  \n",
              "0        0         A/5 21171   7.2500  None        S  \n",
              "1        0          PC 17599  71.2833   C85        C  \n",
              "2        0  STON/O2. 3101282   7.9250  None        S  \n",
              "3        0            113803  53.1000  C123        S  \n",
              "4        0            373450   8.0500  None        S  \n",
              "..     ...               ...      ...   ...      ...  \n",
              "709      5            382652  29.1250  None        Q  \n",
              "710      0            211536  13.0000  None        S  \n",
              "711      0            112053  30.0000   B42        S  \n",
              "712      0            111369  30.0000  C148        C  \n",
              "713      0            370376   7.7500  None        Q  \n",
              "\n",
              "[714 rows x 12 columns]"
            ]
          },
          "execution_count": 10,
          "metadata": {},
          "output_type": "execute_result"
        }
      ],
      "source": [
        "df = df.filter(F.col('Age').isNotNull())\n",
        "df.toPandas()"
      ]
    },
    {
      "cell_type": "markdown",
      "metadata": {
        "id": "0jzO0ggSfAFs"
      },
      "source": [
        "## Adding age brackets \n",
        "\n",
        "Create a new column with a value that identifies the bracket that passengers are in"
      ]
    },
    {
      "cell_type": "code",
      "execution_count": 11,
      "metadata": {},
      "outputs": [
        {
          "name": "stdout",
          "output_type": "stream",
          "text": [
            "+----+-------------+-------------+\n",
            "| Age|AgeBracketUDF|AgeBracketDiv|\n",
            "+----+-------------+-------------+\n",
            "|22.0|        20-29|           20|\n",
            "|38.0|        30-39|           30|\n",
            "|26.0|        20-29|           20|\n",
            "|35.0|        30-39|           30|\n",
            "|35.0|        30-39|           30|\n",
            "|54.0|        50-59|           50|\n",
            "| 2.0|          0-9|            0|\n",
            "|27.0|        20-29|           20|\n",
            "|14.0|        10-19|           10|\n",
            "| 4.0|          0-9|            0|\n",
            "|58.0|        50-59|           50|\n",
            "|20.0|        20-29|           20|\n",
            "|39.0|        30-39|           30|\n",
            "|14.0|        10-19|           10|\n",
            "|55.0|        50-59|           50|\n",
            "| 2.0|          0-9|            0|\n",
            "|31.0|        30-39|           30|\n",
            "|35.0|        30-39|           30|\n",
            "|34.0|        30-39|           30|\n",
            "|15.0|        10-19|           10|\n",
            "+----+-------------+-------------+\n",
            "only showing top 20 rows\n",
            "\n"
          ]
        }
      ],
      "source": [
        "def age_bracket(age):\n",
        "    for bracket in range(10, 150, 10):\n",
        "        if int(age) < bracket:\n",
        "            return f\"{bracket-10}-{bracket-1}\"\n",
        "        \n",
        "age_bracket_udf = F.udf(age_bracket)\n",
        "\n",
        "df = df.withColumn('AgeBracketUDF', age_bracket_udf(F.col('Age'))) \\\n",
        "        .withColumn('AgeBracketDiv', (F.col('Age') / 10).cast('integer')*10)\n",
        "\n",
        "df.select('Age', 'AgeBracketUDF', 'AgeBracketDiv').show()"
      ]
    },
    {
      "cell_type": "markdown",
      "metadata": {
        "id": "qCLsqtqVfKwb"
      },
      "source": [
        "## Age bracket counts\n",
        "\n",
        "Create a Spark dataframe with the sum of passengers in each bracket, and sort it by Age Bracket (youngest to oldest)."
      ]
    },
    {
      "cell_type": "code",
      "execution_count": 12,
      "metadata": {
        "ExecuteTime": {
          "end_time": "2021-10-11T19:24:11.572357Z",
          "start_time": "2021-10-11T19:24:11.569948Z"
        },
        "id": "wm9fldBlfVmK"
      },
      "outputs": [
        {
          "data": {
            "text/plain": [
              "[Row(AgeBracketUDF='0-9', AgeBracketDiv=0, count(AgeBracketUDF)=62, count(AgeBracketDiv)=62),\n",
              " Row(AgeBracketUDF='10-19', AgeBracketDiv=10, count(AgeBracketUDF)=102, count(AgeBracketDiv)=102),\n",
              " Row(AgeBracketUDF='20-29', AgeBracketDiv=20, count(AgeBracketUDF)=220, count(AgeBracketDiv)=220),\n",
              " Row(AgeBracketUDF='30-39', AgeBracketDiv=30, count(AgeBracketUDF)=167, count(AgeBracketDiv)=167),\n",
              " Row(AgeBracketUDF='40-49', AgeBracketDiv=40, count(AgeBracketUDF)=89, count(AgeBracketDiv)=89),\n",
              " Row(AgeBracketUDF='50-59', AgeBracketDiv=50, count(AgeBracketUDF)=48, count(AgeBracketDiv)=48),\n",
              " Row(AgeBracketUDF='60-69', AgeBracketDiv=60, count(AgeBracketUDF)=19, count(AgeBracketDiv)=19),\n",
              " Row(AgeBracketUDF='70-79', AgeBracketDiv=70, count(AgeBracketUDF)=6, count(AgeBracketDiv)=6),\n",
              " Row(AgeBracketUDF='80-89', AgeBracketDiv=80, count(AgeBracketUDF)=1, count(AgeBracketDiv)=1)]"
            ]
          },
          "execution_count": 12,
          "metadata": {},
          "output_type": "execute_result"
        }
      ],
      "source": [
        "df.groupBy('AgeBracketUDF', 'AgeBracketDiv') \\\n",
        "    .agg(F.count('AgeBracketUDF'), F.count('AgeBracketDiv')) \\\n",
        "    .sort('AgeBracketUDF', 'AgeBracketDiv') \\\n",
        "    .collect()"
      ]
    },
    {
      "cell_type": "markdown",
      "metadata": {
        "id": "2_Hx1zOgxfXb"
      },
      "source": [
        "## Spark plans and jobs\n",
        "\n",
        "1) Display the plans spark creates to achieve your query in the previous exercise. Identify how many shuffles/exchanges are to take place.\n",
        "\n",
        "2) How many jobs are spawned when your query is executed? (Inspect via the Spark UI)"
      ]
    },
    {
      "cell_type": "markdown",
      "metadata": {
        "id": "G1BUol8oxfXb"
      },
      "source": [
        "1. Two exchanges/shuffles were to take place, fistly a hash partitioning and then followed by a range partitioning. \n",
        "2. Two jobs spawned and the second job skips a stage and reads from the shuffle created (and cached) by the first job."
      ]
    },
    {
      "cell_type": "code",
      "execution_count": 13,
      "metadata": {
        "ExecuteTime": {
          "end_time": "2021-10-11T19:24:18.049147Z",
          "start_time": "2021-10-11T19:24:18.047166Z"
        },
        "id": "YsnaNNC8xfXc"
      },
      "outputs": [
        {
          "name": "stdout",
          "output_type": "stream",
          "text": [
            "== Physical Plan ==\n",
            "*(4) Sort [AgeBracketUDF#65 ASC NULLS FIRST, AgeBracketDiv#79 ASC NULLS FIRST], true, 0\n",
            "+- Exchange rangepartitioning(AgeBracketUDF#65 ASC NULLS FIRST, AgeBracketDiv#79 ASC NULLS FIRST, 200), ENSURE_REQUIREMENTS, [id=#161]\n",
            "   +- *(3) HashAggregate(keys=[AgeBracketUDF#65, AgeBracketDiv#79], functions=[count(AgeBracketUDF#65), count(AgeBracketDiv#79)])\n",
            "      +- Exchange hashpartitioning(AgeBracketUDF#65, AgeBracketDiv#79, 200), ENSURE_REQUIREMENTS, [id=#157]\n",
            "         +- *(2) HashAggregate(keys=[AgeBracketUDF#65, AgeBracketDiv#79], functions=[partial_count(AgeBracketUDF#65), partial_count(AgeBracketDiv#79)])\n",
            "            +- *(2) Project [pythonUDF0#162 AS AgeBracketUDF#65, (cast((Age#21 / 10.0) as int) * 10) AS AgeBracketDiv#79]\n",
            "               +- BatchEvalPython [age_bracket(Age#21)], [pythonUDF0#162]\n",
            "                  +- *(1) Filter isnotnull(Age#21)\n",
            "                     +- FileScan csv [Age#21] Batched: false, DataFilters: [isnotnull(Age#21)], Format: CSV, Location: InMemoryFileIndex[file:/g:/My Drive/Master_sem1/02807-Computational-tools-for-Data-Science/Week7/..., PartitionFilters: [], PushedFilters: [IsNotNull(Age)], ReadSchema: struct<Age:double>\n",
            "\n",
            "\n"
          ]
        }
      ],
      "source": [
        "df.groupBy('AgeBracketUDF', 'AgeBracketDiv') \\\n",
        "    .agg(F.count('AgeBracketUDF'), F.count('AgeBracketDiv')) \\\n",
        "    .sort('AgeBracketUDF', 'AgeBracketDiv') \\\n",
        "    .explain()"
      ]
    },
    {
      "cell_type": "markdown",
      "metadata": {
        "id": "hvB1CeqSfYXP"
      },
      "source": [
        "# Exercise 2: Actions and transformations\n",
        "\n",
        "For each of the following Spark operations, decide if they are transformations or actions. If they are transformations, determine if they are wide or narrow.\n",
        "\n",
        "* ``select()``\n",
        "* `groupBy()`\n",
        "* `filter()`\n",
        "* `where()`\n",
        "* `count()`\n",
        "* `show()`\n",
        "* `agg()`\n",
        "* `write()`\n",
        "* `sort()`"
      ]
    },
    {
      "cell_type": "markdown",
      "metadata": {
        "id": "4MQ2mtJLfu5_"
      },
      "source": [
        "* ``select()`` narrow transformation\n",
        "* `groupBy()` wide transformation as we must gather data from different partitions \n",
        "* `filter()` narrow transformation - we can filter each individual partition \n",
        "* `where()` narrow transformation \n",
        "* `count()` action, or a wide transformation when done on a grouped dataset\n",
        "* `show()` action\n",
        "* `agg()` wide transformation \n",
        "* `write()` action\n",
        "* `sort()` is a wide transformation as we must sort across parititons"
      ]
    },
    {
      "cell_type": "markdown",
      "metadata": {
        "id": "wztxj5t_6m-h"
      },
      "source": [
        "# Exercise 3: Exploratory data analysis for the Chicago crime dataset\n",
        "The Chicago Crime dataset contains a summary of the reported crimes occurred in the City of Chicago from 2001 to 2017. \n",
        "\n",
        "We'll work on a sample of it available [here](https://courses.compute.dtu.dk/02807/2021/lectures/week7/reported-crimes.csv).\n",
        "\n",
        "You may optionally work on the entire dataset which is available [here](https://data.cityofchicago.org/api/views/ijzp-q8t2/rows.csv?accessType=DOWNLOAD).\n",
        "\n",
        "Now load the data you've downloaded locally into a spark dataframe, and proceed to answer the questions below."
      ]
    },
    {
      "cell_type": "code",
      "execution_count": 14,
      "metadata": {
        "ExecuteTime": {
          "end_time": "2021-10-11T19:24:30.398620Z",
          "start_time": "2021-10-11T19:24:30.396458Z"
        },
        "id": "EfnqE8Jx_Eve"
      },
      "outputs": [
        {
          "data": {
            "text/html": [
              "<div>\n",
              "<style scoped>\n",
              "    .dataframe tbody tr th:only-of-type {\n",
              "        vertical-align: middle;\n",
              "    }\n",
              "\n",
              "    .dataframe tbody tr th {\n",
              "        vertical-align: top;\n",
              "    }\n",
              "\n",
              "    .dataframe thead th {\n",
              "        text-align: right;\n",
              "    }\n",
              "</style>\n",
              "<table border=\"1\" class=\"dataframe\">\n",
              "  <thead>\n",
              "    <tr style=\"text-align: right;\">\n",
              "      <th></th>\n",
              "      <th>ID</th>\n",
              "      <th>CASE_NUMBER</th>\n",
              "      <th>DATE</th>\n",
              "      <th>BLOCK</th>\n",
              "      <th>IUCR</th>\n",
              "      <th>PRIMARY_TYPE</th>\n",
              "      <th>DESCRIPTION</th>\n",
              "      <th>LOCATION_DESCRIPTION</th>\n",
              "      <th>ARREST</th>\n",
              "      <th>DOMESTIC</th>\n",
              "      <th>...</th>\n",
              "      <th>WARD</th>\n",
              "      <th>COMMUNITY_AREA_NUMBER</th>\n",
              "      <th>FBICODE</th>\n",
              "      <th>X_COORDINATE</th>\n",
              "      <th>Y_COORDINATE</th>\n",
              "      <th>YEAR</th>\n",
              "      <th>UPDATEDON</th>\n",
              "      <th>LATITUDE</th>\n",
              "      <th>LONGITUDE</th>\n",
              "      <th>LOCATION</th>\n",
              "    </tr>\n",
              "  </thead>\n",
              "  <tbody>\n",
              "    <tr>\n",
              "      <th>0</th>\n",
              "      <td>3512276</td>\n",
              "      <td>HK587712</td>\n",
              "      <td>08/28/2004 05:50:56 PM</td>\n",
              "      <td>047XX S KEDZIE AVE</td>\n",
              "      <td>890</td>\n",
              "      <td>THEFT</td>\n",
              "      <td>FROM BUILDING</td>\n",
              "      <td>SMALL RETAIL STORE</td>\n",
              "      <td>FALSE</td>\n",
              "      <td>FALSE</td>\n",
              "      <td>...</td>\n",
              "      <td>14</td>\n",
              "      <td>58</td>\n",
              "      <td>6</td>\n",
              "      <td>1155838</td>\n",
              "      <td>1873050</td>\n",
              "      <td>2004</td>\n",
              "      <td>02/10/2018 03:50:01 PM</td>\n",
              "      <td>41.8074405</td>\n",
              "      <td>-87.70395585</td>\n",
              "      <td>(41.8074405, -87.703955849)</td>\n",
              "    </tr>\n",
              "    <tr>\n",
              "      <th>1</th>\n",
              "      <td>3406613</td>\n",
              "      <td>HK456306</td>\n",
              "      <td>06/26/2004 12:40:00 PM</td>\n",
              "      <td>009XX N CENTRAL PARK AVE</td>\n",
              "      <td>820</td>\n",
              "      <td>THEFT</td>\n",
              "      <td>$500 AND UNDER</td>\n",
              "      <td>OTHER</td>\n",
              "      <td>FALSE</td>\n",
              "      <td>FALSE</td>\n",
              "      <td>...</td>\n",
              "      <td>27</td>\n",
              "      <td>23</td>\n",
              "      <td>6</td>\n",
              "      <td>1152206</td>\n",
              "      <td>1906127</td>\n",
              "      <td>2004</td>\n",
              "      <td>02/28/2018 03:56:25 PM</td>\n",
              "      <td>41.89827996</td>\n",
              "      <td>-87.71640551</td>\n",
              "      <td>(41.898279962, -87.716405505)</td>\n",
              "    </tr>\n",
              "    <tr>\n",
              "      <th>2</th>\n",
              "      <td>8002131</td>\n",
              "      <td>HT233595</td>\n",
              "      <td>04/04/2011 05:45:00 AM</td>\n",
              "      <td>043XX S WABASH AVE</td>\n",
              "      <td>820</td>\n",
              "      <td>THEFT</td>\n",
              "      <td>$500 AND UNDER</td>\n",
              "      <td>NURSING HOME/RETIREMENT HOME</td>\n",
              "      <td>FALSE</td>\n",
              "      <td>FALSE</td>\n",
              "      <td>...</td>\n",
              "      <td>3</td>\n",
              "      <td>38</td>\n",
              "      <td>6</td>\n",
              "      <td>1177436</td>\n",
              "      <td>1876313</td>\n",
              "      <td>2011</td>\n",
              "      <td>02/10/2018 03:50:01 PM</td>\n",
              "      <td>41.81593313</td>\n",
              "      <td>-87.62464213</td>\n",
              "      <td>(41.815933131, -87.624642127)</td>\n",
              "    </tr>\n",
              "  </tbody>\n",
              "</table>\n",
              "<p>3 rows × 22 columns</p>\n",
              "</div>"
            ],
            "text/plain": [
              "        ID CASE_NUMBER                    DATE                     BLOCK IUCR  \\\n",
              "0  3512276    HK587712  08/28/2004 05:50:56 PM        047XX S KEDZIE AVE  890   \n",
              "1  3406613    HK456306  06/26/2004 12:40:00 PM  009XX N CENTRAL PARK AVE  820   \n",
              "2  8002131    HT233595  04/04/2011 05:45:00 AM        043XX S WABASH AVE  820   \n",
              "\n",
              "  PRIMARY_TYPE     DESCRIPTION          LOCATION_DESCRIPTION ARREST DOMESTIC  \\\n",
              "0        THEFT   FROM BUILDING            SMALL RETAIL STORE  FALSE    FALSE   \n",
              "1        THEFT  $500 AND UNDER                         OTHER  FALSE    FALSE   \n",
              "2        THEFT  $500 AND UNDER  NURSING HOME/RETIREMENT HOME  FALSE    FALSE   \n",
              "\n",
              "   ... WARD COMMUNITY_AREA_NUMBER FBICODE X_COORDINATE Y_COORDINATE  YEAR  \\\n",
              "0  ...   14                    58       6      1155838      1873050  2004   \n",
              "1  ...   27                    23       6      1152206      1906127  2004   \n",
              "2  ...    3                    38       6      1177436      1876313  2011   \n",
              "\n",
              "                UPDATEDON     LATITUDE     LONGITUDE  \\\n",
              "0  02/10/2018 03:50:01 PM   41.8074405  -87.70395585   \n",
              "1  02/28/2018 03:56:25 PM  41.89827996  -87.71640551   \n",
              "2  02/10/2018 03:50:01 PM  41.81593313  -87.62464213   \n",
              "\n",
              "                        LOCATION  \n",
              "0    (41.8074405, -87.703955849)  \n",
              "1  (41.898279962, -87.716405505)  \n",
              "2  (41.815933131, -87.624642127)  \n",
              "\n",
              "[3 rows x 22 columns]"
            ]
          },
          "execution_count": 14,
          "metadata": {},
          "output_type": "execute_result"
        }
      ],
      "source": [
        "# Your code goes here\n",
        "rc = spark.read.csv('reported-crimes.csv', header=True)\n",
        "rc.toPandas().head(3)"
      ]
    },
    {
      "cell_type": "code",
      "execution_count": 21,
      "metadata": {},
      "outputs": [
        {
          "data": {
            "text/plain": [
              "['ID',\n",
              " 'CASE_NUMBER',\n",
              " 'DATE',\n",
              " 'BLOCK',\n",
              " 'IUCR',\n",
              " 'PRIMARY_TYPE',\n",
              " 'DESCRIPTION',\n",
              " 'LOCATION_DESCRIPTION',\n",
              " 'ARREST',\n",
              " 'DOMESTIC',\n",
              " 'BEAT',\n",
              " 'DISTRICT',\n",
              " 'WARD',\n",
              " 'COMMUNITY_AREA_NUMBER',\n",
              " 'FBICODE',\n",
              " 'X_COORDINATE',\n",
              " 'Y_COORDINATE',\n",
              " 'YEAR',\n",
              " 'UPDATEDON',\n",
              " 'LATITUDE',\n",
              " 'LONGITUDE',\n",
              " 'LOCATION']"
            ]
          },
          "execution_count": 21,
          "metadata": {},
          "output_type": "execute_result"
        }
      ],
      "source": [
        "rc.columns"
      ]
    },
    {
      "cell_type": "markdown",
      "metadata": {
        "id": "DknyPxfkFFVz"
      },
      "source": [
        "## What percentage of reported crimes resulted in an arrest?"
      ]
    },
    {
      "cell_type": "code",
      "execution_count": 16,
      "metadata": {
        "ExecuteTime": {
          "end_time": "2021-10-11T19:24:33.404667Z",
          "start_time": "2021-10-11T19:24:33.402544Z"
        },
        "id": "d9S4hZanFPCf"
      },
      "outputs": [
        {
          "data": {
            "text/plain": [
              "(30.58161350844278, '% out of', 533, 'reports')"
            ]
          },
          "execution_count": 16,
          "metadata": {},
          "output_type": "execute_result"
        }
      ],
      "source": [
        "# Your code goes here\n",
        "\n",
        "(rc.filter(F.col('ARREST') == True).count()/rc.count())*100, '% out of', rc.count(), 'reports'"
      ]
    },
    {
      "cell_type": "markdown",
      "metadata": {
        "id": "uToZfa01Fqi9"
      },
      "source": [
        "## What are the top 3 locations for reported crimes?"
      ]
    },
    {
      "cell_type": "code",
      "execution_count": 19,
      "metadata": {
        "ExecuteTime": {
          "end_time": "2021-10-11T19:24:37.437255Z",
          "start_time": "2021-10-11T19:24:37.435174Z"
        },
        "id": "B3bxfL6wFvjJ"
      },
      "outputs": [
        {
          "data": {
            "text/html": [
              "<div>\n",
              "<style scoped>\n",
              "    .dataframe tbody tr th:only-of-type {\n",
              "        vertical-align: middle;\n",
              "    }\n",
              "\n",
              "    .dataframe tbody tr th {\n",
              "        vertical-align: top;\n",
              "    }\n",
              "\n",
              "    .dataframe thead th {\n",
              "        text-align: right;\n",
              "    }\n",
              "</style>\n",
              "<table border=\"1\" class=\"dataframe\">\n",
              "  <thead>\n",
              "    <tr style=\"text-align: right;\">\n",
              "      <th></th>\n",
              "      <th>LOCATION_DESCRIPTION</th>\n",
              "      <th>count</th>\n",
              "    </tr>\n",
              "  </thead>\n",
              "  <tbody>\n",
              "    <tr>\n",
              "      <th>0</th>\n",
              "      <td>STREET</td>\n",
              "      <td>136</td>\n",
              "    </tr>\n",
              "    <tr>\n",
              "      <th>1</th>\n",
              "      <td>RESIDENCE</td>\n",
              "      <td>84</td>\n",
              "    </tr>\n",
              "    <tr>\n",
              "      <th>2</th>\n",
              "      <td>SIDEWALK</td>\n",
              "      <td>64</td>\n",
              "    </tr>\n",
              "  </tbody>\n",
              "</table>\n",
              "</div>"
            ],
            "text/plain": [
              "  LOCATION_DESCRIPTION  count\n",
              "0               STREET    136\n",
              "1            RESIDENCE     84\n",
              "2             SIDEWALK     64"
            ]
          },
          "execution_count": 19,
          "metadata": {},
          "output_type": "execute_result"
        }
      ],
      "source": [
        "# Your code goes here\n",
        "rc.groupBy('LOCATION_DESCRIPTION').count()\\\n",
        "    .sort(F.desc('count'))\\\n",
        "        .limit(3).toPandas()"
      ]
    },
    {
      "cell_type": "markdown",
      "metadata": {
        "id": "d25WmF0dxfXd"
      },
      "source": [
        "## What are the top 3 locations for reported thefts?"
      ]
    },
    {
      "cell_type": "code",
      "execution_count": 20,
      "metadata": {
        "ExecuteTime": {
          "end_time": "2021-10-11T19:24:39.930450Z",
          "start_time": "2021-10-11T19:24:39.928468Z"
        },
        "id": "SOwZ0tfUxfXd"
      },
      "outputs": [
        {
          "data": {
            "text/html": [
              "<div>\n",
              "<style scoped>\n",
              "    .dataframe tbody tr th:only-of-type {\n",
              "        vertical-align: middle;\n",
              "    }\n",
              "\n",
              "    .dataframe tbody tr th {\n",
              "        vertical-align: top;\n",
              "    }\n",
              "\n",
              "    .dataframe thead th {\n",
              "        text-align: right;\n",
              "    }\n",
              "</style>\n",
              "<table border=\"1\" class=\"dataframe\">\n",
              "  <thead>\n",
              "    <tr style=\"text-align: right;\">\n",
              "      <th></th>\n",
              "      <th>LOCATION_DESCRIPTION</th>\n",
              "      <th>count</th>\n",
              "    </tr>\n",
              "  </thead>\n",
              "  <tbody>\n",
              "    <tr>\n",
              "      <th>0</th>\n",
              "      <td>STREET</td>\n",
              "      <td>31</td>\n",
              "    </tr>\n",
              "    <tr>\n",
              "      <th>1</th>\n",
              "      <td>DEPARTMENT STORE</td>\n",
              "      <td>7</td>\n",
              "    </tr>\n",
              "    <tr>\n",
              "      <th>2</th>\n",
              "      <td>GROCERY FOOD STORE</td>\n",
              "      <td>7</td>\n",
              "    </tr>\n",
              "  </tbody>\n",
              "</table>\n",
              "</div>"
            ],
            "text/plain": [
              "  LOCATION_DESCRIPTION  count\n",
              "0               STREET     31\n",
              "1     DEPARTMENT STORE      7\n",
              "2   GROCERY FOOD STORE      7"
            ]
          },
          "execution_count": 20,
          "metadata": {},
          "output_type": "execute_result"
        }
      ],
      "source": [
        "# Your code goes here\n",
        "rc.filter(F.col('PRIMARY_TYPE') == 'THEFT')\\\n",
        "    .groupBy('LOCATION_DESCRIPTION').count() \\\n",
        "        .sort(F.desc('count')) \\\n",
        "            .limit(3).toPandas()"
      ]
    },
    {
      "cell_type": "markdown",
      "metadata": {
        "id": "vI6uPOV7GCAH"
      },
      "source": [
        "## What is the most common primary type of crime in district 22?\n"
      ]
    },
    {
      "cell_type": "code",
      "execution_count": 22,
      "metadata": {
        "ExecuteTime": {
          "end_time": "2021-10-11T19:24:43.025574Z",
          "start_time": "2021-10-11T19:24:43.023609Z"
        },
        "id": "ojh8eHFUGNG9"
      },
      "outputs": [
        {
          "name": "stdout",
          "output_type": "stream",
          "text": [
            "+------------+-----+\n",
            "|PRIMARY_TYPE|count|\n",
            "+------------+-----+\n",
            "|       THEFT|    6|\n",
            "|    BURGLARY|    2|\n",
            "|     BATTERY|    1|\n",
            "+------------+-----+\n",
            "only showing top 3 rows\n",
            "\n"
          ]
        }
      ],
      "source": [
        "# Your code goes here\n",
        "rc.filter(F.col('DISTRICT') == '22') \\\n",
        "    .groupBy(F.col('PRIMARY_TYPE')).count() \\\n",
        "        .sort(F.desc('count')).show(3)"
      ]
    },
    {
      "cell_type": "markdown",
      "metadata": {
        "id": "F8yvm-eBxfXe"
      },
      "source": [
        "## What are the suffixes where crime is taking place?\n",
        "\n",
        "Inspect the `BLOCK` column to observe common suffixes are `AVE, BLVD, ST, DR, PL, RD` (there's a few more even). Create a dataframe that contains the frequency of each block suffix, e.g. showing there are 258 `AVE` suffixes and 191 `ST` suffixes.\n"
      ]
    },
    {
      "cell_type": "code",
      "execution_count": 23,
      "metadata": {
        "ExecuteTime": {
          "end_time": "2021-10-11T19:24:45.384087Z",
          "start_time": "2021-10-11T19:24:45.381683Z"
        },
        "id": "mhdg4V8PxfXe"
      },
      "outputs": [
        {
          "data": {
            "text/html": [
              "<div>\n",
              "<style scoped>\n",
              "    .dataframe tbody tr th:only-of-type {\n",
              "        vertical-align: middle;\n",
              "    }\n",
              "\n",
              "    .dataframe tbody tr th {\n",
              "        vertical-align: top;\n",
              "    }\n",
              "\n",
              "    .dataframe thead th {\n",
              "        text-align: right;\n",
              "    }\n",
              "</style>\n",
              "<table border=\"1\" class=\"dataframe\">\n",
              "  <thead>\n",
              "    <tr style=\"text-align: right;\">\n",
              "      <th>suffix</th>\n",
              "      <th>PL</th>\n",
              "      <th>DR</th>\n",
              "      <th>AV</th>\n",
              "      <th>BROADWAY</th>\n",
              "      <th>E</th>\n",
              "      <th>PKWY</th>\n",
              "      <th>BL</th>\n",
              "      <th>CT</th>\n",
              "      <th>D</th>\n",
              "      <th>RD</th>\n",
              "      <th>AVE</th>\n",
              "      <th>Ave</th>\n",
              "      <th>TER</th>\n",
              "      <th>BLVD</th>\n",
              "      <th>ST</th>\n",
              "    </tr>\n",
              "  </thead>\n",
              "  <tbody>\n",
              "    <tr>\n",
              "      <th>count</th>\n",
              "      <td>9</td>\n",
              "      <td>11</td>\n",
              "      <td>25</td>\n",
              "      <td>2</td>\n",
              "      <td>1</td>\n",
              "      <td>2</td>\n",
              "      <td>2</td>\n",
              "      <td>1</td>\n",
              "      <td>1</td>\n",
              "      <td>13</td>\n",
              "      <td>258</td>\n",
              "      <td>1</td>\n",
              "      <td>1</td>\n",
              "      <td>15</td>\n",
              "      <td>191</td>\n",
              "    </tr>\n",
              "  </tbody>\n",
              "</table>\n",
              "</div>"
            ],
            "text/plain": [
              "suffix  PL  DR  AV  BROADWAY  E  PKWY  BL  CT  D  RD  AVE  Ave  TER  BLVD   ST\n",
              "count    9  11  25         2  1     2   2   1  1  13  258    1    1    15  191"
            ]
          },
          "execution_count": 23,
          "metadata": {},
          "output_type": "execute_result"
        }
      ],
      "source": [
        "# Your code goes here\n",
        "rc.select(\n",
        "    F.reverse(F.split('BLOCK', ' '))[0].alias('suffix')\n",
        ").groupby('suffix').count().toPandas().set_index('suffix').T"
      ]
    },
    {
      "cell_type": "code",
      "execution_count": null,
      "metadata": {},
      "outputs": [],
      "source": []
    }
  ],
  "metadata": {
    "colab": {
      "include_colab_link": true,
      "name": "exercises_week_7.ipynb",
      "provenance": []
    },
    "interpreter": {
      "hash": "f1d60ef3148d6d6f99d64de6ef09e0267d4db5c62a0823eaf2b9aa582c08f8e5"
    },
    "kernelspec": {
      "display_name": "Python 3.7.6 64-bit ('base': conda)",
      "name": "python3"
    },
    "language_info": {
      "codemirror_mode": {
        "name": "ipython",
        "version": 3
      },
      "file_extension": ".py",
      "mimetype": "text/x-python",
      "name": "python",
      "nbconvert_exporter": "python",
      "pygments_lexer": "ipython3",
      "version": "3.7.6"
    },
    "toc": {
      "base_numbering": 1,
      "nav_menu": {},
      "number_sections": true,
      "sideBar": true,
      "skip_h1_title": false,
      "title_cell": "Table of Contents",
      "title_sidebar": "Contents",
      "toc_cell": false,
      "toc_position": {},
      "toc_section_display": true,
      "toc_window_display": true
    }
  },
  "nbformat": 4,
  "nbformat_minor": 0
}
